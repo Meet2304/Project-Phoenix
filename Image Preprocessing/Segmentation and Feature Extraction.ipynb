{
 "cells": [
  {
   "cell_type": "markdown",
   "id": "00220ab0",
   "metadata": {},
   "source": [
    "# Segmentation and Feature Extraction"
   ]
  },
  {
   "cell_type": "markdown",
   "id": "24b4b9bf",
   "metadata": {},
   "source": [
    "### 1. Create Cell Masks (From .dat Annotation)\n",
    "Purpose: For each cropped image, generate a binary mask (nucleus/cytoplasm) based on its .dat polygon."
   ]
  },
  {
   "cell_type": "code",
   "execution_count": null,
   "id": "f166e852",
   "metadata": {},
   "outputs": [
    {
     "ename": "FileNotFoundError",
     "evalue": "[WinError 3] The system cannot find the path specified: 'Project_8_Phoenix_Cervical Cancer Image Classification\\\\Project-Phoenix\\\\Dataset\\\\Preprocessed Dataset\\\\Masks'",
     "output_type": "error",
     "traceback": [
      "\u001b[1;31m---------------------------------------------------------------------------\u001b[0m",
      "\u001b[1;31mFileNotFoundError\u001b[0m                         Traceback (most recent call last)",
      "Cell \u001b[1;32mIn[10], line 10\u001b[0m\n\u001b[0;32m      8\u001b[0m RAW \u001b[38;5;241m=\u001b[39m BASE \u001b[38;5;241m/\u001b[39m \u001b[38;5;124m\"\u001b[39m\u001b[38;5;124mRaw Dataset/SipakMed Dataset\u001b[39m\u001b[38;5;124m\"\u001b[39m\n\u001b[0;32m      9\u001b[0m MASKS \u001b[38;5;241m=\u001b[39m PREPROCESSED \u001b[38;5;241m/\u001b[39m \u001b[38;5;124m\"\u001b[39m\u001b[38;5;124mMasks\u001b[39m\u001b[38;5;124m\"\u001b[39m\n\u001b[1;32m---> 10\u001b[0m \u001b[43mMASKS\u001b[49m\u001b[38;5;241;43m.\u001b[39;49m\u001b[43mmkdir\u001b[49m\u001b[43m(\u001b[49m\u001b[43mexist_ok\u001b[49m\u001b[38;5;241;43m=\u001b[39;49m\u001b[38;5;28;43;01mTrue\u001b[39;49;00m\u001b[43m)\u001b[49m\n\u001b[0;32m     12\u001b[0m CELL_CLASSES \u001b[38;5;241m=\u001b[39m [\u001b[38;5;124m\"\u001b[39m\u001b[38;5;124mim_Dyskeratotic\u001b[39m\u001b[38;5;124m\"\u001b[39m, \u001b[38;5;124m\"\u001b[39m\u001b[38;5;124mim_Koilocytotic\u001b[39m\u001b[38;5;124m\"\u001b[39m, \u001b[38;5;124m\"\u001b[39m\u001b[38;5;124mim_Metaplastic\u001b[39m\u001b[38;5;124m\"\u001b[39m, \u001b[38;5;124m\"\u001b[39m\u001b[38;5;124mim_Parabasal\u001b[39m\u001b[38;5;124m\"\u001b[39m, \u001b[38;5;124m\"\u001b[39m\u001b[38;5;124mim_Superficial-Intermediate\u001b[39m\u001b[38;5;124m\"\u001b[39m]\n\u001b[0;32m     14\u001b[0m \u001b[38;5;28;01mfor\u001b[39;00m cell_type \u001b[38;5;129;01min\u001b[39;00m CELL_CLASSES:\n",
      "File \u001b[1;32mC:\\Program Files\\WindowsApps\\PythonSoftwareFoundation.Python.3.12_3.12.752.0_x64__qbz5n2kfra8p0\\Lib\\pathlib.py:1311\u001b[0m, in \u001b[0;36mPath.mkdir\u001b[1;34m(self, mode, parents, exist_ok)\u001b[0m\n\u001b[0;32m   1307\u001b[0m \u001b[38;5;250m\u001b[39m\u001b[38;5;124;03m\"\"\"\u001b[39;00m\n\u001b[0;32m   1308\u001b[0m \u001b[38;5;124;03mCreate a new directory at this given path.\u001b[39;00m\n\u001b[0;32m   1309\u001b[0m \u001b[38;5;124;03m\"\"\"\u001b[39;00m\n\u001b[0;32m   1310\u001b[0m \u001b[38;5;28;01mtry\u001b[39;00m:\n\u001b[1;32m-> 1311\u001b[0m     \u001b[43mos\u001b[49m\u001b[38;5;241;43m.\u001b[39;49m\u001b[43mmkdir\u001b[49m\u001b[43m(\u001b[49m\u001b[38;5;28;43mself\u001b[39;49m\u001b[43m,\u001b[49m\u001b[43m \u001b[49m\u001b[43mmode\u001b[49m\u001b[43m)\u001b[49m\n\u001b[0;32m   1312\u001b[0m \u001b[38;5;28;01mexcept\u001b[39;00m \u001b[38;5;167;01mFileNotFoundError\u001b[39;00m:\n\u001b[0;32m   1313\u001b[0m     \u001b[38;5;28;01mif\u001b[39;00m \u001b[38;5;129;01mnot\u001b[39;00m parents \u001b[38;5;129;01mor\u001b[39;00m \u001b[38;5;28mself\u001b[39m\u001b[38;5;241m.\u001b[39mparent \u001b[38;5;241m==\u001b[39m \u001b[38;5;28mself\u001b[39m:\n",
      "\u001b[1;31mFileNotFoundError\u001b[0m: [WinError 3] The system cannot find the path specified: 'Project_8_Phoenix_Cervical Cancer Image Classification\\\\Project-Phoenix\\\\Dataset\\\\Preprocessed Dataset\\\\Masks'"
     ]
    }
   ],
   "source": [
    "import cv2\n",
    "import numpy as np\n",
    "from pathlib import Path\n",
    "from tqdm import tqdm\n",
    "\n",
    "BASE = Path(\"../\")  # navigating up from Image Preprocessing/\n",
    "PREPROCESSED = BASE / \"Dataset/Preprocessed Dataset\"\n",
    "RAW = BASE / \"Dataset/Raw Dataset/SipakMed Dataset\"\n",
    "MASKS = PREPROCESSED / \"Masks\"\n",
    "MASKS.mkdir(exist_ok=True)\n",
    "\n",
    "CELL_CLASSES = [\n",
    "    \"im_Dyskeratotic\", \"im_Koilocytotic\", \"im_Metaplastic\",\n",
    "    \"im_Parabasal\", \"im_Superficial-Intermediate\"\n",
    "]\n",
    "\n",
    "for cell_type in CELL_CLASSES:\n",
    "    crop_dir = PREPROCESSED / cell_type\n",
    "    raw_dir = RAW / cell_type / cell_type\n",
    "    mask_dir = MASKS / cell_type\n",
    "    mask_dir.mkdir(exist_ok=True, parents=True)\n",
    "    for img_path in tqdm(list(crop_dir.glob(\"*.png\"))):\n",
    "        img_id_label = img_path.stem\n",
    "        img_id = img_id_label.split(\"_\")[0]\n",
    "        label = \"cyt\" if \"cyt\" in img_id_label else \"nuc\"\n",
    "        dat_file = raw_dir / f\"{img_id}_{label}.dat\"\n",
    "        if not dat_file.exists():\n",
    "            continue\n",
    "        coords = [list(map(float, l.strip().split(','))) for l in open(dat_file) if ',' in l]\n",
    "        if len(coords) < 3:\n",
    "            continue\n",
    "        poly = np.array(coords, np.int32)\n",
    "        mask = np.zeros((224,224), np.uint8)\n",
    "        cv2.fillPoly(mask, [poly], 255)\n",
    "        cv2.imwrite(str(mask_dir / f\"{img_path.stem}_mask.png\"), mask)\n"
   ]
  },
  {
   "cell_type": "code",
   "execution_count": null,
   "id": "21afb297",
   "metadata": {},
   "outputs": [],
   "source": []
  }
 ],
 "metadata": {
  "kernelspec": {
   "display_name": "Python 3",
   "language": "python",
   "name": "python3"
  },
  "language_info": {
   "codemirror_mode": {
    "name": "ipython",
    "version": 3
   },
   "file_extension": ".py",
   "mimetype": "text/x-python",
   "name": "python",
   "nbconvert_exporter": "python",
   "pygments_lexer": "ipython3",
   "version": "3.12.2"
  }
 },
 "nbformat": 4,
 "nbformat_minor": 5
}
