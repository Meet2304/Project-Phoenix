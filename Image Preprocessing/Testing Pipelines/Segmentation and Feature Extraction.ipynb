{
 "cells": [
  {
   "cell_type": "markdown",
   "id": "00220ab0",
   "metadata": {},
   "source": [
    "# Segmentation and Feature Extraction"
   ]
  },
  {
   "cell_type": "markdown",
   "id": "24b4b9bf",
   "metadata": {},
   "source": [
    "### 1. Create Cell Masks (From .dat Annotation)\n",
    "Purpose: For each cropped image, generate a binary mask (nucleus/cytoplasm) based on its .dat polygon."
   ]
  },
  {
   "cell_type": "code",
   "execution_count": 11,
   "id": "f166e852",
   "metadata": {},
   "outputs": [
    {
     "name": "stderr",
     "output_type": "stream",
     "text": [
      "  0%|          | 0/1626 [00:00<?, ?it/s]"
     ]
    },
    {
     "name": "stderr",
     "output_type": "stream",
     "text": [
      "100%|██████████| 1626/1626 [00:00<00:00, 17947.16it/s]\n",
      "  0%|          | 0/1650 [00:00<?, ?it/s]\n",
      "100%|██████████| 1650/1650 [00:00<00:00, 13285.40it/s]\n",
      "  0%|          | 0/1586 [00:00<?, ?it/s]\n",
      "100%|██████████| 1586/1586 [00:00<00:00, 20838.55it/s]\n",
      "100%|██████████| 1586/1586 [00:00<00:00, 20838.55it/s]\n",
      "100%|██████████| 1574/1574 [00:00<00:00, 23604.62it/s]\n",
      "100%|██████████| 1574/1574 [00:00<00:00, 23604.62it/s]\n",
      "100%|██████████| 1662/1662 [00:00<00:00, 21704.94it/s]\n",
      "100%|██████████| 1662/1662 [00:00<00:00, 21704.94it/s]\n"
     ]
    }
   ],
   "source": [
    "import cv2\n",
    "import numpy as np\n",
    "from pathlib import Path\n",
    "from tqdm import tqdm\n",
    "\n",
    "BASE = Path(\"../\")  # navigating up from Image Preprocessing/\n",
    "PREPROCESSED = BASE / \"Dataset/Preprocessed Dataset\"\n",
    "RAW = BASE / \"Dataset/Raw Dataset/SipakMed Dataset\"\n",
    "MASKS = PREPROCESSED / \"Masks\"\n",
    "MASKS.mkdir(exist_ok=True)\n",
    "\n",
    "CELL_CLASSES = [\n",
    "    \"im_Dyskeratotic\", \"im_Koilocytotic\", \"im_Metaplastic\",\n",
    "    \"im_Parabasal\", \"im_Superficial-Intermediate\"\n",
    "]\n",
    "\n",
    "for cell_type in CELL_CLASSES:\n",
    "    crop_dir = PREPROCESSED / cell_type\n",
    "    raw_dir = RAW / cell_type / cell_type\n",
    "    mask_dir = MASKS / cell_type\n",
    "    mask_dir.mkdir(exist_ok=True, parents=True)\n",
    "    for img_path in tqdm(list(crop_dir.glob(\"*.png\"))):\n",
    "        img_id_label = img_path.stem\n",
    "        img_id = img_id_label.split(\"_\")[0]\n",
    "        label = \"cyt\" if \"cyt\" in img_id_label else \"nuc\"\n",
    "        dat_file = raw_dir / f\"{img_id}_{label}.dat\"\n",
    "        if not dat_file.exists():\n",
    "            continue\n",
    "        coords = [list(map(float, l.strip().split(','))) for l in open(dat_file) if ',' in l]\n",
    "        if len(coords) < 3:\n",
    "            continue\n",
    "        poly = np.array(coords, np.int32)\n",
    "        mask = np.zeros((224,224), np.uint8)\n",
    "        cv2.fillPoly(mask, [poly], 255)\n",
    "        cv2.imwrite(str(mask_dir / f\"{img_path.stem}_mask.png\"), mask)\n"
   ]
  },
  {
   "cell_type": "code",
   "execution_count": null,
   "id": "21afb297",
   "metadata": {},
   "outputs": [],
   "source": []
  }
 ],
 "metadata": {
  "kernelspec": {
   "display_name": "Python 3",
   "language": "python",
   "name": "python3"
  },
  "language_info": {
   "codemirror_mode": {
    "name": "ipython",
    "version": 3
   },
   "file_extension": ".py",
   "mimetype": "text/x-python",
   "name": "python",
   "nbconvert_exporter": "python",
   "pygments_lexer": "ipython3",
   "version": "3.12.2"
  }
 },
 "nbformat": 4,
 "nbformat_minor": 5
}
