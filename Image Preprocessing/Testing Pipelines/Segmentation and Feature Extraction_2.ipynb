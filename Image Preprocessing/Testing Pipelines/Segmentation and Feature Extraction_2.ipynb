{
 "cells": [
  {
   "cell_type": "markdown",
   "id": "cab0d120",
   "metadata": {},
   "source": [
    "# Segmentation and Feature Extraction_2"
   ]
  },
  {
   "cell_type": "markdown",
   "id": "69f1e12b",
   "metadata": {},
   "source": [
    "## Overview\n",
    "This notebook performs segmentation (nucleus and whole cell) and extracts features from the preprocessed images (Hybrid PMD → CLAHE, size-standardized) in `Dataset/Preprocessed Dataset`.\n",
    "\n",
    "It computes:\n",
    "- Morphology (area, perimeter, major/minor axis, circularity, eccentricity, solidity, aspect ratio) for nucleus and cell\n",
    "- Color statistics and histograms in RGB, HSV, Lab\n",
    "- Stain deconvolution (Hematoxylin/Eosin) means and stds\n",
    "- Texture features: GLCM (contrast, correlation, energy, homogeneity) and LBP histogram\n",
    "\n",
    "Outputs (CSV + masks/overlays) are saved to `Segmentation and Feature Extraction Results` inside the `Project-Phoenix` folder.\n",
    "\n",
    "Run cells from top to bottom. If paths differ on your machine, change the `DATASET_DIR` variable in the setup cell."
   ]
  },
  {
   "cell_type": "markdown",
   "id": "1be36a3f",
   "metadata": {},
   "source": [
    "## Setup and dependencies\n",
    "If any import fails, the next cell will attempt to install the missing packages automatically. Adjust paths in the Config cell if needed."
   ]
  },
  {
   "cell_type": "code",
   "execution_count": 2,
   "id": "b8199d56",
   "metadata": {},
   "outputs": [
    {
     "name": "stdout",
     "output_type": "stream",
     "text": [
      "Libraries ready.\n"
     ]
    }
   ],
   "source": [
    "# Imports and auto-install\n",
    "import sys, subprocess, importlib\n",
    "\n",
    "def ensure(pkg, import_name=None):\n",
    "    import_name = import_name or pkg\n",
    "    try:\n",
    "        return importlib.import_module(import_name)\n",
    "    except ImportError:\n",
    "        print(f\"Installing {pkg}...\")\n",
    "        subprocess.check_call([sys.executable, \"-m\", \"pip\", \"install\", pkg])\n",
    "        return importlib.import_module(import_name)\n",
    "\n",
    "np = ensure('numpy')\n",
    "pd = ensure('pandas')\n",
    "cv2 = ensure('opencv-python', 'cv2')\n",
    "skimage_measure = ensure('scikit-image', 'skimage.measure')\n",
    "skimage_morph = ensure('scikit-image', 'skimage.morphology')\n",
    "skimage_filters = ensure('scikit-image', 'skimage.filters')\n",
    "skimage_color = ensure('scikit-image', 'skimage.color')\n",
    "skimage_feature = ensure('scikit-image', 'skimage.feature')\n",
    "skimage_exposure = ensure('scikit-image', 'skimage.exposure')\n",
    "skimage_seg = ensure('scikit-image', 'skimage.segmentation')\n",
    "from skimage.measure import regionprops_table, label\n",
    "from skimage.morphology import remove_small_objects, disk, closing\n",
    "from skimage.filters import threshold_otsu, threshold_sauvola, gaussian\n",
    "from skimage.color import rgb2hsv, rgb2lab\n",
    "# In skimage >= 0.25, use graycomatrix/graycoprops from skimage.feature.texture\n",
    "from skimage.feature.texture import graycomatrix, graycoprops, local_binary_pattern\n",
    "from skimage.exposure import rescale_intensity\n",
    "from skimage.segmentation import clear_border\n",
    "from pathlib import Path\n",
    "from tqdm import tqdm\n",
    "import json\n",
    "import math\n",
    "import os\n",
    "\n",
    "print(\"Libraries ready.\")"
   ]
  },
  {
   "cell_type": "code",
   "execution_count": 3,
   "id": "741d8f03",
   "metadata": {},
   "outputs": [
    {
     "name": "stdout",
     "output_type": "stream",
     "text": [
      "Dataset: c:\\Meet\\Projects\\Project_8_Phoenix_Cervical Cancer Image Classification\\Project-Phoenix\\Dataset\\Preprocessed Dataset\n",
      "Saving results to: c:\\Meet\\Projects\\Project_8_Phoenix_Cervical Cancer Image Classification\\Project-Phoenix\\Segmentation and Feature Extraction Results\n"
     ]
    }
   ],
   "source": [
    "# Config\n",
    "PROJECT_ROOT = Path(r\"c:\\Meet\\Projects\\Project_8_Phoenix_Cervical Cancer Image Classification\\Project-Phoenix\")\n",
    "DATASET_DIR = PROJECT_ROOT / \"Dataset\" / \"Preprocessed Dataset\"\n",
    "RESULTS_DIR = PROJECT_ROOT / \"Segmentation and Feature Extraction Results\"\n",
    "MASKS_DIR = RESULTS_DIR / \"masks\"\n",
    "OVERLAYS_DIR = RESULTS_DIR / \"overlays\"\n",
    "RESULTS_DIR.mkdir(parents=True, exist_ok=True)\n",
    "MASKS_DIR.mkdir(parents=True, exist_ok=True)\n",
    "OVERLAYS_DIR.mkdir(parents=True, exist_ok=True)\n",
    "\n",
    "# Image and feature params\n",
    "GLCM_DISTANCES = [1, 2, 4]\n",
    "GLCM_ANGLES = [0, np.pi/4, np.pi/2, 3*np.pi/4]\n",
    "LBP_P = 8\n",
    "LBP_R = 1\n",
    "LBP_METHOD = 'uniform'\n",
    "\n",
    "def list_images(root: Path):\n",
    "    # Recursively list common image types\n",
    "    exts = {\".png\", \".jpg\", \".jpeg\", \".tif\", \".tiff\", \".bmp\"}\n",
    "    return [p for p in root.rglob('*') if p.suffix.lower() in exts]\n",
    "\n",
    "print(f\"Dataset: {DATASET_DIR}\")\n",
    "print(f\"Saving results to: {RESULTS_DIR}\")"
   ]
  },
  {
   "cell_type": "code",
   "execution_count": 4,
   "id": "5f3b3c8a",
   "metadata": {},
   "outputs": [
    {
     "name": "stdout",
     "output_type": "stream",
     "text": [
      "Helper functions ready.\n"
     ]
    }
   ],
   "source": [
    "# Helper functions\n",
    "\n",
    "def read_image(path: Path):\n",
    "    img_bgr = cv2.imread(str(path), cv2.IMREAD_COLOR)\n",
    "    if img_bgr is None:\n",
    "        raise ValueError(f\"Failed to read: {path}\")\n",
    "    img_rgb = cv2.cvtColor(img_bgr, cv2.COLOR_BGR2RGB)\n",
    "    return img_rgb\n",
    "\n",
    "\n",
    "def simple_cell_segmentation(img_rgb):\n",
    "    # Assumes preprocessed (denoised, CLAHE). Segment probable cell via thresholding on saturation/brightness.\n",
    "    hsv = rgb2hsv(img_rgb)\n",
    "    v = (hsv[..., 2] * 255).astype(np.uint8)\n",
    "    v_blur = cv2.GaussianBlur(v, (5, 5), 0)\n",
    "    thr = threshold_otsu(v_blur)\n",
    "    cell_mask = (v_blur > thr).astype(np.uint8)\n",
    "    cell_mask = closing(cell_mask, disk(3))\n",
    "    cell_mask = remove_small_objects(cell_mask.astype(bool), 200).astype(np.uint8)\n",
    "    cell_mask = clear_border(cell_mask).astype(np.uint8)\n",
    "    return cell_mask\n",
    "\n",
    "\n",
    "def simple_nucleus_segmentation(img_rgb, cell_mask):\n",
    "    # Enhance nuclei via hematoxylin-like channel proxy: use Lab b/a and HSV S as cues\n",
    "    lab = rgb2lab(img_rgb)\n",
    "    hsv = rgb2hsv(img_rgb)\n",
    "    # Combine channels: darker + higher saturation\n",
    "    a = lab[..., 1]\n",
    "    b = lab[..., 2]\n",
    "    s = hsv[..., 1]\n",
    "    proxy = rescale_intensity((s - (a + b)/200.0), in_range='image', out_range=(0, 1))\n",
    "    proxy_u8 = (proxy * 255).astype(np.uint8)\n",
    "    proxy_u8 = cv2.GaussianBlur(proxy_u8, (3, 3), 0)\n",
    "    thr = threshold_otsu(proxy_u8[cell_mask.astype(bool)]) if cell_mask.sum()>0 else threshold_otsu(proxy_u8)\n",
    "    nuc_mask = (proxy_u8 > thr).astype(np.uint8)\n",
    "    nuc_mask = nuc_mask * cell_mask  # nucleus inside cell\n",
    "    nuc_mask = closing(nuc_mask, disk(2))\n",
    "    nuc_mask = remove_small_objects(nuc_mask.astype(bool), 50).astype(np.uint8)\n",
    "    return nuc_mask\n",
    "\n",
    "\n",
    "def largest_region(mask):\n",
    "    lab = label(mask)\n",
    "    if lab.max() == 0:\n",
    "        return mask\n",
    "    # Select largest component\n",
    "    areas = np.bincount(lab.ravel())\n",
    "    areas[0] = 0\n",
    "    idx = areas.argmax()\n",
    "    return (lab == idx).astype(np.uint8)\n",
    "\n",
    "\n",
    "def contour_perimeter(mask):\n",
    "    cnts, _ = cv2.findContours(mask.astype(np.uint8), cv2.RETR_EXTERNAL, cv2.CHAIN_APPROX_NONE)\n",
    "    if not cnts:\n",
    "        return 0.0\n",
    "    return float(cv2.arcLength(max(cnts, key=cv2.contourArea), True))\n",
    "\n",
    "\n",
    "def morph_props(mask, tag):\n",
    "    lab = label(mask)\n",
    "    props = regionprops_table(lab, properties=(\n",
    "        'area', 'label', 'major_axis_length', 'minor_axis_length', 'eccentricity', 'solidity'\n",
    "    ))\n",
    "    df = pd.DataFrame(props)\n",
    "    if df.empty:\n",
    "        return {f'{tag}_area': 0, f'{tag}_perimeter': 0, f'{tag}_major_axis': 0, f'{tag}_minor_axis': 0,\n",
    "                f'{tag}_circularity': 0, f'{tag}_eccentricity': 0, f'{tag}_solidity': 0, f'{tag}_aspect_ratio': 0}\n",
    "    # Use largest region\n",
    "    i = int(df['area'].idxmax())\n",
    "    area = float(df.loc[i, 'area'])\n",
    "    major = float(df.loc[i, 'major_axis_length'])\n",
    "    minor = float(df.loc[i, 'minor_axis_length'])\n",
    "    eccentricity = float(df.loc[i, 'eccentricity'])\n",
    "    solidity = float(df.loc[i, 'solidity'])\n",
    "    perim = contour_perimeter((lab == df.loc[i, 'label']).astype(np.uint8))\n",
    "    circularity = (4 * math.pi * area / (perim ** 2)) if perim > 0 else 0.0\n",
    "    aspect_ratio = (major / minor) if minor > 0 else 0.0\n",
    "    return {\n",
    "        f'{tag}_area': area,\n",
    "        f'{tag}_perimeter': perim,\n",
    "        f'{tag}_major_axis': major,\n",
    "        f'{tag}_minor_axis': minor,\n",
    "        f'{tag}_circularity': circularity,\n",
    "        f'{tag}_eccentricity': eccentricity,\n",
    "        f'{tag}_solidity': solidity,\n",
    "        f'{tag}_aspect_ratio': aspect_ratio,\n",
    "    }\n",
    "\n",
    "\n",
    "def color_stats(img_rgb, mask=None, prefix='rgb'):\n",
    "    if mask is not None:\n",
    "        idx = mask.astype(bool)\n",
    "    else:\n",
    "        idx = slice(None)\n",
    "    ch_means = img_rgb[idx].reshape(-1, 3).mean(axis=0)\n",
    "    ch_stds = img_rgb[idx].reshape(-1, 3).std(axis=0)\n",
    "    d = {f'{prefix}_mean_R': float(ch_means[0]), f'{prefix}_mean_G': float(ch_means[1]), f'{prefix}_mean_B': float(ch_means[2]),\n",
    "         f'{prefix}_std_R': float(ch_stds[0]), f'{prefix}_std_G': float(ch_stds[1]), f'{prefix}_std_B': float(ch_stds[2])}\n",
    "    return d\n",
    "\n",
    "\n",
    "def color_histograms(img_rgb, mask=None, prefix='rgb', bins=32):\n",
    "    hist = {}\n",
    "    for i, ch in enumerate('RGB'):\n",
    "        h = cv2.calcHist([img_rgb], [i], mask, [bins], [0, 256]).flatten()\n",
    "        h = (h / (h.sum() + 1e-8)).astype(float)\n",
    "        # store a compact summary: first 8 bins and entropy\n",
    "        entropy = float(-(h * np.log(h + 1e-12)).sum())\n",
    "        for k in range(8):\n",
    "            hist[f'{prefix}_hist_{ch}_b{k}'] = float(h[k])\n",
    "        hist[f'{prefix}_hist_{ch}_entropy'] = entropy\n",
    "    return hist\n",
    "\n",
    "\n",
    "def convert_and_stats(img_rgb, mask=None):\n",
    "    hsv = (rgb2hsv(img_rgb) * 255).astype(np.uint8)\n",
    "    lab = rgb2lab(img_rgb)\n",
    "    lab_u8 = np.zeros_like(img_rgb, dtype=np.uint8)\n",
    "    lab_u8[..., 0] = np.clip((lab[..., 0] / 100) * 255, 0, 255)\n",
    "    lab_u8[..., 1] = np.clip((lab[..., 1] + 128), 0, 255)\n",
    "    lab_u8[..., 2] = np.clip((lab[..., 2] + 128), 0, 255)\n",
    "    out = {}\n",
    "    out.update(color_stats(img_rgb, mask, 'rgb'))\n",
    "    out.update(color_stats(hsv, mask, 'hsv'))\n",
    "    out.update(color_stats(lab_u8, mask, 'lab'))\n",
    "    out.update(color_histograms(img_rgb, mask, 'rgb'))\n",
    "    out.update(color_histograms(hsv, mask, 'hsv'))\n",
    "    out.update(color_histograms(lab_u8, mask, 'lab'))\n",
    "    return out\n",
    "\n",
    "\n",
    "def stain_deconvolution_stats(img_rgb, mask=None):\n",
    "    # Simple H&E proxy using Macenko-like log-optical density without full deconvolution to keep it simple\n",
    "    img = img_rgb.astype(np.float32) + 1.0\n",
    "    od = -np.log(img / 255.0)\n",
    "    # Project onto two fixed stain vectors (approximate H and E)\n",
    "    H = np.array([0.65, 0.70, 0.29], dtype=np.float32)\n",
    "    E = np.array([0.07, 0.99, 0.11], dtype=np.float32)\n",
    "    H = H / np.linalg.norm(H)\n",
    "    E = E / np.linalg.norm(E)\n",
    "    Hc = od @ H\n",
    "    Ec = od @ E\n",
    "    if mask is not None:\n",
    "        idx = mask.astype(bool)\n",
    "        Hc = Hc[idx]\n",
    "        Ec = Ec[idx]\n",
    "    return {\n",
    "        'stain_H_mean': float(np.mean(Hc)), 'stain_H_std': float(np.std(Hc)),\n",
    "        'stain_E_mean': float(np.mean(Ec)), 'stain_E_std': float(np.std(Ec)),\n",
    "    }\n",
    "\n",
    "\n",
    "def glcm_features(gray_u8, mask=None, prefix='glcm'):\n",
    "    if mask is not None:\n",
    "        # mask region; fill outside with mode to not bias co-occurrence severely\n",
    "        m = mask.astype(bool)\n",
    "        if m.sum() == 0:\n",
    "            roi = gray_u8\n",
    "        else:\n",
    "            roi = gray_u8.copy()\n",
    "            mode_val = np.bincount(roi[m].ravel()).argmax()\n",
    "            roi[~m] = mode_val\n",
    "    else:\n",
    "        roi = gray_u8\n",
    "    glcm = greycomatrix(roi, distances=GLCM_DISTANCES, angles=GLCM_ANGLES, levels=256, symmetric=True, normed=True)\n",
    "    feats = {}\n",
    "    for prop in ['contrast', 'correlation', 'energy', 'homogeneity']:\n",
    "        vals = greycoprops(glcm, prop)\n",
    "        feats[f'{prefix}_{prop}_mean'] = float(np.mean(vals))\n",
    "        feats[f'{prefix}_{prop}_std'] = float(np.std(vals))\n",
    "    return feats\n",
    "\n",
    "\n",
    "def lbp_features(gray_u8, mask=None, prefix='lbp'):\n",
    "    lbp = local_binary_pattern(gray_u8, LBP_P, LBP_R, method=LBP_METHOD)\n",
    "    lbp_u8 = np.uint8(255 * (lbp - lbp.min()) / (lbp.max() - lbp.min() + 1e-8))\n",
    "    if mask is not None and mask.sum() > 0:\n",
    "        vals = lbp_u8[mask.astype(bool)].ravel()\n",
    "    else:\n",
    "        vals = lbp_u8.ravel()\n",
    "    hist, _ = np.histogram(vals, bins=32, range=(0, 256), density=True)\n",
    "    d = {f'{prefix}_b{k}': float(hist[k]) for k in range(len(hist))}\n",
    "    d[f'{prefix}_entropy'] = float(-(hist * np.log(hist + 1e-12)).sum())\n",
    "    return d\n",
    "\n",
    "\n",
    "def make_overlay(img_rgb, mask, color=(255, 0, 0), alpha=0.35):\n",
    "    overlay = img_rgb.copy()\n",
    "    col = np.array(color, dtype=np.uint8)\n",
    "    idx = mask.astype(bool)\n",
    "    overlay[idx] = (alpha * col + (1 - alpha) * overlay[idx]).astype(np.uint8)\n",
    "    return overlay\n",
    "\n",
    "print(\"Helper functions ready.\")"
   ]
  },
  {
   "cell_type": "code",
   "execution_count": 5,
   "id": "b63ff3f1",
   "metadata": {},
   "outputs": [
    {
     "name": "stdout",
     "output_type": "stream",
     "text": [
      "Found 8098 images.\n"
     ]
    },
    {
     "name": "stderr",
     "output_type": "stream",
     "text": [
      "  0%|          | 0/8098 [00:00<?, ?it/s]C:\\Users\\meetb\\AppData\\Local\\Temp\\ipykernel_53104\\2748481638.py:97: RuntimeWarning: Mean of empty slice.\n",
      "  ch_means = img_rgb[idx].reshape(-1, 3).mean(axis=0)\n",
      "C:\\Users\\meetb\\AppData\\Local\\Packages\\PythonSoftwareFoundation.Python.3.12_qbz5n2kfra8p0\\LocalCache\\local-packages\\Python312\\site-packages\\numpy\\core\\_methods.py:121: RuntimeWarning: invalid value encountered in divide\n",
      "  ret = um.true_divide(\n",
      "C:\\Users\\meetb\\AppData\\Local\\Packages\\PythonSoftwareFoundation.Python.3.12_qbz5n2kfra8p0\\LocalCache\\local-packages\\Python312\\site-packages\\numpy\\core\\_methods.py:206: RuntimeWarning: Degrees of freedom <= 0 for slice\n",
      "  ret = _var(a, axis=axis, dtype=dtype, out=out, ddof=ddof,\n",
      "C:\\Users\\meetb\\AppData\\Local\\Packages\\PythonSoftwareFoundation.Python.3.12_qbz5n2kfra8p0\\LocalCache\\local-packages\\Python312\\site-packages\\numpy\\core\\_methods.py:163: RuntimeWarning: invalid value encountered in divide\n",
      "  arrmean = um.true_divide(arrmean, div, out=arrmean,\n",
      "C:\\Users\\meetb\\AppData\\Local\\Packages\\PythonSoftwareFoundation.Python.3.12_qbz5n2kfra8p0\\LocalCache\\local-packages\\Python312\\site-packages\\numpy\\core\\_methods.py:195: RuntimeWarning: invalid value encountered in divide\n",
      "  ret = um.true_divide(\n",
      "C:\\Users\\meetb\\AppData\\Local\\Packages\\PythonSoftwareFoundation.Python.3.12_qbz5n2kfra8p0\\LocalCache\\local-packages\\Python312\\site-packages\\numpy\\core\\fromnumeric.py:3504: RuntimeWarning: Mean of empty slice.\n",
      "  return _methods._mean(a, axis=axis, dtype=dtype,\n",
      "C:\\Users\\meetb\\AppData\\Local\\Packages\\PythonSoftwareFoundation.Python.3.12_qbz5n2kfra8p0\\LocalCache\\local-packages\\Python312\\site-packages\\numpy\\core\\_methods.py:129: RuntimeWarning: invalid value encountered in divide\n",
      "  ret = ret.dtype.type(ret / rcount)\n",
      "C:\\Users\\meetb\\AppData\\Local\\Packages\\PythonSoftwareFoundation.Python.3.12_qbz5n2kfra8p0\\LocalCache\\local-packages\\Python312\\site-packages\\numpy\\core\\_methods.py:198: RuntimeWarning: invalid value encountered in divide\n",
      "  ret = ret.dtype.type(ret / rcount)\n",
      "  0%|          | 3/8098 [00:00<15:45,  8.56it/s]"
     ]
    },
    {
     "name": "stdout",
     "output_type": "stream",
     "text": [
      "Error processing c:\\Meet\\Projects\\Project_8_Phoenix_Cervical Cancer Image Classification\\Project-Phoenix\\Dataset\\Preprocessed Dataset\\im_Dyskeratotic\\001_cyt_cyt01.png: name 'greycomatrix' is not defined\n",
      "Error processing c:\\Meet\\Projects\\Project_8_Phoenix_Cervical Cancer Image Classification\\Project-Phoenix\\Dataset\\Preprocessed Dataset\\im_Dyskeratotic\\001_cyt_cyt02.png: name 'greycomatrix' is not defined\n",
      "Error processing c:\\Meet\\Projects\\Project_8_Phoenix_Cervical Cancer Image Classification\\Project-Phoenix\\Dataset\\Preprocessed Dataset\\im_Dyskeratotic\\001_cyt_cyt03.png: name 'greycomatrix' is not defined\n"
     ]
    },
    {
     "name": "stderr",
     "output_type": "stream",
     "text": [
      "  0%|          | 5/8098 [00:00<15:39,  8.61it/s]"
     ]
    },
    {
     "name": "stdout",
     "output_type": "stream",
     "text": [
      "Error processing c:\\Meet\\Projects\\Project_8_Phoenix_Cervical Cancer Image Classification\\Project-Phoenix\\Dataset\\Preprocessed Dataset\\im_Dyskeratotic\\001_cyt_cyt04.png: name 'greycomatrix' is not defined\n",
      "Error processing c:\\Meet\\Projects\\Project_8_Phoenix_Cervical Cancer Image Classification\\Project-Phoenix\\Dataset\\Preprocessed Dataset\\im_Dyskeratotic\\001_cyt_cyt05.png: name 'greycomatrix' is not defined\n"
     ]
    },
    {
     "name": "stderr",
     "output_type": "stream",
     "text": [
      "  0%|          | 7/8098 [00:00<13:51,  9.73it/s]"
     ]
    },
    {
     "name": "stdout",
     "output_type": "stream",
     "text": [
      "Error processing c:\\Meet\\Projects\\Project_8_Phoenix_Cervical Cancer Image Classification\\Project-Phoenix\\Dataset\\Preprocessed Dataset\\im_Dyskeratotic\\001_nuc_nuc01.png: name 'greycomatrix' is not defined\n",
      "Error processing c:\\Meet\\Projects\\Project_8_Phoenix_Cervical Cancer Image Classification\\Project-Phoenix\\Dataset\\Preprocessed Dataset\\im_Dyskeratotic\\001_nuc_nuc02.png: name 'greycomatrix' is not defined\n",
      "Error processing c:\\Meet\\Projects\\Project_8_Phoenix_Cervical Cancer Image Classification\\Project-Phoenix\\Dataset\\Preprocessed Dataset\\im_Dyskeratotic\\001_nuc_nuc03.png: name 'greycomatrix' is not defined\n"
     ]
    },
    {
     "name": "stderr",
     "output_type": "stream",
     "text": [
      "  0%|          | 9/8098 [00:00<13:54,  9.69it/s]"
     ]
    },
    {
     "name": "stdout",
     "output_type": "stream",
     "text": [
      "Error processing c:\\Meet\\Projects\\Project_8_Phoenix_Cervical Cancer Image Classification\\Project-Phoenix\\Dataset\\Preprocessed Dataset\\im_Dyskeratotic\\001_nuc_nuc04.png: name 'greycomatrix' is not defined\n",
      "Error processing c:\\Meet\\Projects\\Project_8_Phoenix_Cervical Cancer Image Classification\\Project-Phoenix\\Dataset\\Preprocessed Dataset\\im_Dyskeratotic\\001_nuc_nuc05.png: name 'greycomatrix' is not defined\n",
      "Error processing c:\\Meet\\Projects\\Project_8_Phoenix_Cervical Cancer Image Classification\\Project-Phoenix\\Dataset\\Preprocessed Dataset\\im_Dyskeratotic\\002_cyt_cyt01.png: name 'greycomatrix' is not defined\n"
     ]
    },
    {
     "name": "stderr",
     "output_type": "stream",
     "text": [
      "  0%|          | 12/8098 [00:01<14:19,  9.40it/s]"
     ]
    },
    {
     "name": "stdout",
     "output_type": "stream",
     "text": [
      "Error processing c:\\Meet\\Projects\\Project_8_Phoenix_Cervical Cancer Image Classification\\Project-Phoenix\\Dataset\\Preprocessed Dataset\\im_Dyskeratotic\\002_cyt_cyt02.png: name 'greycomatrix' is not defined\n",
      "Error processing c:\\Meet\\Projects\\Project_8_Phoenix_Cervical Cancer Image Classification\\Project-Phoenix\\Dataset\\Preprocessed Dataset\\im_Dyskeratotic\\002_cyt_cyt03.png: name 'greycomatrix' is not defined\n",
      "Error processing c:\\Meet\\Projects\\Project_8_Phoenix_Cervical Cancer Image Classification\\Project-Phoenix\\Dataset\\Preprocessed Dataset\\im_Dyskeratotic\\002_cyt_cyt04.png: name 'greycomatrix' is not defined\n"
     ]
    },
    {
     "name": "stderr",
     "output_type": "stream",
     "text": [
      "  0%|          | 16/8098 [00:01<12:54, 10.43it/s]"
     ]
    },
    {
     "name": "stdout",
     "output_type": "stream",
     "text": [
      "Error processing c:\\Meet\\Projects\\Project_8_Phoenix_Cervical Cancer Image Classification\\Project-Phoenix\\Dataset\\Preprocessed Dataset\\im_Dyskeratotic\\002_cyt_cyt05.png: name 'greycomatrix' is not defined\n",
      "Error processing c:\\Meet\\Projects\\Project_8_Phoenix_Cervical Cancer Image Classification\\Project-Phoenix\\Dataset\\Preprocessed Dataset\\im_Dyskeratotic\\002_cyt_cyt06.png: name 'greycomatrix' is not defined\n",
      "Error processing c:\\Meet\\Projects\\Project_8_Phoenix_Cervical Cancer Image Classification\\Project-Phoenix\\Dataset\\Preprocessed Dataset\\im_Dyskeratotic\\002_cyt_cyt07.png: name 'greycomatrix' is not defined\n"
     ]
    },
    {
     "name": "stderr",
     "output_type": "stream",
     "text": [
      "  0%|          | 18/8098 [00:01<12:40, 10.63it/s]"
     ]
    },
    {
     "name": "stdout",
     "output_type": "stream",
     "text": [
      "Error processing c:\\Meet\\Projects\\Project_8_Phoenix_Cervical Cancer Image Classification\\Project-Phoenix\\Dataset\\Preprocessed Dataset\\im_Dyskeratotic\\002_cyt_cyt08.png: name 'greycomatrix' is not defined\n",
      "Error processing c:\\Meet\\Projects\\Project_8_Phoenix_Cervical Cancer Image Classification\\Project-Phoenix\\Dataset\\Preprocessed Dataset\\im_Dyskeratotic\\002_cyt_cyt09.png: name 'greycomatrix' is not defined\n",
      "Error processing c:\\Meet\\Projects\\Project_8_Phoenix_Cervical Cancer Image Classification\\Project-Phoenix\\Dataset\\Preprocessed Dataset\\im_Dyskeratotic\\002_cyt_cyt10.png: name 'greycomatrix' is not defined\n"
     ]
    },
    {
     "name": "stderr",
     "output_type": "stream",
     "text": [
      "  0%|          | 22/8098 [00:02<12:55, 10.41it/s]"
     ]
    },
    {
     "name": "stdout",
     "output_type": "stream",
     "text": [
      "Error processing c:\\Meet\\Projects\\Project_8_Phoenix_Cervical Cancer Image Classification\\Project-Phoenix\\Dataset\\Preprocessed Dataset\\im_Dyskeratotic\\002_nuc_nuc01.png: name 'greycomatrix' is not defined\n",
      "Error processing c:\\Meet\\Projects\\Project_8_Phoenix_Cervical Cancer Image Classification\\Project-Phoenix\\Dataset\\Preprocessed Dataset\\im_Dyskeratotic\\002_nuc_nuc02.png: name 'greycomatrix' is not defined\n"
     ]
    },
    {
     "name": "stderr",
     "output_type": "stream",
     "text": [
      "  0%|          | 24/8098 [00:02<12:47, 10.52it/s]"
     ]
    },
    {
     "name": "stdout",
     "output_type": "stream",
     "text": [
      "Error processing c:\\Meet\\Projects\\Project_8_Phoenix_Cervical Cancer Image Classification\\Project-Phoenix\\Dataset\\Preprocessed Dataset\\im_Dyskeratotic\\002_nuc_nuc03.png: name 'greycomatrix' is not defined\n",
      "Error processing c:\\Meet\\Projects\\Project_8_Phoenix_Cervical Cancer Image Classification\\Project-Phoenix\\Dataset\\Preprocessed Dataset\\im_Dyskeratotic\\002_nuc_nuc04.png: name 'greycomatrix' is not defined\n",
      "Error processing c:\\Meet\\Projects\\Project_8_Phoenix_Cervical Cancer Image Classification\\Project-Phoenix\\Dataset\\Preprocessed Dataset\\im_Dyskeratotic\\002_nuc_nuc05.png: name 'greycomatrix' is not defined\n"
     ]
    },
    {
     "name": "stderr",
     "output_type": "stream",
     "text": [
      "  0%|          | 28/8098 [00:02<12:39, 10.63it/s]"
     ]
    },
    {
     "name": "stdout",
     "output_type": "stream",
     "text": [
      "Error processing c:\\Meet\\Projects\\Project_8_Phoenix_Cervical Cancer Image Classification\\Project-Phoenix\\Dataset\\Preprocessed Dataset\\im_Dyskeratotic\\002_nuc_nuc06.png: name 'greycomatrix' is not defined\n",
      "Error processing c:\\Meet\\Projects\\Project_8_Phoenix_Cervical Cancer Image Classification\\Project-Phoenix\\Dataset\\Preprocessed Dataset\\im_Dyskeratotic\\002_nuc_nuc07.png: name 'greycomatrix' is not defined\n",
      "Error processing c:\\Meet\\Projects\\Project_8_Phoenix_Cervical Cancer Image Classification\\Project-Phoenix\\Dataset\\Preprocessed Dataset\\im_Dyskeratotic\\002_nuc_nuc08.png: name 'greycomatrix' is not defined\n"
     ]
    },
    {
     "name": "stderr",
     "output_type": "stream",
     "text": [
      "  0%|          | 30/8098 [00:02<12:43, 10.57it/s]"
     ]
    },
    {
     "name": "stdout",
     "output_type": "stream",
     "text": [
      "Error processing c:\\Meet\\Projects\\Project_8_Phoenix_Cervical Cancer Image Classification\\Project-Phoenix\\Dataset\\Preprocessed Dataset\\im_Dyskeratotic\\002_nuc_nuc09.png: name 'greycomatrix' is not defined\n",
      "Error processing c:\\Meet\\Projects\\Project_8_Phoenix_Cervical Cancer Image Classification\\Project-Phoenix\\Dataset\\Preprocessed Dataset\\im_Dyskeratotic\\002_nuc_nuc10.png: name 'greycomatrix' is not defined\n",
      "Error processing c:\\Meet\\Projects\\Project_8_Phoenix_Cervical Cancer Image Classification\\Project-Phoenix\\Dataset\\Preprocessed Dataset\\im_Dyskeratotic\\003_cyt_cyt01.png: name 'greycomatrix' is not defined\n"
     ]
    },
    {
     "name": "stderr",
     "output_type": "stream",
     "text": [
      "  0%|          | 32/8098 [00:03<12:57, 10.38it/s]"
     ]
    },
    {
     "name": "stdout",
     "output_type": "stream",
     "text": [
      "Error processing c:\\Meet\\Projects\\Project_8_Phoenix_Cervical Cancer Image Classification\\Project-Phoenix\\Dataset\\Preprocessed Dataset\\im_Dyskeratotic\\003_cyt_cyt02.png: name 'greycomatrix' is not defined\n",
      "Error processing c:\\Meet\\Projects\\Project_8_Phoenix_Cervical Cancer Image Classification\\Project-Phoenix\\Dataset\\Preprocessed Dataset\\im_Dyskeratotic\\003_cyt_cyt03.png: name 'greycomatrix' is not defined\n",
      "Error processing c:\\Meet\\Projects\\Project_8_Phoenix_Cervical Cancer Image Classification\\Project-Phoenix\\Dataset\\Preprocessed Dataset\\im_Dyskeratotic\\003_cyt_cyt04.png: name 'greycomatrix' is not defined\n"
     ]
    },
    {
     "name": "stderr",
     "output_type": "stream",
     "text": [
      "  0%|          | 36/8098 [00:03<13:52,  9.69it/s]"
     ]
    },
    {
     "name": "stdout",
     "output_type": "stream",
     "text": [
      "Error processing c:\\Meet\\Projects\\Project_8_Phoenix_Cervical Cancer Image Classification\\Project-Phoenix\\Dataset\\Preprocessed Dataset\\im_Dyskeratotic\\003_cyt_cyt05.png: name 'greycomatrix' is not defined\n",
      "Error processing c:\\Meet\\Projects\\Project_8_Phoenix_Cervical Cancer Image Classification\\Project-Phoenix\\Dataset\\Preprocessed Dataset\\im_Dyskeratotic\\003_cyt_cyt06.png: name 'greycomatrix' is not defined\n"
     ]
    },
    {
     "name": "stderr",
     "output_type": "stream",
     "text": [
      "  0%|          | 38/8098 [00:03<13:31,  9.94it/s]"
     ]
    },
    {
     "name": "stdout",
     "output_type": "stream",
     "text": [
      "Error processing c:\\Meet\\Projects\\Project_8_Phoenix_Cervical Cancer Image Classification\\Project-Phoenix\\Dataset\\Preprocessed Dataset\\im_Dyskeratotic\\003_cyt_cyt07.png: name 'greycomatrix' is not defined\n",
      "Error processing c:\\Meet\\Projects\\Project_8_Phoenix_Cervical Cancer Image Classification\\Project-Phoenix\\Dataset\\Preprocessed Dataset\\im_Dyskeratotic\\003_cyt_cyt08.png: name 'greycomatrix' is not defined\n",
      "Error processing c:\\Meet\\Projects\\Project_8_Phoenix_Cervical Cancer Image Classification\\Project-Phoenix\\Dataset\\Preprocessed Dataset\\im_Dyskeratotic\\003_cyt_cyt09.png: name 'greycomatrix' is not defined\n"
     ]
    },
    {
     "name": "stderr",
     "output_type": "stream",
     "text": [
      "  0%|          | 40/8098 [00:04<13:21, 10.06it/s]"
     ]
    },
    {
     "name": "stdout",
     "output_type": "stream",
     "text": [
      "Error processing c:\\Meet\\Projects\\Project_8_Phoenix_Cervical Cancer Image Classification\\Project-Phoenix\\Dataset\\Preprocessed Dataset\\im_Dyskeratotic\\003_cyt_cyt10.png: name 'greycomatrix' is not defined\n",
      "Error processing c:\\Meet\\Projects\\Project_8_Phoenix_Cervical Cancer Image Classification\\Project-Phoenix\\Dataset\\Preprocessed Dataset\\im_Dyskeratotic\\003_cyt_cyt11.png: name 'greycomatrix' is not defined\n",
      "Error processing c:\\Meet\\Projects\\Project_8_Phoenix_Cervical Cancer Image Classification\\Project-Phoenix\\Dataset\\Preprocessed Dataset\\im_Dyskeratotic\\003_cyt_cyt12.png: name 'greycomatrix' is not defined\n"
     ]
    },
    {
     "name": "stderr",
     "output_type": "stream",
     "text": [
      "  1%|          | 44/8098 [00:04<13:50,  9.70it/s]"
     ]
    },
    {
     "name": "stdout",
     "output_type": "stream",
     "text": [
      "Error processing c:\\Meet\\Projects\\Project_8_Phoenix_Cervical Cancer Image Classification\\Project-Phoenix\\Dataset\\Preprocessed Dataset\\im_Dyskeratotic\\003_nuc_nuc01.png: name 'greycomatrix' is not defined\n",
      "Error processing c:\\Meet\\Projects\\Project_8_Phoenix_Cervical Cancer Image Classification\\Project-Phoenix\\Dataset\\Preprocessed Dataset\\im_Dyskeratotic\\003_nuc_nuc02.png: name 'greycomatrix' is not defined\n"
     ]
    },
    {
     "name": "stderr",
     "output_type": "stream",
     "text": [
      "  1%|          | 45/8098 [00:04<13:58,  9.61it/s]"
     ]
    },
    {
     "name": "stdout",
     "output_type": "stream",
     "text": [
      "Error processing c:\\Meet\\Projects\\Project_8_Phoenix_Cervical Cancer Image Classification\\Project-Phoenix\\Dataset\\Preprocessed Dataset\\im_Dyskeratotic\\003_nuc_nuc03.png: name 'greycomatrix' is not defined\n",
      "Error processing c:\\Meet\\Projects\\Project_8_Phoenix_Cervical Cancer Image Classification\\Project-Phoenix\\Dataset\\Preprocessed Dataset\\im_Dyskeratotic\\003_nuc_nuc04.png: name 'greycomatrix' is not defined\n",
      "Error processing c:\\Meet\\Projects\\Project_8_Phoenix_Cervical Cancer Image Classification\\Project-Phoenix\\Dataset\\Preprocessed Dataset\\im_Dyskeratotic\\003_nuc_nuc05.png: name 'greycomatrix' is not defined\n"
     ]
    },
    {
     "name": "stderr",
     "output_type": "stream",
     "text": [
      "  1%|          | 49/8098 [00:04<13:14, 10.13it/s]"
     ]
    },
    {
     "name": "stdout",
     "output_type": "stream",
     "text": [
      "Error processing c:\\Meet\\Projects\\Project_8_Phoenix_Cervical Cancer Image Classification\\Project-Phoenix\\Dataset\\Preprocessed Dataset\\im_Dyskeratotic\\003_nuc_nuc06.png: name 'greycomatrix' is not defined\n",
      "Error processing c:\\Meet\\Projects\\Project_8_Phoenix_Cervical Cancer Image Classification\\Project-Phoenix\\Dataset\\Preprocessed Dataset\\im_Dyskeratotic\\003_nuc_nuc07.png: name 'greycomatrix' is not defined\n",
      "Error processing c:\\Meet\\Projects\\Project_8_Phoenix_Cervical Cancer Image Classification\\Project-Phoenix\\Dataset\\Preprocessed Dataset\\im_Dyskeratotic\\003_nuc_nuc08.png: name 'greycomatrix' is not defined\n"
     ]
    },
    {
     "name": "stderr",
     "output_type": "stream",
     "text": [
      "  1%|          | 51/8098 [00:05<13:19, 10.06it/s]"
     ]
    },
    {
     "name": "stdout",
     "output_type": "stream",
     "text": [
      "Error processing c:\\Meet\\Projects\\Project_8_Phoenix_Cervical Cancer Image Classification\\Project-Phoenix\\Dataset\\Preprocessed Dataset\\im_Dyskeratotic\\003_nuc_nuc09.png: name 'greycomatrix' is not defined\n",
      "Error processing c:\\Meet\\Projects\\Project_8_Phoenix_Cervical Cancer Image Classification\\Project-Phoenix\\Dataset\\Preprocessed Dataset\\im_Dyskeratotic\\003_nuc_nuc10.png: name 'greycomatrix' is not defined\n",
      "Error processing c:\\Meet\\Projects\\Project_8_Phoenix_Cervical Cancer Image Classification\\Project-Phoenix\\Dataset\\Preprocessed Dataset\\im_Dyskeratotic\\003_nuc_nuc11.png: name 'greycomatrix' is not defined\n"
     ]
    },
    {
     "name": "stderr",
     "output_type": "stream",
     "text": [
      "  1%|          | 55/8098 [00:05<13:03, 10.26it/s]"
     ]
    },
    {
     "name": "stdout",
     "output_type": "stream",
     "text": [
      "Error processing c:\\Meet\\Projects\\Project_8_Phoenix_Cervical Cancer Image Classification\\Project-Phoenix\\Dataset\\Preprocessed Dataset\\im_Dyskeratotic\\003_nuc_nuc12.png: name 'greycomatrix' is not defined\n",
      "Error processing c:\\Meet\\Projects\\Project_8_Phoenix_Cervical Cancer Image Classification\\Project-Phoenix\\Dataset\\Preprocessed Dataset\\im_Dyskeratotic\\004_cyt_cyt01.png: name 'greycomatrix' is not defined\n"
     ]
    },
    {
     "name": "stderr",
     "output_type": "stream",
     "text": [
      "  1%|          | 57/8098 [00:05<13:05, 10.24it/s]"
     ]
    },
    {
     "name": "stdout",
     "output_type": "stream",
     "text": [
      "Error processing c:\\Meet\\Projects\\Project_8_Phoenix_Cervical Cancer Image Classification\\Project-Phoenix\\Dataset\\Preprocessed Dataset\\im_Dyskeratotic\\004_cyt_cyt02.png: name 'greycomatrix' is not defined\n",
      "Error processing c:\\Meet\\Projects\\Project_8_Phoenix_Cervical Cancer Image Classification\\Project-Phoenix\\Dataset\\Preprocessed Dataset\\im_Dyskeratotic\\004_cyt_cyt03.png: name 'greycomatrix' is not defined\n",
      "Error processing c:\\Meet\\Projects\\Project_8_Phoenix_Cervical Cancer Image Classification\\Project-Phoenix\\Dataset\\Preprocessed Dataset\\im_Dyskeratotic\\004_nuc_nuc01.png: name 'greycomatrix' is not defined\n"
     ]
    },
    {
     "name": "stderr",
     "output_type": "stream",
     "text": [
      "  1%|          | 60/8098 [00:06<13:55,  9.63it/s]"
     ]
    },
    {
     "name": "stdout",
     "output_type": "stream",
     "text": [
      "Error processing c:\\Meet\\Projects\\Project_8_Phoenix_Cervical Cancer Image Classification\\Project-Phoenix\\Dataset\\Preprocessed Dataset\\im_Dyskeratotic\\004_nuc_nuc02.png: name 'greycomatrix' is not defined\n",
      "Error processing c:\\Meet\\Projects\\Project_8_Phoenix_Cervical Cancer Image Classification\\Project-Phoenix\\Dataset\\Preprocessed Dataset\\im_Dyskeratotic\\004_nuc_nuc03.png: name 'greycomatrix' is not defined\n",
      "Error processing c:\\Meet\\Projects\\Project_8_Phoenix_Cervical Cancer Image Classification\\Project-Phoenix\\Dataset\\Preprocessed Dataset\\im_Dyskeratotic\\005_cyt_cyt01.png: name 'greycomatrix' is not defined\n"
     ]
    },
    {
     "name": "stderr",
     "output_type": "stream",
     "text": [
      "  1%|          | 62/8098 [00:06<13:23, 10.00it/s]"
     ]
    },
    {
     "name": "stdout",
     "output_type": "stream",
     "text": [
      "Error processing c:\\Meet\\Projects\\Project_8_Phoenix_Cervical Cancer Image Classification\\Project-Phoenix\\Dataset\\Preprocessed Dataset\\im_Dyskeratotic\\005_cyt_cyt02.png: name 'greycomatrix' is not defined\n",
      "Error processing c:\\Meet\\Projects\\Project_8_Phoenix_Cervical Cancer Image Classification\\Project-Phoenix\\Dataset\\Preprocessed Dataset\\im_Dyskeratotic\\005_cyt_cyt03.png: name 'greycomatrix' is not defined\n",
      "Error processing c:\\Meet\\Projects\\Project_8_Phoenix_Cervical Cancer Image Classification\\Project-Phoenix\\Dataset\\Preprocessed Dataset\\im_Dyskeratotic\\005_cyt_cyt04.png: name 'greycomatrix' is not defined\n"
     ]
    },
    {
     "name": "stderr",
     "output_type": "stream",
     "text": [
      "  1%|          | 66/8098 [00:06<13:36,  9.84it/s]"
     ]
    },
    {
     "name": "stdout",
     "output_type": "stream",
     "text": [
      "Error processing c:\\Meet\\Projects\\Project_8_Phoenix_Cervical Cancer Image Classification\\Project-Phoenix\\Dataset\\Preprocessed Dataset\\im_Dyskeratotic\\005_cyt_cyt05.png: name 'greycomatrix' is not defined\n",
      "Error processing c:\\Meet\\Projects\\Project_8_Phoenix_Cervical Cancer Image Classification\\Project-Phoenix\\Dataset\\Preprocessed Dataset\\im_Dyskeratotic\\005_cyt_cyt06.png: name 'greycomatrix' is not defined\n"
     ]
    },
    {
     "name": "stderr",
     "output_type": "stream",
     "text": [
      "  1%|          | 67/8098 [00:06<13:50,  9.68it/s]"
     ]
    },
    {
     "name": "stdout",
     "output_type": "stream",
     "text": [
      "Error processing c:\\Meet\\Projects\\Project_8_Phoenix_Cervical Cancer Image Classification\\Project-Phoenix\\Dataset\\Preprocessed Dataset\\im_Dyskeratotic\\005_cyt_cyt07.png: name 'greycomatrix' is not defined\n",
      "Error processing c:\\Meet\\Projects\\Project_8_Phoenix_Cervical Cancer Image Classification\\Project-Phoenix\\Dataset\\Preprocessed Dataset\\im_Dyskeratotic\\005_nuc_nuc01.png: name 'greycomatrix' is not defined\n"
     ]
    },
    {
     "name": "stderr",
     "output_type": "stream",
     "text": [
      "  1%|          | 71/8098 [00:07<13:10, 10.16it/s]"
     ]
    },
    {
     "name": "stdout",
     "output_type": "stream",
     "text": [
      "Error processing c:\\Meet\\Projects\\Project_8_Phoenix_Cervical Cancer Image Classification\\Project-Phoenix\\Dataset\\Preprocessed Dataset\\im_Dyskeratotic\\005_nuc_nuc02.png: name 'greycomatrix' is not defined\n",
      "Error processing c:\\Meet\\Projects\\Project_8_Phoenix_Cervical Cancer Image Classification\\Project-Phoenix\\Dataset\\Preprocessed Dataset\\im_Dyskeratotic\\005_nuc_nuc03.png: name 'greycomatrix' is not defined\n",
      "Error processing c:\\Meet\\Projects\\Project_8_Phoenix_Cervical Cancer Image Classification\\Project-Phoenix\\Dataset\\Preprocessed Dataset\\im_Dyskeratotic\\005_nuc_nuc04.png: name 'greycomatrix' is not defined\n"
     ]
    },
    {
     "name": "stderr",
     "output_type": "stream",
     "text": [
      "  1%|          | 73/8098 [00:07<13:04, 10.22it/s]"
     ]
    },
    {
     "name": "stdout",
     "output_type": "stream",
     "text": [
      "Error processing c:\\Meet\\Projects\\Project_8_Phoenix_Cervical Cancer Image Classification\\Project-Phoenix\\Dataset\\Preprocessed Dataset\\im_Dyskeratotic\\005_nuc_nuc05.png: name 'greycomatrix' is not defined\n",
      "Error processing c:\\Meet\\Projects\\Project_8_Phoenix_Cervical Cancer Image Classification\\Project-Phoenix\\Dataset\\Preprocessed Dataset\\im_Dyskeratotic\\005_nuc_nuc06.png: name 'greycomatrix' is not defined\n",
      "Error processing c:\\Meet\\Projects\\Project_8_Phoenix_Cervical Cancer Image Classification\\Project-Phoenix\\Dataset\\Preprocessed Dataset\\im_Dyskeratotic\\005_nuc_nuc07.png: name 'greycomatrix' is not defined\n"
     ]
    },
    {
     "name": "stderr",
     "output_type": "stream",
     "text": [
      "  1%|          | 76/8098 [00:07<13:31,  9.89it/s]"
     ]
    },
    {
     "name": "stdout",
     "output_type": "stream",
     "text": [
      "Error processing c:\\Meet\\Projects\\Project_8_Phoenix_Cervical Cancer Image Classification\\Project-Phoenix\\Dataset\\Preprocessed Dataset\\im_Dyskeratotic\\006_cyt_cyt01.png: name 'greycomatrix' is not defined\n",
      "Error processing c:\\Meet\\Projects\\Project_8_Phoenix_Cervical Cancer Image Classification\\Project-Phoenix\\Dataset\\Preprocessed Dataset\\im_Dyskeratotic\\006_cyt_cyt02.png: name 'greycomatrix' is not defined\n"
     ]
    },
    {
     "name": "stderr",
     "output_type": "stream",
     "text": [
      "  1%|          | 77/8098 [00:07<13:39,  9.78it/s]"
     ]
    },
    {
     "name": "stdout",
     "output_type": "stream",
     "text": [
      "Error processing c:\\Meet\\Projects\\Project_8_Phoenix_Cervical Cancer Image Classification\\Project-Phoenix\\Dataset\\Preprocessed Dataset\\im_Dyskeratotic\\006_cyt_cyt03.png: name 'greycomatrix' is not defined\n",
      "Error processing c:\\Meet\\Projects\\Project_8_Phoenix_Cervical Cancer Image Classification\\Project-Phoenix\\Dataset\\Preprocessed Dataset\\im_Dyskeratotic\\006_cyt_cyt04.png: name 'greycomatrix' is not defined\n",
      "Error processing c:\\Meet\\Projects\\Project_8_Phoenix_Cervical Cancer Image Classification\\Project-Phoenix\\Dataset\\Preprocessed Dataset\\im_Dyskeratotic\\006_cyt_cyt05.png: name 'greycomatrix' is not defined\n"
     ]
    },
    {
     "name": "stderr",
     "output_type": "stream",
     "text": [
      "  1%|          | 80/8098 [00:08<13:33,  9.86it/s]"
     ]
    },
    {
     "name": "stdout",
     "output_type": "stream",
     "text": [
      "Error processing c:\\Meet\\Projects\\Project_8_Phoenix_Cervical Cancer Image Classification\\Project-Phoenix\\Dataset\\Preprocessed Dataset\\im_Dyskeratotic\\006_cyt_cyt06.png: name 'greycomatrix' is not defined\n",
      "Error processing c:\\Meet\\Projects\\Project_8_Phoenix_Cervical Cancer Image Classification\\Project-Phoenix\\Dataset\\Preprocessed Dataset\\im_Dyskeratotic\\006_nuc_nuc01.png: name 'greycomatrix' is not defined\n"
     ]
    },
    {
     "name": "stderr",
     "output_type": "stream",
     "text": [
      "  1%|          | 82/8098 [00:08<13:44,  9.72it/s]"
     ]
    },
    {
     "name": "stdout",
     "output_type": "stream",
     "text": [
      "Error processing c:\\Meet\\Projects\\Project_8_Phoenix_Cervical Cancer Image Classification\\Project-Phoenix\\Dataset\\Preprocessed Dataset\\im_Dyskeratotic\\006_nuc_nuc02.png: name 'greycomatrix' is not defined\n",
      "Error processing c:\\Meet\\Projects\\Project_8_Phoenix_Cervical Cancer Image Classification\\Project-Phoenix\\Dataset\\Preprocessed Dataset\\im_Dyskeratotic\\006_nuc_nuc03.png: name 'greycomatrix' is not defined\n",
      "Error processing c:\\Meet\\Projects\\Project_8_Phoenix_Cervical Cancer Image Classification\\Project-Phoenix\\Dataset\\Preprocessed Dataset\\im_Dyskeratotic\\006_nuc_nuc04.png: name 'greycomatrix' is not defined\n"
     ]
    },
    {
     "name": "stderr",
     "output_type": "stream",
     "text": [
      "  1%|          | 86/8098 [00:08<13:04, 10.21it/s]"
     ]
    },
    {
     "name": "stdout",
     "output_type": "stream",
     "text": [
      "Error processing c:\\Meet\\Projects\\Project_8_Phoenix_Cervical Cancer Image Classification\\Project-Phoenix\\Dataset\\Preprocessed Dataset\\im_Dyskeratotic\\006_nuc_nuc05.png: name 'greycomatrix' is not defined\n",
      "Error processing c:\\Meet\\Projects\\Project_8_Phoenix_Cervical Cancer Image Classification\\Project-Phoenix\\Dataset\\Preprocessed Dataset\\im_Dyskeratotic\\006_nuc_nuc06.png: name 'greycomatrix' is not defined\n",
      "Error processing c:\\Meet\\Projects\\Project_8_Phoenix_Cervical Cancer Image Classification\\Project-Phoenix\\Dataset\\Preprocessed Dataset\\im_Dyskeratotic\\007_cyt_cyt01.png: name 'greycomatrix' is not defined\n"
     ]
    },
    {
     "name": "stderr",
     "output_type": "stream",
     "text": [
      "  1%|          | 89/8098 [00:08<14:11,  9.41it/s]"
     ]
    },
    {
     "name": "stdout",
     "output_type": "stream",
     "text": [
      "Error processing c:\\Meet\\Projects\\Project_8_Phoenix_Cervical Cancer Image Classification\\Project-Phoenix\\Dataset\\Preprocessed Dataset\\im_Dyskeratotic\\007_cyt_cyt02.png: name 'greycomatrix' is not defined\n",
      "Error processing c:\\Meet\\Projects\\Project_8_Phoenix_Cervical Cancer Image Classification\\Project-Phoenix\\Dataset\\Preprocessed Dataset\\im_Dyskeratotic\\007_cyt_cyt03.png: name 'greycomatrix' is not defined\n"
     ]
    },
    {
     "name": "stderr",
     "output_type": "stream",
     "text": [
      "  1%|          | 91/8098 [00:09<13:36,  9.80it/s]"
     ]
    },
    {
     "name": "stdout",
     "output_type": "stream",
     "text": [
      "Error processing c:\\Meet\\Projects\\Project_8_Phoenix_Cervical Cancer Image Classification\\Project-Phoenix\\Dataset\\Preprocessed Dataset\\im_Dyskeratotic\\007_cyt_cyt04.png: name 'greycomatrix' is not defined\n",
      "Error processing c:\\Meet\\Projects\\Project_8_Phoenix_Cervical Cancer Image Classification\\Project-Phoenix\\Dataset\\Preprocessed Dataset\\im_Dyskeratotic\\007_nuc_nuc01.png: name 'greycomatrix' is not defined\n",
      "Error processing c:\\Meet\\Projects\\Project_8_Phoenix_Cervical Cancer Image Classification\\Project-Phoenix\\Dataset\\Preprocessed Dataset\\im_Dyskeratotic\\007_nuc_nuc02.png: name 'greycomatrix' is not defined\n"
     ]
    },
    {
     "name": "stderr",
     "output_type": "stream",
     "text": [
      "  1%|          | 93/8098 [00:09<13:23,  9.97it/s]"
     ]
    },
    {
     "name": "stdout",
     "output_type": "stream",
     "text": [
      "Error processing c:\\Meet\\Projects\\Project_8_Phoenix_Cervical Cancer Image Classification\\Project-Phoenix\\Dataset\\Preprocessed Dataset\\im_Dyskeratotic\\007_nuc_nuc03.png: name 'greycomatrix' is not defined\n",
      "Error processing c:\\Meet\\Projects\\Project_8_Phoenix_Cervical Cancer Image Classification\\Project-Phoenix\\Dataset\\Preprocessed Dataset\\im_Dyskeratotic\\007_nuc_nuc04.png: name 'greycomatrix' is not defined\n",
      "Error processing c:\\Meet\\Projects\\Project_8_Phoenix_Cervical Cancer Image Classification\\Project-Phoenix\\Dataset\\Preprocessed Dataset\\im_Dyskeratotic\\008_cyt_cyt01.png: name 'greycomatrix' is not defined\n"
     ]
    },
    {
     "name": "stderr",
     "output_type": "stream",
     "text": [
      "  1%|          | 96/8098 [00:09<13:23,  9.96it/s]"
     ]
    },
    {
     "name": "stdout",
     "output_type": "stream",
     "text": [
      "Error processing c:\\Meet\\Projects\\Project_8_Phoenix_Cervical Cancer Image Classification\\Project-Phoenix\\Dataset\\Preprocessed Dataset\\im_Dyskeratotic\\008_cyt_cyt02.png: name 'greycomatrix' is not defined\n",
      "Error processing c:\\Meet\\Projects\\Project_8_Phoenix_Cervical Cancer Image Classification\\Project-Phoenix\\Dataset\\Preprocessed Dataset\\im_Dyskeratotic\\008_cyt_cyt03.png: name 'greycomatrix' is not defined\n",
      "Error processing c:\\Meet\\Projects\\Project_8_Phoenix_Cervical Cancer Image Classification\\Project-Phoenix\\Dataset\\Preprocessed Dataset\\im_Dyskeratotic\\008_cyt_cyt04.png: name 'greycomatrix' is not defined\n"
     ]
    },
    {
     "name": "stderr",
     "output_type": "stream",
     "text": [
      "  1%|          | 100/8098 [00:10<13:36,  9.79it/s]"
     ]
    },
    {
     "name": "stdout",
     "output_type": "stream",
     "text": [
      "Error processing c:\\Meet\\Projects\\Project_8_Phoenix_Cervical Cancer Image Classification\\Project-Phoenix\\Dataset\\Preprocessed Dataset\\im_Dyskeratotic\\008_cyt_cyt05.png: name 'greycomatrix' is not defined\n",
      "Error processing c:\\Meet\\Projects\\Project_8_Phoenix_Cervical Cancer Image Classification\\Project-Phoenix\\Dataset\\Preprocessed Dataset\\im_Dyskeratotic\\008_cyt_cyt06.png: name 'greycomatrix' is not defined\n"
     ]
    },
    {
     "name": "stderr",
     "output_type": "stream",
     "text": [
      "  1%|          | 101/8098 [00:10<13:40,  9.75it/s]"
     ]
    },
    {
     "name": "stdout",
     "output_type": "stream",
     "text": [
      "Error processing c:\\Meet\\Projects\\Project_8_Phoenix_Cervical Cancer Image Classification\\Project-Phoenix\\Dataset\\Preprocessed Dataset\\im_Dyskeratotic\\008_cyt_cyt07.png: name 'greycomatrix' is not defined\n",
      "Error processing c:\\Meet\\Projects\\Project_8_Phoenix_Cervical Cancer Image Classification\\Project-Phoenix\\Dataset\\Preprocessed Dataset\\im_Dyskeratotic\\008_nuc_nuc01.png: name 'greycomatrix' is not defined\n",
      "Error processing c:\\Meet\\Projects\\Project_8_Phoenix_Cervical Cancer Image Classification\\Project-Phoenix\\Dataset\\Preprocessed Dataset\\im_Dyskeratotic\\008_nuc_nuc02.png: name 'greycomatrix' is not defined\n"
     ]
    },
    {
     "name": "stderr",
     "output_type": "stream",
     "text": [
      "  1%|▏         | 105/8098 [00:10<13:22,  9.96it/s]"
     ]
    },
    {
     "name": "stdout",
     "output_type": "stream",
     "text": [
      "Error processing c:\\Meet\\Projects\\Project_8_Phoenix_Cervical Cancer Image Classification\\Project-Phoenix\\Dataset\\Preprocessed Dataset\\im_Dyskeratotic\\008_nuc_nuc03.png: name 'greycomatrix' is not defined\n",
      "Error processing c:\\Meet\\Projects\\Project_8_Phoenix_Cervical Cancer Image Classification\\Project-Phoenix\\Dataset\\Preprocessed Dataset\\im_Dyskeratotic\\008_nuc_nuc04.png: name 'greycomatrix' is not defined\n",
      "Error processing c:\\Meet\\Projects\\Project_8_Phoenix_Cervical Cancer Image Classification\\Project-Phoenix\\Dataset\\Preprocessed Dataset\\im_Dyskeratotic\\008_nuc_nuc05.png: name 'greycomatrix' is not defined\n"
     ]
    },
    {
     "name": "stderr",
     "output_type": "stream",
     "text": [
      "  1%|▏         | 109/8098 [00:10<12:46, 10.42it/s]"
     ]
    },
    {
     "name": "stdout",
     "output_type": "stream",
     "text": [
      "Error processing c:\\Meet\\Projects\\Project_8_Phoenix_Cervical Cancer Image Classification\\Project-Phoenix\\Dataset\\Preprocessed Dataset\\im_Dyskeratotic\\008_nuc_nuc06.png: name 'greycomatrix' is not defined\n",
      "Error processing c:\\Meet\\Projects\\Project_8_Phoenix_Cervical Cancer Image Classification\\Project-Phoenix\\Dataset\\Preprocessed Dataset\\im_Dyskeratotic\\008_nuc_nuc07.png: name 'greycomatrix' is not defined\n",
      "Error processing c:\\Meet\\Projects\\Project_8_Phoenix_Cervical Cancer Image Classification\\Project-Phoenix\\Dataset\\Preprocessed Dataset\\im_Dyskeratotic\\009_cyt_cyt01.png: name 'greycomatrix' is not defined\n"
     ]
    },
    {
     "name": "stderr",
     "output_type": "stream",
     "text": [
      "  1%|▏         | 111/8098 [00:11<12:39, 10.51it/s]"
     ]
    },
    {
     "name": "stdout",
     "output_type": "stream",
     "text": [
      "Error processing c:\\Meet\\Projects\\Project_8_Phoenix_Cervical Cancer Image Classification\\Project-Phoenix\\Dataset\\Preprocessed Dataset\\im_Dyskeratotic\\009_cyt_cyt02.png: name 'greycomatrix' is not defined\n",
      "Error processing c:\\Meet\\Projects\\Project_8_Phoenix_Cervical Cancer Image Classification\\Project-Phoenix\\Dataset\\Preprocessed Dataset\\im_Dyskeratotic\\009_cyt_cyt03.png: name 'greycomatrix' is not defined\n",
      "Error processing c:\\Meet\\Projects\\Project_8_Phoenix_Cervical Cancer Image Classification\\Project-Phoenix\\Dataset\\Preprocessed Dataset\\im_Dyskeratotic\\009_cyt_cyt04.png: name 'greycomatrix' is not defined\n"
     ]
    },
    {
     "name": "stderr",
     "output_type": "stream",
     "text": [
      "  1%|▏         | 113/8098 [00:11<12:44, 10.44it/s]"
     ]
    },
    {
     "name": "stdout",
     "output_type": "stream",
     "text": [
      "Error processing c:\\Meet\\Projects\\Project_8_Phoenix_Cervical Cancer Image Classification\\Project-Phoenix\\Dataset\\Preprocessed Dataset\\im_Dyskeratotic\\009_cyt_cyt05.png: name 'greycomatrix' is not defined\n",
      "Error processing c:\\Meet\\Projects\\Project_8_Phoenix_Cervical Cancer Image Classification\\Project-Phoenix\\Dataset\\Preprocessed Dataset\\im_Dyskeratotic\\009_cyt_cyt06.png: name 'greycomatrix' is not defined\n",
      "Error processing c:\\Meet\\Projects\\Project_8_Phoenix_Cervical Cancer Image Classification\\Project-Phoenix\\Dataset\\Preprocessed Dataset\\im_Dyskeratotic\\009_cyt_cyt07.png: name 'greycomatrix' is not defined\n"
     ]
    },
    {
     "name": "stderr",
     "output_type": "stream",
     "text": [
      "  1%|▏         | 117/8098 [00:11<12:30, 10.63it/s]"
     ]
    },
    {
     "name": "stdout",
     "output_type": "stream",
     "text": [
      "Error processing c:\\Meet\\Projects\\Project_8_Phoenix_Cervical Cancer Image Classification\\Project-Phoenix\\Dataset\\Preprocessed Dataset\\im_Dyskeratotic\\009_cyt_cyt08.png: name 'greycomatrix' is not defined\n",
      "Error processing c:\\Meet\\Projects\\Project_8_Phoenix_Cervical Cancer Image Classification\\Project-Phoenix\\Dataset\\Preprocessed Dataset\\im_Dyskeratotic\\009_cyt_cyt09.png: name 'greycomatrix' is not defined\n",
      "Error processing c:\\Meet\\Projects\\Project_8_Phoenix_Cervical Cancer Image Classification\\Project-Phoenix\\Dataset\\Preprocessed Dataset\\im_Dyskeratotic\\009_nuc_nuc01.png: name 'greycomatrix' is not defined\n"
     ]
    },
    {
     "name": "stderr",
     "output_type": "stream",
     "text": [
      "  1%|▏         | 119/8098 [00:11<12:19, 10.79it/s]"
     ]
    },
    {
     "name": "stdout",
     "output_type": "stream",
     "text": [
      "Error processing c:\\Meet\\Projects\\Project_8_Phoenix_Cervical Cancer Image Classification\\Project-Phoenix\\Dataset\\Preprocessed Dataset\\im_Dyskeratotic\\009_nuc_nuc02.png: name 'greycomatrix' is not defined\n",
      "Error processing c:\\Meet\\Projects\\Project_8_Phoenix_Cervical Cancer Image Classification\\Project-Phoenix\\Dataset\\Preprocessed Dataset\\im_Dyskeratotic\\009_nuc_nuc03.png: name 'greycomatrix' is not defined\n",
      "Error processing c:\\Meet\\Projects\\Project_8_Phoenix_Cervical Cancer Image Classification\\Project-Phoenix\\Dataset\\Preprocessed Dataset\\im_Dyskeratotic\\009_nuc_nuc04.png: name 'greycomatrix' is not defined\n"
     ]
    },
    {
     "name": "stderr",
     "output_type": "stream",
     "text": [
      "  2%|▏         | 123/8098 [00:12<12:10, 10.92it/s]"
     ]
    },
    {
     "name": "stdout",
     "output_type": "stream",
     "text": [
      "Error processing c:\\Meet\\Projects\\Project_8_Phoenix_Cervical Cancer Image Classification\\Project-Phoenix\\Dataset\\Preprocessed Dataset\\im_Dyskeratotic\\009_nuc_nuc05.png: name 'greycomatrix' is not defined\n",
      "Error processing c:\\Meet\\Projects\\Project_8_Phoenix_Cervical Cancer Image Classification\\Project-Phoenix\\Dataset\\Preprocessed Dataset\\im_Dyskeratotic\\009_nuc_nuc06.png: name 'greycomatrix' is not defined\n",
      "Error processing c:\\Meet\\Projects\\Project_8_Phoenix_Cervical Cancer Image Classification\\Project-Phoenix\\Dataset\\Preprocessed Dataset\\im_Dyskeratotic\\009_nuc_nuc07.png: name 'greycomatrix' is not defined\n"
     ]
    },
    {
     "name": "stderr",
     "output_type": "stream",
     "text": [
      "  2%|▏         | 125/8098 [00:12<11:56, 11.13it/s]"
     ]
    },
    {
     "name": "stdout",
     "output_type": "stream",
     "text": [
      "Error processing c:\\Meet\\Projects\\Project_8_Phoenix_Cervical Cancer Image Classification\\Project-Phoenix\\Dataset\\Preprocessed Dataset\\im_Dyskeratotic\\009_nuc_nuc08.png: name 'greycomatrix' is not defined\n",
      "Error processing c:\\Meet\\Projects\\Project_8_Phoenix_Cervical Cancer Image Classification\\Project-Phoenix\\Dataset\\Preprocessed Dataset\\im_Dyskeratotic\\009_nuc_nuc09.png: name 'greycomatrix' is not defined\n",
      "Error processing c:\\Meet\\Projects\\Project_8_Phoenix_Cervical Cancer Image Classification\\Project-Phoenix\\Dataset\\Preprocessed Dataset\\im_Dyskeratotic\\010_cyt_cyt01.png: name 'greycomatrix' is not defined\n"
     ]
    },
    {
     "name": "stderr",
     "output_type": "stream",
     "text": [
      "  2%|▏         | 129/8098 [00:12<12:28, 10.65it/s]"
     ]
    },
    {
     "name": "stdout",
     "output_type": "stream",
     "text": [
      "Error processing c:\\Meet\\Projects\\Project_8_Phoenix_Cervical Cancer Image Classification\\Project-Phoenix\\Dataset\\Preprocessed Dataset\\im_Dyskeratotic\\010_cyt_cyt02.png: name 'greycomatrix' is not defined\n",
      "Error processing c:\\Meet\\Projects\\Project_8_Phoenix_Cervical Cancer Image Classification\\Project-Phoenix\\Dataset\\Preprocessed Dataset\\im_Dyskeratotic\\010_cyt_cyt03.png: name 'greycomatrix' is not defined\n"
     ]
    },
    {
     "name": "stderr",
     "output_type": "stream",
     "text": [
      "  2%|▏         | 131/8098 [00:12<12:34, 10.56it/s]"
     ]
    },
    {
     "name": "stdout",
     "output_type": "stream",
     "text": [
      "Error processing c:\\Meet\\Projects\\Project_8_Phoenix_Cervical Cancer Image Classification\\Project-Phoenix\\Dataset\\Preprocessed Dataset\\im_Dyskeratotic\\010_cyt_cyt04.png: name 'greycomatrix' is not defined\n",
      "Error processing c:\\Meet\\Projects\\Project_8_Phoenix_Cervical Cancer Image Classification\\Project-Phoenix\\Dataset\\Preprocessed Dataset\\im_Dyskeratotic\\010_cyt_cyt05.png: name 'greycomatrix' is not defined\n",
      "Error processing c:\\Meet\\Projects\\Project_8_Phoenix_Cervical Cancer Image Classification\\Project-Phoenix\\Dataset\\Preprocessed Dataset\\im_Dyskeratotic\\010_cyt_cyt06.png: name 'greycomatrix' is not defined\n"
     ]
    },
    {
     "name": "stderr",
     "output_type": "stream",
     "text": [
      "  2%|▏         | 133/8098 [00:13<12:28, 10.64it/s]"
     ]
    },
    {
     "name": "stdout",
     "output_type": "stream",
     "text": [
      "Error processing c:\\Meet\\Projects\\Project_8_Phoenix_Cervical Cancer Image Classification\\Project-Phoenix\\Dataset\\Preprocessed Dataset\\im_Dyskeratotic\\010_cyt_cyt07.png: name 'greycomatrix' is not defined\n",
      "Error processing c:\\Meet\\Projects\\Project_8_Phoenix_Cervical Cancer Image Classification\\Project-Phoenix\\Dataset\\Preprocessed Dataset\\im_Dyskeratotic\\010_nuc_nuc01.png: name 'greycomatrix' is not defined\n"
     ]
    },
    {
     "name": "stderr",
     "output_type": "stream",
     "text": [
      "  2%|▏         | 135/8098 [00:13<12:58, 10.23it/s]"
     ]
    },
    {
     "name": "stdout",
     "output_type": "stream",
     "text": [
      "Error processing c:\\Meet\\Projects\\Project_8_Phoenix_Cervical Cancer Image Classification\\Project-Phoenix\\Dataset\\Preprocessed Dataset\\im_Dyskeratotic\\010_nuc_nuc02.png: name 'greycomatrix' is not defined\n",
      "Error processing c:\\Meet\\Projects\\Project_8_Phoenix_Cervical Cancer Image Classification\\Project-Phoenix\\Dataset\\Preprocessed Dataset\\im_Dyskeratotic\\010_nuc_nuc03.png: name 'greycomatrix' is not defined\n",
      "Error processing c:\\Meet\\Projects\\Project_8_Phoenix_Cervical Cancer Image Classification\\Project-Phoenix\\Dataset\\Preprocessed Dataset\\im_Dyskeratotic\\010_nuc_nuc04.png: name 'greycomatrix' is not defined\n"
     ]
    },
    {
     "name": "stderr",
     "output_type": "stream",
     "text": [
      "  2%|▏         | 139/8098 [00:13<12:35, 10.53it/s]"
     ]
    },
    {
     "name": "stdout",
     "output_type": "stream",
     "text": [
      "Error processing c:\\Meet\\Projects\\Project_8_Phoenix_Cervical Cancer Image Classification\\Project-Phoenix\\Dataset\\Preprocessed Dataset\\im_Dyskeratotic\\010_nuc_nuc05.png: name 'greycomatrix' is not defined\n",
      "Error processing c:\\Meet\\Projects\\Project_8_Phoenix_Cervical Cancer Image Classification\\Project-Phoenix\\Dataset\\Preprocessed Dataset\\im_Dyskeratotic\\010_nuc_nuc06.png: name 'greycomatrix' is not defined\n",
      "Error processing c:\\Meet\\Projects\\Project_8_Phoenix_Cervical Cancer Image Classification\\Project-Phoenix\\Dataset\\Preprocessed Dataset\\im_Dyskeratotic\\010_nuc_nuc07.png: name 'greycomatrix' is not defined\n"
     ]
    },
    {
     "name": "stderr",
     "output_type": "stream",
     "text": [
      "  2%|▏         | 143/8098 [00:14<12:11, 10.88it/s]"
     ]
    },
    {
     "name": "stdout",
     "output_type": "stream",
     "text": [
      "Error processing c:\\Meet\\Projects\\Project_8_Phoenix_Cervical Cancer Image Classification\\Project-Phoenix\\Dataset\\Preprocessed Dataset\\im_Dyskeratotic\\011_cyt_cyt01.png: name 'greycomatrix' is not defined\n",
      "Error processing c:\\Meet\\Projects\\Project_8_Phoenix_Cervical Cancer Image Classification\\Project-Phoenix\\Dataset\\Preprocessed Dataset\\im_Dyskeratotic\\011_cyt_cyt02.png: name 'greycomatrix' is not defined\n",
      "Error processing c:\\Meet\\Projects\\Project_8_Phoenix_Cervical Cancer Image Classification\\Project-Phoenix\\Dataset\\Preprocessed Dataset\\im_Dyskeratotic\\011_cyt_cyt03.png: name 'greycomatrix' is not defined\n"
     ]
    },
    {
     "name": "stderr",
     "output_type": "stream",
     "text": [
      "  2%|▏         | 145/8098 [00:14<12:18, 10.76it/s]"
     ]
    },
    {
     "name": "stdout",
     "output_type": "stream",
     "text": [
      "Error processing c:\\Meet\\Projects\\Project_8_Phoenix_Cervical Cancer Image Classification\\Project-Phoenix\\Dataset\\Preprocessed Dataset\\im_Dyskeratotic\\011_cyt_cyt04.png: name 'greycomatrix' is not defined\n",
      "Error processing c:\\Meet\\Projects\\Project_8_Phoenix_Cervical Cancer Image Classification\\Project-Phoenix\\Dataset\\Preprocessed Dataset\\im_Dyskeratotic\\011_cyt_cyt05.png: name 'greycomatrix' is not defined\n",
      "Error processing c:\\Meet\\Projects\\Project_8_Phoenix_Cervical Cancer Image Classification\\Project-Phoenix\\Dataset\\Preprocessed Dataset\\im_Dyskeratotic\\011_cyt_cyt06.png: name 'greycomatrix' is not defined\n"
     ]
    },
    {
     "name": "stderr",
     "output_type": "stream",
     "text": [
      "C:\\Users\\meetb\\AppData\\Local\\Temp\\ipykernel_53104\\2748481638.py:97: RuntimeWarning: Mean of empty slice.\n",
      "  ch_means = img_rgb[idx].reshape(-1, 3).mean(axis=0)\n",
      "C:\\Users\\meetb\\AppData\\Local\\Packages\\PythonSoftwareFoundation.Python.3.12_qbz5n2kfra8p0\\LocalCache\\local-packages\\Python312\\site-packages\\numpy\\core\\_methods.py:121: RuntimeWarning: invalid value encountered in divide\n",
      "  ret = um.true_divide(\n",
      "C:\\Users\\meetb\\AppData\\Local\\Packages\\PythonSoftwareFoundation.Python.3.12_qbz5n2kfra8p0\\LocalCache\\local-packages\\Python312\\site-packages\\numpy\\core\\_methods.py:206: RuntimeWarning: Degrees of freedom <= 0 for slice\n",
      "  ret = _var(a, axis=axis, dtype=dtype, out=out, ddof=ddof,\n",
      "C:\\Users\\meetb\\AppData\\Local\\Packages\\PythonSoftwareFoundation.Python.3.12_qbz5n2kfra8p0\\LocalCache\\local-packages\\Python312\\site-packages\\numpy\\core\\_methods.py:163: RuntimeWarning: invalid value encountered in divide\n",
      "  arrmean = um.true_divide(arrmean, div, out=arrmean,\n",
      "C:\\Users\\meetb\\AppData\\Local\\Packages\\PythonSoftwareFoundation.Python.3.12_qbz5n2kfra8p0\\LocalCache\\local-packages\\Python312\\site-packages\\numpy\\core\\_methods.py:195: RuntimeWarning: invalid value encountered in divide\n",
      "  ret = um.true_divide(\n",
      "C:\\Users\\meetb\\AppData\\Local\\Packages\\PythonSoftwareFoundation.Python.3.12_qbz5n2kfra8p0\\LocalCache\\local-packages\\Python312\\site-packages\\numpy\\core\\fromnumeric.py:3504: RuntimeWarning: Mean of empty slice.\n",
      "  return _methods._mean(a, axis=axis, dtype=dtype,\n",
      "C:\\Users\\meetb\\AppData\\Local\\Packages\\PythonSoftwareFoundation.Python.3.12_qbz5n2kfra8p0\\LocalCache\\local-packages\\Python312\\site-packages\\numpy\\core\\_methods.py:129: RuntimeWarning: invalid value encountered in divide\n",
      "  ret = ret.dtype.type(ret / rcount)\n",
      "C:\\Users\\meetb\\AppData\\Local\\Packages\\PythonSoftwareFoundation.Python.3.12_qbz5n2kfra8p0\\LocalCache\\local-packages\\Python312\\site-packages\\numpy\\core\\_methods.py:198: RuntimeWarning: invalid value encountered in divide\n",
      "  ret = ret.dtype.type(ret / rcount)\n",
      "  2%|▏         | 147/8098 [00:14<12:14, 10.83it/s]C:\\Users\\meetb\\AppData\\Local\\Temp\\ipykernel_53104\\2748481638.py:97: RuntimeWarning: Mean of empty slice.\n",
      "  ch_means = img_rgb[idx].reshape(-1, 3).mean(axis=0)\n",
      "C:\\Users\\meetb\\AppData\\Local\\Packages\\PythonSoftwareFoundation.Python.3.12_qbz5n2kfra8p0\\LocalCache\\local-packages\\Python312\\site-packages\\numpy\\core\\_methods.py:121: RuntimeWarning: invalid value encountered in divide\n",
      "  ret = um.true_divide(\n",
      "C:\\Users\\meetb\\AppData\\Local\\Packages\\PythonSoftwareFoundation.Python.3.12_qbz5n2kfra8p0\\LocalCache\\local-packages\\Python312\\site-packages\\numpy\\core\\_methods.py:206: RuntimeWarning: Degrees of freedom <= 0 for slice\n",
      "  ret = _var(a, axis=axis, dtype=dtype, out=out, ddof=ddof,\n",
      "C:\\Users\\meetb\\AppData\\Local\\Packages\\PythonSoftwareFoundation.Python.3.12_qbz5n2kfra8p0\\LocalCache\\local-packages\\Python312\\site-packages\\numpy\\core\\_methods.py:163: RuntimeWarning: invalid value encountered in divide\n",
      "  arrmean = um.true_divide(arrmean, div, out=arrmean,\n",
      "C:\\Users\\meetb\\AppData\\Local\\Packages\\PythonSoftwareFoundation.Python.3.12_qbz5n2kfra8p0\\LocalCache\\local-packages\\Python312\\site-packages\\numpy\\core\\_methods.py:195: RuntimeWarning: invalid value encountered in divide\n",
      "  ret = um.true_divide(\n",
      "C:\\Users\\meetb\\AppData\\Local\\Packages\\PythonSoftwareFoundation.Python.3.12_qbz5n2kfra8p0\\LocalCache\\local-packages\\Python312\\site-packages\\numpy\\core\\fromnumeric.py:3504: RuntimeWarning: Mean of empty slice.\n",
      "  return _methods._mean(a, axis=axis, dtype=dtype,\n",
      "C:\\Users\\meetb\\AppData\\Local\\Packages\\PythonSoftwareFoundation.Python.3.12_qbz5n2kfra8p0\\LocalCache\\local-packages\\Python312\\site-packages\\numpy\\core\\_methods.py:129: RuntimeWarning: invalid value encountered in divide\n",
      "  ret = ret.dtype.type(ret / rcount)\n",
      "C:\\Users\\meetb\\AppData\\Local\\Packages\\PythonSoftwareFoundation.Python.3.12_qbz5n2kfra8p0\\LocalCache\\local-packages\\Python312\\site-packages\\numpy\\core\\_methods.py:198: RuntimeWarning: invalid value encountered in divide\n",
      "  ret = ret.dtype.type(ret / rcount)\n",
      "  2%|▏         | 149/8098 [00:14<12:09, 10.90it/s]"
     ]
    },
    {
     "name": "stdout",
     "output_type": "stream",
     "text": [
      "Error processing c:\\Meet\\Projects\\Project_8_Phoenix_Cervical Cancer Image Classification\\Project-Phoenix\\Dataset\\Preprocessed Dataset\\im_Dyskeratotic\\011_cyt_cyt07.png: name 'greycomatrix' is not defined\n",
      "Error processing c:\\Meet\\Projects\\Project_8_Phoenix_Cervical Cancer Image Classification\\Project-Phoenix\\Dataset\\Preprocessed Dataset\\im_Dyskeratotic\\011_cyt_cyt08.png: name 'greycomatrix' is not defined\n",
      "Error processing c:\\Meet\\Projects\\Project_8_Phoenix_Cervical Cancer Image Classification\\Project-Phoenix\\Dataset\\Preprocessed Dataset\\im_Dyskeratotic\\011_cyt_cyt09.png: name 'greycomatrix' is not defined\n"
     ]
    },
    {
     "name": "stderr",
     "output_type": "stream",
     "text": [
      "  2%|▏         | 151/8098 [00:14<11:56, 11.10it/s]"
     ]
    },
    {
     "name": "stdout",
     "output_type": "stream",
     "text": [
      "Error processing c:\\Meet\\Projects\\Project_8_Phoenix_Cervical Cancer Image Classification\\Project-Phoenix\\Dataset\\Preprocessed Dataset\\im_Dyskeratotic\\011_cyt_cyt10.png: name 'greycomatrix' is not defined\n",
      "Error processing c:\\Meet\\Projects\\Project_8_Phoenix_Cervical Cancer Image Classification\\Project-Phoenix\\Dataset\\Preprocessed Dataset\\im_Dyskeratotic\\011_cyt_cyt11.png: name 'greycomatrix' is not defined\n",
      "Error processing c:\\Meet\\Projects\\Project_8_Phoenix_Cervical Cancer Image Classification\\Project-Phoenix\\Dataset\\Preprocessed Dataset\\im_Dyskeratotic\\011_nuc_nuc01.png: name 'greycomatrix' is not defined\n"
     ]
    },
    {
     "name": "stderr",
     "output_type": "stream",
     "text": [
      "  2%|▏         | 153/8098 [00:14<12:04, 10.96it/s]"
     ]
    },
    {
     "name": "stdout",
     "output_type": "stream",
     "text": [
      "Error processing c:\\Meet\\Projects\\Project_8_Phoenix_Cervical Cancer Image Classification\\Project-Phoenix\\Dataset\\Preprocessed Dataset\\im_Dyskeratotic\\011_nuc_nuc02.png: name 'greycomatrix' is not defined\n",
      "Error processing c:\\Meet\\Projects\\Project_8_Phoenix_Cervical Cancer Image Classification\\Project-Phoenix\\Dataset\\Preprocessed Dataset\\im_Dyskeratotic\\011_nuc_nuc03.png: name 'greycomatrix' is not defined\n",
      "Error processing c:\\Meet\\Projects\\Project_8_Phoenix_Cervical Cancer Image Classification\\Project-Phoenix\\Dataset\\Preprocessed Dataset\\im_Dyskeratotic\\011_nuc_nuc04.png: name 'greycomatrix' is not defined\n"
     ]
    },
    {
     "name": "stderr",
     "output_type": "stream",
     "text": [
      "  2%|▏         | 155/8098 [00:15<12:07, 10.91it/s]C:\\Users\\meetb\\AppData\\Local\\Temp\\ipykernel_53104\\2748481638.py:97: RuntimeWarning: Mean of empty slice.\n",
      "  ch_means = img_rgb[idx].reshape(-1, 3).mean(axis=0)\n",
      "C:\\Users\\meetb\\AppData\\Local\\Packages\\PythonSoftwareFoundation.Python.3.12_qbz5n2kfra8p0\\LocalCache\\local-packages\\Python312\\site-packages\\numpy\\core\\_methods.py:121: RuntimeWarning: invalid value encountered in divide\n",
      "  ret = um.true_divide(\n",
      "C:\\Users\\meetb\\AppData\\Local\\Packages\\PythonSoftwareFoundation.Python.3.12_qbz5n2kfra8p0\\LocalCache\\local-packages\\Python312\\site-packages\\numpy\\core\\_methods.py:206: RuntimeWarning: Degrees of freedom <= 0 for slice\n",
      "  ret = _var(a, axis=axis, dtype=dtype, out=out, ddof=ddof,\n",
      "C:\\Users\\meetb\\AppData\\Local\\Packages\\PythonSoftwareFoundation.Python.3.12_qbz5n2kfra8p0\\LocalCache\\local-packages\\Python312\\site-packages\\numpy\\core\\_methods.py:163: RuntimeWarning: invalid value encountered in divide\n",
      "  arrmean = um.true_divide(arrmean, div, out=arrmean,\n",
      "C:\\Users\\meetb\\AppData\\Local\\Packages\\PythonSoftwareFoundation.Python.3.12_qbz5n2kfra8p0\\LocalCache\\local-packages\\Python312\\site-packages\\numpy\\core\\_methods.py:195: RuntimeWarning: invalid value encountered in divide\n",
      "  ret = um.true_divide(\n",
      "C:\\Users\\meetb\\AppData\\Local\\Packages\\PythonSoftwareFoundation.Python.3.12_qbz5n2kfra8p0\\LocalCache\\local-packages\\Python312\\site-packages\\numpy\\core\\fromnumeric.py:3504: RuntimeWarning: Mean of empty slice.\n",
      "  return _methods._mean(a, axis=axis, dtype=dtype,\n",
      "C:\\Users\\meetb\\AppData\\Local\\Packages\\PythonSoftwareFoundation.Python.3.12_qbz5n2kfra8p0\\LocalCache\\local-packages\\Python312\\site-packages\\numpy\\core\\_methods.py:129: RuntimeWarning: invalid value encountered in divide\n",
      "  ret = ret.dtype.type(ret / rcount)\n",
      "C:\\Users\\meetb\\AppData\\Local\\Packages\\PythonSoftwareFoundation.Python.3.12_qbz5n2kfra8p0\\LocalCache\\local-packages\\Python312\\site-packages\\numpy\\core\\_methods.py:198: RuntimeWarning: invalid value encountered in divide\n",
      "  ret = ret.dtype.type(ret / rcount)\n",
      "  2%|▏         | 157/8098 [00:15<11:47, 11.23it/s]"
     ]
    },
    {
     "name": "stdout",
     "output_type": "stream",
     "text": [
      "Error processing c:\\Meet\\Projects\\Project_8_Phoenix_Cervical Cancer Image Classification\\Project-Phoenix\\Dataset\\Preprocessed Dataset\\im_Dyskeratotic\\011_nuc_nuc05.png: name 'greycomatrix' is not defined\n",
      "Error processing c:\\Meet\\Projects\\Project_8_Phoenix_Cervical Cancer Image Classification\\Project-Phoenix\\Dataset\\Preprocessed Dataset\\im_Dyskeratotic\\011_nuc_nuc06.png: name 'greycomatrix' is not defined\n",
      "Error processing c:\\Meet\\Projects\\Project_8_Phoenix_Cervical Cancer Image Classification\\Project-Phoenix\\Dataset\\Preprocessed Dataset\\im_Dyskeratotic\\011_nuc_nuc07.png: name 'greycomatrix' is not defined\n"
     ]
    },
    {
     "name": "stderr",
     "output_type": "stream",
     "text": [
      "  2%|▏         | 161/8098 [00:15<11:34, 11.43it/s]"
     ]
    },
    {
     "name": "stdout",
     "output_type": "stream",
     "text": [
      "Error processing c:\\Meet\\Projects\\Project_8_Phoenix_Cervical Cancer Image Classification\\Project-Phoenix\\Dataset\\Preprocessed Dataset\\im_Dyskeratotic\\011_nuc_nuc08.png: name 'greycomatrix' is not defined\n",
      "Error processing c:\\Meet\\Projects\\Project_8_Phoenix_Cervical Cancer Image Classification\\Project-Phoenix\\Dataset\\Preprocessed Dataset\\im_Dyskeratotic\\011_nuc_nuc09.png: name 'greycomatrix' is not defined\n",
      "Error processing c:\\Meet\\Projects\\Project_8_Phoenix_Cervical Cancer Image Classification\\Project-Phoenix\\Dataset\\Preprocessed Dataset\\im_Dyskeratotic\\011_nuc_nuc10.png: name 'greycomatrix' is not defined\n"
     ]
    },
    {
     "name": "stderr",
     "output_type": "stream",
     "text": [
      "  2%|▏         | 163/8098 [00:15<11:44, 11.26it/s]"
     ]
    },
    {
     "name": "stdout",
     "output_type": "stream",
     "text": [
      "Error processing c:\\Meet\\Projects\\Project_8_Phoenix_Cervical Cancer Image Classification\\Project-Phoenix\\Dataset\\Preprocessed Dataset\\im_Dyskeratotic\\011_nuc_nuc11.png: name 'greycomatrix' is not defined\n",
      "Error processing c:\\Meet\\Projects\\Project_8_Phoenix_Cervical Cancer Image Classification\\Project-Phoenix\\Dataset\\Preprocessed Dataset\\im_Dyskeratotic\\012_cyt_cyt01.png: name 'greycomatrix' is not defined\n",
      "Error processing c:\\Meet\\Projects\\Project_8_Phoenix_Cervical Cancer Image Classification\\Project-Phoenix\\Dataset\\Preprocessed Dataset\\im_Dyskeratotic\\012_cyt_cyt02.png: name 'greycomatrix' is not defined\n"
     ]
    },
    {
     "name": "stderr",
     "output_type": "stream",
     "text": [
      "C:\\Users\\meetb\\AppData\\Local\\Temp\\ipykernel_53104\\2748481638.py:97: RuntimeWarning: Mean of empty slice.\n",
      "  ch_means = img_rgb[idx].reshape(-1, 3).mean(axis=0)\n",
      "C:\\Users\\meetb\\AppData\\Local\\Packages\\PythonSoftwareFoundation.Python.3.12_qbz5n2kfra8p0\\LocalCache\\local-packages\\Python312\\site-packages\\numpy\\core\\_methods.py:121: RuntimeWarning: invalid value encountered in divide\n",
      "  ret = um.true_divide(\n",
      "C:\\Users\\meetb\\AppData\\Local\\Packages\\PythonSoftwareFoundation.Python.3.12_qbz5n2kfra8p0\\LocalCache\\local-packages\\Python312\\site-packages\\numpy\\core\\_methods.py:206: RuntimeWarning: Degrees of freedom <= 0 for slice\n",
      "  ret = _var(a, axis=axis, dtype=dtype, out=out, ddof=ddof,\n",
      "C:\\Users\\meetb\\AppData\\Local\\Packages\\PythonSoftwareFoundation.Python.3.12_qbz5n2kfra8p0\\LocalCache\\local-packages\\Python312\\site-packages\\numpy\\core\\_methods.py:163: RuntimeWarning: invalid value encountered in divide\n",
      "  arrmean = um.true_divide(arrmean, div, out=arrmean,\n",
      "C:\\Users\\meetb\\AppData\\Local\\Packages\\PythonSoftwareFoundation.Python.3.12_qbz5n2kfra8p0\\LocalCache\\local-packages\\Python312\\site-packages\\numpy\\core\\_methods.py:195: RuntimeWarning: invalid value encountered in divide\n",
      "  ret = um.true_divide(\n",
      "C:\\Users\\meetb\\AppData\\Local\\Packages\\PythonSoftwareFoundation.Python.3.12_qbz5n2kfra8p0\\LocalCache\\local-packages\\Python312\\site-packages\\numpy\\core\\fromnumeric.py:3504: RuntimeWarning: Mean of empty slice.\n",
      "  return _methods._mean(a, axis=axis, dtype=dtype,\n",
      "C:\\Users\\meetb\\AppData\\Local\\Packages\\PythonSoftwareFoundation.Python.3.12_qbz5n2kfra8p0\\LocalCache\\local-packages\\Python312\\site-packages\\numpy\\core\\_methods.py:129: RuntimeWarning: invalid value encountered in divide\n",
      "  ret = ret.dtype.type(ret / rcount)\n",
      "C:\\Users\\meetb\\AppData\\Local\\Packages\\PythonSoftwareFoundation.Python.3.12_qbz5n2kfra8p0\\LocalCache\\local-packages\\Python312\\site-packages\\numpy\\core\\_methods.py:198: RuntimeWarning: invalid value encountered in divide\n",
      "  ret = ret.dtype.type(ret / rcount)\n",
      "  2%|▏         | 167/8098 [00:16<11:49, 11.18it/s]"
     ]
    },
    {
     "name": "stdout",
     "output_type": "stream",
     "text": [
      "Error processing c:\\Meet\\Projects\\Project_8_Phoenix_Cervical Cancer Image Classification\\Project-Phoenix\\Dataset\\Preprocessed Dataset\\im_Dyskeratotic\\012_cyt_cyt03.png: name 'greycomatrix' is not defined\n",
      "Error processing c:\\Meet\\Projects\\Project_8_Phoenix_Cervical Cancer Image Classification\\Project-Phoenix\\Dataset\\Preprocessed Dataset\\im_Dyskeratotic\\012_cyt_cyt04.png: name 'greycomatrix' is not defined\n",
      "Error processing c:\\Meet\\Projects\\Project_8_Phoenix_Cervical Cancer Image Classification\\Project-Phoenix\\Dataset\\Preprocessed Dataset\\im_Dyskeratotic\\012_cyt_cyt05.png: name 'greycomatrix' is not defined\n"
     ]
    },
    {
     "name": "stderr",
     "output_type": "stream",
     "text": [
      "  2%|▏         | 169/8098 [00:16<11:38, 11.35it/s]"
     ]
    },
    {
     "name": "stdout",
     "output_type": "stream",
     "text": [
      "Error processing c:\\Meet\\Projects\\Project_8_Phoenix_Cervical Cancer Image Classification\\Project-Phoenix\\Dataset\\Preprocessed Dataset\\im_Dyskeratotic\\012_nuc_nuc01.png: name 'greycomatrix' is not defined\n",
      "Error processing c:\\Meet\\Projects\\Project_8_Phoenix_Cervical Cancer Image Classification\\Project-Phoenix\\Dataset\\Preprocessed Dataset\\im_Dyskeratotic\\012_nuc_nuc02.png: name 'greycomatrix' is not defined\n",
      "Error processing c:\\Meet\\Projects\\Project_8_Phoenix_Cervical Cancer Image Classification\\Project-Phoenix\\Dataset\\Preprocessed Dataset\\im_Dyskeratotic\\012_nuc_nuc03.png: name 'greycomatrix' is not defined\n"
     ]
    },
    {
     "name": "stderr",
     "output_type": "stream",
     "text": [
      "  2%|▏         | 173/8098 [00:16<11:19, 11.66it/s]"
     ]
    },
    {
     "name": "stdout",
     "output_type": "stream",
     "text": [
      "Error processing c:\\Meet\\Projects\\Project_8_Phoenix_Cervical Cancer Image Classification\\Project-Phoenix\\Dataset\\Preprocessed Dataset\\im_Dyskeratotic\\012_nuc_nuc04.png: name 'greycomatrix' is not defined\n",
      "Error processing c:\\Meet\\Projects\\Project_8_Phoenix_Cervical Cancer Image Classification\\Project-Phoenix\\Dataset\\Preprocessed Dataset\\im_Dyskeratotic\\012_nuc_nuc05.png: name 'greycomatrix' is not defined\n",
      "Error processing c:\\Meet\\Projects\\Project_8_Phoenix_Cervical Cancer Image Classification\\Project-Phoenix\\Dataset\\Preprocessed Dataset\\im_Dyskeratotic\\013_cyt_cyt01.png: name 'greycomatrix' is not defined\n"
     ]
    },
    {
     "name": "stderr",
     "output_type": "stream",
     "text": [
      "  2%|▏         | 175/8098 [00:16<11:40, 11.32it/s]"
     ]
    },
    {
     "name": "stdout",
     "output_type": "stream",
     "text": [
      "Error processing c:\\Meet\\Projects\\Project_8_Phoenix_Cervical Cancer Image Classification\\Project-Phoenix\\Dataset\\Preprocessed Dataset\\im_Dyskeratotic\\013_cyt_cyt02.png: name 'greycomatrix' is not defined\n",
      "Error processing c:\\Meet\\Projects\\Project_8_Phoenix_Cervical Cancer Image Classification\\Project-Phoenix\\Dataset\\Preprocessed Dataset\\im_Dyskeratotic\\013_cyt_cyt03.png: name 'greycomatrix' is not defined\n"
     ]
    },
    {
     "name": "stderr",
     "output_type": "stream",
     "text": [
      "C:\\Users\\meetb\\AppData\\Local\\Temp\\ipykernel_53104\\2748481638.py:97: RuntimeWarning: Mean of empty slice.\n",
      "  ch_means = img_rgb[idx].reshape(-1, 3).mean(axis=0)\n",
      "C:\\Users\\meetb\\AppData\\Local\\Packages\\PythonSoftwareFoundation.Python.3.12_qbz5n2kfra8p0\\LocalCache\\local-packages\\Python312\\site-packages\\numpy\\core\\_methods.py:121: RuntimeWarning: invalid value encountered in divide\n",
      "  ret = um.true_divide(\n",
      "C:\\Users\\meetb\\AppData\\Local\\Packages\\PythonSoftwareFoundation.Python.3.12_qbz5n2kfra8p0\\LocalCache\\local-packages\\Python312\\site-packages\\numpy\\core\\_methods.py:206: RuntimeWarning: Degrees of freedom <= 0 for slice\n",
      "  ret = _var(a, axis=axis, dtype=dtype, out=out, ddof=ddof,\n",
      "C:\\Users\\meetb\\AppData\\Local\\Packages\\PythonSoftwareFoundation.Python.3.12_qbz5n2kfra8p0\\LocalCache\\local-packages\\Python312\\site-packages\\numpy\\core\\_methods.py:163: RuntimeWarning: invalid value encountered in divide\n",
      "  arrmean = um.true_divide(arrmean, div, out=arrmean,\n",
      "C:\\Users\\meetb\\AppData\\Local\\Packages\\PythonSoftwareFoundation.Python.3.12_qbz5n2kfra8p0\\LocalCache\\local-packages\\Python312\\site-packages\\numpy\\core\\_methods.py:195: RuntimeWarning: invalid value encountered in divide\n",
      "  ret = um.true_divide(\n",
      "C:\\Users\\meetb\\AppData\\Local\\Packages\\PythonSoftwareFoundation.Python.3.12_qbz5n2kfra8p0\\LocalCache\\local-packages\\Python312\\site-packages\\numpy\\core\\fromnumeric.py:3504: RuntimeWarning: Mean of empty slice.\n",
      "  return _methods._mean(a, axis=axis, dtype=dtype,\n",
      "C:\\Users\\meetb\\AppData\\Local\\Packages\\PythonSoftwareFoundation.Python.3.12_qbz5n2kfra8p0\\LocalCache\\local-packages\\Python312\\site-packages\\numpy\\core\\_methods.py:129: RuntimeWarning: invalid value encountered in divide\n",
      "  ret = ret.dtype.type(ret / rcount)\n",
      "C:\\Users\\meetb\\AppData\\Local\\Packages\\PythonSoftwareFoundation.Python.3.12_qbz5n2kfra8p0\\LocalCache\\local-packages\\Python312\\site-packages\\numpy\\core\\_methods.py:198: RuntimeWarning: invalid value encountered in divide\n",
      "  ret = ret.dtype.type(ret / rcount)\n",
      "  2%|▏         | 177/8098 [00:17<13:18,  9.92it/s]"
     ]
    },
    {
     "name": "stdout",
     "output_type": "stream",
     "text": [
      "Error processing c:\\Meet\\Projects\\Project_8_Phoenix_Cervical Cancer Image Classification\\Project-Phoenix\\Dataset\\Preprocessed Dataset\\im_Dyskeratotic\\013_cyt_cyt04.png: name 'greycomatrix' is not defined\n",
      "Error processing c:\\Meet\\Projects\\Project_8_Phoenix_Cervical Cancer Image Classification\\Project-Phoenix\\Dataset\\Preprocessed Dataset\\im_Dyskeratotic\\013_cyt_cyt05.png: name 'greycomatrix' is not defined\n",
      "Error processing c:\\Meet\\Projects\\Project_8_Phoenix_Cervical Cancer Image Classification\\Project-Phoenix\\Dataset\\Preprocessed Dataset\\im_Dyskeratotic\\013_cyt_cyt06.png: name 'greycomatrix' is not defined\n"
     ]
    },
    {
     "name": "stderr",
     "output_type": "stream",
     "text": [
      "  2%|▏         | 181/8098 [00:17<12:32, 10.53it/s]"
     ]
    },
    {
     "name": "stdout",
     "output_type": "stream",
     "text": [
      "Error processing c:\\Meet\\Projects\\Project_8_Phoenix_Cervical Cancer Image Classification\\Project-Phoenix\\Dataset\\Preprocessed Dataset\\im_Dyskeratotic\\013_nuc_nuc01.png: name 'greycomatrix' is not defined\n",
      "Error processing c:\\Meet\\Projects\\Project_8_Phoenix_Cervical Cancer Image Classification\\Project-Phoenix\\Dataset\\Preprocessed Dataset\\im_Dyskeratotic\\013_nuc_nuc02.png: name 'greycomatrix' is not defined\n",
      "Error processing c:\\Meet\\Projects\\Project_8_Phoenix_Cervical Cancer Image Classification\\Project-Phoenix\\Dataset\\Preprocessed Dataset\\im_Dyskeratotic\\013_nuc_nuc03.png: name 'greycomatrix' is not defined\n"
     ]
    },
    {
     "name": "stderr",
     "output_type": "stream",
     "text": [
      "  2%|▏         | 183/8098 [00:17<12:10, 10.83it/s]"
     ]
    },
    {
     "name": "stdout",
     "output_type": "stream",
     "text": [
      "Error processing c:\\Meet\\Projects\\Project_8_Phoenix_Cervical Cancer Image Classification\\Project-Phoenix\\Dataset\\Preprocessed Dataset\\im_Dyskeratotic\\013_nuc_nuc04.png: name 'greycomatrix' is not defined\n",
      "Error processing c:\\Meet\\Projects\\Project_8_Phoenix_Cervical Cancer Image Classification\\Project-Phoenix\\Dataset\\Preprocessed Dataset\\im_Dyskeratotic\\013_nuc_nuc05.png: name 'greycomatrix' is not defined\n",
      "Error processing c:\\Meet\\Projects\\Project_8_Phoenix_Cervical Cancer Image Classification\\Project-Phoenix\\Dataset\\Preprocessed Dataset\\im_Dyskeratotic\\013_nuc_nuc06.png: name 'greycomatrix' is not defined\n"
     ]
    },
    {
     "name": "stderr",
     "output_type": "stream",
     "text": [
      "  2%|▏         | 185/8098 [00:17<12:02, 10.96it/s]"
     ]
    },
    {
     "name": "stdout",
     "output_type": "stream",
     "text": [
      "Error processing c:\\Meet\\Projects\\Project_8_Phoenix_Cervical Cancer Image Classification\\Project-Phoenix\\Dataset\\Preprocessed Dataset\\im_Dyskeratotic\\014_cyt_cyt01.png: name 'greycomatrix' is not defined\n",
      "Error processing c:\\Meet\\Projects\\Project_8_Phoenix_Cervical Cancer Image Classification\\Project-Phoenix\\Dataset\\Preprocessed Dataset\\im_Dyskeratotic\\014_cyt_cyt02.png: name 'greycomatrix' is not defined\n",
      "Error processing c:\\Meet\\Projects\\Project_8_Phoenix_Cervical Cancer Image Classification\\Project-Phoenix\\Dataset\\Preprocessed Dataset\\im_Dyskeratotic\\014_cyt_cyt03.png: name 'greycomatrix' is not defined\n"
     ]
    },
    {
     "name": "stderr",
     "output_type": "stream",
     "text": [
      "  2%|▏         | 189/8098 [00:18<11:46, 11.19it/s]"
     ]
    },
    {
     "name": "stdout",
     "output_type": "stream",
     "text": [
      "Error processing c:\\Meet\\Projects\\Project_8_Phoenix_Cervical Cancer Image Classification\\Project-Phoenix\\Dataset\\Preprocessed Dataset\\im_Dyskeratotic\\014_cyt_cyt04.png: name 'greycomatrix' is not defined\n",
      "Error processing c:\\Meet\\Projects\\Project_8_Phoenix_Cervical Cancer Image Classification\\Project-Phoenix\\Dataset\\Preprocessed Dataset\\im_Dyskeratotic\\014_nuc_nuc01.png: name 'greycomatrix' is not defined\n",
      "Error processing c:\\Meet\\Projects\\Project_8_Phoenix_Cervical Cancer Image Classification\\Project-Phoenix\\Dataset\\Preprocessed Dataset\\im_Dyskeratotic\\014_nuc_nuc02.png: name 'greycomatrix' is not defined\n"
     ]
    },
    {
     "name": "stderr",
     "output_type": "stream",
     "text": [
      "  2%|▏         | 193/8098 [00:18<11:21, 11.60it/s]"
     ]
    },
    {
     "name": "stdout",
     "output_type": "stream",
     "text": [
      "Error processing c:\\Meet\\Projects\\Project_8_Phoenix_Cervical Cancer Image Classification\\Project-Phoenix\\Dataset\\Preprocessed Dataset\\im_Dyskeratotic\\014_nuc_nuc03.png: name 'greycomatrix' is not defined\n",
      "Error processing c:\\Meet\\Projects\\Project_8_Phoenix_Cervical Cancer Image Classification\\Project-Phoenix\\Dataset\\Preprocessed Dataset\\im_Dyskeratotic\\014_nuc_nuc04.png: name 'greycomatrix' is not defined\n",
      "Error processing c:\\Meet\\Projects\\Project_8_Phoenix_Cervical Cancer Image Classification\\Project-Phoenix\\Dataset\\Preprocessed Dataset\\im_Dyskeratotic\\015_cyt_cyt01.png: name 'greycomatrix' is not defined\n"
     ]
    },
    {
     "name": "stderr",
     "output_type": "stream",
     "text": [
      "  2%|▏         | 195/8098 [00:18<11:19, 11.62it/s]"
     ]
    },
    {
     "name": "stdout",
     "output_type": "stream",
     "text": [
      "Error processing c:\\Meet\\Projects\\Project_8_Phoenix_Cervical Cancer Image Classification\\Project-Phoenix\\Dataset\\Preprocessed Dataset\\im_Dyskeratotic\\015_cyt_cyt02.png: name 'greycomatrix' is not defined\n",
      "Error processing c:\\Meet\\Projects\\Project_8_Phoenix_Cervical Cancer Image Classification\\Project-Phoenix\\Dataset\\Preprocessed Dataset\\im_Dyskeratotic\\015_cyt_cyt03.png: name 'greycomatrix' is not defined\n",
      "Error processing c:\\Meet\\Projects\\Project_8_Phoenix_Cervical Cancer Image Classification\\Project-Phoenix\\Dataset\\Preprocessed Dataset\\im_Dyskeratotic\\015_cyt_cyt04.png: name 'greycomatrix' is not defined\n"
     ]
    },
    {
     "name": "stderr",
     "output_type": "stream",
     "text": [
      "  2%|▏         | 199/8098 [00:19<11:27, 11.49it/s]"
     ]
    },
    {
     "name": "stdout",
     "output_type": "stream",
     "text": [
      "Error processing c:\\Meet\\Projects\\Project_8_Phoenix_Cervical Cancer Image Classification\\Project-Phoenix\\Dataset\\Preprocessed Dataset\\im_Dyskeratotic\\015_cyt_cyt05.png: name 'greycomatrix' is not defined\n",
      "Error processing c:\\Meet\\Projects\\Project_8_Phoenix_Cervical Cancer Image Classification\\Project-Phoenix\\Dataset\\Preprocessed Dataset\\im_Dyskeratotic\\015_nuc_nuc01.png: name 'greycomatrix' is not defined\n",
      "Error processing c:\\Meet\\Projects\\Project_8_Phoenix_Cervical Cancer Image Classification\\Project-Phoenix\\Dataset\\Preprocessed Dataset\\im_Dyskeratotic\\015_nuc_nuc02.png: name 'greycomatrix' is not defined\n"
     ]
    },
    {
     "name": "stderr",
     "output_type": "stream",
     "text": [
      "  2%|▏         | 201/8098 [00:19<11:23, 11.56it/s]"
     ]
    },
    {
     "name": "stdout",
     "output_type": "stream",
     "text": [
      "Error processing c:\\Meet\\Projects\\Project_8_Phoenix_Cervical Cancer Image Classification\\Project-Phoenix\\Dataset\\Preprocessed Dataset\\im_Dyskeratotic\\015_nuc_nuc03.png: name 'greycomatrix' is not defined\n",
      "Error processing c:\\Meet\\Projects\\Project_8_Phoenix_Cervical Cancer Image Classification\\Project-Phoenix\\Dataset\\Preprocessed Dataset\\im_Dyskeratotic\\015_nuc_nuc04.png: name 'greycomatrix' is not defined\n",
      "Error processing c:\\Meet\\Projects\\Project_8_Phoenix_Cervical Cancer Image Classification\\Project-Phoenix\\Dataset\\Preprocessed Dataset\\im_Dyskeratotic\\015_nuc_nuc05.png: name 'greycomatrix' is not defined\n"
     ]
    },
    {
     "name": "stderr",
     "output_type": "stream",
     "text": [
      "  3%|▎         | 203/8098 [00:19<11:29, 11.45it/s]"
     ]
    },
    {
     "name": "stdout",
     "output_type": "stream",
     "text": [
      "Error processing c:\\Meet\\Projects\\Project_8_Phoenix_Cervical Cancer Image Classification\\Project-Phoenix\\Dataset\\Preprocessed Dataset\\im_Dyskeratotic\\016_cyt_cyt01.png: name 'greycomatrix' is not defined\n",
      "Error processing c:\\Meet\\Projects\\Project_8_Phoenix_Cervical Cancer Image Classification\\Project-Phoenix\\Dataset\\Preprocessed Dataset\\im_Dyskeratotic\\016_cyt_cyt02.png: name 'greycomatrix' is not defined\n"
     ]
    },
    {
     "name": "stderr",
     "output_type": "stream",
     "text": [
      "  3%|▎         | 207/8098 [00:19<11:52, 11.08it/s]"
     ]
    },
    {
     "name": "stdout",
     "output_type": "stream",
     "text": [
      "Error processing c:\\Meet\\Projects\\Project_8_Phoenix_Cervical Cancer Image Classification\\Project-Phoenix\\Dataset\\Preprocessed Dataset\\im_Dyskeratotic\\016_cyt_cyt03.png: name 'greycomatrix' is not defined\n",
      "Error processing c:\\Meet\\Projects\\Project_8_Phoenix_Cervical Cancer Image Classification\\Project-Phoenix\\Dataset\\Preprocessed Dataset\\im_Dyskeratotic\\016_cyt_cyt04.png: name 'greycomatrix' is not defined\n",
      "Error processing c:\\Meet\\Projects\\Project_8_Phoenix_Cervical Cancer Image Classification\\Project-Phoenix\\Dataset\\Preprocessed Dataset\\im_Dyskeratotic\\016_nuc_nuc01.png: name 'greycomatrix' is not defined\n"
     ]
    },
    {
     "name": "stderr",
     "output_type": "stream",
     "text": [
      "  3%|▎         | 209/8098 [00:20<11:55, 11.02it/s]"
     ]
    },
    {
     "name": "stdout",
     "output_type": "stream",
     "text": [
      "Error processing c:\\Meet\\Projects\\Project_8_Phoenix_Cervical Cancer Image Classification\\Project-Phoenix\\Dataset\\Preprocessed Dataset\\im_Dyskeratotic\\016_nuc_nuc02.png: name 'greycomatrix' is not defined\n",
      "Error processing c:\\Meet\\Projects\\Project_8_Phoenix_Cervical Cancer Image Classification\\Project-Phoenix\\Dataset\\Preprocessed Dataset\\im_Dyskeratotic\\016_nuc_nuc03.png: name 'greycomatrix' is not defined\n",
      "Error processing c:\\Meet\\Projects\\Project_8_Phoenix_Cervical Cancer Image Classification\\Project-Phoenix\\Dataset\\Preprocessed Dataset\\im_Dyskeratotic\\016_nuc_nuc04.png: name 'greycomatrix' is not defined\n"
     ]
    },
    {
     "name": "stderr",
     "output_type": "stream",
     "text": [
      "  3%|▎         | 211/8098 [00:20<12:04, 10.89it/s]"
     ]
    },
    {
     "name": "stdout",
     "output_type": "stream",
     "text": [
      "Error processing c:\\Meet\\Projects\\Project_8_Phoenix_Cervical Cancer Image Classification\\Project-Phoenix\\Dataset\\Preprocessed Dataset\\im_Dyskeratotic\\017_cyt_cyt01.png: name 'greycomatrix' is not defined\n",
      "Error processing c:\\Meet\\Projects\\Project_8_Phoenix_Cervical Cancer Image Classification\\Project-Phoenix\\Dataset\\Preprocessed Dataset\\im_Dyskeratotic\\017_nuc_nuc01.png: name 'greycomatrix' is not defined\n",
      "Error processing c:\\Meet\\Projects\\Project_8_Phoenix_Cervical Cancer Image Classification\\Project-Phoenix\\Dataset\\Preprocessed Dataset\\im_Dyskeratotic\\018_cyt_cyt01.png: name 'greycomatrix' is not defined\n"
     ]
    },
    {
     "name": "stderr",
     "output_type": "stream",
     "text": [
      "  3%|▎         | 215/8098 [00:20<12:57, 10.14it/s]"
     ]
    },
    {
     "name": "stdout",
     "output_type": "stream",
     "text": [
      "Error processing c:\\Meet\\Projects\\Project_8_Phoenix_Cervical Cancer Image Classification\\Project-Phoenix\\Dataset\\Preprocessed Dataset\\im_Dyskeratotic\\018_cyt_cyt02.png: name 'greycomatrix' is not defined\n",
      "Error processing c:\\Meet\\Projects\\Project_8_Phoenix_Cervical Cancer Image Classification\\Project-Phoenix\\Dataset\\Preprocessed Dataset\\im_Dyskeratotic\\018_cyt_cyt03.png: name 'greycomatrix' is not defined\n",
      "Error processing c:\\Meet\\Projects\\Project_8_Phoenix_Cervical Cancer Image Classification\\Project-Phoenix\\Dataset\\Preprocessed Dataset\\im_Dyskeratotic\\018_nuc_nuc01.png: name 'greycomatrix' is not defined\n"
     ]
    },
    {
     "name": "stderr",
     "output_type": "stream",
     "text": [
      "  3%|▎         | 219/8098 [00:20<12:04, 10.88it/s]"
     ]
    },
    {
     "name": "stdout",
     "output_type": "stream",
     "text": [
      "Error processing c:\\Meet\\Projects\\Project_8_Phoenix_Cervical Cancer Image Classification\\Project-Phoenix\\Dataset\\Preprocessed Dataset\\im_Dyskeratotic\\018_nuc_nuc02.png: name 'greycomatrix' is not defined\n",
      "Error processing c:\\Meet\\Projects\\Project_8_Phoenix_Cervical Cancer Image Classification\\Project-Phoenix\\Dataset\\Preprocessed Dataset\\im_Dyskeratotic\\018_nuc_nuc03.png: name 'greycomatrix' is not defined\n",
      "Error processing c:\\Meet\\Projects\\Project_8_Phoenix_Cervical Cancer Image Classification\\Project-Phoenix\\Dataset\\Preprocessed Dataset\\im_Dyskeratotic\\019_cyt_cyt01.png: name 'greycomatrix' is not defined\n"
     ]
    },
    {
     "name": "stderr",
     "output_type": "stream",
     "text": [
      "  3%|▎         | 221/8098 [00:21<11:57, 10.98it/s]"
     ]
    },
    {
     "name": "stdout",
     "output_type": "stream",
     "text": [
      "Error processing c:\\Meet\\Projects\\Project_8_Phoenix_Cervical Cancer Image Classification\\Project-Phoenix\\Dataset\\Preprocessed Dataset\\im_Dyskeratotic\\019_cyt_cyt02.png: name 'greycomatrix' is not defined\n",
      "Error processing c:\\Meet\\Projects\\Project_8_Phoenix_Cervical Cancer Image Classification\\Project-Phoenix\\Dataset\\Preprocessed Dataset\\im_Dyskeratotic\\019_cyt_cyt03.png: name 'greycomatrix' is not defined\n",
      "Error processing c:\\Meet\\Projects\\Project_8_Phoenix_Cervical Cancer Image Classification\\Project-Phoenix\\Dataset\\Preprocessed Dataset\\im_Dyskeratotic\\019_cyt_cyt04.png: name 'greycomatrix' is not defined\n"
     ]
    },
    {
     "name": "stderr",
     "output_type": "stream",
     "text": [
      "  3%|▎         | 223/8098 [00:21<12:17, 10.68it/s]"
     ]
    },
    {
     "name": "stdout",
     "output_type": "stream",
     "text": [
      "Error processing c:\\Meet\\Projects\\Project_8_Phoenix_Cervical Cancer Image Classification\\Project-Phoenix\\Dataset\\Preprocessed Dataset\\im_Dyskeratotic\\019_cyt_cyt05.png: name 'greycomatrix' is not defined\n",
      "Error processing c:\\Meet\\Projects\\Project_8_Phoenix_Cervical Cancer Image Classification\\Project-Phoenix\\Dataset\\Preprocessed Dataset\\im_Dyskeratotic\\019_cyt_cyt06.png: name 'greycomatrix' is not defined\n",
      "Error processing c:\\Meet\\Projects\\Project_8_Phoenix_Cervical Cancer Image Classification\\Project-Phoenix\\Dataset\\Preprocessed Dataset\\im_Dyskeratotic\\019_cyt_cyt07.png: name 'greycomatrix' is not defined\n"
     ]
    },
    {
     "name": "stderr",
     "output_type": "stream",
     "text": [
      "  3%|▎         | 227/8098 [00:21<12:01, 10.91it/s]"
     ]
    },
    {
     "name": "stdout",
     "output_type": "stream",
     "text": [
      "Error processing c:\\Meet\\Projects\\Project_8_Phoenix_Cervical Cancer Image Classification\\Project-Phoenix\\Dataset\\Preprocessed Dataset\\im_Dyskeratotic\\019_nuc_nuc01.png: name 'greycomatrix' is not defined\n",
      "Error processing c:\\Meet\\Projects\\Project_8_Phoenix_Cervical Cancer Image Classification\\Project-Phoenix\\Dataset\\Preprocessed Dataset\\im_Dyskeratotic\\019_nuc_nuc02.png: name 'greycomatrix' is not defined\n",
      "Error processing c:\\Meet\\Projects\\Project_8_Phoenix_Cervical Cancer Image Classification\\Project-Phoenix\\Dataset\\Preprocessed Dataset\\im_Dyskeratotic\\019_nuc_nuc03.png: name 'greycomatrix' is not defined\n"
     ]
    },
    {
     "name": "stderr",
     "output_type": "stream",
     "text": [
      "  3%|▎         | 231/8098 [00:22<12:19, 10.64it/s]"
     ]
    },
    {
     "name": "stdout",
     "output_type": "stream",
     "text": [
      "Error processing c:\\Meet\\Projects\\Project_8_Phoenix_Cervical Cancer Image Classification\\Project-Phoenix\\Dataset\\Preprocessed Dataset\\im_Dyskeratotic\\019_nuc_nuc04.png: name 'greycomatrix' is not defined\n",
      "Error processing c:\\Meet\\Projects\\Project_8_Phoenix_Cervical Cancer Image Classification\\Project-Phoenix\\Dataset\\Preprocessed Dataset\\im_Dyskeratotic\\019_nuc_nuc05.png: name 'greycomatrix' is not defined\n",
      "Error processing c:\\Meet\\Projects\\Project_8_Phoenix_Cervical Cancer Image Classification\\Project-Phoenix\\Dataset\\Preprocessed Dataset\\im_Dyskeratotic\\019_nuc_nuc06.png: name 'greycomatrix' is not defined\n"
     ]
    },
    {
     "name": "stderr",
     "output_type": "stream",
     "text": [
      "  3%|▎         | 233/8098 [00:22<12:08, 10.80it/s]"
     ]
    },
    {
     "name": "stdout",
     "output_type": "stream",
     "text": [
      "Error processing c:\\Meet\\Projects\\Project_8_Phoenix_Cervical Cancer Image Classification\\Project-Phoenix\\Dataset\\Preprocessed Dataset\\im_Dyskeratotic\\019_nuc_nuc07.png: name 'greycomatrix' is not defined\n",
      "Error processing c:\\Meet\\Projects\\Project_8_Phoenix_Cervical Cancer Image Classification\\Project-Phoenix\\Dataset\\Preprocessed Dataset\\im_Dyskeratotic\\020_cyt_cyt01.png: name 'greycomatrix' is not defined\n",
      "Error processing c:\\Meet\\Projects\\Project_8_Phoenix_Cervical Cancer Image Classification\\Project-Phoenix\\Dataset\\Preprocessed Dataset\\im_Dyskeratotic\\020_cyt_cyt02.png: name 'greycomatrix' is not defined\n"
     ]
    },
    {
     "name": "stderr",
     "output_type": "stream",
     "text": [
      "  3%|▎         | 235/8098 [00:22<12:21, 10.60it/s]"
     ]
    },
    {
     "name": "stdout",
     "output_type": "stream",
     "text": [
      "Error processing c:\\Meet\\Projects\\Project_8_Phoenix_Cervical Cancer Image Classification\\Project-Phoenix\\Dataset\\Preprocessed Dataset\\im_Dyskeratotic\\020_cyt_cyt03.png: name 'greycomatrix' is not defined\n",
      "Error processing c:\\Meet\\Projects\\Project_8_Phoenix_Cervical Cancer Image Classification\\Project-Phoenix\\Dataset\\Preprocessed Dataset\\im_Dyskeratotic\\020_nuc_nuc01.png: name 'greycomatrix' is not defined\n",
      "Error processing c:\\Meet\\Projects\\Project_8_Phoenix_Cervical Cancer Image Classification\\Project-Phoenix\\Dataset\\Preprocessed Dataset\\im_Dyskeratotic\\020_nuc_nuc02.png: name 'greycomatrix' is not defined\n"
     ]
    },
    {
     "name": "stderr",
     "output_type": "stream",
     "text": [
      "  3%|▎         | 239/8098 [00:22<12:50, 10.20it/s]"
     ]
    },
    {
     "name": "stdout",
     "output_type": "stream",
     "text": [
      "Error processing c:\\Meet\\Projects\\Project_8_Phoenix_Cervical Cancer Image Classification\\Project-Phoenix\\Dataset\\Preprocessed Dataset\\im_Dyskeratotic\\020_nuc_nuc03.png: name 'greycomatrix' is not defined\n",
      "Error processing c:\\Meet\\Projects\\Project_8_Phoenix_Cervical Cancer Image Classification\\Project-Phoenix\\Dataset\\Preprocessed Dataset\\im_Dyskeratotic\\021_cyt_cyt01.png: name 'greycomatrix' is not defined\n",
      "Error processing c:\\Meet\\Projects\\Project_8_Phoenix_Cervical Cancer Image Classification\\Project-Phoenix\\Dataset\\Preprocessed Dataset\\im_Dyskeratotic\\021_cyt_cyt02.png: name 'greycomatrix' is not defined\n"
     ]
    },
    {
     "name": "stderr",
     "output_type": "stream",
     "text": [
      "  3%|▎         | 243/8098 [00:23<12:03, 10.86it/s]"
     ]
    },
    {
     "name": "stdout",
     "output_type": "stream",
     "text": [
      "Error processing c:\\Meet\\Projects\\Project_8_Phoenix_Cervical Cancer Image Classification\\Project-Phoenix\\Dataset\\Preprocessed Dataset\\im_Dyskeratotic\\021_nuc_nuc01.png: name 'greycomatrix' is not defined\n",
      "Error processing c:\\Meet\\Projects\\Project_8_Phoenix_Cervical Cancer Image Classification\\Project-Phoenix\\Dataset\\Preprocessed Dataset\\im_Dyskeratotic\\021_nuc_nuc02.png: name 'greycomatrix' is not defined\n",
      "Error processing c:\\Meet\\Projects\\Project_8_Phoenix_Cervical Cancer Image Classification\\Project-Phoenix\\Dataset\\Preprocessed Dataset\\im_Dyskeratotic\\022_cyt_cyt01.png: name 'greycomatrix' is not defined\n"
     ]
    },
    {
     "name": "stderr",
     "output_type": "stream",
     "text": [
      "  3%|▎         | 245/8098 [00:23<11:53, 11.01it/s]"
     ]
    },
    {
     "name": "stdout",
     "output_type": "stream",
     "text": [
      "Error processing c:\\Meet\\Projects\\Project_8_Phoenix_Cervical Cancer Image Classification\\Project-Phoenix\\Dataset\\Preprocessed Dataset\\im_Dyskeratotic\\022_cyt_cyt02.png: name 'greycomatrix' is not defined\n",
      "Error processing c:\\Meet\\Projects\\Project_8_Phoenix_Cervical Cancer Image Classification\\Project-Phoenix\\Dataset\\Preprocessed Dataset\\im_Dyskeratotic\\022_cyt_cyt03.png: name 'greycomatrix' is not defined\n",
      "Error processing c:\\Meet\\Projects\\Project_8_Phoenix_Cervical Cancer Image Classification\\Project-Phoenix\\Dataset\\Preprocessed Dataset\\im_Dyskeratotic\\022_cyt_cyt04.png: name 'greycomatrix' is not defined\n"
     ]
    },
    {
     "name": "stderr",
     "output_type": "stream",
     "text": [
      "  3%|▎         | 247/8098 [00:23<12:14, 10.69it/s]"
     ]
    },
    {
     "name": "stdout",
     "output_type": "stream",
     "text": [
      "Error processing c:\\Meet\\Projects\\Project_8_Phoenix_Cervical Cancer Image Classification\\Project-Phoenix\\Dataset\\Preprocessed Dataset\\im_Dyskeratotic\\022_nuc_nuc01.png: name 'greycomatrix' is not defined\n",
      "Error processing c:\\Meet\\Projects\\Project_8_Phoenix_Cervical Cancer Image Classification\\Project-Phoenix\\Dataset\\Preprocessed Dataset\\im_Dyskeratotic\\022_nuc_nuc02.png: name 'greycomatrix' is not defined\n",
      "Error processing c:\\Meet\\Projects\\Project_8_Phoenix_Cervical Cancer Image Classification\\Project-Phoenix\\Dataset\\Preprocessed Dataset\\im_Dyskeratotic\\022_nuc_nuc03.png: name 'greycomatrix' is not defined\n"
     ]
    },
    {
     "name": "stderr",
     "output_type": "stream",
     "text": [
      "  3%|▎         | 251/8098 [00:23<12:35, 10.39it/s]"
     ]
    },
    {
     "name": "stdout",
     "output_type": "stream",
     "text": [
      "Error processing c:\\Meet\\Projects\\Project_8_Phoenix_Cervical Cancer Image Classification\\Project-Phoenix\\Dataset\\Preprocessed Dataset\\im_Dyskeratotic\\022_nuc_nuc04.png: name 'greycomatrix' is not defined\n",
      "Error processing c:\\Meet\\Projects\\Project_8_Phoenix_Cervical Cancer Image Classification\\Project-Phoenix\\Dataset\\Preprocessed Dataset\\im_Dyskeratotic\\023_cyt_cyt01.png: name 'greycomatrix' is not defined\n"
     ]
    },
    {
     "name": "stderr",
     "output_type": "stream",
     "text": [
      "  3%|▎         | 253/8098 [00:24<14:04,  9.29it/s]"
     ]
    },
    {
     "name": "stdout",
     "output_type": "stream",
     "text": [
      "Error processing c:\\Meet\\Projects\\Project_8_Phoenix_Cervical Cancer Image Classification\\Project-Phoenix\\Dataset\\Preprocessed Dataset\\im_Dyskeratotic\\023_cyt_cyt02.png: name 'greycomatrix' is not defined\n",
      "Error processing c:\\Meet\\Projects\\Project_8_Phoenix_Cervical Cancer Image Classification\\Project-Phoenix\\Dataset\\Preprocessed Dataset\\im_Dyskeratotic\\023_cyt_cyt03.png: name 'greycomatrix' is not defined\n"
     ]
    },
    {
     "name": "stderr",
     "output_type": "stream",
     "text": [
      "  3%|▎         | 254/8098 [00:24<14:13,  9.19it/s]"
     ]
    },
    {
     "name": "stdout",
     "output_type": "stream",
     "text": [
      "Error processing c:\\Meet\\Projects\\Project_8_Phoenix_Cervical Cancer Image Classification\\Project-Phoenix\\Dataset\\Preprocessed Dataset\\im_Dyskeratotic\\023_cyt_cyt04.png: name 'greycomatrix' is not defined\n",
      "Error processing c:\\Meet\\Projects\\Project_8_Phoenix_Cervical Cancer Image Classification\\Project-Phoenix\\Dataset\\Preprocessed Dataset\\im_Dyskeratotic\\023_cyt_cyt05.png: name 'greycomatrix' is not defined\n",
      "Error processing c:\\Meet\\Projects\\Project_8_Phoenix_Cervical Cancer Image Classification\\Project-Phoenix\\Dataset\\Preprocessed Dataset\\im_Dyskeratotic\\023_nuc_nuc01.png: name 'greycomatrix' is not defined\n"
     ]
    },
    {
     "name": "stderr",
     "output_type": "stream",
     "text": [
      "  3%|▎         | 258/8098 [00:24<12:59, 10.06it/s]"
     ]
    },
    {
     "name": "stdout",
     "output_type": "stream",
     "text": [
      "Error processing c:\\Meet\\Projects\\Project_8_Phoenix_Cervical Cancer Image Classification\\Project-Phoenix\\Dataset\\Preprocessed Dataset\\im_Dyskeratotic\\023_nuc_nuc02.png: name 'greycomatrix' is not defined\n",
      "Error processing c:\\Meet\\Projects\\Project_8_Phoenix_Cervical Cancer Image Classification\\Project-Phoenix\\Dataset\\Preprocessed Dataset\\im_Dyskeratotic\\023_nuc_nuc03.png: name 'greycomatrix' is not defined\n",
      "Error processing c:\\Meet\\Projects\\Project_8_Phoenix_Cervical Cancer Image Classification\\Project-Phoenix\\Dataset\\Preprocessed Dataset\\im_Dyskeratotic\\023_nuc_nuc04.png: name 'greycomatrix' is not defined\n"
     ]
    },
    {
     "name": "stderr",
     "output_type": "stream",
     "text": [
      "  3%|▎         | 260/8098 [00:24<12:43, 10.27it/s]"
     ]
    },
    {
     "name": "stdout",
     "output_type": "stream",
     "text": [
      "Error processing c:\\Meet\\Projects\\Project_8_Phoenix_Cervical Cancer Image Classification\\Project-Phoenix\\Dataset\\Preprocessed Dataset\\im_Dyskeratotic\\023_nuc_nuc05.png: name 'greycomatrix' is not defined\n",
      "Error processing c:\\Meet\\Projects\\Project_8_Phoenix_Cervical Cancer Image Classification\\Project-Phoenix\\Dataset\\Preprocessed Dataset\\im_Dyskeratotic\\024_cyt_cyt01.png: name 'greycomatrix' is not defined\n",
      "Error processing c:\\Meet\\Projects\\Project_8_Phoenix_Cervical Cancer Image Classification\\Project-Phoenix\\Dataset\\Preprocessed Dataset\\im_Dyskeratotic\\024_cyt_cyt02.png: name 'greycomatrix' is not defined\n"
     ]
    },
    {
     "name": "stderr",
     "output_type": "stream",
     "text": [
      "  3%|▎         | 262/8098 [00:25<12:18, 10.61it/s]C:\\Users\\meetb\\AppData\\Local\\Temp\\ipykernel_53104\\2748481638.py:97: RuntimeWarning: Mean of empty slice.\n",
      "  ch_means = img_rgb[idx].reshape(-1, 3).mean(axis=0)\n",
      "C:\\Users\\meetb\\AppData\\Local\\Packages\\PythonSoftwareFoundation.Python.3.12_qbz5n2kfra8p0\\LocalCache\\local-packages\\Python312\\site-packages\\numpy\\core\\_methods.py:121: RuntimeWarning: invalid value encountered in divide\n",
      "  ret = um.true_divide(\n",
      "C:\\Users\\meetb\\AppData\\Local\\Packages\\PythonSoftwareFoundation.Python.3.12_qbz5n2kfra8p0\\LocalCache\\local-packages\\Python312\\site-packages\\numpy\\core\\_methods.py:206: RuntimeWarning: Degrees of freedom <= 0 for slice\n",
      "  ret = _var(a, axis=axis, dtype=dtype, out=out, ddof=ddof,\n",
      "C:\\Users\\meetb\\AppData\\Local\\Packages\\PythonSoftwareFoundation.Python.3.12_qbz5n2kfra8p0\\LocalCache\\local-packages\\Python312\\site-packages\\numpy\\core\\_methods.py:163: RuntimeWarning: invalid value encountered in divide\n",
      "  arrmean = um.true_divide(arrmean, div, out=arrmean,\n",
      "C:\\Users\\meetb\\AppData\\Local\\Packages\\PythonSoftwareFoundation.Python.3.12_qbz5n2kfra8p0\\LocalCache\\local-packages\\Python312\\site-packages\\numpy\\core\\_methods.py:195: RuntimeWarning: invalid value encountered in divide\n",
      "  ret = um.true_divide(\n",
      "C:\\Users\\meetb\\AppData\\Local\\Packages\\PythonSoftwareFoundation.Python.3.12_qbz5n2kfra8p0\\LocalCache\\local-packages\\Python312\\site-packages\\numpy\\core\\fromnumeric.py:3504: RuntimeWarning: Mean of empty slice.\n",
      "  return _methods._mean(a, axis=axis, dtype=dtype,\n",
      "C:\\Users\\meetb\\AppData\\Local\\Packages\\PythonSoftwareFoundation.Python.3.12_qbz5n2kfra8p0\\LocalCache\\local-packages\\Python312\\site-packages\\numpy\\core\\_methods.py:129: RuntimeWarning: invalid value encountered in divide\n",
      "  ret = ret.dtype.type(ret / rcount)\n",
      "C:\\Users\\meetb\\AppData\\Local\\Packages\\PythonSoftwareFoundation.Python.3.12_qbz5n2kfra8p0\\LocalCache\\local-packages\\Python312\\site-packages\\numpy\\core\\_methods.py:198: RuntimeWarning: invalid value encountered in divide\n",
      "  ret = ret.dtype.type(ret / rcount)\n",
      "  3%|▎         | 264/8098 [00:25<12:26, 10.50it/s]"
     ]
    },
    {
     "name": "stdout",
     "output_type": "stream",
     "text": [
      "Error processing c:\\Meet\\Projects\\Project_8_Phoenix_Cervical Cancer Image Classification\\Project-Phoenix\\Dataset\\Preprocessed Dataset\\im_Dyskeratotic\\024_cyt_cyt03.png: name 'greycomatrix' is not defined\n",
      "Error processing c:\\Meet\\Projects\\Project_8_Phoenix_Cervical Cancer Image Classification\\Project-Phoenix\\Dataset\\Preprocessed Dataset\\im_Dyskeratotic\\024_cyt_cyt04.png: name 'greycomatrix' is not defined\n",
      "Error processing c:\\Meet\\Projects\\Project_8_Phoenix_Cervical Cancer Image Classification\\Project-Phoenix\\Dataset\\Preprocessed Dataset\\im_Dyskeratotic\\024_cyt_cyt05.png: name 'greycomatrix' is not defined\n"
     ]
    },
    {
     "name": "stderr",
     "output_type": "stream",
     "text": [
      "  3%|▎         | 268/8098 [00:25<12:00, 10.87it/s]"
     ]
    },
    {
     "name": "stdout",
     "output_type": "stream",
     "text": [
      "Error processing c:\\Meet\\Projects\\Project_8_Phoenix_Cervical Cancer Image Classification\\Project-Phoenix\\Dataset\\Preprocessed Dataset\\im_Dyskeratotic\\024_cyt_cyt06.png: name 'greycomatrix' is not defined\n",
      "Error processing c:\\Meet\\Projects\\Project_8_Phoenix_Cervical Cancer Image Classification\\Project-Phoenix\\Dataset\\Preprocessed Dataset\\im_Dyskeratotic\\024_cyt_cyt07.png: name 'greycomatrix' is not defined\n",
      "Error processing c:\\Meet\\Projects\\Project_8_Phoenix_Cervical Cancer Image Classification\\Project-Phoenix\\Dataset\\Preprocessed Dataset\\im_Dyskeratotic\\024_cyt_cyt08.png: name 'greycomatrix' is not defined\n"
     ]
    },
    {
     "name": "stderr",
     "output_type": "stream",
     "text": [
      "  3%|▎         | 270/8098 [00:25<11:43, 11.13it/s]"
     ]
    },
    {
     "name": "stdout",
     "output_type": "stream",
     "text": [
      "Error processing c:\\Meet\\Projects\\Project_8_Phoenix_Cervical Cancer Image Classification\\Project-Phoenix\\Dataset\\Preprocessed Dataset\\im_Dyskeratotic\\024_nuc_nuc01.png: name 'greycomatrix' is not defined\n",
      "Error processing c:\\Meet\\Projects\\Project_8_Phoenix_Cervical Cancer Image Classification\\Project-Phoenix\\Dataset\\Preprocessed Dataset\\im_Dyskeratotic\\024_nuc_nuc02.png: name 'greycomatrix' is not defined\n"
     ]
    },
    {
     "name": "stderr",
     "output_type": "stream",
     "text": [
      "  3%|▎         | 272/8098 [00:26<12:45, 10.22it/s]"
     ]
    },
    {
     "name": "stdout",
     "output_type": "stream",
     "text": [
      "Error processing c:\\Meet\\Projects\\Project_8_Phoenix_Cervical Cancer Image Classification\\Project-Phoenix\\Dataset\\Preprocessed Dataset\\im_Dyskeratotic\\024_nuc_nuc03.png: name 'greycomatrix' is not defined\n",
      "Error processing c:\\Meet\\Projects\\Project_8_Phoenix_Cervical Cancer Image Classification\\Project-Phoenix\\Dataset\\Preprocessed Dataset\\im_Dyskeratotic\\024_nuc_nuc04.png: name 'greycomatrix' is not defined\n",
      "Error processing c:\\Meet\\Projects\\Project_8_Phoenix_Cervical Cancer Image Classification\\Project-Phoenix\\Dataset\\Preprocessed Dataset\\im_Dyskeratotic\\024_nuc_nuc05.png: name 'greycomatrix' is not defined\n"
     ]
    },
    {
     "name": "stderr",
     "output_type": "stream",
     "text": [
      "  3%|▎         | 274/8098 [00:26<12:16, 10.62it/s]"
     ]
    },
    {
     "name": "stdout",
     "output_type": "stream",
     "text": [
      "Error processing c:\\Meet\\Projects\\Project_8_Phoenix_Cervical Cancer Image Classification\\Project-Phoenix\\Dataset\\Preprocessed Dataset\\im_Dyskeratotic\\024_nuc_nuc06.png: name 'greycomatrix' is not defined\n",
      "Error processing c:\\Meet\\Projects\\Project_8_Phoenix_Cervical Cancer Image Classification\\Project-Phoenix\\Dataset\\Preprocessed Dataset\\im_Dyskeratotic\\024_nuc_nuc07.png: name 'greycomatrix' is not defined\n",
      "Error processing c:\\Meet\\Projects\\Project_8_Phoenix_Cervical Cancer Image Classification\\Project-Phoenix\\Dataset\\Preprocessed Dataset\\im_Dyskeratotic\\024_nuc_nuc08.png: name 'greycomatrix' is not defined\n"
     ]
    },
    {
     "name": "stderr",
     "output_type": "stream",
     "text": [
      "  3%|▎         | 278/8098 [00:26<12:57, 10.05it/s]"
     ]
    },
    {
     "name": "stdout",
     "output_type": "stream",
     "text": [
      "Error processing c:\\Meet\\Projects\\Project_8_Phoenix_Cervical Cancer Image Classification\\Project-Phoenix\\Dataset\\Preprocessed Dataset\\im_Dyskeratotic\\025_cyt_cyt01.png: name 'greycomatrix' is not defined\n",
      "Error processing c:\\Meet\\Projects\\Project_8_Phoenix_Cervical Cancer Image Classification\\Project-Phoenix\\Dataset\\Preprocessed Dataset\\im_Dyskeratotic\\025_cyt_cyt02.png: name 'greycomatrix' is not defined\n",
      "Error processing c:\\Meet\\Projects\\Project_8_Phoenix_Cervical Cancer Image Classification\\Project-Phoenix\\Dataset\\Preprocessed Dataset\\im_Dyskeratotic\\025_cyt_cyt03.png: name 'greycomatrix' is not defined\n"
     ]
    },
    {
     "name": "stderr",
     "output_type": "stream",
     "text": [
      "  3%|▎         | 280/8098 [00:26<12:32, 10.40it/s]"
     ]
    },
    {
     "name": "stdout",
     "output_type": "stream",
     "text": [
      "Error processing c:\\Meet\\Projects\\Project_8_Phoenix_Cervical Cancer Image Classification\\Project-Phoenix\\Dataset\\Preprocessed Dataset\\im_Dyskeratotic\\025_cyt_cyt04.png: name 'greycomatrix' is not defined\n",
      "Error processing c:\\Meet\\Projects\\Project_8_Phoenix_Cervical Cancer Image Classification\\Project-Phoenix\\Dataset\\Preprocessed Dataset\\im_Dyskeratotic\\025_cyt_cyt05.png: name 'greycomatrix' is not defined\n",
      "Error processing c:\\Meet\\Projects\\Project_8_Phoenix_Cervical Cancer Image Classification\\Project-Phoenix\\Dataset\\Preprocessed Dataset\\im_Dyskeratotic\\025_nuc_nuc01.png: name 'greycomatrix' is not defined\n"
     ]
    },
    {
     "name": "stderr",
     "output_type": "stream",
     "text": [
      "  4%|▎         | 284/8098 [00:27<12:42, 10.25it/s]"
     ]
    },
    {
     "name": "stdout",
     "output_type": "stream",
     "text": [
      "Error processing c:\\Meet\\Projects\\Project_8_Phoenix_Cervical Cancer Image Classification\\Project-Phoenix\\Dataset\\Preprocessed Dataset\\im_Dyskeratotic\\025_nuc_nuc02.png: name 'greycomatrix' is not defined\n",
      "Error processing c:\\Meet\\Projects\\Project_8_Phoenix_Cervical Cancer Image Classification\\Project-Phoenix\\Dataset\\Preprocessed Dataset\\im_Dyskeratotic\\025_nuc_nuc03.png: name 'greycomatrix' is not defined\n",
      "Error processing c:\\Meet\\Projects\\Project_8_Phoenix_Cervical Cancer Image Classification\\Project-Phoenix\\Dataset\\Preprocessed Dataset\\im_Dyskeratotic\\025_nuc_nuc04.png: name 'greycomatrix' is not defined\n"
     ]
    },
    {
     "name": "stderr",
     "output_type": "stream",
     "text": [
      "  4%|▎         | 288/8098 [00:27<12:11, 10.68it/s]"
     ]
    },
    {
     "name": "stdout",
     "output_type": "stream",
     "text": [
      "Error processing c:\\Meet\\Projects\\Project_8_Phoenix_Cervical Cancer Image Classification\\Project-Phoenix\\Dataset\\Preprocessed Dataset\\im_Dyskeratotic\\025_nuc_nuc05.png: name 'greycomatrix' is not defined\n",
      "Error processing c:\\Meet\\Projects\\Project_8_Phoenix_Cervical Cancer Image Classification\\Project-Phoenix\\Dataset\\Preprocessed Dataset\\im_Dyskeratotic\\026_cyt_cyt01.png: name 'greycomatrix' is not defined\n",
      "Error processing c:\\Meet\\Projects\\Project_8_Phoenix_Cervical Cancer Image Classification\\Project-Phoenix\\Dataset\\Preprocessed Dataset\\im_Dyskeratotic\\026_cyt_cyt02.png: name 'greycomatrix' is not defined\n"
     ]
    },
    {
     "name": "stderr",
     "output_type": "stream",
     "text": [
      "  4%|▎         | 290/8098 [00:27<11:52, 10.96it/s]"
     ]
    },
    {
     "name": "stdout",
     "output_type": "stream",
     "text": [
      "Error processing c:\\Meet\\Projects\\Project_8_Phoenix_Cervical Cancer Image Classification\\Project-Phoenix\\Dataset\\Preprocessed Dataset\\im_Dyskeratotic\\026_cyt_cyt03.png: name 'greycomatrix' is not defined\n",
      "Error processing c:\\Meet\\Projects\\Project_8_Phoenix_Cervical Cancer Image Classification\\Project-Phoenix\\Dataset\\Preprocessed Dataset\\im_Dyskeratotic\\026_nuc_nuc01.png: name 'greycomatrix' is not defined\n"
     ]
    },
    {
     "name": "stderr",
     "output_type": "stream",
     "text": [
      "  4%|▎         | 292/8098 [00:27<12:31, 10.39it/s]"
     ]
    },
    {
     "name": "stdout",
     "output_type": "stream",
     "text": [
      "Error processing c:\\Meet\\Projects\\Project_8_Phoenix_Cervical Cancer Image Classification\\Project-Phoenix\\Dataset\\Preprocessed Dataset\\im_Dyskeratotic\\026_nuc_nuc02.png: name 'greycomatrix' is not defined\n",
      "Error processing c:\\Meet\\Projects\\Project_8_Phoenix_Cervical Cancer Image Classification\\Project-Phoenix\\Dataset\\Preprocessed Dataset\\im_Dyskeratotic\\026_nuc_nuc03.png: name 'greycomatrix' is not defined\n",
      "Error processing c:\\Meet\\Projects\\Project_8_Phoenix_Cervical Cancer Image Classification\\Project-Phoenix\\Dataset\\Preprocessed Dataset\\im_Dyskeratotic\\027_cyt_cyt01.png: name 'greycomatrix' is not defined\n"
     ]
    },
    {
     "name": "stderr",
     "output_type": "stream",
     "text": [
      "  4%|▎         | 294/8098 [00:28<12:21, 10.53it/s]"
     ]
    },
    {
     "name": "stdout",
     "output_type": "stream",
     "text": [
      "Error processing c:\\Meet\\Projects\\Project_8_Phoenix_Cervical Cancer Image Classification\\Project-Phoenix\\Dataset\\Preprocessed Dataset\\im_Dyskeratotic\\027_cyt_cyt02.png: name 'greycomatrix' is not defined\n",
      "Error processing c:\\Meet\\Projects\\Project_8_Phoenix_Cervical Cancer Image Classification\\Project-Phoenix\\Dataset\\Preprocessed Dataset\\im_Dyskeratotic\\027_cyt_cyt03.png: name 'greycomatrix' is not defined\n",
      "Error processing c:\\Meet\\Projects\\Project_8_Phoenix_Cervical Cancer Image Classification\\Project-Phoenix\\Dataset\\Preprocessed Dataset\\im_Dyskeratotic\\027_cyt_cyt04.png: name 'greycomatrix' is not defined\n"
     ]
    },
    {
     "name": "stderr",
     "output_type": "stream",
     "text": [
      "  4%|▎         | 298/8098 [00:28<12:19, 10.55it/s]"
     ]
    },
    {
     "name": "stdout",
     "output_type": "stream",
     "text": [
      "Error processing c:\\Meet\\Projects\\Project_8_Phoenix_Cervical Cancer Image Classification\\Project-Phoenix\\Dataset\\Preprocessed Dataset\\im_Dyskeratotic\\027_nuc_nuc01.png: name 'greycomatrix' is not defined\n",
      "Error processing c:\\Meet\\Projects\\Project_8_Phoenix_Cervical Cancer Image Classification\\Project-Phoenix\\Dataset\\Preprocessed Dataset\\im_Dyskeratotic\\027_nuc_nuc02.png: name 'greycomatrix' is not defined\n",
      "Error processing c:\\Meet\\Projects\\Project_8_Phoenix_Cervical Cancer Image Classification\\Project-Phoenix\\Dataset\\Preprocessed Dataset\\im_Dyskeratotic\\027_nuc_nuc03.png: name 'greycomatrix' is not defined\n"
     ]
    },
    {
     "name": "stderr",
     "output_type": "stream",
     "text": [
      "  4%|▎         | 300/8098 [00:28<12:38, 10.29it/s]"
     ]
    },
    {
     "name": "stdout",
     "output_type": "stream",
     "text": [
      "Error processing c:\\Meet\\Projects\\Project_8_Phoenix_Cervical Cancer Image Classification\\Project-Phoenix\\Dataset\\Preprocessed Dataset\\im_Dyskeratotic\\027_nuc_nuc04.png: name 'greycomatrix' is not defined\n",
      "Error processing c:\\Meet\\Projects\\Project_8_Phoenix_Cervical Cancer Image Classification\\Project-Phoenix\\Dataset\\Preprocessed Dataset\\im_Dyskeratotic\\028_cyt_cyt01.png: name 'greycomatrix' is not defined\n",
      "Error processing c:\\Meet\\Projects\\Project_8_Phoenix_Cervical Cancer Image Classification\\Project-Phoenix\\Dataset\\Preprocessed Dataset\\im_Dyskeratotic\\028_cyt_cyt02.png: name 'greycomatrix' is not defined\n"
     ]
    },
    {
     "name": "stderr",
     "output_type": "stream",
     "text": [
      "  4%|▍         | 304/8098 [00:29<12:56, 10.04it/s]"
     ]
    },
    {
     "name": "stdout",
     "output_type": "stream",
     "text": [
      "Error processing c:\\Meet\\Projects\\Project_8_Phoenix_Cervical Cancer Image Classification\\Project-Phoenix\\Dataset\\Preprocessed Dataset\\im_Dyskeratotic\\028_cyt_cyt03.png: name 'greycomatrix' is not defined\n",
      "Error processing c:\\Meet\\Projects\\Project_8_Phoenix_Cervical Cancer Image Classification\\Project-Phoenix\\Dataset\\Preprocessed Dataset\\im_Dyskeratotic\\028_nuc_nuc01.png: name 'greycomatrix' is not defined\n",
      "Error processing c:\\Meet\\Projects\\Project_8_Phoenix_Cervical Cancer Image Classification\\Project-Phoenix\\Dataset\\Preprocessed Dataset\\im_Dyskeratotic\\028_nuc_nuc02.png: name 'greycomatrix' is not defined\n"
     ]
    },
    {
     "name": "stderr",
     "output_type": "stream",
     "text": [
      "  4%|▍         | 308/8098 [00:29<12:40, 10.24it/s]"
     ]
    },
    {
     "name": "stdout",
     "output_type": "stream",
     "text": [
      "Error processing c:\\Meet\\Projects\\Project_8_Phoenix_Cervical Cancer Image Classification\\Project-Phoenix\\Dataset\\Preprocessed Dataset\\im_Dyskeratotic\\028_nuc_nuc03.png: name 'greycomatrix' is not defined\n",
      "Error processing c:\\Meet\\Projects\\Project_8_Phoenix_Cervical Cancer Image Classification\\Project-Phoenix\\Dataset\\Preprocessed Dataset\\im_Dyskeratotic\\029_cyt_cyt01.png: name 'greycomatrix' is not defined\n",
      "Error processing c:\\Meet\\Projects\\Project_8_Phoenix_Cervical Cancer Image Classification\\Project-Phoenix\\Dataset\\Preprocessed Dataset\\im_Dyskeratotic\\029_cyt_cyt02.png: name 'greycomatrix' is not defined\n"
     ]
    },
    {
     "name": "stderr",
     "output_type": "stream",
     "text": [
      "  4%|▍         | 310/8098 [00:29<12:31, 10.37it/s]"
     ]
    },
    {
     "name": "stdout",
     "output_type": "stream",
     "text": [
      "Error processing c:\\Meet\\Projects\\Project_8_Phoenix_Cervical Cancer Image Classification\\Project-Phoenix\\Dataset\\Preprocessed Dataset\\im_Dyskeratotic\\029_cyt_cyt03.png: name 'greycomatrix' is not defined\n",
      "Error processing c:\\Meet\\Projects\\Project_8_Phoenix_Cervical Cancer Image Classification\\Project-Phoenix\\Dataset\\Preprocessed Dataset\\im_Dyskeratotic\\029_cyt_cyt04.png: name 'greycomatrix' is not defined\n",
      "Error processing c:\\Meet\\Projects\\Project_8_Phoenix_Cervical Cancer Image Classification\\Project-Phoenix\\Dataset\\Preprocessed Dataset\\im_Dyskeratotic\\029_nuc_nuc01.png: name 'greycomatrix' is not defined\n"
     ]
    },
    {
     "name": "stderr",
     "output_type": "stream",
     "text": [
      "  4%|▍         | 312/8098 [00:29<12:25, 10.44it/s]"
     ]
    },
    {
     "name": "stdout",
     "output_type": "stream",
     "text": [
      "Error processing c:\\Meet\\Projects\\Project_8_Phoenix_Cervical Cancer Image Classification\\Project-Phoenix\\Dataset\\Preprocessed Dataset\\im_Dyskeratotic\\029_nuc_nuc02.png: name 'greycomatrix' is not defined\n",
      "Error processing c:\\Meet\\Projects\\Project_8_Phoenix_Cervical Cancer Image Classification\\Project-Phoenix\\Dataset\\Preprocessed Dataset\\im_Dyskeratotic\\029_nuc_nuc03.png: name 'greycomatrix' is not defined\n",
      "Error processing c:\\Meet\\Projects\\Project_8_Phoenix_Cervical Cancer Image Classification\\Project-Phoenix\\Dataset\\Preprocessed Dataset\\im_Dyskeratotic\\029_nuc_nuc04.png: name 'greycomatrix' is not defined\n"
     ]
    },
    {
     "name": "stderr",
     "output_type": "stream",
     "text": [
      "  4%|▍         | 316/8098 [00:30<12:05, 10.72it/s]"
     ]
    },
    {
     "name": "stdout",
     "output_type": "stream",
     "text": [
      "Error processing c:\\Meet\\Projects\\Project_8_Phoenix_Cervical Cancer Image Classification\\Project-Phoenix\\Dataset\\Preprocessed Dataset\\im_Dyskeratotic\\030_cyt_cyt01.png: name 'greycomatrix' is not defined\n",
      "Error processing c:\\Meet\\Projects\\Project_8_Phoenix_Cervical Cancer Image Classification\\Project-Phoenix\\Dataset\\Preprocessed Dataset\\im_Dyskeratotic\\030_cyt_cyt02.png: name 'greycomatrix' is not defined\n",
      "Error processing c:\\Meet\\Projects\\Project_8_Phoenix_Cervical Cancer Image Classification\\Project-Phoenix\\Dataset\\Preprocessed Dataset\\im_Dyskeratotic\\030_cyt_cyt03.png: name 'greycomatrix' is not defined\n"
     ]
    },
    {
     "name": "stderr",
     "output_type": "stream",
     "text": [
      "  4%|▍         | 320/8098 [00:30<11:57, 10.85it/s]"
     ]
    },
    {
     "name": "stdout",
     "output_type": "stream",
     "text": [
      "Error processing c:\\Meet\\Projects\\Project_8_Phoenix_Cervical Cancer Image Classification\\Project-Phoenix\\Dataset\\Preprocessed Dataset\\im_Dyskeratotic\\030_cyt_cyt04.png: name 'greycomatrix' is not defined\n",
      "Error processing c:\\Meet\\Projects\\Project_8_Phoenix_Cervical Cancer Image Classification\\Project-Phoenix\\Dataset\\Preprocessed Dataset\\im_Dyskeratotic\\030_nuc_nuc01.png: name 'greycomatrix' is not defined\n",
      "Error processing c:\\Meet\\Projects\\Project_8_Phoenix_Cervical Cancer Image Classification\\Project-Phoenix\\Dataset\\Preprocessed Dataset\\im_Dyskeratotic\\030_nuc_nuc02.png: name 'greycomatrix' is not defined\n"
     ]
    },
    {
     "name": "stderr",
     "output_type": "stream",
     "text": [
      "  4%|▍         | 322/8098 [00:30<12:11, 10.63it/s]"
     ]
    },
    {
     "name": "stdout",
     "output_type": "stream",
     "text": [
      "Error processing c:\\Meet\\Projects\\Project_8_Phoenix_Cervical Cancer Image Classification\\Project-Phoenix\\Dataset\\Preprocessed Dataset\\im_Dyskeratotic\\030_nuc_nuc03.png: name 'greycomatrix' is not defined\n",
      "Error processing c:\\Meet\\Projects\\Project_8_Phoenix_Cervical Cancer Image Classification\\Project-Phoenix\\Dataset\\Preprocessed Dataset\\im_Dyskeratotic\\030_nuc_nuc04.png: name 'greycomatrix' is not defined\n",
      "Error processing c:\\Meet\\Projects\\Project_8_Phoenix_Cervical Cancer Image Classification\\Project-Phoenix\\Dataset\\Preprocessed Dataset\\im_Dyskeratotic\\031_cyt_cyt01.png: name 'greycomatrix' is not defined\n"
     ]
    },
    {
     "name": "stderr",
     "output_type": "stream",
     "text": [
      "  4%|▍         | 324/8098 [00:31<12:35, 10.29it/s]"
     ]
    },
    {
     "name": "stdout",
     "output_type": "stream",
     "text": [
      "Error processing c:\\Meet\\Projects\\Project_8_Phoenix_Cervical Cancer Image Classification\\Project-Phoenix\\Dataset\\Preprocessed Dataset\\im_Dyskeratotic\\031_cyt_cyt02.png: name 'greycomatrix' is not defined\n",
      "Error processing c:\\Meet\\Projects\\Project_8_Phoenix_Cervical Cancer Image Classification\\Project-Phoenix\\Dataset\\Preprocessed Dataset\\im_Dyskeratotic\\031_cyt_cyt03.png: name 'greycomatrix' is not defined\n"
     ]
    },
    {
     "name": "stderr",
     "output_type": "stream",
     "text": [
      "  4%|▍         | 326/8098 [00:31<13:06,  9.88it/s]"
     ]
    },
    {
     "name": "stdout",
     "output_type": "stream",
     "text": [
      "Error processing c:\\Meet\\Projects\\Project_8_Phoenix_Cervical Cancer Image Classification\\Project-Phoenix\\Dataset\\Preprocessed Dataset\\im_Dyskeratotic\\031_cyt_cyt04.png: name 'greycomatrix' is not defined\n",
      "Error processing c:\\Meet\\Projects\\Project_8_Phoenix_Cervical Cancer Image Classification\\Project-Phoenix\\Dataset\\Preprocessed Dataset\\im_Dyskeratotic\\031_cyt_cyt05.png: name 'greycomatrix' is not defined\n",
      "Error processing c:\\Meet\\Projects\\Project_8_Phoenix_Cervical Cancer Image Classification\\Project-Phoenix\\Dataset\\Preprocessed Dataset\\im_Dyskeratotic\\031_cyt_cyt06.png: name 'greycomatrix' is not defined\n"
     ]
    },
    {
     "name": "stderr",
     "output_type": "stream",
     "text": [
      "  4%|▍         | 330/8098 [00:31<12:43, 10.18it/s]"
     ]
    },
    {
     "name": "stdout",
     "output_type": "stream",
     "text": [
      "Error processing c:\\Meet\\Projects\\Project_8_Phoenix_Cervical Cancer Image Classification\\Project-Phoenix\\Dataset\\Preprocessed Dataset\\im_Dyskeratotic\\031_cyt_cyt07.png: name 'greycomatrix' is not defined\n",
      "Error processing c:\\Meet\\Projects\\Project_8_Phoenix_Cervical Cancer Image Classification\\Project-Phoenix\\Dataset\\Preprocessed Dataset\\im_Dyskeratotic\\031_cyt_cyt08.png: name 'greycomatrix' is not defined\n",
      "Error processing c:\\Meet\\Projects\\Project_8_Phoenix_Cervical Cancer Image Classification\\Project-Phoenix\\Dataset\\Preprocessed Dataset\\im_Dyskeratotic\\031_cyt_cyt09.png: name 'greycomatrix' is not defined\n"
     ]
    },
    {
     "name": "stderr",
     "output_type": "stream",
     "text": [
      "  4%|▍         | 334/8098 [00:31<12:18, 10.51it/s]"
     ]
    },
    {
     "name": "stdout",
     "output_type": "stream",
     "text": [
      "Error processing c:\\Meet\\Projects\\Project_8_Phoenix_Cervical Cancer Image Classification\\Project-Phoenix\\Dataset\\Preprocessed Dataset\\im_Dyskeratotic\\031_nuc_nuc01.png: name 'greycomatrix' is not defined\n",
      "Error processing c:\\Meet\\Projects\\Project_8_Phoenix_Cervical Cancer Image Classification\\Project-Phoenix\\Dataset\\Preprocessed Dataset\\im_Dyskeratotic\\031_nuc_nuc02.png: name 'greycomatrix' is not defined\n",
      "Error processing c:\\Meet\\Projects\\Project_8_Phoenix_Cervical Cancer Image Classification\\Project-Phoenix\\Dataset\\Preprocessed Dataset\\im_Dyskeratotic\\031_nuc_nuc03.png: name 'greycomatrix' is not defined\n"
     ]
    },
    {
     "name": "stderr",
     "output_type": "stream",
     "text": [
      "  4%|▍         | 336/8098 [00:32<12:21, 10.47it/s]"
     ]
    },
    {
     "name": "stdout",
     "output_type": "stream",
     "text": [
      "Error processing c:\\Meet\\Projects\\Project_8_Phoenix_Cervical Cancer Image Classification\\Project-Phoenix\\Dataset\\Preprocessed Dataset\\im_Dyskeratotic\\031_nuc_nuc04.png: name 'greycomatrix' is not defined\n",
      "Error processing c:\\Meet\\Projects\\Project_8_Phoenix_Cervical Cancer Image Classification\\Project-Phoenix\\Dataset\\Preprocessed Dataset\\im_Dyskeratotic\\031_nuc_nuc05.png: name 'greycomatrix' is not defined\n",
      "Error processing c:\\Meet\\Projects\\Project_8_Phoenix_Cervical Cancer Image Classification\\Project-Phoenix\\Dataset\\Preprocessed Dataset\\im_Dyskeratotic\\031_nuc_nuc06.png: name 'greycomatrix' is not defined\n"
     ]
    },
    {
     "name": "stderr",
     "output_type": "stream",
     "text": [
      "  4%|▍         | 340/8098 [00:32<12:05, 10.69it/s]"
     ]
    },
    {
     "name": "stdout",
     "output_type": "stream",
     "text": [
      "Error processing c:\\Meet\\Projects\\Project_8_Phoenix_Cervical Cancer Image Classification\\Project-Phoenix\\Dataset\\Preprocessed Dataset\\im_Dyskeratotic\\031_nuc_nuc07.png: name 'greycomatrix' is not defined\n",
      "Error processing c:\\Meet\\Projects\\Project_8_Phoenix_Cervical Cancer Image Classification\\Project-Phoenix\\Dataset\\Preprocessed Dataset\\im_Dyskeratotic\\031_nuc_nuc08.png: name 'greycomatrix' is not defined\n",
      "Error processing c:\\Meet\\Projects\\Project_8_Phoenix_Cervical Cancer Image Classification\\Project-Phoenix\\Dataset\\Preprocessed Dataset\\im_Dyskeratotic\\031_nuc_nuc09.png: name 'greycomatrix' is not defined\n"
     ]
    },
    {
     "name": "stderr",
     "output_type": "stream",
     "text": [
      "  4%|▍         | 342/8098 [00:32<12:11, 10.61it/s]"
     ]
    },
    {
     "name": "stdout",
     "output_type": "stream",
     "text": [
      "Error processing c:\\Meet\\Projects\\Project_8_Phoenix_Cervical Cancer Image Classification\\Project-Phoenix\\Dataset\\Preprocessed Dataset\\im_Dyskeratotic\\032_cyt_cyt01.png: name 'greycomatrix' is not defined\n",
      "Error processing c:\\Meet\\Projects\\Project_8_Phoenix_Cervical Cancer Image Classification\\Project-Phoenix\\Dataset\\Preprocessed Dataset\\im_Dyskeratotic\\032_cyt_cyt02.png: name 'greycomatrix' is not defined\n",
      "Error processing c:\\Meet\\Projects\\Project_8_Phoenix_Cervical Cancer Image Classification\\Project-Phoenix\\Dataset\\Preprocessed Dataset\\im_Dyskeratotic\\032_nuc_nuc01.png: name 'greycomatrix' is not defined\n"
     ]
    },
    {
     "name": "stderr",
     "output_type": "stream",
     "text": [
      "  4%|▍         | 344/8098 [00:32<12:23, 10.43it/s]"
     ]
    },
    {
     "name": "stdout",
     "output_type": "stream",
     "text": [
      "Error processing c:\\Meet\\Projects\\Project_8_Phoenix_Cervical Cancer Image Classification\\Project-Phoenix\\Dataset\\Preprocessed Dataset\\im_Dyskeratotic\\032_nuc_nuc02.png: name 'greycomatrix' is not defined\n",
      "Error processing c:\\Meet\\Projects\\Project_8_Phoenix_Cervical Cancer Image Classification\\Project-Phoenix\\Dataset\\Preprocessed Dataset\\im_Dyskeratotic\\033_cyt_cyt01.png: name 'greycomatrix' is not defined\n",
      "Error processing c:\\Meet\\Projects\\Project_8_Phoenix_Cervical Cancer Image Classification\\Project-Phoenix\\Dataset\\Preprocessed Dataset\\im_Dyskeratotic\\033_cyt_cyt02.png: name 'greycomatrix' is not defined\n"
     ]
    },
    {
     "name": "stderr",
     "output_type": "stream",
     "text": [
      "  4%|▍         | 348/8098 [00:33<12:58,  9.95it/s]"
     ]
    },
    {
     "name": "stdout",
     "output_type": "stream",
     "text": [
      "Error processing c:\\Meet\\Projects\\Project_8_Phoenix_Cervical Cancer Image Classification\\Project-Phoenix\\Dataset\\Preprocessed Dataset\\im_Dyskeratotic\\033_nuc_nuc01.png: name 'greycomatrix' is not defined\n",
      "Error processing c:\\Meet\\Projects\\Project_8_Phoenix_Cervical Cancer Image Classification\\Project-Phoenix\\Dataset\\Preprocessed Dataset\\im_Dyskeratotic\\033_nuc_nuc02.png: name 'greycomatrix' is not defined\n"
     ]
    },
    {
     "name": "stderr",
     "output_type": "stream",
     "text": [
      "  4%|▍         | 350/8098 [00:33<12:55,  9.98it/s]"
     ]
    },
    {
     "name": "stdout",
     "output_type": "stream",
     "text": [
      "Error processing c:\\Meet\\Projects\\Project_8_Phoenix_Cervical Cancer Image Classification\\Project-Phoenix\\Dataset\\Preprocessed Dataset\\im_Dyskeratotic\\034_cyt_cyt01.png: name 'greycomatrix' is not defined\n",
      "Error processing c:\\Meet\\Projects\\Project_8_Phoenix_Cervical Cancer Image Classification\\Project-Phoenix\\Dataset\\Preprocessed Dataset\\im_Dyskeratotic\\034_cyt_cyt02.png: name 'greycomatrix' is not defined\n",
      "Error processing c:\\Meet\\Projects\\Project_8_Phoenix_Cervical Cancer Image Classification\\Project-Phoenix\\Dataset\\Preprocessed Dataset\\im_Dyskeratotic\\034_nuc_nuc01.png: name 'greycomatrix' is not defined\n"
     ]
    },
    {
     "name": "stderr",
     "output_type": "stream",
     "text": [
      "  4%|▍         | 352/8098 [00:33<12:30, 10.32it/s]"
     ]
    },
    {
     "name": "stdout",
     "output_type": "stream",
     "text": [
      "Error processing c:\\Meet\\Projects\\Project_8_Phoenix_Cervical Cancer Image Classification\\Project-Phoenix\\Dataset\\Preprocessed Dataset\\im_Dyskeratotic\\034_nuc_nuc02.png: name 'greycomatrix' is not defined\n",
      "Error processing c:\\Meet\\Projects\\Project_8_Phoenix_Cervical Cancer Image Classification\\Project-Phoenix\\Dataset\\Preprocessed Dataset\\im_Dyskeratotic\\035_cyt_cyt01.png: name 'greycomatrix' is not defined\n",
      "Error processing c:\\Meet\\Projects\\Project_8_Phoenix_Cervical Cancer Image Classification\\Project-Phoenix\\Dataset\\Preprocessed Dataset\\im_Dyskeratotic\\035_cyt_cyt02.png: name 'greycomatrix' is not defined\n"
     ]
    },
    {
     "name": "stderr",
     "output_type": "stream",
     "text": [
      "  4%|▍         | 356/8098 [00:34<12:31, 10.30it/s]"
     ]
    },
    {
     "name": "stdout",
     "output_type": "stream",
     "text": [
      "Error processing c:\\Meet\\Projects\\Project_8_Phoenix_Cervical Cancer Image Classification\\Project-Phoenix\\Dataset\\Preprocessed Dataset\\im_Dyskeratotic\\035_nuc_nuc01.png: name 'greycomatrix' is not defined\n",
      "Error processing c:\\Meet\\Projects\\Project_8_Phoenix_Cervical Cancer Image Classification\\Project-Phoenix\\Dataset\\Preprocessed Dataset\\im_Dyskeratotic\\035_nuc_nuc02.png: name 'greycomatrix' is not defined\n",
      "Error processing c:\\Meet\\Projects\\Project_8_Phoenix_Cervical Cancer Image Classification\\Project-Phoenix\\Dataset\\Preprocessed Dataset\\im_Dyskeratotic\\036_cyt_cyt01.png: name 'greycomatrix' is not defined\n"
     ]
    },
    {
     "name": "stderr",
     "output_type": "stream",
     "text": [
      "  4%|▍         | 358/8098 [00:34<12:54, 10.00it/s]"
     ]
    },
    {
     "name": "stdout",
     "output_type": "stream",
     "text": [
      "Error processing c:\\Meet\\Projects\\Project_8_Phoenix_Cervical Cancer Image Classification\\Project-Phoenix\\Dataset\\Preprocessed Dataset\\im_Dyskeratotic\\036_cyt_cyt02.png: name 'greycomatrix' is not defined\n",
      "Error processing c:\\Meet\\Projects\\Project_8_Phoenix_Cervical Cancer Image Classification\\Project-Phoenix\\Dataset\\Preprocessed Dataset\\im_Dyskeratotic\\036_cyt_cyt03.png: name 'greycomatrix' is not defined\n",
      "Error processing c:\\Meet\\Projects\\Project_8_Phoenix_Cervical Cancer Image Classification\\Project-Phoenix\\Dataset\\Preprocessed Dataset\\im_Dyskeratotic\\036_cyt_cyt04.png: name 'greycomatrix' is not defined\n"
     ]
    },
    {
     "name": "stderr",
     "output_type": "stream",
     "text": [
      "  4%|▍         | 362/8098 [00:34<12:39, 10.18it/s]"
     ]
    },
    {
     "name": "stdout",
     "output_type": "stream",
     "text": [
      "Error processing c:\\Meet\\Projects\\Project_8_Phoenix_Cervical Cancer Image Classification\\Project-Phoenix\\Dataset\\Preprocessed Dataset\\im_Dyskeratotic\\036_nuc_nuc01.png: name 'greycomatrix' is not defined\n",
      "Error processing c:\\Meet\\Projects\\Project_8_Phoenix_Cervical Cancer Image Classification\\Project-Phoenix\\Dataset\\Preprocessed Dataset\\im_Dyskeratotic\\036_nuc_nuc02.png: name 'greycomatrix' is not defined\n",
      "Error processing c:\\Meet\\Projects\\Project_8_Phoenix_Cervical Cancer Image Classification\\Project-Phoenix\\Dataset\\Preprocessed Dataset\\im_Dyskeratotic\\036_nuc_nuc03.png: name 'greycomatrix' is not defined\n"
     ]
    },
    {
     "name": "stderr",
     "output_type": "stream",
     "text": [
      "  4%|▍         | 364/8098 [00:34<12:17, 10.49it/s]"
     ]
    },
    {
     "name": "stdout",
     "output_type": "stream",
     "text": [
      "Error processing c:\\Meet\\Projects\\Project_8_Phoenix_Cervical Cancer Image Classification\\Project-Phoenix\\Dataset\\Preprocessed Dataset\\im_Dyskeratotic\\036_nuc_nuc04.png: name 'greycomatrix' is not defined\n",
      "Error processing c:\\Meet\\Projects\\Project_8_Phoenix_Cervical Cancer Image Classification\\Project-Phoenix\\Dataset\\Preprocessed Dataset\\im_Dyskeratotic\\037_cyt_cyt01.png: name 'greycomatrix' is not defined\n",
      "Error processing c:\\Meet\\Projects\\Project_8_Phoenix_Cervical Cancer Image Classification\\Project-Phoenix\\Dataset\\Preprocessed Dataset\\im_Dyskeratotic\\037_cyt_cyt02.png: name 'greycomatrix' is not defined\n"
     ]
    },
    {
     "name": "stderr",
     "output_type": "stream",
     "text": [
      "  5%|▍         | 368/8098 [00:35<12:19, 10.46it/s]"
     ]
    },
    {
     "name": "stdout",
     "output_type": "stream",
     "text": [
      "Error processing c:\\Meet\\Projects\\Project_8_Phoenix_Cervical Cancer Image Classification\\Project-Phoenix\\Dataset\\Preprocessed Dataset\\im_Dyskeratotic\\037_cyt_cyt03.png: name 'greycomatrix' is not defined\n",
      "Error processing c:\\Meet\\Projects\\Project_8_Phoenix_Cervical Cancer Image Classification\\Project-Phoenix\\Dataset\\Preprocessed Dataset\\im_Dyskeratotic\\037_cyt_cyt04.png: name 'greycomatrix' is not defined\n",
      "Error processing c:\\Meet\\Projects\\Project_8_Phoenix_Cervical Cancer Image Classification\\Project-Phoenix\\Dataset\\Preprocessed Dataset\\im_Dyskeratotic\\037_cyt_cyt05.png: name 'greycomatrix' is not defined\n"
     ]
    },
    {
     "name": "stderr",
     "output_type": "stream",
     "text": [
      "  5%|▍         | 370/8098 [00:35<12:00, 10.72it/s]"
     ]
    },
    {
     "name": "stdout",
     "output_type": "stream",
     "text": [
      "Error processing c:\\Meet\\Projects\\Project_8_Phoenix_Cervical Cancer Image Classification\\Project-Phoenix\\Dataset\\Preprocessed Dataset\\im_Dyskeratotic\\037_cyt_cyt06.png: name 'greycomatrix' is not defined\n",
      "Error processing c:\\Meet\\Projects\\Project_8_Phoenix_Cervical Cancer Image Classification\\Project-Phoenix\\Dataset\\Preprocessed Dataset\\im_Dyskeratotic\\037_cyt_cyt07.png: name 'greycomatrix' is not defined\n"
     ]
    },
    {
     "name": "stderr",
     "output_type": "stream",
     "text": [
      "  5%|▍         | 374/8098 [00:35<12:15, 10.51it/s]"
     ]
    },
    {
     "name": "stdout",
     "output_type": "stream",
     "text": [
      "Error processing c:\\Meet\\Projects\\Project_8_Phoenix_Cervical Cancer Image Classification\\Project-Phoenix\\Dataset\\Preprocessed Dataset\\im_Dyskeratotic\\037_cyt_cyt08.png: name 'greycomatrix' is not defined\n",
      "Error processing c:\\Meet\\Projects\\Project_8_Phoenix_Cervical Cancer Image Classification\\Project-Phoenix\\Dataset\\Preprocessed Dataset\\im_Dyskeratotic\\037_nuc_nuc01.png: name 'greycomatrix' is not defined\n",
      "Error processing c:\\Meet\\Projects\\Project_8_Phoenix_Cervical Cancer Image Classification\\Project-Phoenix\\Dataset\\Preprocessed Dataset\\im_Dyskeratotic\\037_nuc_nuc02.png: name 'greycomatrix' is not defined\n"
     ]
    },
    {
     "name": "stderr",
     "output_type": "stream",
     "text": [
      "  5%|▍         | 376/8098 [00:36<12:06, 10.63it/s]"
     ]
    },
    {
     "name": "stdout",
     "output_type": "stream",
     "text": [
      "Error processing c:\\Meet\\Projects\\Project_8_Phoenix_Cervical Cancer Image Classification\\Project-Phoenix\\Dataset\\Preprocessed Dataset\\im_Dyskeratotic\\037_nuc_nuc03.png: name 'greycomatrix' is not defined\n",
      "Error processing c:\\Meet\\Projects\\Project_8_Phoenix_Cervical Cancer Image Classification\\Project-Phoenix\\Dataset\\Preprocessed Dataset\\im_Dyskeratotic\\037_nuc_nuc04.png: name 'greycomatrix' is not defined\n",
      "Error processing c:\\Meet\\Projects\\Project_8_Phoenix_Cervical Cancer Image Classification\\Project-Phoenix\\Dataset\\Preprocessed Dataset\\im_Dyskeratotic\\037_nuc_nuc05.png: name 'greycomatrix' is not defined\n"
     ]
    },
    {
     "name": "stderr",
     "output_type": "stream",
     "text": [
      "  5%|▍         | 378/8098 [00:36<12:09, 10.58it/s]"
     ]
    },
    {
     "name": "stdout",
     "output_type": "stream",
     "text": [
      "Error processing c:\\Meet\\Projects\\Project_8_Phoenix_Cervical Cancer Image Classification\\Project-Phoenix\\Dataset\\Preprocessed Dataset\\im_Dyskeratotic\\037_nuc_nuc06.png: name 'greycomatrix' is not defined\n",
      "Error processing c:\\Meet\\Projects\\Project_8_Phoenix_Cervical Cancer Image Classification\\Project-Phoenix\\Dataset\\Preprocessed Dataset\\im_Dyskeratotic\\037_nuc_nuc07.png: name 'greycomatrix' is not defined\n"
     ]
    },
    {
     "name": "stderr",
     "output_type": "stream",
     "text": [
      "  5%|▍         | 380/8098 [00:36<13:18,  9.67it/s]"
     ]
    },
    {
     "name": "stdout",
     "output_type": "stream",
     "text": [
      "Error processing c:\\Meet\\Projects\\Project_8_Phoenix_Cervical Cancer Image Classification\\Project-Phoenix\\Dataset\\Preprocessed Dataset\\im_Dyskeratotic\\037_nuc_nuc08.png: name 'greycomatrix' is not defined\n",
      "Error processing c:\\Meet\\Projects\\Project_8_Phoenix_Cervical Cancer Image Classification\\Project-Phoenix\\Dataset\\Preprocessed Dataset\\im_Dyskeratotic\\038_cyt_cyt01.png: name 'greycomatrix' is not defined\n",
      "Error processing c:\\Meet\\Projects\\Project_8_Phoenix_Cervical Cancer Image Classification\\Project-Phoenix\\Dataset\\Preprocessed Dataset\\im_Dyskeratotic\\038_cyt_cyt02.png: name 'greycomatrix' is not defined\n"
     ]
    },
    {
     "name": "stderr",
     "output_type": "stream",
     "text": [
      "  5%|▍         | 384/8098 [00:36<12:41, 10.12it/s]"
     ]
    },
    {
     "name": "stdout",
     "output_type": "stream",
     "text": [
      "Error processing c:\\Meet\\Projects\\Project_8_Phoenix_Cervical Cancer Image Classification\\Project-Phoenix\\Dataset\\Preprocessed Dataset\\im_Dyskeratotic\\038_cyt_cyt03.png: name 'greycomatrix' is not defined\n",
      "Error processing c:\\Meet\\Projects\\Project_8_Phoenix_Cervical Cancer Image Classification\\Project-Phoenix\\Dataset\\Preprocessed Dataset\\im_Dyskeratotic\\038_cyt_cyt04.png: name 'greycomatrix' is not defined\n",
      "Error processing c:\\Meet\\Projects\\Project_8_Phoenix_Cervical Cancer Image Classification\\Project-Phoenix\\Dataset\\Preprocessed Dataset\\im_Dyskeratotic\\038_cyt_cyt05.png: name 'greycomatrix' is not defined\n"
     ]
    },
    {
     "name": "stderr",
     "output_type": "stream",
     "text": [
      "  5%|▍         | 386/8098 [00:37<12:24, 10.36it/s]"
     ]
    },
    {
     "name": "stdout",
     "output_type": "stream",
     "text": [
      "Error processing c:\\Meet\\Projects\\Project_8_Phoenix_Cervical Cancer Image Classification\\Project-Phoenix\\Dataset\\Preprocessed Dataset\\im_Dyskeratotic\\038_cyt_cyt06.png: name 'greycomatrix' is not defined\n",
      "Error processing c:\\Meet\\Projects\\Project_8_Phoenix_Cervical Cancer Image Classification\\Project-Phoenix\\Dataset\\Preprocessed Dataset\\im_Dyskeratotic\\038_nuc_nuc01.png: name 'greycomatrix' is not defined\n",
      "Error processing c:\\Meet\\Projects\\Project_8_Phoenix_Cervical Cancer Image Classification\\Project-Phoenix\\Dataset\\Preprocessed Dataset\\im_Dyskeratotic\\038_nuc_nuc02.png: name 'greycomatrix' is not defined\n"
     ]
    },
    {
     "name": "stderr",
     "output_type": "stream",
     "text": [
      "  5%|▍         | 390/8098 [00:37<12:16, 10.47it/s]"
     ]
    },
    {
     "name": "stdout",
     "output_type": "stream",
     "text": [
      "Error processing c:\\Meet\\Projects\\Project_8_Phoenix_Cervical Cancer Image Classification\\Project-Phoenix\\Dataset\\Preprocessed Dataset\\im_Dyskeratotic\\038_nuc_nuc03.png: name 'greycomatrix' is not defined\n",
      "Error processing c:\\Meet\\Projects\\Project_8_Phoenix_Cervical Cancer Image Classification\\Project-Phoenix\\Dataset\\Preprocessed Dataset\\im_Dyskeratotic\\038_nuc_nuc04.png: name 'greycomatrix' is not defined\n",
      "Error processing c:\\Meet\\Projects\\Project_8_Phoenix_Cervical Cancer Image Classification\\Project-Phoenix\\Dataset\\Preprocessed Dataset\\im_Dyskeratotic\\038_nuc_nuc05.png: name 'greycomatrix' is not defined\n"
     ]
    },
    {
     "name": "stderr",
     "output_type": "stream",
     "text": [
      "  5%|▍         | 392/8098 [00:37<12:55,  9.94it/s]"
     ]
    },
    {
     "name": "stdout",
     "output_type": "stream",
     "text": [
      "Error processing c:\\Meet\\Projects\\Project_8_Phoenix_Cervical Cancer Image Classification\\Project-Phoenix\\Dataset\\Preprocessed Dataset\\im_Dyskeratotic\\038_nuc_nuc06.png: name 'greycomatrix' is not defined\n",
      "Error processing c:\\Meet\\Projects\\Project_8_Phoenix_Cervical Cancer Image Classification\\Project-Phoenix\\Dataset\\Preprocessed Dataset\\im_Dyskeratotic\\039_cyt_cyt01.png: name 'greycomatrix' is not defined\n",
      "Error processing c:\\Meet\\Projects\\Project_8_Phoenix_Cervical Cancer Image Classification\\Project-Phoenix\\Dataset\\Preprocessed Dataset\\im_Dyskeratotic\\039_cyt_cyt02.png: name 'greycomatrix' is not defined\n"
     ]
    },
    {
     "name": "stderr",
     "output_type": "stream",
     "text": [
      "  5%|▍         | 396/8098 [00:38<12:35, 10.20it/s]"
     ]
    },
    {
     "name": "stdout",
     "output_type": "stream",
     "text": [
      "Error processing c:\\Meet\\Projects\\Project_8_Phoenix_Cervical Cancer Image Classification\\Project-Phoenix\\Dataset\\Preprocessed Dataset\\im_Dyskeratotic\\039_cyt_cyt03.png: name 'greycomatrix' is not defined\n",
      "Error processing c:\\Meet\\Projects\\Project_8_Phoenix_Cervical Cancer Image Classification\\Project-Phoenix\\Dataset\\Preprocessed Dataset\\im_Dyskeratotic\\039_cyt_cyt04.png: name 'greycomatrix' is not defined\n",
      "Error processing c:\\Meet\\Projects\\Project_8_Phoenix_Cervical Cancer Image Classification\\Project-Phoenix\\Dataset\\Preprocessed Dataset\\im_Dyskeratotic\\039_nuc_nuc01.png: name 'greycomatrix' is not defined\n"
     ]
    },
    {
     "name": "stderr",
     "output_type": "stream",
     "text": [
      "  5%|▍         | 398/8098 [00:38<12:27, 10.30it/s]"
     ]
    },
    {
     "name": "stdout",
     "output_type": "stream",
     "text": [
      "Error processing c:\\Meet\\Projects\\Project_8_Phoenix_Cervical Cancer Image Classification\\Project-Phoenix\\Dataset\\Preprocessed Dataset\\im_Dyskeratotic\\039_nuc_nuc02.png: name 'greycomatrix' is not defined\n",
      "Error processing c:\\Meet\\Projects\\Project_8_Phoenix_Cervical Cancer Image Classification\\Project-Phoenix\\Dataset\\Preprocessed Dataset\\im_Dyskeratotic\\039_nuc_nuc03.png: name 'greycomatrix' is not defined\n",
      "Error processing c:\\Meet\\Projects\\Project_8_Phoenix_Cervical Cancer Image Classification\\Project-Phoenix\\Dataset\\Preprocessed Dataset\\im_Dyskeratotic\\039_nuc_nuc04.png: name 'greycomatrix' is not defined\n"
     ]
    },
    {
     "name": "stderr",
     "output_type": "stream",
     "text": [
      "  5%|▍         | 402/8098 [00:38<12:29, 10.26it/s]"
     ]
    },
    {
     "name": "stdout",
     "output_type": "stream",
     "text": [
      "Error processing c:\\Meet\\Projects\\Project_8_Phoenix_Cervical Cancer Image Classification\\Project-Phoenix\\Dataset\\Preprocessed Dataset\\im_Dyskeratotic\\040_cyt_cyt01.png: name 'greycomatrix' is not defined\n",
      "Error processing c:\\Meet\\Projects\\Project_8_Phoenix_Cervical Cancer Image Classification\\Project-Phoenix\\Dataset\\Preprocessed Dataset\\im_Dyskeratotic\\040_cyt_cyt02.png: name 'greycomatrix' is not defined\n",
      "Error processing c:\\Meet\\Projects\\Project_8_Phoenix_Cervical Cancer Image Classification\\Project-Phoenix\\Dataset\\Preprocessed Dataset\\im_Dyskeratotic\\040_cyt_cyt03.png: name 'greycomatrix' is not defined\n"
     ]
    },
    {
     "name": "stderr",
     "output_type": "stream",
     "text": [
      "  5%|▍         | 404/8098 [00:38<12:23, 10.35it/s]"
     ]
    },
    {
     "name": "stdout",
     "output_type": "stream",
     "text": [
      "Error processing c:\\Meet\\Projects\\Project_8_Phoenix_Cervical Cancer Image Classification\\Project-Phoenix\\Dataset\\Preprocessed Dataset\\im_Dyskeratotic\\040_nuc_nuc01.png: name 'greycomatrix' is not defined\n",
      "Error processing c:\\Meet\\Projects\\Project_8_Phoenix_Cervical Cancer Image Classification\\Project-Phoenix\\Dataset\\Preprocessed Dataset\\im_Dyskeratotic\\040_nuc_nuc02.png: name 'greycomatrix' is not defined\n",
      "Error processing c:\\Meet\\Projects\\Project_8_Phoenix_Cervical Cancer Image Classification\\Project-Phoenix\\Dataset\\Preprocessed Dataset\\im_Dyskeratotic\\040_nuc_nuc03.png: name 'greycomatrix' is not defined\n"
     ]
    },
    {
     "name": "stderr",
     "output_type": "stream",
     "text": [
      "  5%|▌         | 408/8098 [00:39<12:02, 10.65it/s]"
     ]
    },
    {
     "name": "stdout",
     "output_type": "stream",
     "text": [
      "Error processing c:\\Meet\\Projects\\Project_8_Phoenix_Cervical Cancer Image Classification\\Project-Phoenix\\Dataset\\Preprocessed Dataset\\im_Dyskeratotic\\041_cyt_cyt01.png: name 'greycomatrix' is not defined\n",
      "Error processing c:\\Meet\\Projects\\Project_8_Phoenix_Cervical Cancer Image Classification\\Project-Phoenix\\Dataset\\Preprocessed Dataset\\im_Dyskeratotic\\041_cyt_cyt02.png: name 'greycomatrix' is not defined\n",
      "Error processing c:\\Meet\\Projects\\Project_8_Phoenix_Cervical Cancer Image Classification\\Project-Phoenix\\Dataset\\Preprocessed Dataset\\im_Dyskeratotic\\041_cyt_cyt03.png: name 'greycomatrix' is not defined\n"
     ]
    },
    {
     "name": "stderr",
     "output_type": "stream",
     "text": [
      "  5%|▌         | 412/8098 [00:39<11:42, 10.94it/s]"
     ]
    },
    {
     "name": "stdout",
     "output_type": "stream",
     "text": [
      "Error processing c:\\Meet\\Projects\\Project_8_Phoenix_Cervical Cancer Image Classification\\Project-Phoenix\\Dataset\\Preprocessed Dataset\\im_Dyskeratotic\\041_cyt_cyt04.png: name 'greycomatrix' is not defined\n",
      "Error processing c:\\Meet\\Projects\\Project_8_Phoenix_Cervical Cancer Image Classification\\Project-Phoenix\\Dataset\\Preprocessed Dataset\\im_Dyskeratotic\\041_cyt_cyt05.png: name 'greycomatrix' is not defined\n",
      "Error processing c:\\Meet\\Projects\\Project_8_Phoenix_Cervical Cancer Image Classification\\Project-Phoenix\\Dataset\\Preprocessed Dataset\\im_Dyskeratotic\\041_cyt_cyt06.png: name 'greycomatrix' is not defined\n"
     ]
    },
    {
     "name": "stderr",
     "output_type": "stream",
     "text": [
      "  5%|▌         | 414/8098 [00:39<11:30, 11.14it/s]"
     ]
    },
    {
     "name": "stdout",
     "output_type": "stream",
     "text": [
      "Error processing c:\\Meet\\Projects\\Project_8_Phoenix_Cervical Cancer Image Classification\\Project-Phoenix\\Dataset\\Preprocessed Dataset\\im_Dyskeratotic\\041_cyt_cyt07.png: name 'greycomatrix' is not defined\n",
      "Error processing c:\\Meet\\Projects\\Project_8_Phoenix_Cervical Cancer Image Classification\\Project-Phoenix\\Dataset\\Preprocessed Dataset\\im_Dyskeratotic\\041_nuc_nuc01.png: name 'greycomatrix' is not defined\n",
      "Error processing c:\\Meet\\Projects\\Project_8_Phoenix_Cervical Cancer Image Classification\\Project-Phoenix\\Dataset\\Preprocessed Dataset\\im_Dyskeratotic\\041_nuc_nuc02.png: name 'greycomatrix' is not defined\n"
     ]
    },
    {
     "name": "stderr",
     "output_type": "stream",
     "text": [
      "  5%|▌         | 418/8098 [00:40<11:11, 11.44it/s]"
     ]
    },
    {
     "name": "stdout",
     "output_type": "stream",
     "text": [
      "Error processing c:\\Meet\\Projects\\Project_8_Phoenix_Cervical Cancer Image Classification\\Project-Phoenix\\Dataset\\Preprocessed Dataset\\im_Dyskeratotic\\041_nuc_nuc03.png: name 'greycomatrix' is not defined\n",
      "Error processing c:\\Meet\\Projects\\Project_8_Phoenix_Cervical Cancer Image Classification\\Project-Phoenix\\Dataset\\Preprocessed Dataset\\im_Dyskeratotic\\041_nuc_nuc04.png: name 'greycomatrix' is not defined\n",
      "Error processing c:\\Meet\\Projects\\Project_8_Phoenix_Cervical Cancer Image Classification\\Project-Phoenix\\Dataset\\Preprocessed Dataset\\im_Dyskeratotic\\041_nuc_nuc05.png: name 'greycomatrix' is not defined\n"
     ]
    },
    {
     "name": "stderr",
     "output_type": "stream",
     "text": [
      "  5%|▌         | 420/8098 [00:40<11:59, 10.67it/s]"
     ]
    },
    {
     "name": "stdout",
     "output_type": "stream",
     "text": [
      "Error processing c:\\Meet\\Projects\\Project_8_Phoenix_Cervical Cancer Image Classification\\Project-Phoenix\\Dataset\\Preprocessed Dataset\\im_Dyskeratotic\\041_nuc_nuc06.png: name 'greycomatrix' is not defined\n",
      "Error processing c:\\Meet\\Projects\\Project_8_Phoenix_Cervical Cancer Image Classification\\Project-Phoenix\\Dataset\\Preprocessed Dataset\\im_Dyskeratotic\\041_nuc_nuc07.png: name 'greycomatrix' is not defined\n",
      "Error processing c:\\Meet\\Projects\\Project_8_Phoenix_Cervical Cancer Image Classification\\Project-Phoenix\\Dataset\\Preprocessed Dataset\\im_Dyskeratotic\\042_cyt_cyt01.png: name 'greycomatrix' is not defined\n"
     ]
    },
    {
     "name": "stderr",
     "output_type": "stream",
     "text": [
      "  5%|▌         | 424/8098 [00:40<11:36, 11.02it/s]"
     ]
    },
    {
     "name": "stdout",
     "output_type": "stream",
     "text": [
      "Error processing c:\\Meet\\Projects\\Project_8_Phoenix_Cervical Cancer Image Classification\\Project-Phoenix\\Dataset\\Preprocessed Dataset\\im_Dyskeratotic\\042_cyt_cyt02.png: name 'greycomatrix' is not defined\n",
      "Error processing c:\\Meet\\Projects\\Project_8_Phoenix_Cervical Cancer Image Classification\\Project-Phoenix\\Dataset\\Preprocessed Dataset\\im_Dyskeratotic\\042_nuc_nuc01.png: name 'greycomatrix' is not defined\n",
      "Error processing c:\\Meet\\Projects\\Project_8_Phoenix_Cervical Cancer Image Classification\\Project-Phoenix\\Dataset\\Preprocessed Dataset\\im_Dyskeratotic\\042_nuc_nuc02.png: name 'greycomatrix' is not defined\n"
     ]
    },
    {
     "name": "stderr",
     "output_type": "stream",
     "text": [
      "  5%|▌         | 426/8098 [00:40<11:45, 10.87it/s]"
     ]
    },
    {
     "name": "stdout",
     "output_type": "stream",
     "text": [
      "Error processing c:\\Meet\\Projects\\Project_8_Phoenix_Cervical Cancer Image Classification\\Project-Phoenix\\Dataset\\Preprocessed Dataset\\im_Dyskeratotic\\043_cyt_cyt01.png: name 'greycomatrix' is not defined\n",
      "Error processing c:\\Meet\\Projects\\Project_8_Phoenix_Cervical Cancer Image Classification\\Project-Phoenix\\Dataset\\Preprocessed Dataset\\im_Dyskeratotic\\043_cyt_cyt02.png: name 'greycomatrix' is not defined\n",
      "Error processing c:\\Meet\\Projects\\Project_8_Phoenix_Cervical Cancer Image Classification\\Project-Phoenix\\Dataset\\Preprocessed Dataset\\im_Dyskeratotic\\043_nuc_nuc01.png: name 'greycomatrix' is not defined\n"
     ]
    },
    {
     "name": "stderr",
     "output_type": "stream",
     "text": [
      "  5%|▌         | 430/8098 [00:41<11:30, 11.10it/s]"
     ]
    },
    {
     "name": "stdout",
     "output_type": "stream",
     "text": [
      "Error processing c:\\Meet\\Projects\\Project_8_Phoenix_Cervical Cancer Image Classification\\Project-Phoenix\\Dataset\\Preprocessed Dataset\\im_Dyskeratotic\\043_nuc_nuc02.png: name 'greycomatrix' is not defined\n",
      "Error processing c:\\Meet\\Projects\\Project_8_Phoenix_Cervical Cancer Image Classification\\Project-Phoenix\\Dataset\\Preprocessed Dataset\\im_Dyskeratotic\\044_cyt_cyt01.png: name 'greycomatrix' is not defined\n",
      "Error processing c:\\Meet\\Projects\\Project_8_Phoenix_Cervical Cancer Image Classification\\Project-Phoenix\\Dataset\\Preprocessed Dataset\\im_Dyskeratotic\\044_cyt_cyt02.png: name 'greycomatrix' is not defined\n"
     ]
    },
    {
     "name": "stderr",
     "output_type": "stream",
     "text": [
      "  5%|▌         | 432/8098 [00:41<11:34, 11.04it/s]"
     ]
    },
    {
     "name": "stdout",
     "output_type": "stream",
     "text": [
      "Error processing c:\\Meet\\Projects\\Project_8_Phoenix_Cervical Cancer Image Classification\\Project-Phoenix\\Dataset\\Preprocessed Dataset\\im_Dyskeratotic\\044_nuc_nuc01.png: name 'greycomatrix' is not defined\n",
      "Error processing c:\\Meet\\Projects\\Project_8_Phoenix_Cervical Cancer Image Classification\\Project-Phoenix\\Dataset\\Preprocessed Dataset\\im_Dyskeratotic\\044_nuc_nuc02.png: name 'greycomatrix' is not defined\n",
      "Error processing c:\\Meet\\Projects\\Project_8_Phoenix_Cervical Cancer Image Classification\\Project-Phoenix\\Dataset\\Preprocessed Dataset\\im_Dyskeratotic\\045_cyt_cyt01.png: name 'greycomatrix' is not defined\n"
     ]
    },
    {
     "name": "stderr",
     "output_type": "stream",
     "text": [
      "  5%|▌         | 436/8098 [00:41<11:20, 11.26it/s]"
     ]
    },
    {
     "name": "stdout",
     "output_type": "stream",
     "text": [
      "Error processing c:\\Meet\\Projects\\Project_8_Phoenix_Cervical Cancer Image Classification\\Project-Phoenix\\Dataset\\Preprocessed Dataset\\im_Dyskeratotic\\045_cyt_cyt02.png: name 'greycomatrix' is not defined\n",
      "Error processing c:\\Meet\\Projects\\Project_8_Phoenix_Cervical Cancer Image Classification\\Project-Phoenix\\Dataset\\Preprocessed Dataset\\im_Dyskeratotic\\045_nuc_nuc01.png: name 'greycomatrix' is not defined\n",
      "Error processing c:\\Meet\\Projects\\Project_8_Phoenix_Cervical Cancer Image Classification\\Project-Phoenix\\Dataset\\Preprocessed Dataset\\im_Dyskeratotic\\045_nuc_nuc02.png: name 'greycomatrix' is not defined\n"
     ]
    },
    {
     "name": "stderr",
     "output_type": "stream",
     "text": [
      "  5%|▌         | 438/8098 [00:41<11:40, 10.93it/s]"
     ]
    },
    {
     "name": "stdout",
     "output_type": "stream",
     "text": [
      "Error processing c:\\Meet\\Projects\\Project_8_Phoenix_Cervical Cancer Image Classification\\Project-Phoenix\\Dataset\\Preprocessed Dataset\\im_Dyskeratotic\\046_cyt_cyt01.png: name 'greycomatrix' is not defined\n",
      "Error processing c:\\Meet\\Projects\\Project_8_Phoenix_Cervical Cancer Image Classification\\Project-Phoenix\\Dataset\\Preprocessed Dataset\\im_Dyskeratotic\\046_nuc_nuc01.png: name 'greycomatrix' is not defined\n",
      "Error processing c:\\Meet\\Projects\\Project_8_Phoenix_Cervical Cancer Image Classification\\Project-Phoenix\\Dataset\\Preprocessed Dataset\\im_Dyskeratotic\\047_cyt_cyt01.png: name 'greycomatrix' is not defined\n"
     ]
    },
    {
     "name": "stderr",
     "output_type": "stream",
     "text": [
      "C:\\Users\\meetb\\AppData\\Local\\Temp\\ipykernel_53104\\2748481638.py:97: RuntimeWarning: Mean of empty slice.\n",
      "  ch_means = img_rgb[idx].reshape(-1, 3).mean(axis=0)\n",
      "C:\\Users\\meetb\\AppData\\Local\\Packages\\PythonSoftwareFoundation.Python.3.12_qbz5n2kfra8p0\\LocalCache\\local-packages\\Python312\\site-packages\\numpy\\core\\_methods.py:121: RuntimeWarning: invalid value encountered in divide\n",
      "  ret = um.true_divide(\n",
      "C:\\Users\\meetb\\AppData\\Local\\Packages\\PythonSoftwareFoundation.Python.3.12_qbz5n2kfra8p0\\LocalCache\\local-packages\\Python312\\site-packages\\numpy\\core\\_methods.py:206: RuntimeWarning: Degrees of freedom <= 0 for slice\n",
      "  ret = _var(a, axis=axis, dtype=dtype, out=out, ddof=ddof,\n",
      "C:\\Users\\meetb\\AppData\\Local\\Packages\\PythonSoftwareFoundation.Python.3.12_qbz5n2kfra8p0\\LocalCache\\local-packages\\Python312\\site-packages\\numpy\\core\\_methods.py:163: RuntimeWarning: invalid value encountered in divide\n",
      "  arrmean = um.true_divide(arrmean, div, out=arrmean,\n",
      "C:\\Users\\meetb\\AppData\\Local\\Packages\\PythonSoftwareFoundation.Python.3.12_qbz5n2kfra8p0\\LocalCache\\local-packages\\Python312\\site-packages\\numpy\\core\\_methods.py:195: RuntimeWarning: invalid value encountered in divide\n",
      "  ret = um.true_divide(\n",
      "C:\\Users\\meetb\\AppData\\Local\\Packages\\PythonSoftwareFoundation.Python.3.12_qbz5n2kfra8p0\\LocalCache\\local-packages\\Python312\\site-packages\\numpy\\core\\fromnumeric.py:3504: RuntimeWarning: Mean of empty slice.\n",
      "  return _methods._mean(a, axis=axis, dtype=dtype,\n",
      "C:\\Users\\meetb\\AppData\\Local\\Packages\\PythonSoftwareFoundation.Python.3.12_qbz5n2kfra8p0\\LocalCache\\local-packages\\Python312\\site-packages\\numpy\\core\\_methods.py:129: RuntimeWarning: invalid value encountered in divide\n",
      "  ret = ret.dtype.type(ret / rcount)\n",
      "C:\\Users\\meetb\\AppData\\Local\\Packages\\PythonSoftwareFoundation.Python.3.12_qbz5n2kfra8p0\\LocalCache\\local-packages\\Python312\\site-packages\\numpy\\core\\_methods.py:198: RuntimeWarning: invalid value encountered in divide\n",
      "  ret = ret.dtype.type(ret / rcount)\n",
      "  5%|▌         | 442/8098 [00:42<11:07, 11.47it/s]"
     ]
    },
    {
     "name": "stdout",
     "output_type": "stream",
     "text": [
      "Error processing c:\\Meet\\Projects\\Project_8_Phoenix_Cervical Cancer Image Classification\\Project-Phoenix\\Dataset\\Preprocessed Dataset\\im_Dyskeratotic\\047_cyt_cyt02.png: name 'greycomatrix' is not defined\n",
      "Error processing c:\\Meet\\Projects\\Project_8_Phoenix_Cervical Cancer Image Classification\\Project-Phoenix\\Dataset\\Preprocessed Dataset\\im_Dyskeratotic\\047_nuc_nuc01.png: name 'greycomatrix' is not defined\n",
      "Error processing c:\\Meet\\Projects\\Project_8_Phoenix_Cervical Cancer Image Classification\\Project-Phoenix\\Dataset\\Preprocessed Dataset\\im_Dyskeratotic\\047_nuc_nuc02.png: name 'greycomatrix' is not defined\n"
     ]
    },
    {
     "name": "stderr",
     "output_type": "stream",
     "text": [
      "  5%|▌         | 444/8098 [00:42<11:29, 11.11it/s]"
     ]
    },
    {
     "name": "stdout",
     "output_type": "stream",
     "text": [
      "Error processing c:\\Meet\\Projects\\Project_8_Phoenix_Cervical Cancer Image Classification\\Project-Phoenix\\Dataset\\Preprocessed Dataset\\im_Dyskeratotic\\048_cyt_cyt01.png: name 'greycomatrix' is not defined\n",
      "Error processing c:\\Meet\\Projects\\Project_8_Phoenix_Cervical Cancer Image Classification\\Project-Phoenix\\Dataset\\Preprocessed Dataset\\im_Dyskeratotic\\048_cyt_cyt02.png: name 'greycomatrix' is not defined\n",
      "Error processing c:\\Meet\\Projects\\Project_8_Phoenix_Cervical Cancer Image Classification\\Project-Phoenix\\Dataset\\Preprocessed Dataset\\im_Dyskeratotic\\048_nuc_nuc01.png: name 'greycomatrix' is not defined\n"
     ]
    },
    {
     "name": "stderr",
     "output_type": "stream",
     "text": [
      "  6%|▌         | 446/8098 [00:42<11:35, 11.01it/s]"
     ]
    },
    {
     "name": "stdout",
     "output_type": "stream",
     "text": [
      "Error processing c:\\Meet\\Projects\\Project_8_Phoenix_Cervical Cancer Image Classification\\Project-Phoenix\\Dataset\\Preprocessed Dataset\\im_Dyskeratotic\\048_nuc_nuc02.png: name 'greycomatrix' is not defined\n",
      "Error processing c:\\Meet\\Projects\\Project_8_Phoenix_Cervical Cancer Image Classification\\Project-Phoenix\\Dataset\\Preprocessed Dataset\\im_Dyskeratotic\\049_cyt_cyt01.png: name 'greycomatrix' is not defined\n",
      "Error processing c:\\Meet\\Projects\\Project_8_Phoenix_Cervical Cancer Image Classification\\Project-Phoenix\\Dataset\\Preprocessed Dataset\\im_Dyskeratotic\\049_cyt_cyt02.png: name 'greycomatrix' is not defined\n"
     ]
    },
    {
     "name": "stderr",
     "output_type": "stream",
     "text": [
      "  6%|▌         | 448/8098 [00:42<11:50, 10.76it/s]C:\\Users\\meetb\\AppData\\Local\\Temp\\ipykernel_53104\\2748481638.py:97: RuntimeWarning: Mean of empty slice.\n",
      "  ch_means = img_rgb[idx].reshape(-1, 3).mean(axis=0)\n",
      "C:\\Users\\meetb\\AppData\\Local\\Packages\\PythonSoftwareFoundation.Python.3.12_qbz5n2kfra8p0\\LocalCache\\local-packages\\Python312\\site-packages\\numpy\\core\\_methods.py:121: RuntimeWarning: invalid value encountered in divide\n",
      "  ret = um.true_divide(\n",
      "C:\\Users\\meetb\\AppData\\Local\\Packages\\PythonSoftwareFoundation.Python.3.12_qbz5n2kfra8p0\\LocalCache\\local-packages\\Python312\\site-packages\\numpy\\core\\_methods.py:206: RuntimeWarning: Degrees of freedom <= 0 for slice\n",
      "  ret = _var(a, axis=axis, dtype=dtype, out=out, ddof=ddof,\n",
      "C:\\Users\\meetb\\AppData\\Local\\Packages\\PythonSoftwareFoundation.Python.3.12_qbz5n2kfra8p0\\LocalCache\\local-packages\\Python312\\site-packages\\numpy\\core\\_methods.py:163: RuntimeWarning: invalid value encountered in divide\n",
      "  arrmean = um.true_divide(arrmean, div, out=arrmean,\n",
      "C:\\Users\\meetb\\AppData\\Local\\Packages\\PythonSoftwareFoundation.Python.3.12_qbz5n2kfra8p0\\LocalCache\\local-packages\\Python312\\site-packages\\numpy\\core\\_methods.py:195: RuntimeWarning: invalid value encountered in divide\n",
      "  ret = um.true_divide(\n",
      "C:\\Users\\meetb\\AppData\\Local\\Packages\\PythonSoftwareFoundation.Python.3.12_qbz5n2kfra8p0\\LocalCache\\local-packages\\Python312\\site-packages\\numpy\\core\\fromnumeric.py:3504: RuntimeWarning: Mean of empty slice.\n",
      "  return _methods._mean(a, axis=axis, dtype=dtype,\n",
      "C:\\Users\\meetb\\AppData\\Local\\Packages\\PythonSoftwareFoundation.Python.3.12_qbz5n2kfra8p0\\LocalCache\\local-packages\\Python312\\site-packages\\numpy\\core\\_methods.py:129: RuntimeWarning: invalid value encountered in divide\n",
      "  ret = ret.dtype.type(ret / rcount)\n",
      "C:\\Users\\meetb\\AppData\\Local\\Packages\\PythonSoftwareFoundation.Python.3.12_qbz5n2kfra8p0\\LocalCache\\local-packages\\Python312\\site-packages\\numpy\\core\\_methods.py:198: RuntimeWarning: invalid value encountered in divide\n",
      "  ret = ret.dtype.type(ret / rcount)\n",
      "  6%|▌         | 450/8098 [00:42<11:31, 11.06it/s]"
     ]
    },
    {
     "name": "stdout",
     "output_type": "stream",
     "text": [
      "Error processing c:\\Meet\\Projects\\Project_8_Phoenix_Cervical Cancer Image Classification\\Project-Phoenix\\Dataset\\Preprocessed Dataset\\im_Dyskeratotic\\049_nuc_nuc01.png: name 'greycomatrix' is not defined\n",
      "Error processing c:\\Meet\\Projects\\Project_8_Phoenix_Cervical Cancer Image Classification\\Project-Phoenix\\Dataset\\Preprocessed Dataset\\im_Dyskeratotic\\049_nuc_nuc02.png: name 'greycomatrix' is not defined\n",
      "Error processing c:\\Meet\\Projects\\Project_8_Phoenix_Cervical Cancer Image Classification\\Project-Phoenix\\Dataset\\Preprocessed Dataset\\im_Dyskeratotic\\050_cyt_cyt01.png: name 'greycomatrix' is not defined\n"
     ]
    },
    {
     "name": "stderr",
     "output_type": "stream",
     "text": [
      "  6%|▌         | 454/8098 [00:43<11:19, 11.24it/s]"
     ]
    },
    {
     "name": "stdout",
     "output_type": "stream",
     "text": [
      "Error processing c:\\Meet\\Projects\\Project_8_Phoenix_Cervical Cancer Image Classification\\Project-Phoenix\\Dataset\\Preprocessed Dataset\\im_Dyskeratotic\\050_nuc_nuc01.png: name 'greycomatrix' is not defined\n",
      "Error processing c:\\Meet\\Projects\\Project_8_Phoenix_Cervical Cancer Image Classification\\Project-Phoenix\\Dataset\\Preprocessed Dataset\\im_Dyskeratotic\\051_cyt_cyt01.png: name 'greycomatrix' is not defined\n",
      "Error processing c:\\Meet\\Projects\\Project_8_Phoenix_Cervical Cancer Image Classification\\Project-Phoenix\\Dataset\\Preprocessed Dataset\\im_Dyskeratotic\\051_nuc_nuc01.png: name 'greycomatrix' is not defined\n"
     ]
    },
    {
     "name": "stderr",
     "output_type": "stream",
     "text": [
      "  6%|▌         | 456/8098 [00:43<12:15, 10.40it/s]"
     ]
    },
    {
     "name": "stdout",
     "output_type": "stream",
     "text": [
      "Error processing c:\\Meet\\Projects\\Project_8_Phoenix_Cervical Cancer Image Classification\\Project-Phoenix\\Dataset\\Preprocessed Dataset\\im_Dyskeratotic\\052_cyt_cyt01.png: name 'greycomatrix' is not defined\n",
      "Error processing c:\\Meet\\Projects\\Project_8_Phoenix_Cervical Cancer Image Classification\\Project-Phoenix\\Dataset\\Preprocessed Dataset\\im_Dyskeratotic\\052_cyt_cyt02.png: name 'greycomatrix' is not defined\n",
      "Error processing c:\\Meet\\Projects\\Project_8_Phoenix_Cervical Cancer Image Classification\\Project-Phoenix\\Dataset\\Preprocessed Dataset\\im_Dyskeratotic\\052_nuc_nuc01.png: name 'greycomatrix' is not defined\n"
     ]
    },
    {
     "name": "stderr",
     "output_type": "stream",
     "text": [
      "  6%|▌         | 460/8098 [00:43<11:29, 11.08it/s]"
     ]
    },
    {
     "name": "stdout",
     "output_type": "stream",
     "text": [
      "Error processing c:\\Meet\\Projects\\Project_8_Phoenix_Cervical Cancer Image Classification\\Project-Phoenix\\Dataset\\Preprocessed Dataset\\im_Dyskeratotic\\052_nuc_nuc02.png: name 'greycomatrix' is not defined\n",
      "Error processing c:\\Meet\\Projects\\Project_8_Phoenix_Cervical Cancer Image Classification\\Project-Phoenix\\Dataset\\Preprocessed Dataset\\im_Dyskeratotic\\053_cyt_cyt01.png: name 'greycomatrix' is not defined\n",
      "Error processing c:\\Meet\\Projects\\Project_8_Phoenix_Cervical Cancer Image Classification\\Project-Phoenix\\Dataset\\Preprocessed Dataset\\im_Dyskeratotic\\053_cyt_cyt02.png: name 'greycomatrix' is not defined\n"
     ]
    },
    {
     "name": "stderr",
     "output_type": "stream",
     "text": [
      "  6%|▌         | 462/8098 [00:44<11:04, 11.49it/s]"
     ]
    },
    {
     "name": "stdout",
     "output_type": "stream",
     "text": [
      "Error processing c:\\Meet\\Projects\\Project_8_Phoenix_Cervical Cancer Image Classification\\Project-Phoenix\\Dataset\\Preprocessed Dataset\\im_Dyskeratotic\\053_nuc_nuc01.png: name 'greycomatrix' is not defined\n",
      "Error processing c:\\Meet\\Projects\\Project_8_Phoenix_Cervical Cancer Image Classification\\Project-Phoenix\\Dataset\\Preprocessed Dataset\\im_Dyskeratotic\\053_nuc_nuc02.png: name 'greycomatrix' is not defined\n",
      "Error processing c:\\Meet\\Projects\\Project_8_Phoenix_Cervical Cancer Image Classification\\Project-Phoenix\\Dataset\\Preprocessed Dataset\\im_Dyskeratotic\\054_cyt_cyt01.png: name 'greycomatrix' is not defined\n"
     ]
    },
    {
     "name": "stderr",
     "output_type": "stream",
     "text": [
      "  6%|▌         | 466/8098 [00:44<10:57, 11.60it/s]"
     ]
    },
    {
     "name": "stdout",
     "output_type": "stream",
     "text": [
      "Error processing c:\\Meet\\Projects\\Project_8_Phoenix_Cervical Cancer Image Classification\\Project-Phoenix\\Dataset\\Preprocessed Dataset\\im_Dyskeratotic\\054_nuc_nuc01.png: name 'greycomatrix' is not defined\n",
      "Error processing c:\\Meet\\Projects\\Project_8_Phoenix_Cervical Cancer Image Classification\\Project-Phoenix\\Dataset\\Preprocessed Dataset\\im_Dyskeratotic\\055_cyt_cyt01.png: name 'greycomatrix' is not defined\n",
      "Error processing c:\\Meet\\Projects\\Project_8_Phoenix_Cervical Cancer Image Classification\\Project-Phoenix\\Dataset\\Preprocessed Dataset\\im_Dyskeratotic\\055_nuc_nuc01.png: name 'greycomatrix' is not defined\n"
     ]
    },
    {
     "name": "stderr",
     "output_type": "stream",
     "text": [
      "  6%|▌         | 468/8098 [00:44<10:56, 11.62it/s]"
     ]
    },
    {
     "name": "stdout",
     "output_type": "stream",
     "text": [
      "Error processing c:\\Meet\\Projects\\Project_8_Phoenix_Cervical Cancer Image Classification\\Project-Phoenix\\Dataset\\Preprocessed Dataset\\im_Dyskeratotic\\056_cyt_cyt01.png: name 'greycomatrix' is not defined\n",
      "Error processing c:\\Meet\\Projects\\Project_8_Phoenix_Cervical Cancer Image Classification\\Project-Phoenix\\Dataset\\Preprocessed Dataset\\im_Dyskeratotic\\056_nuc_nuc01.png: name 'greycomatrix' is not defined\n",
      "Error processing c:\\Meet\\Projects\\Project_8_Phoenix_Cervical Cancer Image Classification\\Project-Phoenix\\Dataset\\Preprocessed Dataset\\im_Dyskeratotic\\057_cyt_cyt01.png: name 'greycomatrix' is not defined\n"
     ]
    },
    {
     "name": "stderr",
     "output_type": "stream",
     "text": [
      "  6%|▌         | 470/8098 [00:44<11:29, 11.06it/s]"
     ]
    },
    {
     "name": "stdout",
     "output_type": "stream",
     "text": [
      "Error processing c:\\Meet\\Projects\\Project_8_Phoenix_Cervical Cancer Image Classification\\Project-Phoenix\\Dataset\\Preprocessed Dataset\\im_Dyskeratotic\\057_nuc_nuc01.png: name 'greycomatrix' is not defined\n",
      "Error processing c:\\Meet\\Projects\\Project_8_Phoenix_Cervical Cancer Image Classification\\Project-Phoenix\\Dataset\\Preprocessed Dataset\\im_Dyskeratotic\\058_cyt_cyt01.png: name 'greycomatrix' is not defined\n",
      "Error processing c:\\Meet\\Projects\\Project_8_Phoenix_Cervical Cancer Image Classification\\Project-Phoenix\\Dataset\\Preprocessed Dataset\\im_Dyskeratotic\\058_cyt_cyt02.png: name 'greycomatrix' is not defined\n"
     ]
    },
    {
     "name": "stderr",
     "output_type": "stream",
     "text": [
      "  6%|▌         | 474/8098 [00:45<11:33, 10.99it/s]"
     ]
    },
    {
     "name": "stdout",
     "output_type": "stream",
     "text": [
      "Error processing c:\\Meet\\Projects\\Project_8_Phoenix_Cervical Cancer Image Classification\\Project-Phoenix\\Dataset\\Preprocessed Dataset\\im_Dyskeratotic\\058_nuc_nuc01.png: name 'greycomatrix' is not defined\n",
      "Error processing c:\\Meet\\Projects\\Project_8_Phoenix_Cervical Cancer Image Classification\\Project-Phoenix\\Dataset\\Preprocessed Dataset\\im_Dyskeratotic\\058_nuc_nuc02.png: name 'greycomatrix' is not defined\n",
      "Error processing c:\\Meet\\Projects\\Project_8_Phoenix_Cervical Cancer Image Classification\\Project-Phoenix\\Dataset\\Preprocessed Dataset\\im_Dyskeratotic\\059_cyt_cyt01.png: name 'greycomatrix' is not defined\n"
     ]
    },
    {
     "name": "stderr",
     "output_type": "stream",
     "text": [
      "  6%|▌         | 478/8098 [00:45<11:26, 11.10it/s]"
     ]
    },
    {
     "name": "stdout",
     "output_type": "stream",
     "text": [
      "Error processing c:\\Meet\\Projects\\Project_8_Phoenix_Cervical Cancer Image Classification\\Project-Phoenix\\Dataset\\Preprocessed Dataset\\im_Dyskeratotic\\059_cyt_cyt02.png: name 'greycomatrix' is not defined\n",
      "Error processing c:\\Meet\\Projects\\Project_8_Phoenix_Cervical Cancer Image Classification\\Project-Phoenix\\Dataset\\Preprocessed Dataset\\im_Dyskeratotic\\059_cyt_cyt03.png: name 'greycomatrix' is not defined\n",
      "Error processing c:\\Meet\\Projects\\Project_8_Phoenix_Cervical Cancer Image Classification\\Project-Phoenix\\Dataset\\Preprocessed Dataset\\im_Dyskeratotic\\059_cyt_cyt04.png: name 'greycomatrix' is not defined\n"
     ]
    },
    {
     "name": "stderr",
     "output_type": "stream",
     "text": [
      "  6%|▌         | 480/8098 [00:45<11:32, 11.00it/s]"
     ]
    },
    {
     "name": "stdout",
     "output_type": "stream",
     "text": [
      "Error processing c:\\Meet\\Projects\\Project_8_Phoenix_Cervical Cancer Image Classification\\Project-Phoenix\\Dataset\\Preprocessed Dataset\\im_Dyskeratotic\\059_cyt_cyt05.png: name 'greycomatrix' is not defined\n",
      "Error processing c:\\Meet\\Projects\\Project_8_Phoenix_Cervical Cancer Image Classification\\Project-Phoenix\\Dataset\\Preprocessed Dataset\\im_Dyskeratotic\\059_cyt_cyt06.png: name 'greycomatrix' is not defined\n",
      "Error processing c:\\Meet\\Projects\\Project_8_Phoenix_Cervical Cancer Image Classification\\Project-Phoenix\\Dataset\\Preprocessed Dataset\\im_Dyskeratotic\\059_cyt_cyt07.png: name 'greycomatrix' is not defined\n"
     ]
    },
    {
     "name": "stderr",
     "output_type": "stream",
     "text": [
      "  6%|▌         | 482/8098 [00:45<11:19, 11.21it/s]"
     ]
    },
    {
     "name": "stdout",
     "output_type": "stream",
     "text": [
      "Error processing c:\\Meet\\Projects\\Project_8_Phoenix_Cervical Cancer Image Classification\\Project-Phoenix\\Dataset\\Preprocessed Dataset\\im_Dyskeratotic\\059_cyt_cyt08.png: name 'greycomatrix' is not defined\n",
      "Error processing c:\\Meet\\Projects\\Project_8_Phoenix_Cervical Cancer Image Classification\\Project-Phoenix\\Dataset\\Preprocessed Dataset\\im_Dyskeratotic\\059_cyt_cyt09.png: name 'greycomatrix' is not defined\n"
     ]
    },
    {
     "name": "stderr",
     "output_type": "stream",
     "text": [
      "  6%|▌         | 484/8098 [00:46<12:16, 10.33it/s]"
     ]
    },
    {
     "name": "stdout",
     "output_type": "stream",
     "text": [
      "Error processing c:\\Meet\\Projects\\Project_8_Phoenix_Cervical Cancer Image Classification\\Project-Phoenix\\Dataset\\Preprocessed Dataset\\im_Dyskeratotic\\059_cyt_cyt10.png: name 'greycomatrix' is not defined\n",
      "Error processing c:\\Meet\\Projects\\Project_8_Phoenix_Cervical Cancer Image Classification\\Project-Phoenix\\Dataset\\Preprocessed Dataset\\im_Dyskeratotic\\059_cyt_cyt11.png: name 'greycomatrix' is not defined\n",
      "Error processing c:\\Meet\\Projects\\Project_8_Phoenix_Cervical Cancer Image Classification\\Project-Phoenix\\Dataset\\Preprocessed Dataset\\im_Dyskeratotic\\059_cyt_cyt12.png: name 'greycomatrix' is not defined\n"
     ]
    },
    {
     "name": "stderr",
     "output_type": "stream",
     "text": [
      "  6%|▌         | 488/8098 [00:46<12:03, 10.52it/s]"
     ]
    },
    {
     "name": "stdout",
     "output_type": "stream",
     "text": [
      "Error processing c:\\Meet\\Projects\\Project_8_Phoenix_Cervical Cancer Image Classification\\Project-Phoenix\\Dataset\\Preprocessed Dataset\\im_Dyskeratotic\\059_cyt_cyt13.png: name 'greycomatrix' is not defined\n",
      "Error processing c:\\Meet\\Projects\\Project_8_Phoenix_Cervical Cancer Image Classification\\Project-Phoenix\\Dataset\\Preprocessed Dataset\\im_Dyskeratotic\\059_cyt_cyt14.png: name 'greycomatrix' is not defined\n",
      "Error processing c:\\Meet\\Projects\\Project_8_Phoenix_Cervical Cancer Image Classification\\Project-Phoenix\\Dataset\\Preprocessed Dataset\\im_Dyskeratotic\\059_nuc_nuc01.png: name 'greycomatrix' is not defined\n"
     ]
    },
    {
     "name": "stderr",
     "output_type": "stream",
     "text": [
      "  6%|▌         | 492/8098 [00:46<11:26, 11.08it/s]"
     ]
    },
    {
     "name": "stdout",
     "output_type": "stream",
     "text": [
      "Error processing c:\\Meet\\Projects\\Project_8_Phoenix_Cervical Cancer Image Classification\\Project-Phoenix\\Dataset\\Preprocessed Dataset\\im_Dyskeratotic\\059_nuc_nuc02.png: name 'greycomatrix' is not defined\n",
      "Error processing c:\\Meet\\Projects\\Project_8_Phoenix_Cervical Cancer Image Classification\\Project-Phoenix\\Dataset\\Preprocessed Dataset\\im_Dyskeratotic\\059_nuc_nuc03.png: name 'greycomatrix' is not defined\n",
      "Error processing c:\\Meet\\Projects\\Project_8_Phoenix_Cervical Cancer Image Classification\\Project-Phoenix\\Dataset\\Preprocessed Dataset\\im_Dyskeratotic\\059_nuc_nuc04.png: name 'greycomatrix' is not defined\n"
     ]
    },
    {
     "name": "stderr",
     "output_type": "stream",
     "text": [
      "  6%|▌         | 494/8098 [00:46<11:21, 11.16it/s]"
     ]
    },
    {
     "name": "stdout",
     "output_type": "stream",
     "text": [
      "Error processing c:\\Meet\\Projects\\Project_8_Phoenix_Cervical Cancer Image Classification\\Project-Phoenix\\Dataset\\Preprocessed Dataset\\im_Dyskeratotic\\059_nuc_nuc05.png: name 'greycomatrix' is not defined\n",
      "Error processing c:\\Meet\\Projects\\Project_8_Phoenix_Cervical Cancer Image Classification\\Project-Phoenix\\Dataset\\Preprocessed Dataset\\im_Dyskeratotic\\059_nuc_nuc06.png: name 'greycomatrix' is not defined\n"
     ]
    },
    {
     "name": "stderr",
     "output_type": "stream",
     "text": [
      "  6%|▌         | 496/8098 [00:47<11:35, 10.93it/s]"
     ]
    },
    {
     "name": "stdout",
     "output_type": "stream",
     "text": [
      "Error processing c:\\Meet\\Projects\\Project_8_Phoenix_Cervical Cancer Image Classification\\Project-Phoenix\\Dataset\\Preprocessed Dataset\\im_Dyskeratotic\\059_nuc_nuc07.png: name 'greycomatrix' is not defined\n",
      "Error processing c:\\Meet\\Projects\\Project_8_Phoenix_Cervical Cancer Image Classification\\Project-Phoenix\\Dataset\\Preprocessed Dataset\\im_Dyskeratotic\\059_nuc_nuc08.png: name 'greycomatrix' is not defined\n",
      "Error processing c:\\Meet\\Projects\\Project_8_Phoenix_Cervical Cancer Image Classification\\Project-Phoenix\\Dataset\\Preprocessed Dataset\\im_Dyskeratotic\\059_nuc_nuc09.png: name 'greycomatrix' is not defined\n"
     ]
    },
    {
     "name": "stderr",
     "output_type": "stream",
     "text": [
      "  6%|▌         | 500/8098 [00:47<10:59, 11.51it/s]"
     ]
    },
    {
     "name": "stdout",
     "output_type": "stream",
     "text": [
      "Error processing c:\\Meet\\Projects\\Project_8_Phoenix_Cervical Cancer Image Classification\\Project-Phoenix\\Dataset\\Preprocessed Dataset\\im_Dyskeratotic\\059_nuc_nuc10.png: name 'greycomatrix' is not defined\n",
      "Error processing c:\\Meet\\Projects\\Project_8_Phoenix_Cervical Cancer Image Classification\\Project-Phoenix\\Dataset\\Preprocessed Dataset\\im_Dyskeratotic\\059_nuc_nuc11.png: name 'greycomatrix' is not defined\n",
      "Error processing c:\\Meet\\Projects\\Project_8_Phoenix_Cervical Cancer Image Classification\\Project-Phoenix\\Dataset\\Preprocessed Dataset\\im_Dyskeratotic\\059_nuc_nuc12.png: name 'greycomatrix' is not defined\n"
     ]
    },
    {
     "name": "stderr",
     "output_type": "stream",
     "text": [
      "  6%|▌         | 502/8098 [00:47<10:51, 11.66it/s]"
     ]
    },
    {
     "name": "stdout",
     "output_type": "stream",
     "text": [
      "Error processing c:\\Meet\\Projects\\Project_8_Phoenix_Cervical Cancer Image Classification\\Project-Phoenix\\Dataset\\Preprocessed Dataset\\im_Dyskeratotic\\059_nuc_nuc13.png: name 'greycomatrix' is not defined\n",
      "Error processing c:\\Meet\\Projects\\Project_8_Phoenix_Cervical Cancer Image Classification\\Project-Phoenix\\Dataset\\Preprocessed Dataset\\im_Dyskeratotic\\059_nuc_nuc14.png: name 'greycomatrix' is not defined\n",
      "Error processing c:\\Meet\\Projects\\Project_8_Phoenix_Cervical Cancer Image Classification\\Project-Phoenix\\Dataset\\Preprocessed Dataset\\im_Dyskeratotic\\060_cyt_cyt01.png: name 'greycomatrix' is not defined\n"
     ]
    },
    {
     "name": "stderr",
     "output_type": "stream",
     "text": [
      "  6%|▌         | 506/8098 [00:47<10:37, 11.91it/s]"
     ]
    },
    {
     "name": "stdout",
     "output_type": "stream",
     "text": [
      "Error processing c:\\Meet\\Projects\\Project_8_Phoenix_Cervical Cancer Image Classification\\Project-Phoenix\\Dataset\\Preprocessed Dataset\\im_Dyskeratotic\\060_cyt_cyt02.png: name 'greycomatrix' is not defined\n",
      "Error processing c:\\Meet\\Projects\\Project_8_Phoenix_Cervical Cancer Image Classification\\Project-Phoenix\\Dataset\\Preprocessed Dataset\\im_Dyskeratotic\\060_cyt_cyt03.png: name 'greycomatrix' is not defined\n",
      "Error processing c:\\Meet\\Projects\\Project_8_Phoenix_Cervical Cancer Image Classification\\Project-Phoenix\\Dataset\\Preprocessed Dataset\\im_Dyskeratotic\\060_nuc_nuc01.png: name 'greycomatrix' is not defined\n"
     ]
    },
    {
     "name": "stderr",
     "output_type": "stream",
     "text": [
      "  6%|▋         | 508/8098 [00:48<10:36, 11.93it/s]"
     ]
    },
    {
     "name": "stdout",
     "output_type": "stream",
     "text": [
      "Error processing c:\\Meet\\Projects\\Project_8_Phoenix_Cervical Cancer Image Classification\\Project-Phoenix\\Dataset\\Preprocessed Dataset\\im_Dyskeratotic\\060_nuc_nuc02.png: name 'greycomatrix' is not defined\n",
      "Error processing c:\\Meet\\Projects\\Project_8_Phoenix_Cervical Cancer Image Classification\\Project-Phoenix\\Dataset\\Preprocessed Dataset\\im_Dyskeratotic\\060_nuc_nuc03.png: name 'greycomatrix' is not defined\n",
      "Error processing c:\\Meet\\Projects\\Project_8_Phoenix_Cervical Cancer Image Classification\\Project-Phoenix\\Dataset\\Preprocessed Dataset\\im_Dyskeratotic\\061_cyt_cyt01.png: name 'greycomatrix' is not defined\n"
     ]
    },
    {
     "name": "stderr",
     "output_type": "stream",
     "text": [
      "  6%|▋         | 510/8098 [00:48<10:49, 11.68it/s]"
     ]
    },
    {
     "name": "stdout",
     "output_type": "stream",
     "text": [
      "Error processing c:\\Meet\\Projects\\Project_8_Phoenix_Cervical Cancer Image Classification\\Project-Phoenix\\Dataset\\Preprocessed Dataset\\im_Dyskeratotic\\061_cyt_cyt02.png: name 'greycomatrix' is not defined\n",
      "Error processing c:\\Meet\\Projects\\Project_8_Phoenix_Cervical Cancer Image Classification\\Project-Phoenix\\Dataset\\Preprocessed Dataset\\im_Dyskeratotic\\061_nuc_nuc01.png: name 'greycomatrix' is not defined\n"
     ]
    },
    {
     "name": "stderr",
     "output_type": "stream",
     "text": [
      "  6%|▋         | 512/8098 [00:48<11:48, 10.70it/s]"
     ]
    },
    {
     "name": "stdout",
     "output_type": "stream",
     "text": [
      "Error processing c:\\Meet\\Projects\\Project_8_Phoenix_Cervical Cancer Image Classification\\Project-Phoenix\\Dataset\\Preprocessed Dataset\\im_Dyskeratotic\\061_nuc_nuc02.png: name 'greycomatrix' is not defined\n",
      "Error processing c:\\Meet\\Projects\\Project_8_Phoenix_Cervical Cancer Image Classification\\Project-Phoenix\\Dataset\\Preprocessed Dataset\\im_Dyskeratotic\\062_cyt_cyt01.png: name 'greycomatrix' is not defined\n",
      "Error processing c:\\Meet\\Projects\\Project_8_Phoenix_Cervical Cancer Image Classification\\Project-Phoenix\\Dataset\\Preprocessed Dataset\\im_Dyskeratotic\\062_cyt_cyt02.png: name 'greycomatrix' is not defined\n"
     ]
    },
    {
     "name": "stderr",
     "output_type": "stream",
     "text": [
      "  6%|▋         | 516/8098 [00:48<11:41, 10.81it/s]"
     ]
    },
    {
     "name": "stdout",
     "output_type": "stream",
     "text": [
      "Error processing c:\\Meet\\Projects\\Project_8_Phoenix_Cervical Cancer Image Classification\\Project-Phoenix\\Dataset\\Preprocessed Dataset\\im_Dyskeratotic\\062_cyt_cyt03.png: name 'greycomatrix' is not defined\n",
      "Error processing c:\\Meet\\Projects\\Project_8_Phoenix_Cervical Cancer Image Classification\\Project-Phoenix\\Dataset\\Preprocessed Dataset\\im_Dyskeratotic\\062_cyt_cyt04.png: name 'greycomatrix' is not defined\n",
      "Error processing c:\\Meet\\Projects\\Project_8_Phoenix_Cervical Cancer Image Classification\\Project-Phoenix\\Dataset\\Preprocessed Dataset\\im_Dyskeratotic\\062_cyt_cyt05.png: name 'greycomatrix' is not defined\n"
     ]
    },
    {
     "name": "stderr",
     "output_type": "stream",
     "text": [
      "  6%|▋         | 518/8098 [00:49<11:53, 10.62it/s]"
     ]
    },
    {
     "name": "stdout",
     "output_type": "stream",
     "text": [
      "Error processing c:\\Meet\\Projects\\Project_8_Phoenix_Cervical Cancer Image Classification\\Project-Phoenix\\Dataset\\Preprocessed Dataset\\im_Dyskeratotic\\062_cyt_cyt06.png: name 'greycomatrix' is not defined\n",
      "Error processing c:\\Meet\\Projects\\Project_8_Phoenix_Cervical Cancer Image Classification\\Project-Phoenix\\Dataset\\Preprocessed Dataset\\im_Dyskeratotic\\062_nuc_nuc01.png: name 'greycomatrix' is not defined\n"
     ]
    },
    {
     "name": "stderr",
     "output_type": "stream",
     "text": [
      "  6%|▋         | 522/8098 [00:49<11:53, 10.62it/s]"
     ]
    },
    {
     "name": "stdout",
     "output_type": "stream",
     "text": [
      "Error processing c:\\Meet\\Projects\\Project_8_Phoenix_Cervical Cancer Image Classification\\Project-Phoenix\\Dataset\\Preprocessed Dataset\\im_Dyskeratotic\\062_nuc_nuc02.png: name 'greycomatrix' is not defined\n",
      "Error processing c:\\Meet\\Projects\\Project_8_Phoenix_Cervical Cancer Image Classification\\Project-Phoenix\\Dataset\\Preprocessed Dataset\\im_Dyskeratotic\\062_nuc_nuc03.png: name 'greycomatrix' is not defined\n",
      "Error processing c:\\Meet\\Projects\\Project_8_Phoenix_Cervical Cancer Image Classification\\Project-Phoenix\\Dataset\\Preprocessed Dataset\\im_Dyskeratotic\\062_nuc_nuc04.png: name 'greycomatrix' is not defined\n"
     ]
    },
    {
     "name": "stderr",
     "output_type": "stream",
     "text": [
      "  6%|▋         | 524/8098 [00:49<11:33, 10.92it/s]"
     ]
    },
    {
     "name": "stdout",
     "output_type": "stream",
     "text": [
      "Error processing c:\\Meet\\Projects\\Project_8_Phoenix_Cervical Cancer Image Classification\\Project-Phoenix\\Dataset\\Preprocessed Dataset\\im_Dyskeratotic\\062_nuc_nuc05.png: name 'greycomatrix' is not defined\n",
      "Error processing c:\\Meet\\Projects\\Project_8_Phoenix_Cervical Cancer Image Classification\\Project-Phoenix\\Dataset\\Preprocessed Dataset\\im_Dyskeratotic\\062_nuc_nuc06.png: name 'greycomatrix' is not defined\n",
      "Error processing c:\\Meet\\Projects\\Project_8_Phoenix_Cervical Cancer Image Classification\\Project-Phoenix\\Dataset\\Preprocessed Dataset\\im_Dyskeratotic\\063_cyt_cyt01.png: name 'greycomatrix' is not defined\n"
     ]
    },
    {
     "name": "stderr",
     "output_type": "stream",
     "text": [
      "  7%|▋         | 528/8098 [00:49<11:10, 11.30it/s]"
     ]
    },
    {
     "name": "stdout",
     "output_type": "stream",
     "text": [
      "Error processing c:\\Meet\\Projects\\Project_8_Phoenix_Cervical Cancer Image Classification\\Project-Phoenix\\Dataset\\Preprocessed Dataset\\im_Dyskeratotic\\063_cyt_cyt02.png: name 'greycomatrix' is not defined\n",
      "Error processing c:\\Meet\\Projects\\Project_8_Phoenix_Cervical Cancer Image Classification\\Project-Phoenix\\Dataset\\Preprocessed Dataset\\im_Dyskeratotic\\063_cyt_cyt03.png: name 'greycomatrix' is not defined\n",
      "Error processing c:\\Meet\\Projects\\Project_8_Phoenix_Cervical Cancer Image Classification\\Project-Phoenix\\Dataset\\Preprocessed Dataset\\im_Dyskeratotic\\063_nuc_nuc01.png: name 'greycomatrix' is not defined\n"
     ]
    },
    {
     "name": "stderr",
     "output_type": "stream",
     "text": [
      "  7%|▋         | 530/8098 [00:50<10:56, 11.52it/s]"
     ]
    },
    {
     "name": "stdout",
     "output_type": "stream",
     "text": [
      "Error processing c:\\Meet\\Projects\\Project_8_Phoenix_Cervical Cancer Image Classification\\Project-Phoenix\\Dataset\\Preprocessed Dataset\\im_Dyskeratotic\\063_nuc_nuc02.png: name 'greycomatrix' is not defined\n",
      "Error processing c:\\Meet\\Projects\\Project_8_Phoenix_Cervical Cancer Image Classification\\Project-Phoenix\\Dataset\\Preprocessed Dataset\\im_Dyskeratotic\\063_nuc_nuc03.png: name 'greycomatrix' is not defined\n",
      "Error processing c:\\Meet\\Projects\\Project_8_Phoenix_Cervical Cancer Image Classification\\Project-Phoenix\\Dataset\\Preprocessed Dataset\\im_Dyskeratotic\\064_cyt_cyt01.png: name 'greycomatrix' is not defined\n"
     ]
    },
    {
     "name": "stderr",
     "output_type": "stream",
     "text": [
      "  7%|▋         | 532/8098 [00:50<11:26, 11.03it/s]"
     ]
    },
    {
     "name": "stdout",
     "output_type": "stream",
     "text": [
      "Error processing c:\\Meet\\Projects\\Project_8_Phoenix_Cervical Cancer Image Classification\\Project-Phoenix\\Dataset\\Preprocessed Dataset\\im_Dyskeratotic\\064_cyt_cyt02.png: name 'greycomatrix' is not defined\n",
      "Error processing c:\\Meet\\Projects\\Project_8_Phoenix_Cervical Cancer Image Classification\\Project-Phoenix\\Dataset\\Preprocessed Dataset\\im_Dyskeratotic\\064_cyt_cyt03.png: name 'greycomatrix' is not defined\n",
      "Error processing c:\\Meet\\Projects\\Project_8_Phoenix_Cervical Cancer Image Classification\\Project-Phoenix\\Dataset\\Preprocessed Dataset\\im_Dyskeratotic\\064_cyt_cyt04.png: name 'greycomatrix' is not defined\n"
     ]
    },
    {
     "name": "stderr",
     "output_type": "stream",
     "text": [
      "  7%|▋         | 536/8098 [00:50<11:41, 10.78it/s]"
     ]
    },
    {
     "name": "stdout",
     "output_type": "stream",
     "text": [
      "Error processing c:\\Meet\\Projects\\Project_8_Phoenix_Cervical Cancer Image Classification\\Project-Phoenix\\Dataset\\Preprocessed Dataset\\im_Dyskeratotic\\064_nuc_nuc01.png: name 'greycomatrix' is not defined\n",
      "Error processing c:\\Meet\\Projects\\Project_8_Phoenix_Cervical Cancer Image Classification\\Project-Phoenix\\Dataset\\Preprocessed Dataset\\im_Dyskeratotic\\064_nuc_nuc02.png: name 'greycomatrix' is not defined\n",
      "Error processing c:\\Meet\\Projects\\Project_8_Phoenix_Cervical Cancer Image Classification\\Project-Phoenix\\Dataset\\Preprocessed Dataset\\im_Dyskeratotic\\064_nuc_nuc03.png: name 'greycomatrix' is not defined\n"
     ]
    },
    {
     "name": "stderr",
     "output_type": "stream",
     "text": [
      "  7%|▋         | 538/8098 [00:50<11:21, 11.09it/s]"
     ]
    },
    {
     "name": "stdout",
     "output_type": "stream",
     "text": [
      "Error processing c:\\Meet\\Projects\\Project_8_Phoenix_Cervical Cancer Image Classification\\Project-Phoenix\\Dataset\\Preprocessed Dataset\\im_Dyskeratotic\\064_nuc_nuc04.png: name 'greycomatrix' is not defined\n",
      "Error processing c:\\Meet\\Projects\\Project_8_Phoenix_Cervical Cancer Image Classification\\Project-Phoenix\\Dataset\\Preprocessed Dataset\\im_Dyskeratotic\\065_cyt_cyt01.png: name 'greycomatrix' is not defined\n"
     ]
    },
    {
     "name": "stderr",
     "output_type": "stream",
     "text": [
      "  7%|▋         | 542/8098 [00:51<11:57, 10.54it/s]"
     ]
    },
    {
     "name": "stdout",
     "output_type": "stream",
     "text": [
      "Error processing c:\\Meet\\Projects\\Project_8_Phoenix_Cervical Cancer Image Classification\\Project-Phoenix\\Dataset\\Preprocessed Dataset\\im_Dyskeratotic\\065_cyt_cyt02.png: name 'greycomatrix' is not defined\n",
      "Error processing c:\\Meet\\Projects\\Project_8_Phoenix_Cervical Cancer Image Classification\\Project-Phoenix\\Dataset\\Preprocessed Dataset\\im_Dyskeratotic\\065_cyt_cyt03.png: name 'greycomatrix' is not defined\n",
      "Error processing c:\\Meet\\Projects\\Project_8_Phoenix_Cervical Cancer Image Classification\\Project-Phoenix\\Dataset\\Preprocessed Dataset\\im_Dyskeratotic\\065_cyt_cyt04.png: name 'greycomatrix' is not defined\n"
     ]
    },
    {
     "name": "stderr",
     "output_type": "stream",
     "text": [
      "  7%|▋         | 544/8098 [00:51<12:06, 10.40it/s]"
     ]
    },
    {
     "name": "stdout",
     "output_type": "stream",
     "text": [
      "Error processing c:\\Meet\\Projects\\Project_8_Phoenix_Cervical Cancer Image Classification\\Project-Phoenix\\Dataset\\Preprocessed Dataset\\im_Dyskeratotic\\065_nuc_nuc01.png: name 'greycomatrix' is not defined\n",
      "Error processing c:\\Meet\\Projects\\Project_8_Phoenix_Cervical Cancer Image Classification\\Project-Phoenix\\Dataset\\Preprocessed Dataset\\im_Dyskeratotic\\065_nuc_nuc02.png: name 'greycomatrix' is not defined\n"
     ]
    },
    {
     "name": "stderr",
     "output_type": "stream",
     "text": [
      "  7%|▋         | 546/8098 [00:51<12:15, 10.27it/s]"
     ]
    },
    {
     "name": "stdout",
     "output_type": "stream",
     "text": [
      "Error processing c:\\Meet\\Projects\\Project_8_Phoenix_Cervical Cancer Image Classification\\Project-Phoenix\\Dataset\\Preprocessed Dataset\\im_Dyskeratotic\\065_nuc_nuc03.png: name 'greycomatrix' is not defined\n",
      "Error processing c:\\Meet\\Projects\\Project_8_Phoenix_Cervical Cancer Image Classification\\Project-Phoenix\\Dataset\\Preprocessed Dataset\\im_Dyskeratotic\\065_nuc_nuc04.png: name 'greycomatrix' is not defined\n",
      "Error processing c:\\Meet\\Projects\\Project_8_Phoenix_Cervical Cancer Image Classification\\Project-Phoenix\\Dataset\\Preprocessed Dataset\\im_Dyskeratotic\\066_cyt_cyt01.png: name 'greycomatrix' is not defined\n"
     ]
    },
    {
     "name": "stderr",
     "output_type": "stream",
     "text": [
      "  7%|▋         | 548/8098 [00:51<11:48, 10.66it/s]"
     ]
    },
    {
     "name": "stdout",
     "output_type": "stream",
     "text": [
      "Error processing c:\\Meet\\Projects\\Project_8_Phoenix_Cervical Cancer Image Classification\\Project-Phoenix\\Dataset\\Preprocessed Dataset\\im_Dyskeratotic\\066_cyt_cyt02.png: name 'greycomatrix' is not defined\n",
      "Error processing c:\\Meet\\Projects\\Project_8_Phoenix_Cervical Cancer Image Classification\\Project-Phoenix\\Dataset\\Preprocessed Dataset\\im_Dyskeratotic\\066_cyt_cyt03.png: name 'greycomatrix' is not defined\n",
      "Error processing c:\\Meet\\Projects\\Project_8_Phoenix_Cervical Cancer Image Classification\\Project-Phoenix\\Dataset\\Preprocessed Dataset\\im_Dyskeratotic\\066_cyt_cyt04.png: name 'greycomatrix' is not defined\n"
     ]
    },
    {
     "name": "stderr",
     "output_type": "stream",
     "text": [
      "  7%|▋         | 552/8098 [00:52<11:33, 10.88it/s]"
     ]
    },
    {
     "name": "stdout",
     "output_type": "stream",
     "text": [
      "Error processing c:\\Meet\\Projects\\Project_8_Phoenix_Cervical Cancer Image Classification\\Project-Phoenix\\Dataset\\Preprocessed Dataset\\im_Dyskeratotic\\066_cyt_cyt05.png: name 'greycomatrix' is not defined\n",
      "Error processing c:\\Meet\\Projects\\Project_8_Phoenix_Cervical Cancer Image Classification\\Project-Phoenix\\Dataset\\Preprocessed Dataset\\im_Dyskeratotic\\066_cyt_cyt06.png: name 'greycomatrix' is not defined\n",
      "Error processing c:\\Meet\\Projects\\Project_8_Phoenix_Cervical Cancer Image Classification\\Project-Phoenix\\Dataset\\Preprocessed Dataset\\im_Dyskeratotic\\066_cyt_cyt07.png: name 'greycomatrix' is not defined\n"
     ]
    },
    {
     "name": "stderr",
     "output_type": "stream",
     "text": [
      "  7%|▋         | 556/8098 [00:52<11:29, 10.93it/s]"
     ]
    },
    {
     "name": "stdout",
     "output_type": "stream",
     "text": [
      "Error processing c:\\Meet\\Projects\\Project_8_Phoenix_Cervical Cancer Image Classification\\Project-Phoenix\\Dataset\\Preprocessed Dataset\\im_Dyskeratotic\\066_cyt_cyt08.png: name 'greycomatrix' is not defined\n",
      "Error processing c:\\Meet\\Projects\\Project_8_Phoenix_Cervical Cancer Image Classification\\Project-Phoenix\\Dataset\\Preprocessed Dataset\\im_Dyskeratotic\\066_cyt_cyt09.png: name 'greycomatrix' is not defined\n",
      "Error processing c:\\Meet\\Projects\\Project_8_Phoenix_Cervical Cancer Image Classification\\Project-Phoenix\\Dataset\\Preprocessed Dataset\\im_Dyskeratotic\\066_cyt_cyt10.png: name 'greycomatrix' is not defined\n"
     ]
    },
    {
     "name": "stderr",
     "output_type": "stream",
     "text": [
      "  7%|▋         | 558/8098 [00:52<11:20, 11.09it/s]"
     ]
    },
    {
     "name": "stdout",
     "output_type": "stream",
     "text": [
      "Error processing c:\\Meet\\Projects\\Project_8_Phoenix_Cervical Cancer Image Classification\\Project-Phoenix\\Dataset\\Preprocessed Dataset\\im_Dyskeratotic\\066_cyt_cyt11.png: name 'greycomatrix' is not defined\n",
      "Error processing c:\\Meet\\Projects\\Project_8_Phoenix_Cervical Cancer Image Classification\\Project-Phoenix\\Dataset\\Preprocessed Dataset\\im_Dyskeratotic\\066_cyt_cyt12.png: name 'greycomatrix' is not defined\n",
      "Error processing c:\\Meet\\Projects\\Project_8_Phoenix_Cervical Cancer Image Classification\\Project-Phoenix\\Dataset\\Preprocessed Dataset\\im_Dyskeratotic\\066_cyt_cyt13.png: name 'greycomatrix' is not defined\n"
     ]
    },
    {
     "name": "stderr",
     "output_type": "stream",
     "text": [
      "  7%|▋         | 562/8098 [00:53<11:18, 11.11it/s]"
     ]
    },
    {
     "name": "stdout",
     "output_type": "stream",
     "text": [
      "Error processing c:\\Meet\\Projects\\Project_8_Phoenix_Cervical Cancer Image Classification\\Project-Phoenix\\Dataset\\Preprocessed Dataset\\im_Dyskeratotic\\066_cyt_cyt14.png: name 'greycomatrix' is not defined\n",
      "Error processing c:\\Meet\\Projects\\Project_8_Phoenix_Cervical Cancer Image Classification\\Project-Phoenix\\Dataset\\Preprocessed Dataset\\im_Dyskeratotic\\066_nuc_nuc01.png: name 'greycomatrix' is not defined\n",
      "Error processing c:\\Meet\\Projects\\Project_8_Phoenix_Cervical Cancer Image Classification\\Project-Phoenix\\Dataset\\Preprocessed Dataset\\im_Dyskeratotic\\066_nuc_nuc02.png: name 'greycomatrix' is not defined\n"
     ]
    },
    {
     "name": "stderr",
     "output_type": "stream",
     "text": [
      "  7%|▋         | 564/8098 [00:53<11:14, 11.17it/s]"
     ]
    },
    {
     "name": "stdout",
     "output_type": "stream",
     "text": [
      "Error processing c:\\Meet\\Projects\\Project_8_Phoenix_Cervical Cancer Image Classification\\Project-Phoenix\\Dataset\\Preprocessed Dataset\\im_Dyskeratotic\\066_nuc_nuc03.png: name 'greycomatrix' is not defined\n",
      "Error processing c:\\Meet\\Projects\\Project_8_Phoenix_Cervical Cancer Image Classification\\Project-Phoenix\\Dataset\\Preprocessed Dataset\\im_Dyskeratotic\\066_nuc_nuc04.png: name 'greycomatrix' is not defined\n",
      "Error processing c:\\Meet\\Projects\\Project_8_Phoenix_Cervical Cancer Image Classification\\Project-Phoenix\\Dataset\\Preprocessed Dataset\\im_Dyskeratotic\\066_nuc_nuc05.png: name 'greycomatrix' is not defined\n"
     ]
    },
    {
     "name": "stderr",
     "output_type": "stream",
     "text": [
      "  7%|▋         | 566/8098 [00:53<11:24, 11.01it/s]"
     ]
    },
    {
     "name": "stdout",
     "output_type": "stream",
     "text": [
      "Error processing c:\\Meet\\Projects\\Project_8_Phoenix_Cervical Cancer Image Classification\\Project-Phoenix\\Dataset\\Preprocessed Dataset\\im_Dyskeratotic\\066_nuc_nuc06.png: name 'greycomatrix' is not defined\n",
      "Error processing c:\\Meet\\Projects\\Project_8_Phoenix_Cervical Cancer Image Classification\\Project-Phoenix\\Dataset\\Preprocessed Dataset\\im_Dyskeratotic\\066_nuc_nuc07.png: name 'greycomatrix' is not defined\n",
      "Error processing c:\\Meet\\Projects\\Project_8_Phoenix_Cervical Cancer Image Classification\\Project-Phoenix\\Dataset\\Preprocessed Dataset\\im_Dyskeratotic\\066_nuc_nuc08.png: name 'greycomatrix' is not defined\n"
     ]
    },
    {
     "name": "stderr",
     "output_type": "stream",
     "text": [
      "  7%|▋         | 570/8098 [00:53<12:03, 10.41it/s]"
     ]
    },
    {
     "name": "stdout",
     "output_type": "stream",
     "text": [
      "Error processing c:\\Meet\\Projects\\Project_8_Phoenix_Cervical Cancer Image Classification\\Project-Phoenix\\Dataset\\Preprocessed Dataset\\im_Dyskeratotic\\066_nuc_nuc09.png: name 'greycomatrix' is not defined\n",
      "Error processing c:\\Meet\\Projects\\Project_8_Phoenix_Cervical Cancer Image Classification\\Project-Phoenix\\Dataset\\Preprocessed Dataset\\im_Dyskeratotic\\066_nuc_nuc10.png: name 'greycomatrix' is not defined\n",
      "Error processing c:\\Meet\\Projects\\Project_8_Phoenix_Cervical Cancer Image Classification\\Project-Phoenix\\Dataset\\Preprocessed Dataset\\im_Dyskeratotic\\066_nuc_nuc11.png: name 'greycomatrix' is not defined\n"
     ]
    },
    {
     "name": "stderr",
     "output_type": "stream",
     "text": [
      "  7%|▋         | 574/8098 [00:54<11:15, 11.14it/s]"
     ]
    },
    {
     "name": "stdout",
     "output_type": "stream",
     "text": [
      "Error processing c:\\Meet\\Projects\\Project_8_Phoenix_Cervical Cancer Image Classification\\Project-Phoenix\\Dataset\\Preprocessed Dataset\\im_Dyskeratotic\\066_nuc_nuc12.png: name 'greycomatrix' is not defined\n",
      "Error processing c:\\Meet\\Projects\\Project_8_Phoenix_Cervical Cancer Image Classification\\Project-Phoenix\\Dataset\\Preprocessed Dataset\\im_Dyskeratotic\\066_nuc_nuc13.png: name 'greycomatrix' is not defined\n",
      "Error processing c:\\Meet\\Projects\\Project_8_Phoenix_Cervical Cancer Image Classification\\Project-Phoenix\\Dataset\\Preprocessed Dataset\\im_Dyskeratotic\\066_nuc_nuc14.png: name 'greycomatrix' is not defined\n"
     ]
    },
    {
     "name": "stderr",
     "output_type": "stream",
     "text": [
      "  7%|▋         | 576/8098 [00:54<11:13, 11.17it/s]"
     ]
    },
    {
     "name": "stdout",
     "output_type": "stream",
     "text": [
      "Error processing c:\\Meet\\Projects\\Project_8_Phoenix_Cervical Cancer Image Classification\\Project-Phoenix\\Dataset\\Preprocessed Dataset\\im_Dyskeratotic\\067_cyt_cyt01.png: name 'greycomatrix' is not defined\n",
      "Error processing c:\\Meet\\Projects\\Project_8_Phoenix_Cervical Cancer Image Classification\\Project-Phoenix\\Dataset\\Preprocessed Dataset\\im_Dyskeratotic\\067_cyt_cyt02.png: name 'greycomatrix' is not defined\n",
      "Error processing c:\\Meet\\Projects\\Project_8_Phoenix_Cervical Cancer Image Classification\\Project-Phoenix\\Dataset\\Preprocessed Dataset\\im_Dyskeratotic\\067_cyt_cyt03.png: name 'greycomatrix' is not defined\n"
     ]
    },
    {
     "name": "stderr",
     "output_type": "stream",
     "text": [
      "  7%|▋         | 580/8098 [00:54<11:12, 11.18it/s]"
     ]
    },
    {
     "name": "stdout",
     "output_type": "stream",
     "text": [
      "Error processing c:\\Meet\\Projects\\Project_8_Phoenix_Cervical Cancer Image Classification\\Project-Phoenix\\Dataset\\Preprocessed Dataset\\im_Dyskeratotic\\067_cyt_cyt04.png: name 'greycomatrix' is not defined\n",
      "Error processing c:\\Meet\\Projects\\Project_8_Phoenix_Cervical Cancer Image Classification\\Project-Phoenix\\Dataset\\Preprocessed Dataset\\im_Dyskeratotic\\067_cyt_cyt05.png: name 'greycomatrix' is not defined\n",
      "Error processing c:\\Meet\\Projects\\Project_8_Phoenix_Cervical Cancer Image Classification\\Project-Phoenix\\Dataset\\Preprocessed Dataset\\im_Dyskeratotic\\067_cyt_cyt06.png: name 'greycomatrix' is not defined\n"
     ]
    },
    {
     "name": "stderr",
     "output_type": "stream",
     "text": [
      "  7%|▋         | 582/8098 [00:54<11:22, 11.01it/s]"
     ]
    },
    {
     "name": "stdout",
     "output_type": "stream",
     "text": [
      "Error processing c:\\Meet\\Projects\\Project_8_Phoenix_Cervical Cancer Image Classification\\Project-Phoenix\\Dataset\\Preprocessed Dataset\\im_Dyskeratotic\\067_cyt_cyt07.png: name 'greycomatrix' is not defined\n",
      "Error processing c:\\Meet\\Projects\\Project_8_Phoenix_Cervical Cancer Image Classification\\Project-Phoenix\\Dataset\\Preprocessed Dataset\\im_Dyskeratotic\\067_cyt_cyt08.png: name 'greycomatrix' is not defined\n",
      "Error processing c:\\Meet\\Projects\\Project_8_Phoenix_Cervical Cancer Image Classification\\Project-Phoenix\\Dataset\\Preprocessed Dataset\\im_Dyskeratotic\\067_cyt_cyt09.png: name 'greycomatrix' is not defined\n"
     ]
    },
    {
     "name": "stderr",
     "output_type": "stream",
     "text": [
      "  7%|▋         | 586/8098 [00:55<11:16, 11.10it/s]"
     ]
    },
    {
     "name": "stdout",
     "output_type": "stream",
     "text": [
      "Error processing c:\\Meet\\Projects\\Project_8_Phoenix_Cervical Cancer Image Classification\\Project-Phoenix\\Dataset\\Preprocessed Dataset\\im_Dyskeratotic\\067_cyt_cyt10.png: name 'greycomatrix' is not defined\n",
      "Error processing c:\\Meet\\Projects\\Project_8_Phoenix_Cervical Cancer Image Classification\\Project-Phoenix\\Dataset\\Preprocessed Dataset\\im_Dyskeratotic\\067_cyt_cyt11.png: name 'greycomatrix' is not defined\n",
      "Error processing c:\\Meet\\Projects\\Project_8_Phoenix_Cervical Cancer Image Classification\\Project-Phoenix\\Dataset\\Preprocessed Dataset\\im_Dyskeratotic\\067_cyt_cyt12.png: name 'greycomatrix' is not defined\n"
     ]
    },
    {
     "name": "stderr",
     "output_type": "stream",
     "text": [
      "  7%|▋         | 588/8098 [00:55<11:21, 11.02it/s]"
     ]
    },
    {
     "name": "stdout",
     "output_type": "stream",
     "text": [
      "Error processing c:\\Meet\\Projects\\Project_8_Phoenix_Cervical Cancer Image Classification\\Project-Phoenix\\Dataset\\Preprocessed Dataset\\im_Dyskeratotic\\067_cyt_cyt13.png: name 'greycomatrix' is not defined\n",
      "Error processing c:\\Meet\\Projects\\Project_8_Phoenix_Cervical Cancer Image Classification\\Project-Phoenix\\Dataset\\Preprocessed Dataset\\im_Dyskeratotic\\067_cyt_cyt14.png: name 'greycomatrix' is not defined\n",
      "Error processing c:\\Meet\\Projects\\Project_8_Phoenix_Cervical Cancer Image Classification\\Project-Phoenix\\Dataset\\Preprocessed Dataset\\im_Dyskeratotic\\067_cyt_cyt15.png: name 'greycomatrix' is not defined\n"
     ]
    },
    {
     "name": "stderr",
     "output_type": "stream",
     "text": [
      "  7%|▋         | 590/8098 [00:55<11:19, 11.05it/s]"
     ]
    },
    {
     "name": "stdout",
     "output_type": "stream",
     "text": [
      "Error processing c:\\Meet\\Projects\\Project_8_Phoenix_Cervical Cancer Image Classification\\Project-Phoenix\\Dataset\\Preprocessed Dataset\\im_Dyskeratotic\\067_cyt_cyt16.png: name 'greycomatrix' is not defined\n",
      "Error processing c:\\Meet\\Projects\\Project_8_Phoenix_Cervical Cancer Image Classification\\Project-Phoenix\\Dataset\\Preprocessed Dataset\\im_Dyskeratotic\\067_cyt_cyt17.png: name 'greycomatrix' is not defined\n"
     ]
    },
    {
     "name": "stderr",
     "output_type": "stream",
     "text": [
      "  7%|▋         | 592/8098 [00:55<11:33, 10.83it/s]"
     ]
    },
    {
     "name": "stdout",
     "output_type": "stream",
     "text": [
      "Error processing c:\\Meet\\Projects\\Project_8_Phoenix_Cervical Cancer Image Classification\\Project-Phoenix\\Dataset\\Preprocessed Dataset\\im_Dyskeratotic\\067_cyt_cyt18.png: name 'greycomatrix' is not defined\n",
      "Error processing c:\\Meet\\Projects\\Project_8_Phoenix_Cervical Cancer Image Classification\\Project-Phoenix\\Dataset\\Preprocessed Dataset\\im_Dyskeratotic\\067_cyt_cyt19.png: name 'greycomatrix' is not defined\n",
      "Error processing c:\\Meet\\Projects\\Project_8_Phoenix_Cervical Cancer Image Classification\\Project-Phoenix\\Dataset\\Preprocessed Dataset\\im_Dyskeratotic\\067_cyt_cyt20.png: name 'greycomatrix' is not defined\n"
     ]
    },
    {
     "name": "stderr",
     "output_type": "stream",
     "text": [
      "  7%|▋         | 596/8098 [00:56<11:45, 10.63it/s]"
     ]
    },
    {
     "name": "stdout",
     "output_type": "stream",
     "text": [
      "Error processing c:\\Meet\\Projects\\Project_8_Phoenix_Cervical Cancer Image Classification\\Project-Phoenix\\Dataset\\Preprocessed Dataset\\im_Dyskeratotic\\067_cyt_cyt21.png: name 'greycomatrix' is not defined\n",
      "Error processing c:\\Meet\\Projects\\Project_8_Phoenix_Cervical Cancer Image Classification\\Project-Phoenix\\Dataset\\Preprocessed Dataset\\im_Dyskeratotic\\067_nuc_nuc01.png: name 'greycomatrix' is not defined\n",
      "Error processing c:\\Meet\\Projects\\Project_8_Phoenix_Cervical Cancer Image Classification\\Project-Phoenix\\Dataset\\Preprocessed Dataset\\im_Dyskeratotic\\067_nuc_nuc02.png: name 'greycomatrix' is not defined\n"
     ]
    },
    {
     "name": "stderr",
     "output_type": "stream",
     "text": [
      "  7%|▋         | 600/8098 [00:56<11:00, 11.36it/s]"
     ]
    },
    {
     "name": "stdout",
     "output_type": "stream",
     "text": [
      "Error processing c:\\Meet\\Projects\\Project_8_Phoenix_Cervical Cancer Image Classification\\Project-Phoenix\\Dataset\\Preprocessed Dataset\\im_Dyskeratotic\\067_nuc_nuc03.png: name 'greycomatrix' is not defined\n",
      "Error processing c:\\Meet\\Projects\\Project_8_Phoenix_Cervical Cancer Image Classification\\Project-Phoenix\\Dataset\\Preprocessed Dataset\\im_Dyskeratotic\\067_nuc_nuc04.png: name 'greycomatrix' is not defined\n",
      "Error processing c:\\Meet\\Projects\\Project_8_Phoenix_Cervical Cancer Image Classification\\Project-Phoenix\\Dataset\\Preprocessed Dataset\\im_Dyskeratotic\\067_nuc_nuc05.png: name 'greycomatrix' is not defined\n"
     ]
    },
    {
     "name": "stderr",
     "output_type": "stream",
     "text": [
      "  7%|▋         | 602/8098 [00:56<11:17, 11.06it/s]"
     ]
    },
    {
     "name": "stdout",
     "output_type": "stream",
     "text": [
      "Error processing c:\\Meet\\Projects\\Project_8_Phoenix_Cervical Cancer Image Classification\\Project-Phoenix\\Dataset\\Preprocessed Dataset\\im_Dyskeratotic\\067_nuc_nuc06.png: name 'greycomatrix' is not defined\n",
      "Error processing c:\\Meet\\Projects\\Project_8_Phoenix_Cervical Cancer Image Classification\\Project-Phoenix\\Dataset\\Preprocessed Dataset\\im_Dyskeratotic\\067_nuc_nuc07.png: name 'greycomatrix' is not defined\n",
      "Error processing c:\\Meet\\Projects\\Project_8_Phoenix_Cervical Cancer Image Classification\\Project-Phoenix\\Dataset\\Preprocessed Dataset\\im_Dyskeratotic\\067_nuc_nuc08.png: name 'greycomatrix' is not defined\n"
     ]
    },
    {
     "name": "stderr",
     "output_type": "stream",
     "text": [
      "  7%|▋         | 604/8098 [00:56<11:16, 11.08it/s]"
     ]
    },
    {
     "name": "stdout",
     "output_type": "stream",
     "text": [
      "Error processing c:\\Meet\\Projects\\Project_8_Phoenix_Cervical Cancer Image Classification\\Project-Phoenix\\Dataset\\Preprocessed Dataset\\im_Dyskeratotic\\067_nuc_nuc09.png: name 'greycomatrix' is not defined\n",
      "Error processing c:\\Meet\\Projects\\Project_8_Phoenix_Cervical Cancer Image Classification\\Project-Phoenix\\Dataset\\Preprocessed Dataset\\im_Dyskeratotic\\067_nuc_nuc10.png: name 'greycomatrix' is not defined\n",
      "Error processing c:\\Meet\\Projects\\Project_8_Phoenix_Cervical Cancer Image Classification\\Project-Phoenix\\Dataset\\Preprocessed Dataset\\im_Dyskeratotic\\067_nuc_nuc11.png: name 'greycomatrix' is not defined\n"
     ]
    },
    {
     "name": "stderr",
     "output_type": "stream",
     "text": [
      "  8%|▊         | 608/8098 [00:57<11:25, 10.93it/s]"
     ]
    },
    {
     "name": "stdout",
     "output_type": "stream",
     "text": [
      "Error processing c:\\Meet\\Projects\\Project_8_Phoenix_Cervical Cancer Image Classification\\Project-Phoenix\\Dataset\\Preprocessed Dataset\\im_Dyskeratotic\\067_nuc_nuc12.png: name 'greycomatrix' is not defined\n",
      "Error processing c:\\Meet\\Projects\\Project_8_Phoenix_Cervical Cancer Image Classification\\Project-Phoenix\\Dataset\\Preprocessed Dataset\\im_Dyskeratotic\\067_nuc_nuc13.png: name 'greycomatrix' is not defined\n",
      "Error processing c:\\Meet\\Projects\\Project_8_Phoenix_Cervical Cancer Image Classification\\Project-Phoenix\\Dataset\\Preprocessed Dataset\\im_Dyskeratotic\\067_nuc_nuc14.png: name 'greycomatrix' is not defined\n"
     ]
    },
    {
     "name": "stderr",
     "output_type": "stream",
     "text": [
      "  8%|▊         | 612/8098 [00:57<11:08, 11.20it/s]"
     ]
    },
    {
     "name": "stdout",
     "output_type": "stream",
     "text": [
      "Error processing c:\\Meet\\Projects\\Project_8_Phoenix_Cervical Cancer Image Classification\\Project-Phoenix\\Dataset\\Preprocessed Dataset\\im_Dyskeratotic\\067_nuc_nuc15.png: name 'greycomatrix' is not defined\n",
      "Error processing c:\\Meet\\Projects\\Project_8_Phoenix_Cervical Cancer Image Classification\\Project-Phoenix\\Dataset\\Preprocessed Dataset\\im_Dyskeratotic\\067_nuc_nuc16.png: name 'greycomatrix' is not defined\n",
      "Error processing c:\\Meet\\Projects\\Project_8_Phoenix_Cervical Cancer Image Classification\\Project-Phoenix\\Dataset\\Preprocessed Dataset\\im_Dyskeratotic\\067_nuc_nuc17.png: name 'greycomatrix' is not defined\n"
     ]
    },
    {
     "name": "stderr",
     "output_type": "stream",
     "text": [
      "  8%|▊         | 614/8098 [00:57<11:15, 11.08it/s]"
     ]
    },
    {
     "name": "stdout",
     "output_type": "stream",
     "text": [
      "Error processing c:\\Meet\\Projects\\Project_8_Phoenix_Cervical Cancer Image Classification\\Project-Phoenix\\Dataset\\Preprocessed Dataset\\im_Dyskeratotic\\067_nuc_nuc18.png: name 'greycomatrix' is not defined\n",
      "Error processing c:\\Meet\\Projects\\Project_8_Phoenix_Cervical Cancer Image Classification\\Project-Phoenix\\Dataset\\Preprocessed Dataset\\im_Dyskeratotic\\067_nuc_nuc19.png: name 'greycomatrix' is not defined\n",
      "Error processing c:\\Meet\\Projects\\Project_8_Phoenix_Cervical Cancer Image Classification\\Project-Phoenix\\Dataset\\Preprocessed Dataset\\im_Dyskeratotic\\067_nuc_nuc20.png: name 'greycomatrix' is not defined\n"
     ]
    },
    {
     "name": "stderr",
     "output_type": "stream",
     "text": [
      "  8%|▊         | 616/8098 [00:58<11:10, 11.16it/s]"
     ]
    },
    {
     "name": "stdout",
     "output_type": "stream",
     "text": [
      "Error processing c:\\Meet\\Projects\\Project_8_Phoenix_Cervical Cancer Image Classification\\Project-Phoenix\\Dataset\\Preprocessed Dataset\\im_Dyskeratotic\\067_nuc_nuc21.png: name 'greycomatrix' is not defined\n",
      "Error processing c:\\Meet\\Projects\\Project_8_Phoenix_Cervical Cancer Image Classification\\Project-Phoenix\\Dataset\\Preprocessed Dataset\\im_Dyskeratotic\\068_cyt_cyt01.png: name 'greycomatrix' is not defined\n"
     ]
    },
    {
     "name": "stderr",
     "output_type": "stream",
     "text": [
      "  8%|▊         | 618/8098 [00:58<11:35, 10.75it/s]"
     ]
    },
    {
     "name": "stdout",
     "output_type": "stream",
     "text": [
      "Error processing c:\\Meet\\Projects\\Project_8_Phoenix_Cervical Cancer Image Classification\\Project-Phoenix\\Dataset\\Preprocessed Dataset\\im_Dyskeratotic\\068_cyt_cyt02.png: name 'greycomatrix' is not defined\n",
      "Error processing c:\\Meet\\Projects\\Project_8_Phoenix_Cervical Cancer Image Classification\\Project-Phoenix\\Dataset\\Preprocessed Dataset\\im_Dyskeratotic\\068_cyt_cyt03.png: name 'greycomatrix' is not defined\n"
     ]
    },
    {
     "name": "stderr",
     "output_type": "stream",
     "text": [
      "  8%|▊         | 622/8098 [00:58<12:23, 10.05it/s]"
     ]
    },
    {
     "name": "stdout",
     "output_type": "stream",
     "text": [
      "Error processing c:\\Meet\\Projects\\Project_8_Phoenix_Cervical Cancer Image Classification\\Project-Phoenix\\Dataset\\Preprocessed Dataset\\im_Dyskeratotic\\068_cyt_cyt04.png: name 'greycomatrix' is not defined\n",
      "Error processing c:\\Meet\\Projects\\Project_8_Phoenix_Cervical Cancer Image Classification\\Project-Phoenix\\Dataset\\Preprocessed Dataset\\im_Dyskeratotic\\068_nuc_nuc01.png: name 'greycomatrix' is not defined\n",
      "Error processing c:\\Meet\\Projects\\Project_8_Phoenix_Cervical Cancer Image Classification\\Project-Phoenix\\Dataset\\Preprocessed Dataset\\im_Dyskeratotic\\068_nuc_nuc02.png: name 'greycomatrix' is not defined\n"
     ]
    },
    {
     "name": "stderr",
     "output_type": "stream",
     "text": [
      "  8%|▊         | 624/8098 [00:58<12:08, 10.25it/s]"
     ]
    },
    {
     "name": "stdout",
     "output_type": "stream",
     "text": [
      "Error processing c:\\Meet\\Projects\\Project_8_Phoenix_Cervical Cancer Image Classification\\Project-Phoenix\\Dataset\\Preprocessed Dataset\\im_Dyskeratotic\\068_nuc_nuc03.png: name 'greycomatrix' is not defined\n",
      "Error processing c:\\Meet\\Projects\\Project_8_Phoenix_Cervical Cancer Image Classification\\Project-Phoenix\\Dataset\\Preprocessed Dataset\\im_Dyskeratotic\\068_nuc_nuc04.png: name 'greycomatrix' is not defined\n",
      "Error processing c:\\Meet\\Projects\\Project_8_Phoenix_Cervical Cancer Image Classification\\Project-Phoenix\\Dataset\\Preprocessed Dataset\\im_Dyskeratotic\\069_cyt_cyt01.png: name 'greycomatrix' is not defined\n"
     ]
    },
    {
     "name": "stderr",
     "output_type": "stream",
     "text": [
      "  8%|▊         | 626/8098 [00:59<11:55, 10.44it/s]"
     ]
    },
    {
     "name": "stdout",
     "output_type": "stream",
     "text": [
      "Error processing c:\\Meet\\Projects\\Project_8_Phoenix_Cervical Cancer Image Classification\\Project-Phoenix\\Dataset\\Preprocessed Dataset\\im_Dyskeratotic\\069_cyt_cyt02.png: name 'greycomatrix' is not defined\n",
      "Error processing c:\\Meet\\Projects\\Project_8_Phoenix_Cervical Cancer Image Classification\\Project-Phoenix\\Dataset\\Preprocessed Dataset\\im_Dyskeratotic\\069_cyt_cyt03.png: name 'greycomatrix' is not defined\n",
      "Error processing c:\\Meet\\Projects\\Project_8_Phoenix_Cervical Cancer Image Classification\\Project-Phoenix\\Dataset\\Preprocessed Dataset\\im_Dyskeratotic\\069_cyt_cyt04.png: name 'greycomatrix' is not defined\n"
     ]
    },
    {
     "name": "stderr",
     "output_type": "stream",
     "text": [
      "  8%|▊         | 630/8098 [00:59<12:00, 10.37it/s]"
     ]
    },
    {
     "name": "stdout",
     "output_type": "stream",
     "text": [
      "Error processing c:\\Meet\\Projects\\Project_8_Phoenix_Cervical Cancer Image Classification\\Project-Phoenix\\Dataset\\Preprocessed Dataset\\im_Dyskeratotic\\069_cyt_cyt05.png: name 'greycomatrix' is not defined\n",
      "Error processing c:\\Meet\\Projects\\Project_8_Phoenix_Cervical Cancer Image Classification\\Project-Phoenix\\Dataset\\Preprocessed Dataset\\im_Dyskeratotic\\069_cyt_cyt06.png: name 'greycomatrix' is not defined\n"
     ]
    },
    {
     "name": "stderr",
     "output_type": "stream",
     "text": [
      "  8%|▊         | 632/8098 [00:59<12:10, 10.22it/s]"
     ]
    },
    {
     "name": "stdout",
     "output_type": "stream",
     "text": [
      "Error processing c:\\Meet\\Projects\\Project_8_Phoenix_Cervical Cancer Image Classification\\Project-Phoenix\\Dataset\\Preprocessed Dataset\\im_Dyskeratotic\\069_nuc_nuc01.png: name 'greycomatrix' is not defined\n",
      "Error processing c:\\Meet\\Projects\\Project_8_Phoenix_Cervical Cancer Image Classification\\Project-Phoenix\\Dataset\\Preprocessed Dataset\\im_Dyskeratotic\\069_nuc_nuc02.png: name 'greycomatrix' is not defined\n",
      "Error processing c:\\Meet\\Projects\\Project_8_Phoenix_Cervical Cancer Image Classification\\Project-Phoenix\\Dataset\\Preprocessed Dataset\\im_Dyskeratotic\\069_nuc_nuc03.png: name 'greycomatrix' is not defined\n"
     ]
    },
    {
     "name": "stderr",
     "output_type": "stream",
     "text": [
      "  8%|▊         | 636/8098 [00:59<11:16, 11.04it/s]"
     ]
    },
    {
     "name": "stdout",
     "output_type": "stream",
     "text": [
      "Error processing c:\\Meet\\Projects\\Project_8_Phoenix_Cervical Cancer Image Classification\\Project-Phoenix\\Dataset\\Preprocessed Dataset\\im_Dyskeratotic\\069_nuc_nuc04.png: name 'greycomatrix' is not defined\n",
      "Error processing c:\\Meet\\Projects\\Project_8_Phoenix_Cervical Cancer Image Classification\\Project-Phoenix\\Dataset\\Preprocessed Dataset\\im_Dyskeratotic\\069_nuc_nuc05.png: name 'greycomatrix' is not defined\n",
      "Error processing c:\\Meet\\Projects\\Project_8_Phoenix_Cervical Cancer Image Classification\\Project-Phoenix\\Dataset\\Preprocessed Dataset\\im_Dyskeratotic\\069_nuc_nuc06.png: name 'greycomatrix' is not defined\n"
     ]
    },
    {
     "name": "stderr",
     "output_type": "stream",
     "text": [
      "  8%|▊         | 638/8098 [01:00<11:32, 10.78it/s]"
     ]
    },
    {
     "name": "stdout",
     "output_type": "stream",
     "text": [
      "Error processing c:\\Meet\\Projects\\Project_8_Phoenix_Cervical Cancer Image Classification\\Project-Phoenix\\Dataset\\Preprocessed Dataset\\im_Dyskeratotic\\070_cyt_cyt01.png: name 'greycomatrix' is not defined\n",
      "Error processing c:\\Meet\\Projects\\Project_8_Phoenix_Cervical Cancer Image Classification\\Project-Phoenix\\Dataset\\Preprocessed Dataset\\im_Dyskeratotic\\070_nuc_nuc01.png: name 'greycomatrix' is not defined\n",
      "Error processing c:\\Meet\\Projects\\Project_8_Phoenix_Cervical Cancer Image Classification\\Project-Phoenix\\Dataset\\Preprocessed Dataset\\im_Dyskeratotic\\071_cyt_cyt01.png: name 'greycomatrix' is not defined\n"
     ]
    },
    {
     "name": "stderr",
     "output_type": "stream",
     "text": [
      "  8%|▊         | 640/8098 [01:00<11:30, 10.81it/s]"
     ]
    },
    {
     "name": "stdout",
     "output_type": "stream",
     "text": [
      "Error processing c:\\Meet\\Projects\\Project_8_Phoenix_Cervical Cancer Image Classification\\Project-Phoenix\\Dataset\\Preprocessed Dataset\\im_Dyskeratotic\\071_cyt_cyt02.png: name 'greycomatrix' is not defined\n",
      "Error processing c:\\Meet\\Projects\\Project_8_Phoenix_Cervical Cancer Image Classification\\Project-Phoenix\\Dataset\\Preprocessed Dataset\\im_Dyskeratotic\\071_cyt_cyt03.png: name 'greycomatrix' is not defined\n"
     ]
    },
    {
     "name": "stderr",
     "output_type": "stream",
     "text": [
      "  8%|▊         | 642/8098 [01:00<12:05, 10.27it/s]"
     ]
    },
    {
     "name": "stdout",
     "output_type": "stream",
     "text": [
      "Error processing c:\\Meet\\Projects\\Project_8_Phoenix_Cervical Cancer Image Classification\\Project-Phoenix\\Dataset\\Preprocessed Dataset\\im_Dyskeratotic\\071_cyt_cyt04.png: name 'greycomatrix' is not defined\n",
      "Error processing c:\\Meet\\Projects\\Project_8_Phoenix_Cervical Cancer Image Classification\\Project-Phoenix\\Dataset\\Preprocessed Dataset\\im_Dyskeratotic\\071_cyt_cyt05.png: name 'greycomatrix' is not defined\n"
     ]
    },
    {
     "name": "stderr",
     "output_type": "stream",
     "text": [
      "  8%|▊         | 646/8098 [01:00<11:54, 10.43it/s]"
     ]
    },
    {
     "name": "stdout",
     "output_type": "stream",
     "text": [
      "Error processing c:\\Meet\\Projects\\Project_8_Phoenix_Cervical Cancer Image Classification\\Project-Phoenix\\Dataset\\Preprocessed Dataset\\im_Dyskeratotic\\071_cyt_cyt06.png: name 'greycomatrix' is not defined\n",
      "Error processing c:\\Meet\\Projects\\Project_8_Phoenix_Cervical Cancer Image Classification\\Project-Phoenix\\Dataset\\Preprocessed Dataset\\im_Dyskeratotic\\071_nuc_nuc01.png: name 'greycomatrix' is not defined\n",
      "Error processing c:\\Meet\\Projects\\Project_8_Phoenix_Cervical Cancer Image Classification\\Project-Phoenix\\Dataset\\Preprocessed Dataset\\im_Dyskeratotic\\071_nuc_nuc02.png: name 'greycomatrix' is not defined\n"
     ]
    },
    {
     "name": "stderr",
     "output_type": "stream",
     "text": [
      "  8%|▊         | 648/8098 [01:01<12:06, 10.26it/s]"
     ]
    },
    {
     "name": "stdout",
     "output_type": "stream",
     "text": [
      "Error processing c:\\Meet\\Projects\\Project_8_Phoenix_Cervical Cancer Image Classification\\Project-Phoenix\\Dataset\\Preprocessed Dataset\\im_Dyskeratotic\\071_nuc_nuc03.png: name 'greycomatrix' is not defined\n",
      "Error processing c:\\Meet\\Projects\\Project_8_Phoenix_Cervical Cancer Image Classification\\Project-Phoenix\\Dataset\\Preprocessed Dataset\\im_Dyskeratotic\\071_nuc_nuc04.png: name 'greycomatrix' is not defined\n",
      "Error processing c:\\Meet\\Projects\\Project_8_Phoenix_Cervical Cancer Image Classification\\Project-Phoenix\\Dataset\\Preprocessed Dataset\\im_Dyskeratotic\\071_nuc_nuc05.png: name 'greycomatrix' is not defined\n"
     ]
    },
    {
     "name": "stderr",
     "output_type": "stream",
     "text": [
      "  8%|▊         | 652/8098 [01:01<11:42, 10.60it/s]"
     ]
    },
    {
     "name": "stdout",
     "output_type": "stream",
     "text": [
      "Error processing c:\\Meet\\Projects\\Project_8_Phoenix_Cervical Cancer Image Classification\\Project-Phoenix\\Dataset\\Preprocessed Dataset\\im_Dyskeratotic\\071_nuc_nuc06.png: name 'greycomatrix' is not defined\n",
      "Error processing c:\\Meet\\Projects\\Project_8_Phoenix_Cervical Cancer Image Classification\\Project-Phoenix\\Dataset\\Preprocessed Dataset\\im_Dyskeratotic\\072_cyt_cyt01.png: name 'greycomatrix' is not defined\n",
      "Error processing c:\\Meet\\Projects\\Project_8_Phoenix_Cervical Cancer Image Classification\\Project-Phoenix\\Dataset\\Preprocessed Dataset\\im_Dyskeratotic\\072_cyt_cyt02.png: name 'greycomatrix' is not defined\n"
     ]
    },
    {
     "name": "stderr",
     "output_type": "stream",
     "text": [
      "C:\\Users\\meetb\\AppData\\Local\\Temp\\ipykernel_53104\\2748481638.py:97: RuntimeWarning: Mean of empty slice.\n",
      "  ch_means = img_rgb[idx].reshape(-1, 3).mean(axis=0)\n",
      "C:\\Users\\meetb\\AppData\\Local\\Packages\\PythonSoftwareFoundation.Python.3.12_qbz5n2kfra8p0\\LocalCache\\local-packages\\Python312\\site-packages\\numpy\\core\\_methods.py:121: RuntimeWarning: invalid value encountered in divide\n",
      "  ret = um.true_divide(\n",
      "C:\\Users\\meetb\\AppData\\Local\\Packages\\PythonSoftwareFoundation.Python.3.12_qbz5n2kfra8p0\\LocalCache\\local-packages\\Python312\\site-packages\\numpy\\core\\_methods.py:206: RuntimeWarning: Degrees of freedom <= 0 for slice\n",
      "  ret = _var(a, axis=axis, dtype=dtype, out=out, ddof=ddof,\n",
      "C:\\Users\\meetb\\AppData\\Local\\Packages\\PythonSoftwareFoundation.Python.3.12_qbz5n2kfra8p0\\LocalCache\\local-packages\\Python312\\site-packages\\numpy\\core\\_methods.py:163: RuntimeWarning: invalid value encountered in divide\n",
      "  arrmean = um.true_divide(arrmean, div, out=arrmean,\n",
      "C:\\Users\\meetb\\AppData\\Local\\Packages\\PythonSoftwareFoundation.Python.3.12_qbz5n2kfra8p0\\LocalCache\\local-packages\\Python312\\site-packages\\numpy\\core\\_methods.py:195: RuntimeWarning: invalid value encountered in divide\n",
      "  ret = um.true_divide(\n",
      "C:\\Users\\meetb\\AppData\\Local\\Packages\\PythonSoftwareFoundation.Python.3.12_qbz5n2kfra8p0\\LocalCache\\local-packages\\Python312\\site-packages\\numpy\\core\\fromnumeric.py:3504: RuntimeWarning: Mean of empty slice.\n",
      "  return _methods._mean(a, axis=axis, dtype=dtype,\n",
      "C:\\Users\\meetb\\AppData\\Local\\Packages\\PythonSoftwareFoundation.Python.3.12_qbz5n2kfra8p0\\LocalCache\\local-packages\\Python312\\site-packages\\numpy\\core\\_methods.py:129: RuntimeWarning: invalid value encountered in divide\n",
      "  ret = ret.dtype.type(ret / rcount)\n",
      "C:\\Users\\meetb\\AppData\\Local\\Packages\\PythonSoftwareFoundation.Python.3.12_qbz5n2kfra8p0\\LocalCache\\local-packages\\Python312\\site-packages\\numpy\\core\\_methods.py:198: RuntimeWarning: invalid value encountered in divide\n",
      "  ret = ret.dtype.type(ret / rcount)\n",
      "  8%|▊         | 654/8098 [01:01<11:21, 10.92it/s]"
     ]
    },
    {
     "name": "stdout",
     "output_type": "stream",
     "text": [
      "Error processing c:\\Meet\\Projects\\Project_8_Phoenix_Cervical Cancer Image Classification\\Project-Phoenix\\Dataset\\Preprocessed Dataset\\im_Dyskeratotic\\072_cyt_cyt03.png: name 'greycomatrix' is not defined\n",
      "Error processing c:\\Meet\\Projects\\Project_8_Phoenix_Cervical Cancer Image Classification\\Project-Phoenix\\Dataset\\Preprocessed Dataset\\im_Dyskeratotic\\072_cyt_cyt04.png: name 'greycomatrix' is not defined\n",
      "Error processing c:\\Meet\\Projects\\Project_8_Phoenix_Cervical Cancer Image Classification\\Project-Phoenix\\Dataset\\Preprocessed Dataset\\im_Dyskeratotic\\072_cyt_cyt05.png: name 'greycomatrix' is not defined\n"
     ]
    },
    {
     "name": "stderr",
     "output_type": "stream",
     "text": [
      "  8%|▊         | 658/8098 [01:02<11:27, 10.82it/s]"
     ]
    },
    {
     "name": "stdout",
     "output_type": "stream",
     "text": [
      "Error processing c:\\Meet\\Projects\\Project_8_Phoenix_Cervical Cancer Image Classification\\Project-Phoenix\\Dataset\\Preprocessed Dataset\\im_Dyskeratotic\\072_cyt_cyt06.png: name 'greycomatrix' is not defined\n",
      "Error processing c:\\Meet\\Projects\\Project_8_Phoenix_Cervical Cancer Image Classification\\Project-Phoenix\\Dataset\\Preprocessed Dataset\\im_Dyskeratotic\\072_cyt_cyt07.png: name 'greycomatrix' is not defined\n",
      "Error processing c:\\Meet\\Projects\\Project_8_Phoenix_Cervical Cancer Image Classification\\Project-Phoenix\\Dataset\\Preprocessed Dataset\\im_Dyskeratotic\\072_cyt_cyt08.png: name 'greycomatrix' is not defined\n"
     ]
    },
    {
     "name": "stderr",
     "output_type": "stream",
     "text": [
      "  8%|▊         | 660/8098 [01:02<11:28, 10.81it/s]"
     ]
    },
    {
     "name": "stdout",
     "output_type": "stream",
     "text": [
      "Error processing c:\\Meet\\Projects\\Project_8_Phoenix_Cervical Cancer Image Classification\\Project-Phoenix\\Dataset\\Preprocessed Dataset\\im_Dyskeratotic\\072_cyt_cyt09.png: name 'greycomatrix' is not defined\n",
      "Error processing c:\\Meet\\Projects\\Project_8_Phoenix_Cervical Cancer Image Classification\\Project-Phoenix\\Dataset\\Preprocessed Dataset\\im_Dyskeratotic\\072_cyt_cyt10.png: name 'greycomatrix' is not defined\n",
      "Error processing c:\\Meet\\Projects\\Project_8_Phoenix_Cervical Cancer Image Classification\\Project-Phoenix\\Dataset\\Preprocessed Dataset\\im_Dyskeratotic\\072_cyt_cyt11.png: name 'greycomatrix' is not defined\n"
     ]
    },
    {
     "name": "stderr",
     "output_type": "stream",
     "text": [
      "  8%|▊         | 662/8098 [01:02<11:25, 10.84it/s]"
     ]
    },
    {
     "name": "stdout",
     "output_type": "stream",
     "text": [
      "Error processing c:\\Meet\\Projects\\Project_8_Phoenix_Cervical Cancer Image Classification\\Project-Phoenix\\Dataset\\Preprocessed Dataset\\im_Dyskeratotic\\072_cyt_cyt12.png: name 'greycomatrix' is not defined\n",
      "Error processing c:\\Meet\\Projects\\Project_8_Phoenix_Cervical Cancer Image Classification\\Project-Phoenix\\Dataset\\Preprocessed Dataset\\im_Dyskeratotic\\072_cyt_cyt13.png: name 'greycomatrix' is not defined\n",
      "Error processing c:\\Meet\\Projects\\Project_8_Phoenix_Cervical Cancer Image Classification\\Project-Phoenix\\Dataset\\Preprocessed Dataset\\im_Dyskeratotic\\072_cyt_cyt14.png: name 'greycomatrix' is not defined\n"
     ]
    },
    {
     "name": "stderr",
     "output_type": "stream",
     "text": [
      "  8%|▊         | 664/8098 [01:02<11:29, 10.78it/s]C:\\Users\\meetb\\AppData\\Local\\Temp\\ipykernel_53104\\2748481638.py:97: RuntimeWarning: Mean of empty slice.\n",
      "  ch_means = img_rgb[idx].reshape(-1, 3).mean(axis=0)\n",
      "C:\\Users\\meetb\\AppData\\Local\\Packages\\PythonSoftwareFoundation.Python.3.12_qbz5n2kfra8p0\\LocalCache\\local-packages\\Python312\\site-packages\\numpy\\core\\_methods.py:121: RuntimeWarning: invalid value encountered in divide\n",
      "  ret = um.true_divide(\n",
      "C:\\Users\\meetb\\AppData\\Local\\Packages\\PythonSoftwareFoundation.Python.3.12_qbz5n2kfra8p0\\LocalCache\\local-packages\\Python312\\site-packages\\numpy\\core\\_methods.py:206: RuntimeWarning: Degrees of freedom <= 0 for slice\n",
      "  ret = _var(a, axis=axis, dtype=dtype, out=out, ddof=ddof,\n",
      "C:\\Users\\meetb\\AppData\\Local\\Packages\\PythonSoftwareFoundation.Python.3.12_qbz5n2kfra8p0\\LocalCache\\local-packages\\Python312\\site-packages\\numpy\\core\\_methods.py:163: RuntimeWarning: invalid value encountered in divide\n",
      "  arrmean = um.true_divide(arrmean, div, out=arrmean,\n",
      "C:\\Users\\meetb\\AppData\\Local\\Packages\\PythonSoftwareFoundation.Python.3.12_qbz5n2kfra8p0\\LocalCache\\local-packages\\Python312\\site-packages\\numpy\\core\\_methods.py:195: RuntimeWarning: invalid value encountered in divide\n",
      "  ret = um.true_divide(\n",
      "C:\\Users\\meetb\\AppData\\Local\\Packages\\PythonSoftwareFoundation.Python.3.12_qbz5n2kfra8p0\\LocalCache\\local-packages\\Python312\\site-packages\\numpy\\core\\fromnumeric.py:3504: RuntimeWarning: Mean of empty slice.\n",
      "  return _methods._mean(a, axis=axis, dtype=dtype,\n",
      "C:\\Users\\meetb\\AppData\\Local\\Packages\\PythonSoftwareFoundation.Python.3.12_qbz5n2kfra8p0\\LocalCache\\local-packages\\Python312\\site-packages\\numpy\\core\\_methods.py:129: RuntimeWarning: invalid value encountered in divide\n",
      "  ret = ret.dtype.type(ret / rcount)\n",
      "C:\\Users\\meetb\\AppData\\Local\\Packages\\PythonSoftwareFoundation.Python.3.12_qbz5n2kfra8p0\\LocalCache\\local-packages\\Python312\\site-packages\\numpy\\core\\_methods.py:198: RuntimeWarning: invalid value encountered in divide\n",
      "  ret = ret.dtype.type(ret / rcount)\n",
      "  8%|▊         | 666/8098 [01:02<11:39, 10.63it/s]"
     ]
    },
    {
     "name": "stdout",
     "output_type": "stream",
     "text": [
      "Error processing c:\\Meet\\Projects\\Project_8_Phoenix_Cervical Cancer Image Classification\\Project-Phoenix\\Dataset\\Preprocessed Dataset\\im_Dyskeratotic\\072_cyt_cyt15.png: name 'greycomatrix' is not defined\n",
      "Error processing c:\\Meet\\Projects\\Project_8_Phoenix_Cervical Cancer Image Classification\\Project-Phoenix\\Dataset\\Preprocessed Dataset\\im_Dyskeratotic\\072_nuc_nuc01.png: name 'greycomatrix' is not defined\n",
      "Error processing c:\\Meet\\Projects\\Project_8_Phoenix_Cervical Cancer Image Classification\\Project-Phoenix\\Dataset\\Preprocessed Dataset\\im_Dyskeratotic\\072_nuc_nuc02.png: name 'greycomatrix' is not defined\n"
     ]
    },
    {
     "name": "stderr",
     "output_type": "stream",
     "text": [
      "  8%|▊         | 668/8098 [01:03<11:58, 10.34it/s]"
     ]
    },
    {
     "name": "stdout",
     "output_type": "stream",
     "text": [
      "Error processing c:\\Meet\\Projects\\Project_8_Phoenix_Cervical Cancer Image Classification\\Project-Phoenix\\Dataset\\Preprocessed Dataset\\im_Dyskeratotic\\072_nuc_nuc03.png: name 'greycomatrix' is not defined\n",
      "Error processing c:\\Meet\\Projects\\Project_8_Phoenix_Cervical Cancer Image Classification\\Project-Phoenix\\Dataset\\Preprocessed Dataset\\im_Dyskeratotic\\072_nuc_nuc04.png: name 'greycomatrix' is not defined\n",
      "Error processing c:\\Meet\\Projects\\Project_8_Phoenix_Cervical Cancer Image Classification\\Project-Phoenix\\Dataset\\Preprocessed Dataset\\im_Dyskeratotic\\072_nuc_nuc05.png: name 'greycomatrix' is not defined\n"
     ]
    },
    {
     "name": "stderr",
     "output_type": "stream",
     "text": [
      "  8%|▊         | 672/8098 [01:03<11:41, 10.58it/s]"
     ]
    },
    {
     "name": "stdout",
     "output_type": "stream",
     "text": [
      "Error processing c:\\Meet\\Projects\\Project_8_Phoenix_Cervical Cancer Image Classification\\Project-Phoenix\\Dataset\\Preprocessed Dataset\\im_Dyskeratotic\\072_nuc_nuc06.png: name 'greycomatrix' is not defined\n",
      "Error processing c:\\Meet\\Projects\\Project_8_Phoenix_Cervical Cancer Image Classification\\Project-Phoenix\\Dataset\\Preprocessed Dataset\\im_Dyskeratotic\\072_nuc_nuc07.png: name 'greycomatrix' is not defined\n",
      "Error processing c:\\Meet\\Projects\\Project_8_Phoenix_Cervical Cancer Image Classification\\Project-Phoenix\\Dataset\\Preprocessed Dataset\\im_Dyskeratotic\\072_nuc_nuc08.png: name 'greycomatrix' is not defined\n"
     ]
    },
    {
     "name": "stderr",
     "output_type": "stream",
     "text": [
      "  8%|▊         | 676/8098 [01:03<11:16, 10.98it/s]"
     ]
    },
    {
     "name": "stdout",
     "output_type": "stream",
     "text": [
      "Error processing c:\\Meet\\Projects\\Project_8_Phoenix_Cervical Cancer Image Classification\\Project-Phoenix\\Dataset\\Preprocessed Dataset\\im_Dyskeratotic\\072_nuc_nuc09.png: name 'greycomatrix' is not defined\n",
      "Error processing c:\\Meet\\Projects\\Project_8_Phoenix_Cervical Cancer Image Classification\\Project-Phoenix\\Dataset\\Preprocessed Dataset\\im_Dyskeratotic\\072_nuc_nuc10.png: name 'greycomatrix' is not defined\n",
      "Error processing c:\\Meet\\Projects\\Project_8_Phoenix_Cervical Cancer Image Classification\\Project-Phoenix\\Dataset\\Preprocessed Dataset\\im_Dyskeratotic\\072_nuc_nuc11.png: name 'greycomatrix' is not defined\n"
     ]
    },
    {
     "name": "stderr",
     "output_type": "stream",
     "text": [
      "C:\\Users\\meetb\\AppData\\Local\\Temp\\ipykernel_53104\\2748481638.py:97: RuntimeWarning: Mean of empty slice.\n",
      "  ch_means = img_rgb[idx].reshape(-1, 3).mean(axis=0)\n",
      "C:\\Users\\meetb\\AppData\\Local\\Packages\\PythonSoftwareFoundation.Python.3.12_qbz5n2kfra8p0\\LocalCache\\local-packages\\Python312\\site-packages\\numpy\\core\\_methods.py:121: RuntimeWarning: invalid value encountered in divide\n",
      "  ret = um.true_divide(\n",
      "C:\\Users\\meetb\\AppData\\Local\\Packages\\PythonSoftwareFoundation.Python.3.12_qbz5n2kfra8p0\\LocalCache\\local-packages\\Python312\\site-packages\\numpy\\core\\_methods.py:206: RuntimeWarning: Degrees of freedom <= 0 for slice\n",
      "  ret = _var(a, axis=axis, dtype=dtype, out=out, ddof=ddof,\n",
      "C:\\Users\\meetb\\AppData\\Local\\Packages\\PythonSoftwareFoundation.Python.3.12_qbz5n2kfra8p0\\LocalCache\\local-packages\\Python312\\site-packages\\numpy\\core\\_methods.py:163: RuntimeWarning: invalid value encountered in divide\n",
      "  arrmean = um.true_divide(arrmean, div, out=arrmean,\n",
      "C:\\Users\\meetb\\AppData\\Local\\Packages\\PythonSoftwareFoundation.Python.3.12_qbz5n2kfra8p0\\LocalCache\\local-packages\\Python312\\site-packages\\numpy\\core\\_methods.py:195: RuntimeWarning: invalid value encountered in divide\n",
      "  ret = um.true_divide(\n",
      "C:\\Users\\meetb\\AppData\\Local\\Packages\\PythonSoftwareFoundation.Python.3.12_qbz5n2kfra8p0\\LocalCache\\local-packages\\Python312\\site-packages\\numpy\\core\\fromnumeric.py:3504: RuntimeWarning: Mean of empty slice.\n",
      "  return _methods._mean(a, axis=axis, dtype=dtype,\n",
      "C:\\Users\\meetb\\AppData\\Local\\Packages\\PythonSoftwareFoundation.Python.3.12_qbz5n2kfra8p0\\LocalCache\\local-packages\\Python312\\site-packages\\numpy\\core\\_methods.py:129: RuntimeWarning: invalid value encountered in divide\n",
      "  ret = ret.dtype.type(ret / rcount)\n",
      "C:\\Users\\meetb\\AppData\\Local\\Packages\\PythonSoftwareFoundation.Python.3.12_qbz5n2kfra8p0\\LocalCache\\local-packages\\Python312\\site-packages\\numpy\\core\\_methods.py:198: RuntimeWarning: invalid value encountered in divide\n",
      "  ret = ret.dtype.type(ret / rcount)\n",
      "  8%|▊         | 678/8098 [01:03<11:27, 10.80it/s]"
     ]
    },
    {
     "name": "stdout",
     "output_type": "stream",
     "text": [
      "Error processing c:\\Meet\\Projects\\Project_8_Phoenix_Cervical Cancer Image Classification\\Project-Phoenix\\Dataset\\Preprocessed Dataset\\im_Dyskeratotic\\072_nuc_nuc12.png: name 'greycomatrix' is not defined\n",
      "Error processing c:\\Meet\\Projects\\Project_8_Phoenix_Cervical Cancer Image Classification\\Project-Phoenix\\Dataset\\Preprocessed Dataset\\im_Dyskeratotic\\072_nuc_nuc13.png: name 'greycomatrix' is not defined\n",
      "Error processing c:\\Meet\\Projects\\Project_8_Phoenix_Cervical Cancer Image Classification\\Project-Phoenix\\Dataset\\Preprocessed Dataset\\im_Dyskeratotic\\072_nuc_nuc14.png: name 'greycomatrix' is not defined\n"
     ]
    },
    {
     "name": "stderr",
     "output_type": "stream",
     "text": [
      "  8%|▊         | 680/8098 [01:04<11:09, 11.08it/s]"
     ]
    },
    {
     "name": "stdout",
     "output_type": "stream",
     "text": [
      "Error processing c:\\Meet\\Projects\\Project_8_Phoenix_Cervical Cancer Image Classification\\Project-Phoenix\\Dataset\\Preprocessed Dataset\\im_Dyskeratotic\\072_nuc_nuc15.png: name 'greycomatrix' is not defined\n",
      "Error processing c:\\Meet\\Projects\\Project_8_Phoenix_Cervical Cancer Image Classification\\Project-Phoenix\\Dataset\\Preprocessed Dataset\\im_Dyskeratotic\\073_cyt_cyt01.png: name 'greycomatrix' is not defined\n",
      "Error processing c:\\Meet\\Projects\\Project_8_Phoenix_Cervical Cancer Image Classification\\Project-Phoenix\\Dataset\\Preprocessed Dataset\\im_Dyskeratotic\\073_cyt_cyt02.png: name 'greycomatrix' is not defined\n"
     ]
    },
    {
     "name": "stderr",
     "output_type": "stream",
     "text": [
      "  8%|▊         | 684/8098 [01:04<11:38, 10.61it/s]"
     ]
    },
    {
     "name": "stdout",
     "output_type": "stream",
     "text": [
      "Error processing c:\\Meet\\Projects\\Project_8_Phoenix_Cervical Cancer Image Classification\\Project-Phoenix\\Dataset\\Preprocessed Dataset\\im_Dyskeratotic\\073_cyt_cyt03.png: name 'greycomatrix' is not defined\n",
      "Error processing c:\\Meet\\Projects\\Project_8_Phoenix_Cervical Cancer Image Classification\\Project-Phoenix\\Dataset\\Preprocessed Dataset\\im_Dyskeratotic\\073_cyt_cyt04.png: name 'greycomatrix' is not defined\n",
      "Error processing c:\\Meet\\Projects\\Project_8_Phoenix_Cervical Cancer Image Classification\\Project-Phoenix\\Dataset\\Preprocessed Dataset\\im_Dyskeratotic\\073_cyt_cyt05.png: name 'greycomatrix' is not defined\n"
     ]
    },
    {
     "name": "stderr",
     "output_type": "stream",
     "text": [
      "  8%|▊         | 688/8098 [01:04<11:02, 11.18it/s]"
     ]
    },
    {
     "name": "stdout",
     "output_type": "stream",
     "text": [
      "Error processing c:\\Meet\\Projects\\Project_8_Phoenix_Cervical Cancer Image Classification\\Project-Phoenix\\Dataset\\Preprocessed Dataset\\im_Dyskeratotic\\073_nuc_nuc01.png: name 'greycomatrix' is not defined\n",
      "Error processing c:\\Meet\\Projects\\Project_8_Phoenix_Cervical Cancer Image Classification\\Project-Phoenix\\Dataset\\Preprocessed Dataset\\im_Dyskeratotic\\073_nuc_nuc02.png: name 'greycomatrix' is not defined\n",
      "Error processing c:\\Meet\\Projects\\Project_8_Phoenix_Cervical Cancer Image Classification\\Project-Phoenix\\Dataset\\Preprocessed Dataset\\im_Dyskeratotic\\073_nuc_nuc03.png: name 'greycomatrix' is not defined\n"
     ]
    },
    {
     "name": "stderr",
     "output_type": "stream",
     "text": [
      "  9%|▊         | 690/8098 [01:05<10:53, 11.34it/s]"
     ]
    },
    {
     "name": "stdout",
     "output_type": "stream",
     "text": [
      "Error processing c:\\Meet\\Projects\\Project_8_Phoenix_Cervical Cancer Image Classification\\Project-Phoenix\\Dataset\\Preprocessed Dataset\\im_Dyskeratotic\\073_nuc_nuc04.png: name 'greycomatrix' is not defined\n",
      "Error processing c:\\Meet\\Projects\\Project_8_Phoenix_Cervical Cancer Image Classification\\Project-Phoenix\\Dataset\\Preprocessed Dataset\\im_Dyskeratotic\\073_nuc_nuc05.png: name 'greycomatrix' is not defined\n",
      "Error processing c:\\Meet\\Projects\\Project_8_Phoenix_Cervical Cancer Image Classification\\Project-Phoenix\\Dataset\\Preprocessed Dataset\\im_Dyskeratotic\\074_cyt_cyt01.png: name 'greycomatrix' is not defined\n"
     ]
    },
    {
     "name": "stderr",
     "output_type": "stream",
     "text": [
      "  9%|▊         | 692/8098 [01:05<11:02, 11.17it/s]"
     ]
    },
    {
     "name": "stdout",
     "output_type": "stream",
     "text": [
      "Error processing c:\\Meet\\Projects\\Project_8_Phoenix_Cervical Cancer Image Classification\\Project-Phoenix\\Dataset\\Preprocessed Dataset\\im_Dyskeratotic\\074_cyt_cyt02.png: name 'greycomatrix' is not defined\n",
      "Error processing c:\\Meet\\Projects\\Project_8_Phoenix_Cervical Cancer Image Classification\\Project-Phoenix\\Dataset\\Preprocessed Dataset\\im_Dyskeratotic\\074_cyt_cyt03.png: name 'greycomatrix' is not defined\n",
      "Error processing c:\\Meet\\Projects\\Project_8_Phoenix_Cervical Cancer Image Classification\\Project-Phoenix\\Dataset\\Preprocessed Dataset\\im_Dyskeratotic\\074_cyt_cyt04.png: name 'greycomatrix' is not defined\n"
     ]
    },
    {
     "name": "stderr",
     "output_type": "stream",
     "text": [
      "  9%|▊         | 696/8098 [01:05<11:15, 10.96it/s]"
     ]
    },
    {
     "name": "stdout",
     "output_type": "stream",
     "text": [
      "Error processing c:\\Meet\\Projects\\Project_8_Phoenix_Cervical Cancer Image Classification\\Project-Phoenix\\Dataset\\Preprocessed Dataset\\im_Dyskeratotic\\074_cyt_cyt05.png: name 'greycomatrix' is not defined\n",
      "Error processing c:\\Meet\\Projects\\Project_8_Phoenix_Cervical Cancer Image Classification\\Project-Phoenix\\Dataset\\Preprocessed Dataset\\im_Dyskeratotic\\074_nuc_nuc01.png: name 'greycomatrix' is not defined\n",
      "Error processing c:\\Meet\\Projects\\Project_8_Phoenix_Cervical Cancer Image Classification\\Project-Phoenix\\Dataset\\Preprocessed Dataset\\im_Dyskeratotic\\074_nuc_nuc02.png: name 'greycomatrix' is not defined\n"
     ]
    },
    {
     "name": "stderr",
     "output_type": "stream",
     "text": [
      "  9%|▊         | 700/8098 [01:05<10:55, 11.29it/s]"
     ]
    },
    {
     "name": "stdout",
     "output_type": "stream",
     "text": [
      "Error processing c:\\Meet\\Projects\\Project_8_Phoenix_Cervical Cancer Image Classification\\Project-Phoenix\\Dataset\\Preprocessed Dataset\\im_Dyskeratotic\\074_nuc_nuc03.png: name 'greycomatrix' is not defined\n",
      "Error processing c:\\Meet\\Projects\\Project_8_Phoenix_Cervical Cancer Image Classification\\Project-Phoenix\\Dataset\\Preprocessed Dataset\\im_Dyskeratotic\\074_nuc_nuc04.png: name 'greycomatrix' is not defined\n",
      "Error processing c:\\Meet\\Projects\\Project_8_Phoenix_Cervical Cancer Image Classification\\Project-Phoenix\\Dataset\\Preprocessed Dataset\\im_Dyskeratotic\\074_nuc_nuc05.png: name 'greycomatrix' is not defined\n"
     ]
    },
    {
     "name": "stderr",
     "output_type": "stream",
     "text": [
      "  9%|▊         | 702/8098 [01:06<11:01, 11.18it/s]"
     ]
    },
    {
     "name": "stdout",
     "output_type": "stream",
     "text": [
      "Error processing c:\\Meet\\Projects\\Project_8_Phoenix_Cervical Cancer Image Classification\\Project-Phoenix\\Dataset\\Preprocessed Dataset\\im_Dyskeratotic\\075_cyt_cyt01.png: name 'greycomatrix' is not defined\n",
      "Error processing c:\\Meet\\Projects\\Project_8_Phoenix_Cervical Cancer Image Classification\\Project-Phoenix\\Dataset\\Preprocessed Dataset\\im_Dyskeratotic\\075_cyt_cyt02.png: name 'greycomatrix' is not defined\n",
      "Error processing c:\\Meet\\Projects\\Project_8_Phoenix_Cervical Cancer Image Classification\\Project-Phoenix\\Dataset\\Preprocessed Dataset\\im_Dyskeratotic\\075_nuc_nuc01.png: name 'greycomatrix' is not defined\n"
     ]
    },
    {
     "name": "stderr",
     "output_type": "stream",
     "text": [
      "  9%|▊         | 706/8098 [01:06<10:45, 11.45it/s]"
     ]
    },
    {
     "name": "stdout",
     "output_type": "stream",
     "text": [
      "Error processing c:\\Meet\\Projects\\Project_8_Phoenix_Cervical Cancer Image Classification\\Project-Phoenix\\Dataset\\Preprocessed Dataset\\im_Dyskeratotic\\075_nuc_nuc02.png: name 'greycomatrix' is not defined\n",
      "Error processing c:\\Meet\\Projects\\Project_8_Phoenix_Cervical Cancer Image Classification\\Project-Phoenix\\Dataset\\Preprocessed Dataset\\im_Dyskeratotic\\076_cyt_cyt01.png: name 'greycomatrix' is not defined\n",
      "Error processing c:\\Meet\\Projects\\Project_8_Phoenix_Cervical Cancer Image Classification\\Project-Phoenix\\Dataset\\Preprocessed Dataset\\im_Dyskeratotic\\076_cyt_cyt02.png: name 'greycomatrix' is not defined\n"
     ]
    },
    {
     "name": "stderr",
     "output_type": "stream",
     "text": [
      "  9%|▊         | 708/8098 [01:06<10:40, 11.53it/s]"
     ]
    },
    {
     "name": "stdout",
     "output_type": "stream",
     "text": [
      "Error processing c:\\Meet\\Projects\\Project_8_Phoenix_Cervical Cancer Image Classification\\Project-Phoenix\\Dataset\\Preprocessed Dataset\\im_Dyskeratotic\\076_nuc_nuc01.png: name 'greycomatrix' is not defined\n",
      "Error processing c:\\Meet\\Projects\\Project_8_Phoenix_Cervical Cancer Image Classification\\Project-Phoenix\\Dataset\\Preprocessed Dataset\\im_Dyskeratotic\\076_nuc_nuc02.png: name 'greycomatrix' is not defined\n",
      "Error processing c:\\Meet\\Projects\\Project_8_Phoenix_Cervical Cancer Image Classification\\Project-Phoenix\\Dataset\\Preprocessed Dataset\\im_Dyskeratotic\\077_cyt_cyt01.png: name 'greycomatrix' is not defined\n"
     ]
    },
    {
     "name": "stderr",
     "output_type": "stream",
     "text": [
      "  9%|▉         | 710/8098 [01:06<11:03, 11.14it/s]"
     ]
    },
    {
     "name": "stdout",
     "output_type": "stream",
     "text": [
      "Error processing c:\\Meet\\Projects\\Project_8_Phoenix_Cervical Cancer Image Classification\\Project-Phoenix\\Dataset\\Preprocessed Dataset\\im_Dyskeratotic\\077_cyt_cyt02.png: name 'greycomatrix' is not defined\n",
      "Error processing c:\\Meet\\Projects\\Project_8_Phoenix_Cervical Cancer Image Classification\\Project-Phoenix\\Dataset\\Preprocessed Dataset\\im_Dyskeratotic\\077_nuc_nuc01.png: name 'greycomatrix' is not defined\n",
      "Error processing c:\\Meet\\Projects\\Project_8_Phoenix_Cervical Cancer Image Classification\\Project-Phoenix\\Dataset\\Preprocessed Dataset\\im_Dyskeratotic\\077_nuc_nuc02.png: name 'greycomatrix' is not defined\n"
     ]
    },
    {
     "name": "stderr",
     "output_type": "stream",
     "text": [
      "  9%|▉         | 714/8098 [01:07<11:06, 11.09it/s]"
     ]
    },
    {
     "name": "stdout",
     "output_type": "stream",
     "text": [
      "Error processing c:\\Meet\\Projects\\Project_8_Phoenix_Cervical Cancer Image Classification\\Project-Phoenix\\Dataset\\Preprocessed Dataset\\im_Dyskeratotic\\078_cyt_cyt01.png: name 'greycomatrix' is not defined\n",
      "Error processing c:\\Meet\\Projects\\Project_8_Phoenix_Cervical Cancer Image Classification\\Project-Phoenix\\Dataset\\Preprocessed Dataset\\im_Dyskeratotic\\078_nuc_nuc01.png: name 'greycomatrix' is not defined\n",
      "Error processing c:\\Meet\\Projects\\Project_8_Phoenix_Cervical Cancer Image Classification\\Project-Phoenix\\Dataset\\Preprocessed Dataset\\im_Dyskeratotic\\079_cyt_cyt01.png: name 'greycomatrix' is not defined\n"
     ]
    },
    {
     "name": "stderr",
     "output_type": "stream",
     "text": [
      "  9%|▉         | 716/8098 [01:07<10:57, 11.23it/s]"
     ]
    },
    {
     "name": "stdout",
     "output_type": "stream",
     "text": [
      "Error processing c:\\Meet\\Projects\\Project_8_Phoenix_Cervical Cancer Image Classification\\Project-Phoenix\\Dataset\\Preprocessed Dataset\\im_Dyskeratotic\\079_nuc_nuc01.png: name 'greycomatrix' is not defined\n",
      "Error processing c:\\Meet\\Projects\\Project_8_Phoenix_Cervical Cancer Image Classification\\Project-Phoenix\\Dataset\\Preprocessed Dataset\\im_Dyskeratotic\\080_cyt_cyt01.png: name 'greycomatrix' is not defined\n"
     ]
    },
    {
     "name": "stderr",
     "output_type": "stream",
     "text": [
      "  9%|▉         | 718/8098 [01:07<11:33, 10.64it/s]"
     ]
    },
    {
     "name": "stdout",
     "output_type": "stream",
     "text": [
      "Error processing c:\\Meet\\Projects\\Project_8_Phoenix_Cervical Cancer Image Classification\\Project-Phoenix\\Dataset\\Preprocessed Dataset\\im_Dyskeratotic\\080_nuc_nuc01.png: name 'greycomatrix' is not defined\n",
      "Error processing c:\\Meet\\Projects\\Project_8_Phoenix_Cervical Cancer Image Classification\\Project-Phoenix\\Dataset\\Preprocessed Dataset\\im_Dyskeratotic\\081_cyt_cyt01.png: name 'greycomatrix' is not defined\n",
      "Error processing c:\\Meet\\Projects\\Project_8_Phoenix_Cervical Cancer Image Classification\\Project-Phoenix\\Dataset\\Preprocessed Dataset\\im_Dyskeratotic\\081_cyt_cyt02.png: name 'greycomatrix' is not defined\n"
     ]
    },
    {
     "name": "stderr",
     "output_type": "stream",
     "text": [
      "  9%|▉         | 722/8098 [01:07<11:16, 10.91it/s]"
     ]
    },
    {
     "name": "stdout",
     "output_type": "stream",
     "text": [
      "Error processing c:\\Meet\\Projects\\Project_8_Phoenix_Cervical Cancer Image Classification\\Project-Phoenix\\Dataset\\Preprocessed Dataset\\im_Dyskeratotic\\081_cyt_cyt03.png: name 'greycomatrix' is not defined\n",
      "Error processing c:\\Meet\\Projects\\Project_8_Phoenix_Cervical Cancer Image Classification\\Project-Phoenix\\Dataset\\Preprocessed Dataset\\im_Dyskeratotic\\081_cyt_cyt04.png: name 'greycomatrix' is not defined\n",
      "Error processing c:\\Meet\\Projects\\Project_8_Phoenix_Cervical Cancer Image Classification\\Project-Phoenix\\Dataset\\Preprocessed Dataset\\im_Dyskeratotic\\081_cyt_cyt05.png: name 'greycomatrix' is not defined\n"
     ]
    },
    {
     "name": "stderr",
     "output_type": "stream",
     "text": [
      "C:\\Users\\meetb\\AppData\\Local\\Temp\\ipykernel_53104\\2748481638.py:97: RuntimeWarning: Mean of empty slice.\n",
      "  ch_means = img_rgb[idx].reshape(-1, 3).mean(axis=0)\n",
      "C:\\Users\\meetb\\AppData\\Local\\Packages\\PythonSoftwareFoundation.Python.3.12_qbz5n2kfra8p0\\LocalCache\\local-packages\\Python312\\site-packages\\numpy\\core\\_methods.py:121: RuntimeWarning: invalid value encountered in divide\n",
      "  ret = um.true_divide(\n",
      "C:\\Users\\meetb\\AppData\\Local\\Packages\\PythonSoftwareFoundation.Python.3.12_qbz5n2kfra8p0\\LocalCache\\local-packages\\Python312\\site-packages\\numpy\\core\\_methods.py:206: RuntimeWarning: Degrees of freedom <= 0 for slice\n",
      "  ret = _var(a, axis=axis, dtype=dtype, out=out, ddof=ddof,\n",
      "C:\\Users\\meetb\\AppData\\Local\\Packages\\PythonSoftwareFoundation.Python.3.12_qbz5n2kfra8p0\\LocalCache\\local-packages\\Python312\\site-packages\\numpy\\core\\_methods.py:163: RuntimeWarning: invalid value encountered in divide\n",
      "  arrmean = um.true_divide(arrmean, div, out=arrmean,\n",
      "C:\\Users\\meetb\\AppData\\Local\\Packages\\PythonSoftwareFoundation.Python.3.12_qbz5n2kfra8p0\\LocalCache\\local-packages\\Python312\\site-packages\\numpy\\core\\_methods.py:195: RuntimeWarning: invalid value encountered in divide\n",
      "  ret = um.true_divide(\n",
      "C:\\Users\\meetb\\AppData\\Local\\Packages\\PythonSoftwareFoundation.Python.3.12_qbz5n2kfra8p0\\LocalCache\\local-packages\\Python312\\site-packages\\numpy\\core\\fromnumeric.py:3504: RuntimeWarning: Mean of empty slice.\n",
      "  return _methods._mean(a, axis=axis, dtype=dtype,\n",
      "C:\\Users\\meetb\\AppData\\Local\\Packages\\PythonSoftwareFoundation.Python.3.12_qbz5n2kfra8p0\\LocalCache\\local-packages\\Python312\\site-packages\\numpy\\core\\_methods.py:129: RuntimeWarning: invalid value encountered in divide\n",
      "  ret = ret.dtype.type(ret / rcount)\n",
      "C:\\Users\\meetb\\AppData\\Local\\Packages\\PythonSoftwareFoundation.Python.3.12_qbz5n2kfra8p0\\LocalCache\\local-packages\\Python312\\site-packages\\numpy\\core\\_methods.py:198: RuntimeWarning: invalid value encountered in divide\n",
      "  ret = ret.dtype.type(ret / rcount)\n",
      "  9%|▉         | 726/8098 [01:08<11:02, 11.13it/s]"
     ]
    },
    {
     "name": "stdout",
     "output_type": "stream",
     "text": [
      "Error processing c:\\Meet\\Projects\\Project_8_Phoenix_Cervical Cancer Image Classification\\Project-Phoenix\\Dataset\\Preprocessed Dataset\\im_Dyskeratotic\\081_nuc_nuc01.png: name 'greycomatrix' is not defined\n",
      "Error processing c:\\Meet\\Projects\\Project_8_Phoenix_Cervical Cancer Image Classification\\Project-Phoenix\\Dataset\\Preprocessed Dataset\\im_Dyskeratotic\\081_nuc_nuc02.png: name 'greycomatrix' is not defined\n",
      "Error processing c:\\Meet\\Projects\\Project_8_Phoenix_Cervical Cancer Image Classification\\Project-Phoenix\\Dataset\\Preprocessed Dataset\\im_Dyskeratotic\\081_nuc_nuc03.png: name 'greycomatrix' is not defined\n"
     ]
    },
    {
     "name": "stderr",
     "output_type": "stream",
     "text": [
      "  9%|▉         | 728/8098 [01:08<10:50, 11.33it/s]"
     ]
    },
    {
     "name": "stdout",
     "output_type": "stream",
     "text": [
      "Error processing c:\\Meet\\Projects\\Project_8_Phoenix_Cervical Cancer Image Classification\\Project-Phoenix\\Dataset\\Preprocessed Dataset\\im_Dyskeratotic\\081_nuc_nuc04.png: name 'greycomatrix' is not defined\n",
      "Error processing c:\\Meet\\Projects\\Project_8_Phoenix_Cervical Cancer Image Classification\\Project-Phoenix\\Dataset\\Preprocessed Dataset\\im_Dyskeratotic\\081_nuc_nuc05.png: name 'greycomatrix' is not defined\n",
      "Error processing c:\\Meet\\Projects\\Project_8_Phoenix_Cervical Cancer Image Classification\\Project-Phoenix\\Dataset\\Preprocessed Dataset\\im_Dyskeratotic\\082_cyt_cyt01.png: name 'greycomatrix' is not defined\n"
     ]
    },
    {
     "name": "stderr",
     "output_type": "stream",
     "text": [
      "  9%|▉         | 732/8098 [01:08<10:50, 11.32it/s]"
     ]
    },
    {
     "name": "stdout",
     "output_type": "stream",
     "text": [
      "Error processing c:\\Meet\\Projects\\Project_8_Phoenix_Cervical Cancer Image Classification\\Project-Phoenix\\Dataset\\Preprocessed Dataset\\im_Dyskeratotic\\082_nuc_nuc01.png: name 'greycomatrix' is not defined\n",
      "Error processing c:\\Meet\\Projects\\Project_8_Phoenix_Cervical Cancer Image Classification\\Project-Phoenix\\Dataset\\Preprocessed Dataset\\im_Dyskeratotic\\083_cyt_cyt01.png: name 'greycomatrix' is not defined\n",
      "Error processing c:\\Meet\\Projects\\Project_8_Phoenix_Cervical Cancer Image Classification\\Project-Phoenix\\Dataset\\Preprocessed Dataset\\im_Dyskeratotic\\083_cyt_cyt02.png: name 'greycomatrix' is not defined\n"
     ]
    },
    {
     "name": "stderr",
     "output_type": "stream",
     "text": [
      "  9%|▉         | 734/8098 [01:08<10:49, 11.33it/s]"
     ]
    },
    {
     "name": "stdout",
     "output_type": "stream",
     "text": [
      "Error processing c:\\Meet\\Projects\\Project_8_Phoenix_Cervical Cancer Image Classification\\Project-Phoenix\\Dataset\\Preprocessed Dataset\\im_Dyskeratotic\\083_cyt_cyt03.png: name 'greycomatrix' is not defined\n",
      "Error processing c:\\Meet\\Projects\\Project_8_Phoenix_Cervical Cancer Image Classification\\Project-Phoenix\\Dataset\\Preprocessed Dataset\\im_Dyskeratotic\\083_nuc_nuc01.png: name 'greycomatrix' is not defined\n",
      "Error processing c:\\Meet\\Projects\\Project_8_Phoenix_Cervical Cancer Image Classification\\Project-Phoenix\\Dataset\\Preprocessed Dataset\\im_Dyskeratotic\\083_nuc_nuc02.png: name 'greycomatrix' is not defined\n"
     ]
    },
    {
     "name": "stderr",
     "output_type": "stream",
     "text": [
      "C:\\Users\\meetb\\AppData\\Local\\Temp\\ipykernel_53104\\2748481638.py:97: RuntimeWarning: Mean of empty slice.\n",
      "  ch_means = img_rgb[idx].reshape(-1, 3).mean(axis=0)\n",
      "C:\\Users\\meetb\\AppData\\Local\\Packages\\PythonSoftwareFoundation.Python.3.12_qbz5n2kfra8p0\\LocalCache\\local-packages\\Python312\\site-packages\\numpy\\core\\_methods.py:121: RuntimeWarning: invalid value encountered in divide\n",
      "  ret = um.true_divide(\n",
      "C:\\Users\\meetb\\AppData\\Local\\Packages\\PythonSoftwareFoundation.Python.3.12_qbz5n2kfra8p0\\LocalCache\\local-packages\\Python312\\site-packages\\numpy\\core\\_methods.py:206: RuntimeWarning: Degrees of freedom <= 0 for slice\n",
      "  ret = _var(a, axis=axis, dtype=dtype, out=out, ddof=ddof,\n",
      "C:\\Users\\meetb\\AppData\\Local\\Packages\\PythonSoftwareFoundation.Python.3.12_qbz5n2kfra8p0\\LocalCache\\local-packages\\Python312\\site-packages\\numpy\\core\\_methods.py:163: RuntimeWarning: invalid value encountered in divide\n",
      "  arrmean = um.true_divide(arrmean, div, out=arrmean,\n",
      "C:\\Users\\meetb\\AppData\\Local\\Packages\\PythonSoftwareFoundation.Python.3.12_qbz5n2kfra8p0\\LocalCache\\local-packages\\Python312\\site-packages\\numpy\\core\\_methods.py:195: RuntimeWarning: invalid value encountered in divide\n",
      "  ret = um.true_divide(\n",
      "C:\\Users\\meetb\\AppData\\Local\\Packages\\PythonSoftwareFoundation.Python.3.12_qbz5n2kfra8p0\\LocalCache\\local-packages\\Python312\\site-packages\\numpy\\core\\fromnumeric.py:3504: RuntimeWarning: Mean of empty slice.\n",
      "  return _methods._mean(a, axis=axis, dtype=dtype,\n",
      "C:\\Users\\meetb\\AppData\\Local\\Packages\\PythonSoftwareFoundation.Python.3.12_qbz5n2kfra8p0\\LocalCache\\local-packages\\Python312\\site-packages\\numpy\\core\\_methods.py:129: RuntimeWarning: invalid value encountered in divide\n",
      "  ret = ret.dtype.type(ret / rcount)\n",
      "C:\\Users\\meetb\\AppData\\Local\\Packages\\PythonSoftwareFoundation.Python.3.12_qbz5n2kfra8p0\\LocalCache\\local-packages\\Python312\\site-packages\\numpy\\core\\_methods.py:198: RuntimeWarning: invalid value encountered in divide\n",
      "  ret = ret.dtype.type(ret / rcount)\n",
      "  9%|▉         | 738/8098 [01:09<10:41, 11.47it/s]"
     ]
    },
    {
     "name": "stdout",
     "output_type": "stream",
     "text": [
      "Error processing c:\\Meet\\Projects\\Project_8_Phoenix_Cervical Cancer Image Classification\\Project-Phoenix\\Dataset\\Preprocessed Dataset\\im_Dyskeratotic\\083_nuc_nuc03.png: name 'greycomatrix' is not defined\n",
      "Error processing c:\\Meet\\Projects\\Project_8_Phoenix_Cervical Cancer Image Classification\\Project-Phoenix\\Dataset\\Preprocessed Dataset\\im_Dyskeratotic\\084_cyt_cyt01.png: name 'greycomatrix' is not defined\n",
      "Error processing c:\\Meet\\Projects\\Project_8_Phoenix_Cervical Cancer Image Classification\\Project-Phoenix\\Dataset\\Preprocessed Dataset\\im_Dyskeratotic\\084_nuc_nuc01.png: name 'greycomatrix' is not defined\n"
     ]
    },
    {
     "name": "stderr",
     "output_type": "stream",
     "text": [
      "  9%|▉         | 740/8098 [01:09<10:34, 11.60it/s]"
     ]
    },
    {
     "name": "stdout",
     "output_type": "stream",
     "text": [
      "Error processing c:\\Meet\\Projects\\Project_8_Phoenix_Cervical Cancer Image Classification\\Project-Phoenix\\Dataset\\Preprocessed Dataset\\im_Dyskeratotic\\085_cyt_cyt01.png: name 'greycomatrix' is not defined\n",
      "Error processing c:\\Meet\\Projects\\Project_8_Phoenix_Cervical Cancer Image Classification\\Project-Phoenix\\Dataset\\Preprocessed Dataset\\im_Dyskeratotic\\085_nuc_nuc01.png: name 'greycomatrix' is not defined\n",
      "Error processing c:\\Meet\\Projects\\Project_8_Phoenix_Cervical Cancer Image Classification\\Project-Phoenix\\Dataset\\Preprocessed Dataset\\im_Dyskeratotic\\086_cyt_cyt01.png: name 'greycomatrix' is not defined\n"
     ]
    },
    {
     "name": "stderr",
     "output_type": "stream",
     "text": [
      "  9%|▉         | 742/8098 [01:09<10:38, 11.52it/s]"
     ]
    },
    {
     "name": "stdout",
     "output_type": "stream",
     "text": [
      "Error processing c:\\Meet\\Projects\\Project_8_Phoenix_Cervical Cancer Image Classification\\Project-Phoenix\\Dataset\\Preprocessed Dataset\\im_Dyskeratotic\\086_nuc_nuc01.png: name 'greycomatrix' is not defined\n",
      "Error processing c:\\Meet\\Projects\\Project_8_Phoenix_Cervical Cancer Image Classification\\Project-Phoenix\\Dataset\\Preprocessed Dataset\\im_Dyskeratotic\\087_cyt_cyt01.png: name 'greycomatrix' is not defined\n"
     ]
    },
    {
     "name": "stderr",
     "output_type": "stream",
     "text": [
      "  9%|▉         | 746/8098 [01:10<11:05, 11.05it/s]"
     ]
    },
    {
     "name": "stdout",
     "output_type": "stream",
     "text": [
      "Error processing c:\\Meet\\Projects\\Project_8_Phoenix_Cervical Cancer Image Classification\\Project-Phoenix\\Dataset\\Preprocessed Dataset\\im_Dyskeratotic\\087_nuc_nuc01.png: name 'greycomatrix' is not defined\n",
      "Error processing c:\\Meet\\Projects\\Project_8_Phoenix_Cervical Cancer Image Classification\\Project-Phoenix\\Dataset\\Preprocessed Dataset\\im_Dyskeratotic\\088_cyt_cyt01.png: name 'greycomatrix' is not defined\n",
      "Error processing c:\\Meet\\Projects\\Project_8_Phoenix_Cervical Cancer Image Classification\\Project-Phoenix\\Dataset\\Preprocessed Dataset\\im_Dyskeratotic\\088_cyt_cyt02.png: name 'greycomatrix' is not defined\n"
     ]
    },
    {
     "name": "stderr",
     "output_type": "stream",
     "text": [
      "  9%|▉         | 748/8098 [01:10<10:57, 11.17it/s]"
     ]
    },
    {
     "name": "stdout",
     "output_type": "stream",
     "text": [
      "Error processing c:\\Meet\\Projects\\Project_8_Phoenix_Cervical Cancer Image Classification\\Project-Phoenix\\Dataset\\Preprocessed Dataset\\im_Dyskeratotic\\088_cyt_cyt03.png: name 'greycomatrix' is not defined\n",
      "Error processing c:\\Meet\\Projects\\Project_8_Phoenix_Cervical Cancer Image Classification\\Project-Phoenix\\Dataset\\Preprocessed Dataset\\im_Dyskeratotic\\088_nuc_nuc01.png: name 'greycomatrix' is not defined\n",
      "Error processing c:\\Meet\\Projects\\Project_8_Phoenix_Cervical Cancer Image Classification\\Project-Phoenix\\Dataset\\Preprocessed Dataset\\im_Dyskeratotic\\088_nuc_nuc02.png: name 'greycomatrix' is not defined\n"
     ]
    },
    {
     "name": "stderr",
     "output_type": "stream",
     "text": [
      "  9%|▉         | 750/8098 [01:10<11:49, 10.35it/s]"
     ]
    },
    {
     "name": "stdout",
     "output_type": "stream",
     "text": [
      "Error processing c:\\Meet\\Projects\\Project_8_Phoenix_Cervical Cancer Image Classification\\Project-Phoenix\\Dataset\\Preprocessed Dataset\\im_Dyskeratotic\\088_nuc_nuc03.png: name 'greycomatrix' is not defined\n",
      "Error processing c:\\Meet\\Projects\\Project_8_Phoenix_Cervical Cancer Image Classification\\Project-Phoenix\\Dataset\\Preprocessed Dataset\\im_Dyskeratotic\\089_cyt_cyt01.png: name 'greycomatrix' is not defined\n",
      "Error processing c:\\Meet\\Projects\\Project_8_Phoenix_Cervical Cancer Image Classification\\Project-Phoenix\\Dataset\\Preprocessed Dataset\\im_Dyskeratotic\\089_nuc_nuc01.png: name 'greycomatrix' is not defined\n"
     ]
    },
    {
     "name": "stderr",
     "output_type": "stream",
     "text": [
      "  9%|▉         | 752/8098 [01:10<11:43, 10.44it/s]C:\\Users\\meetb\\AppData\\Local\\Temp\\ipykernel_53104\\2748481638.py:97: RuntimeWarning: Mean of empty slice.\n",
      "  ch_means = img_rgb[idx].reshape(-1, 3).mean(axis=0)\n",
      "C:\\Users\\meetb\\AppData\\Local\\Packages\\PythonSoftwareFoundation.Python.3.12_qbz5n2kfra8p0\\LocalCache\\local-packages\\Python312\\site-packages\\numpy\\core\\_methods.py:121: RuntimeWarning: invalid value encountered in divide\n",
      "  ret = um.true_divide(\n",
      "C:\\Users\\meetb\\AppData\\Local\\Packages\\PythonSoftwareFoundation.Python.3.12_qbz5n2kfra8p0\\LocalCache\\local-packages\\Python312\\site-packages\\numpy\\core\\_methods.py:206: RuntimeWarning: Degrees of freedom <= 0 for slice\n",
      "  ret = _var(a, axis=axis, dtype=dtype, out=out, ddof=ddof,\n",
      "C:\\Users\\meetb\\AppData\\Local\\Packages\\PythonSoftwareFoundation.Python.3.12_qbz5n2kfra8p0\\LocalCache\\local-packages\\Python312\\site-packages\\numpy\\core\\_methods.py:163: RuntimeWarning: invalid value encountered in divide\n",
      "  arrmean = um.true_divide(arrmean, div, out=arrmean,\n",
      "C:\\Users\\meetb\\AppData\\Local\\Packages\\PythonSoftwareFoundation.Python.3.12_qbz5n2kfra8p0\\LocalCache\\local-packages\\Python312\\site-packages\\numpy\\core\\_methods.py:195: RuntimeWarning: invalid value encountered in divide\n",
      "  ret = um.true_divide(\n",
      "C:\\Users\\meetb\\AppData\\Local\\Packages\\PythonSoftwareFoundation.Python.3.12_qbz5n2kfra8p0\\LocalCache\\local-packages\\Python312\\site-packages\\numpy\\core\\fromnumeric.py:3504: RuntimeWarning: Mean of empty slice.\n",
      "  return _methods._mean(a, axis=axis, dtype=dtype,\n",
      "C:\\Users\\meetb\\AppData\\Local\\Packages\\PythonSoftwareFoundation.Python.3.12_qbz5n2kfra8p0\\LocalCache\\local-packages\\Python312\\site-packages\\numpy\\core\\_methods.py:129: RuntimeWarning: invalid value encountered in divide\n",
      "  ret = ret.dtype.type(ret / rcount)\n",
      "C:\\Users\\meetb\\AppData\\Local\\Packages\\PythonSoftwareFoundation.Python.3.12_qbz5n2kfra8p0\\LocalCache\\local-packages\\Python312\\site-packages\\numpy\\core\\_methods.py:198: RuntimeWarning: invalid value encountered in divide\n",
      "  ret = ret.dtype.type(ret / rcount)\n",
      "  9%|▉         | 754/8098 [01:10<11:33, 10.59it/s]"
     ]
    },
    {
     "name": "stdout",
     "output_type": "stream",
     "text": [
      "Error processing c:\\Meet\\Projects\\Project_8_Phoenix_Cervical Cancer Image Classification\\Project-Phoenix\\Dataset\\Preprocessed Dataset\\im_Dyskeratotic\\090_cyt_cyt01.png: name 'greycomatrix' is not defined\n",
      "Error processing c:\\Meet\\Projects\\Project_8_Phoenix_Cervical Cancer Image Classification\\Project-Phoenix\\Dataset\\Preprocessed Dataset\\im_Dyskeratotic\\090_cyt_cyt02.png: name 'greycomatrix' is not defined\n",
      "Error processing c:\\Meet\\Projects\\Project_8_Phoenix_Cervical Cancer Image Classification\\Project-Phoenix\\Dataset\\Preprocessed Dataset\\im_Dyskeratotic\\090_cyt_cyt03.png: name 'greycomatrix' is not defined\n"
     ]
    },
    {
     "name": "stderr",
     "output_type": "stream",
     "text": [
      "  9%|▉         | 756/8098 [01:10<11:31, 10.62it/s]C:\\Users\\meetb\\AppData\\Local\\Temp\\ipykernel_53104\\2748481638.py:97: RuntimeWarning: Mean of empty slice.\n",
      "  ch_means = img_rgb[idx].reshape(-1, 3).mean(axis=0)\n",
      "C:\\Users\\meetb\\AppData\\Local\\Packages\\PythonSoftwareFoundation.Python.3.12_qbz5n2kfra8p0\\LocalCache\\local-packages\\Python312\\site-packages\\numpy\\core\\_methods.py:121: RuntimeWarning: invalid value encountered in divide\n",
      "  ret = um.true_divide(\n",
      "C:\\Users\\meetb\\AppData\\Local\\Packages\\PythonSoftwareFoundation.Python.3.12_qbz5n2kfra8p0\\LocalCache\\local-packages\\Python312\\site-packages\\numpy\\core\\_methods.py:206: RuntimeWarning: Degrees of freedom <= 0 for slice\n",
      "  ret = _var(a, axis=axis, dtype=dtype, out=out, ddof=ddof,\n",
      "C:\\Users\\meetb\\AppData\\Local\\Packages\\PythonSoftwareFoundation.Python.3.12_qbz5n2kfra8p0\\LocalCache\\local-packages\\Python312\\site-packages\\numpy\\core\\_methods.py:163: RuntimeWarning: invalid value encountered in divide\n",
      "  arrmean = um.true_divide(arrmean, div, out=arrmean,\n",
      "C:\\Users\\meetb\\AppData\\Local\\Packages\\PythonSoftwareFoundation.Python.3.12_qbz5n2kfra8p0\\LocalCache\\local-packages\\Python312\\site-packages\\numpy\\core\\_methods.py:195: RuntimeWarning: invalid value encountered in divide\n",
      "  ret = um.true_divide(\n",
      "C:\\Users\\meetb\\AppData\\Local\\Packages\\PythonSoftwareFoundation.Python.3.12_qbz5n2kfra8p0\\LocalCache\\local-packages\\Python312\\site-packages\\numpy\\core\\fromnumeric.py:3504: RuntimeWarning: Mean of empty slice.\n",
      "  return _methods._mean(a, axis=axis, dtype=dtype,\n",
      "C:\\Users\\meetb\\AppData\\Local\\Packages\\PythonSoftwareFoundation.Python.3.12_qbz5n2kfra8p0\\LocalCache\\local-packages\\Python312\\site-packages\\numpy\\core\\_methods.py:129: RuntimeWarning: invalid value encountered in divide\n",
      "  ret = ret.dtype.type(ret / rcount)\n",
      "C:\\Users\\meetb\\AppData\\Local\\Packages\\PythonSoftwareFoundation.Python.3.12_qbz5n2kfra8p0\\LocalCache\\local-packages\\Python312\\site-packages\\numpy\\core\\_methods.py:198: RuntimeWarning: invalid value encountered in divide\n",
      "  ret = ret.dtype.type(ret / rcount)\n",
      "  9%|▉         | 758/8098 [01:11<11:08, 10.98it/s]"
     ]
    },
    {
     "name": "stdout",
     "output_type": "stream",
     "text": [
      "Error processing c:\\Meet\\Projects\\Project_8_Phoenix_Cervical Cancer Image Classification\\Project-Phoenix\\Dataset\\Preprocessed Dataset\\im_Dyskeratotic\\090_cyt_cyt04.png: name 'greycomatrix' is not defined\n",
      "Error processing c:\\Meet\\Projects\\Project_8_Phoenix_Cervical Cancer Image Classification\\Project-Phoenix\\Dataset\\Preprocessed Dataset\\im_Dyskeratotic\\090_nuc_nuc01.png: name 'greycomatrix' is not defined\n",
      "Error processing c:\\Meet\\Projects\\Project_8_Phoenix_Cervical Cancer Image Classification\\Project-Phoenix\\Dataset\\Preprocessed Dataset\\im_Dyskeratotic\\090_nuc_nuc02.png: name 'greycomatrix' is not defined\n"
     ]
    },
    {
     "name": "stderr",
     "output_type": "stream",
     "text": [
      "  9%|▉         | 760/8098 [01:11<11:05, 11.03it/s]"
     ]
    },
    {
     "name": "stdout",
     "output_type": "stream",
     "text": [
      "Error processing c:\\Meet\\Projects\\Project_8_Phoenix_Cervical Cancer Image Classification\\Project-Phoenix\\Dataset\\Preprocessed Dataset\\im_Dyskeratotic\\090_nuc_nuc03.png: name 'greycomatrix' is not defined\n",
      "Error processing c:\\Meet\\Projects\\Project_8_Phoenix_Cervical Cancer Image Classification\\Project-Phoenix\\Dataset\\Preprocessed Dataset\\im_Dyskeratotic\\090_nuc_nuc04.png: name 'greycomatrix' is not defined\n",
      "Error processing c:\\Meet\\Projects\\Project_8_Phoenix_Cervical Cancer Image Classification\\Project-Phoenix\\Dataset\\Preprocessed Dataset\\im_Dyskeratotic\\091_cyt_cyt01.png: name 'greycomatrix' is not defined\n"
     ]
    },
    {
     "name": "stderr",
     "output_type": "stream",
     "text": [
      "C:\\Users\\meetb\\AppData\\Local\\Temp\\ipykernel_53104\\2748481638.py:97: RuntimeWarning: Mean of empty slice.\n",
      "  ch_means = img_rgb[idx].reshape(-1, 3).mean(axis=0)\n",
      "C:\\Users\\meetb\\AppData\\Local\\Packages\\PythonSoftwareFoundation.Python.3.12_qbz5n2kfra8p0\\LocalCache\\local-packages\\Python312\\site-packages\\numpy\\core\\_methods.py:121: RuntimeWarning: invalid value encountered in divide\n",
      "  ret = um.true_divide(\n",
      "C:\\Users\\meetb\\AppData\\Local\\Packages\\PythonSoftwareFoundation.Python.3.12_qbz5n2kfra8p0\\LocalCache\\local-packages\\Python312\\site-packages\\numpy\\core\\_methods.py:206: RuntimeWarning: Degrees of freedom <= 0 for slice\n",
      "  ret = _var(a, axis=axis, dtype=dtype, out=out, ddof=ddof,\n",
      "C:\\Users\\meetb\\AppData\\Local\\Packages\\PythonSoftwareFoundation.Python.3.12_qbz5n2kfra8p0\\LocalCache\\local-packages\\Python312\\site-packages\\numpy\\core\\_methods.py:163: RuntimeWarning: invalid value encountered in divide\n",
      "  arrmean = um.true_divide(arrmean, div, out=arrmean,\n",
      "C:\\Users\\meetb\\AppData\\Local\\Packages\\PythonSoftwareFoundation.Python.3.12_qbz5n2kfra8p0\\LocalCache\\local-packages\\Python312\\site-packages\\numpy\\core\\_methods.py:195: RuntimeWarning: invalid value encountered in divide\n",
      "  ret = um.true_divide(\n",
      "C:\\Users\\meetb\\AppData\\Local\\Packages\\PythonSoftwareFoundation.Python.3.12_qbz5n2kfra8p0\\LocalCache\\local-packages\\Python312\\site-packages\\numpy\\core\\fromnumeric.py:3504: RuntimeWarning: Mean of empty slice.\n",
      "  return _methods._mean(a, axis=axis, dtype=dtype,\n",
      "C:\\Users\\meetb\\AppData\\Local\\Packages\\PythonSoftwareFoundation.Python.3.12_qbz5n2kfra8p0\\LocalCache\\local-packages\\Python312\\site-packages\\numpy\\core\\_methods.py:129: RuntimeWarning: invalid value encountered in divide\n",
      "  ret = ret.dtype.type(ret / rcount)\n",
      "C:\\Users\\meetb\\AppData\\Local\\Packages\\PythonSoftwareFoundation.Python.3.12_qbz5n2kfra8p0\\LocalCache\\local-packages\\Python312\\site-packages\\numpy\\core\\_methods.py:198: RuntimeWarning: invalid value encountered in divide\n",
      "  ret = ret.dtype.type(ret / rcount)\n",
      "  9%|▉         | 764/8098 [01:11<10:54, 11.20it/s]"
     ]
    },
    {
     "name": "stdout",
     "output_type": "stream",
     "text": [
      "Error processing c:\\Meet\\Projects\\Project_8_Phoenix_Cervical Cancer Image Classification\\Project-Phoenix\\Dataset\\Preprocessed Dataset\\im_Dyskeratotic\\091_nuc_nuc01.png: name 'greycomatrix' is not defined\n",
      "Error processing c:\\Meet\\Projects\\Project_8_Phoenix_Cervical Cancer Image Classification\\Project-Phoenix\\Dataset\\Preprocessed Dataset\\im_Dyskeratotic\\092_cyt_cyt01.png: name 'greycomatrix' is not defined\n",
      "Error processing c:\\Meet\\Projects\\Project_8_Phoenix_Cervical Cancer Image Classification\\Project-Phoenix\\Dataset\\Preprocessed Dataset\\im_Dyskeratotic\\092_cyt_cyt02.png: name 'greycomatrix' is not defined\n"
     ]
    },
    {
     "name": "stderr",
     "output_type": "stream",
     "text": [
      "  9%|▉         | 766/8098 [01:11<10:52, 11.24it/s]"
     ]
    },
    {
     "name": "stdout",
     "output_type": "stream",
     "text": [
      "Error processing c:\\Meet\\Projects\\Project_8_Phoenix_Cervical Cancer Image Classification\\Project-Phoenix\\Dataset\\Preprocessed Dataset\\im_Dyskeratotic\\092_cyt_cyt03.png: name 'greycomatrix' is not defined\n",
      "Error processing c:\\Meet\\Projects\\Project_8_Phoenix_Cervical Cancer Image Classification\\Project-Phoenix\\Dataset\\Preprocessed Dataset\\im_Dyskeratotic\\092_cyt_cyt04.png: name 'greycomatrix' is not defined\n",
      "Error processing c:\\Meet\\Projects\\Project_8_Phoenix_Cervical Cancer Image Classification\\Project-Phoenix\\Dataset\\Preprocessed Dataset\\im_Dyskeratotic\\092_nuc_nuc01.png: name 'greycomatrix' is not defined\n"
     ]
    },
    {
     "name": "stderr",
     "output_type": "stream",
     "text": [
      "C:\\Users\\meetb\\AppData\\Local\\Temp\\ipykernel_53104\\2748481638.py:97: RuntimeWarning: Mean of empty slice.\n",
      "  ch_means = img_rgb[idx].reshape(-1, 3).mean(axis=0)\n",
      "C:\\Users\\meetb\\AppData\\Local\\Packages\\PythonSoftwareFoundation.Python.3.12_qbz5n2kfra8p0\\LocalCache\\local-packages\\Python312\\site-packages\\numpy\\core\\_methods.py:121: RuntimeWarning: invalid value encountered in divide\n",
      "  ret = um.true_divide(\n",
      "C:\\Users\\meetb\\AppData\\Local\\Packages\\PythonSoftwareFoundation.Python.3.12_qbz5n2kfra8p0\\LocalCache\\local-packages\\Python312\\site-packages\\numpy\\core\\_methods.py:206: RuntimeWarning: Degrees of freedom <= 0 for slice\n",
      "  ret = _var(a, axis=axis, dtype=dtype, out=out, ddof=ddof,\n",
      "C:\\Users\\meetb\\AppData\\Local\\Packages\\PythonSoftwareFoundation.Python.3.12_qbz5n2kfra8p0\\LocalCache\\local-packages\\Python312\\site-packages\\numpy\\core\\_methods.py:163: RuntimeWarning: invalid value encountered in divide\n",
      "  arrmean = um.true_divide(arrmean, div, out=arrmean,\n",
      "C:\\Users\\meetb\\AppData\\Local\\Packages\\PythonSoftwareFoundation.Python.3.12_qbz5n2kfra8p0\\LocalCache\\local-packages\\Python312\\site-packages\\numpy\\core\\_methods.py:195: RuntimeWarning: invalid value encountered in divide\n",
      "  ret = um.true_divide(\n",
      "C:\\Users\\meetb\\AppData\\Local\\Packages\\PythonSoftwareFoundation.Python.3.12_qbz5n2kfra8p0\\LocalCache\\local-packages\\Python312\\site-packages\\numpy\\core\\fromnumeric.py:3504: RuntimeWarning: Mean of empty slice.\n",
      "  return _methods._mean(a, axis=axis, dtype=dtype,\n",
      "C:\\Users\\meetb\\AppData\\Local\\Packages\\PythonSoftwareFoundation.Python.3.12_qbz5n2kfra8p0\\LocalCache\\local-packages\\Python312\\site-packages\\numpy\\core\\_methods.py:129: RuntimeWarning: invalid value encountered in divide\n",
      "  ret = ret.dtype.type(ret / rcount)\n",
      "C:\\Users\\meetb\\AppData\\Local\\Packages\\PythonSoftwareFoundation.Python.3.12_qbz5n2kfra8p0\\LocalCache\\local-packages\\Python312\\site-packages\\numpy\\core\\_methods.py:198: RuntimeWarning: invalid value encountered in divide\n",
      "  ret = ret.dtype.type(ret / rcount)\n",
      "  9%|▉         | 768/8098 [01:12<10:53, 11.23it/s]"
     ]
    },
    {
     "name": "stdout",
     "output_type": "stream",
     "text": [
      "Error processing c:\\Meet\\Projects\\Project_8_Phoenix_Cervical Cancer Image Classification\\Project-Phoenix\\Dataset\\Preprocessed Dataset\\im_Dyskeratotic\\092_nuc_nuc02.png: name 'greycomatrix' is not defined\n",
      "Error processing c:\\Meet\\Projects\\Project_8_Phoenix_Cervical Cancer Image Classification\\Project-Phoenix\\Dataset\\Preprocessed Dataset\\im_Dyskeratotic\\092_nuc_nuc03.png: name 'greycomatrix' is not defined\n",
      "Error processing c:\\Meet\\Projects\\Project_8_Phoenix_Cervical Cancer Image Classification\\Project-Phoenix\\Dataset\\Preprocessed Dataset\\im_Dyskeratotic\\092_nuc_nuc04.png: name 'greycomatrix' is not defined\n"
     ]
    },
    {
     "name": "stderr",
     "output_type": "stream",
     "text": [
      " 10%|▉         | 772/8098 [01:12<11:06, 10.99it/s]"
     ]
    },
    {
     "name": "stdout",
     "output_type": "stream",
     "text": [
      "Error processing c:\\Meet\\Projects\\Project_8_Phoenix_Cervical Cancer Image Classification\\Project-Phoenix\\Dataset\\Preprocessed Dataset\\im_Dyskeratotic\\093_cyt_cyt01.png: name 'greycomatrix' is not defined\n",
      "Error processing c:\\Meet\\Projects\\Project_8_Phoenix_Cervical Cancer Image Classification\\Project-Phoenix\\Dataset\\Preprocessed Dataset\\im_Dyskeratotic\\093_cyt_cyt02.png: name 'greycomatrix' is not defined\n",
      "Error processing c:\\Meet\\Projects\\Project_8_Phoenix_Cervical Cancer Image Classification\\Project-Phoenix\\Dataset\\Preprocessed Dataset\\im_Dyskeratotic\\093_cyt_cyt03.png: name 'greycomatrix' is not defined\n"
     ]
    },
    {
     "name": "stderr",
     "output_type": "stream",
     "text": [
      "C:\\Users\\meetb\\AppData\\Local\\Temp\\ipykernel_53104\\2748481638.py:97: RuntimeWarning: Mean of empty slice.\n",
      "  ch_means = img_rgb[idx].reshape(-1, 3).mean(axis=0)\n",
      "C:\\Users\\meetb\\AppData\\Local\\Packages\\PythonSoftwareFoundation.Python.3.12_qbz5n2kfra8p0\\LocalCache\\local-packages\\Python312\\site-packages\\numpy\\core\\_methods.py:121: RuntimeWarning: invalid value encountered in divide\n",
      "  ret = um.true_divide(\n",
      "C:\\Users\\meetb\\AppData\\Local\\Packages\\PythonSoftwareFoundation.Python.3.12_qbz5n2kfra8p0\\LocalCache\\local-packages\\Python312\\site-packages\\numpy\\core\\_methods.py:206: RuntimeWarning: Degrees of freedom <= 0 for slice\n",
      "  ret = _var(a, axis=axis, dtype=dtype, out=out, ddof=ddof,\n",
      "C:\\Users\\meetb\\AppData\\Local\\Packages\\PythonSoftwareFoundation.Python.3.12_qbz5n2kfra8p0\\LocalCache\\local-packages\\Python312\\site-packages\\numpy\\core\\_methods.py:163: RuntimeWarning: invalid value encountered in divide\n",
      "  arrmean = um.true_divide(arrmean, div, out=arrmean,\n",
      "C:\\Users\\meetb\\AppData\\Local\\Packages\\PythonSoftwareFoundation.Python.3.12_qbz5n2kfra8p0\\LocalCache\\local-packages\\Python312\\site-packages\\numpy\\core\\_methods.py:195: RuntimeWarning: invalid value encountered in divide\n",
      "  ret = um.true_divide(\n",
      "C:\\Users\\meetb\\AppData\\Local\\Packages\\PythonSoftwareFoundation.Python.3.12_qbz5n2kfra8p0\\LocalCache\\local-packages\\Python312\\site-packages\\numpy\\core\\fromnumeric.py:3504: RuntimeWarning: Mean of empty slice.\n",
      "  return _methods._mean(a, axis=axis, dtype=dtype,\n",
      "C:\\Users\\meetb\\AppData\\Local\\Packages\\PythonSoftwareFoundation.Python.3.12_qbz5n2kfra8p0\\LocalCache\\local-packages\\Python312\\site-packages\\numpy\\core\\_methods.py:129: RuntimeWarning: invalid value encountered in divide\n",
      "  ret = ret.dtype.type(ret / rcount)\n",
      "C:\\Users\\meetb\\AppData\\Local\\Packages\\PythonSoftwareFoundation.Python.3.12_qbz5n2kfra8p0\\LocalCache\\local-packages\\Python312\\site-packages\\numpy\\core\\_methods.py:198: RuntimeWarning: invalid value encountered in divide\n",
      "  ret = ret.dtype.type(ret / rcount)\n",
      " 10%|▉         | 776/8098 [01:12<10:43, 11.39it/s]"
     ]
    },
    {
     "name": "stdout",
     "output_type": "stream",
     "text": [
      "Error processing c:\\Meet\\Projects\\Project_8_Phoenix_Cervical Cancer Image Classification\\Project-Phoenix\\Dataset\\Preprocessed Dataset\\im_Dyskeratotic\\093_cyt_cyt04.png: name 'greycomatrix' is not defined\n",
      "Error processing c:\\Meet\\Projects\\Project_8_Phoenix_Cervical Cancer Image Classification\\Project-Phoenix\\Dataset\\Preprocessed Dataset\\im_Dyskeratotic\\093_nuc_nuc01.png: name 'greycomatrix' is not defined\n",
      "Error processing c:\\Meet\\Projects\\Project_8_Phoenix_Cervical Cancer Image Classification\\Project-Phoenix\\Dataset\\Preprocessed Dataset\\im_Dyskeratotic\\093_nuc_nuc02.png: name 'greycomatrix' is not defined\n"
     ]
    },
    {
     "name": "stderr",
     "output_type": "stream",
     "text": [
      " 10%|▉         | 778/8098 [01:12<10:30, 11.60it/s]"
     ]
    },
    {
     "name": "stdout",
     "output_type": "stream",
     "text": [
      "Error processing c:\\Meet\\Projects\\Project_8_Phoenix_Cervical Cancer Image Classification\\Project-Phoenix\\Dataset\\Preprocessed Dataset\\im_Dyskeratotic\\093_nuc_nuc03.png: name 'greycomatrix' is not defined\n",
      "Error processing c:\\Meet\\Projects\\Project_8_Phoenix_Cervical Cancer Image Classification\\Project-Phoenix\\Dataset\\Preprocessed Dataset\\im_Dyskeratotic\\093_nuc_nuc04.png: name 'greycomatrix' is not defined\n",
      "Error processing c:\\Meet\\Projects\\Project_8_Phoenix_Cervical Cancer Image Classification\\Project-Phoenix\\Dataset\\Preprocessed Dataset\\im_Dyskeratotic\\094_cyt_cyt01.png: name 'greycomatrix' is not defined\n"
     ]
    },
    {
     "name": "stderr",
     "output_type": "stream",
     "text": [
      " 10%|▉         | 782/8098 [01:13<10:28, 11.64it/s]"
     ]
    },
    {
     "name": "stdout",
     "output_type": "stream",
     "text": [
      "Error processing c:\\Meet\\Projects\\Project_8_Phoenix_Cervical Cancer Image Classification\\Project-Phoenix\\Dataset\\Preprocessed Dataset\\im_Dyskeratotic\\094_cyt_cyt02.png: name 'greycomatrix' is not defined\n",
      "Error processing c:\\Meet\\Projects\\Project_8_Phoenix_Cervical Cancer Image Classification\\Project-Phoenix\\Dataset\\Preprocessed Dataset\\im_Dyskeratotic\\094_nuc_nuc01.png: name 'greycomatrix' is not defined\n",
      "Error processing c:\\Meet\\Projects\\Project_8_Phoenix_Cervical Cancer Image Classification\\Project-Phoenix\\Dataset\\Preprocessed Dataset\\im_Dyskeratotic\\094_nuc_nuc02.png: name 'greycomatrix' is not defined\n"
     ]
    },
    {
     "name": "stderr",
     "output_type": "stream",
     "text": [
      " 10%|▉         | 784/8098 [01:13<10:36, 11.49it/s]"
     ]
    },
    {
     "name": "stdout",
     "output_type": "stream",
     "text": [
      "Error processing c:\\Meet\\Projects\\Project_8_Phoenix_Cervical Cancer Image Classification\\Project-Phoenix\\Dataset\\Preprocessed Dataset\\im_Dyskeratotic\\095_cyt_cyt01.png: name 'greycomatrix' is not defined\n",
      "Error processing c:\\Meet\\Projects\\Project_8_Phoenix_Cervical Cancer Image Classification\\Project-Phoenix\\Dataset\\Preprocessed Dataset\\im_Dyskeratotic\\095_cyt_cyt02.png: name 'greycomatrix' is not defined\n",
      "Error processing c:\\Meet\\Projects\\Project_8_Phoenix_Cervical Cancer Image Classification\\Project-Phoenix\\Dataset\\Preprocessed Dataset\\im_Dyskeratotic\\095_nuc_nuc01.png: name 'greycomatrix' is not defined\n"
     ]
    },
    {
     "name": "stderr",
     "output_type": "stream",
     "text": [
      " 10%|▉         | 788/8098 [01:13<10:25, 11.69it/s]"
     ]
    },
    {
     "name": "stdout",
     "output_type": "stream",
     "text": [
      "Error processing c:\\Meet\\Projects\\Project_8_Phoenix_Cervical Cancer Image Classification\\Project-Phoenix\\Dataset\\Preprocessed Dataset\\im_Dyskeratotic\\095_nuc_nuc02.png: name 'greycomatrix' is not defined\n",
      "Error processing c:\\Meet\\Projects\\Project_8_Phoenix_Cervical Cancer Image Classification\\Project-Phoenix\\Dataset\\Preprocessed Dataset\\im_Dyskeratotic\\096_cyt_cyt01.png: name 'greycomatrix' is not defined\n",
      "Error processing c:\\Meet\\Projects\\Project_8_Phoenix_Cervical Cancer Image Classification\\Project-Phoenix\\Dataset\\Preprocessed Dataset\\im_Dyskeratotic\\096_nuc_nuc01.png: name 'greycomatrix' is not defined\n"
     ]
    },
    {
     "name": "stderr",
     "output_type": "stream",
     "text": [
      " 10%|▉         | 790/8098 [01:13<10:32, 11.56it/s]"
     ]
    },
    {
     "name": "stdout",
     "output_type": "stream",
     "text": [
      "Error processing c:\\Meet\\Projects\\Project_8_Phoenix_Cervical Cancer Image Classification\\Project-Phoenix\\Dataset\\Preprocessed Dataset\\im_Dyskeratotic\\097_cyt_cyt01.png: name 'greycomatrix' is not defined\n",
      "Error processing c:\\Meet\\Projects\\Project_8_Phoenix_Cervical Cancer Image Classification\\Project-Phoenix\\Dataset\\Preprocessed Dataset\\im_Dyskeratotic\\097_cyt_cyt02.png: name 'greycomatrix' is not defined\n",
      "Error processing c:\\Meet\\Projects\\Project_8_Phoenix_Cervical Cancer Image Classification\\Project-Phoenix\\Dataset\\Preprocessed Dataset\\im_Dyskeratotic\\097_cyt_cyt03.png: name 'greycomatrix' is not defined\n"
     ]
    },
    {
     "name": "stderr",
     "output_type": "stream",
     "text": [
      "C:\\Users\\meetb\\AppData\\Local\\Temp\\ipykernel_53104\\2748481638.py:97: RuntimeWarning: Mean of empty slice.\n",
      "  ch_means = img_rgb[idx].reshape(-1, 3).mean(axis=0)\n",
      "C:\\Users\\meetb\\AppData\\Local\\Packages\\PythonSoftwareFoundation.Python.3.12_qbz5n2kfra8p0\\LocalCache\\local-packages\\Python312\\site-packages\\numpy\\core\\_methods.py:121: RuntimeWarning: invalid value encountered in divide\n",
      "  ret = um.true_divide(\n",
      "C:\\Users\\meetb\\AppData\\Local\\Packages\\PythonSoftwareFoundation.Python.3.12_qbz5n2kfra8p0\\LocalCache\\local-packages\\Python312\\site-packages\\numpy\\core\\_methods.py:206: RuntimeWarning: Degrees of freedom <= 0 for slice\n",
      "  ret = _var(a, axis=axis, dtype=dtype, out=out, ddof=ddof,\n",
      "C:\\Users\\meetb\\AppData\\Local\\Packages\\PythonSoftwareFoundation.Python.3.12_qbz5n2kfra8p0\\LocalCache\\local-packages\\Python312\\site-packages\\numpy\\core\\_methods.py:163: RuntimeWarning: invalid value encountered in divide\n",
      "  arrmean = um.true_divide(arrmean, div, out=arrmean,\n",
      "C:\\Users\\meetb\\AppData\\Local\\Packages\\PythonSoftwareFoundation.Python.3.12_qbz5n2kfra8p0\\LocalCache\\local-packages\\Python312\\site-packages\\numpy\\core\\_methods.py:195: RuntimeWarning: invalid value encountered in divide\n",
      "  ret = um.true_divide(\n",
      "C:\\Users\\meetb\\AppData\\Local\\Packages\\PythonSoftwareFoundation.Python.3.12_qbz5n2kfra8p0\\LocalCache\\local-packages\\Python312\\site-packages\\numpy\\core\\fromnumeric.py:3504: RuntimeWarning: Mean of empty slice.\n",
      "  return _methods._mean(a, axis=axis, dtype=dtype,\n",
      "C:\\Users\\meetb\\AppData\\Local\\Packages\\PythonSoftwareFoundation.Python.3.12_qbz5n2kfra8p0\\LocalCache\\local-packages\\Python312\\site-packages\\numpy\\core\\_methods.py:129: RuntimeWarning: invalid value encountered in divide\n",
      "  ret = ret.dtype.type(ret / rcount)\n",
      "C:\\Users\\meetb\\AppData\\Local\\Packages\\PythonSoftwareFoundation.Python.3.12_qbz5n2kfra8p0\\LocalCache\\local-packages\\Python312\\site-packages\\numpy\\core\\_methods.py:198: RuntimeWarning: invalid value encountered in divide\n",
      "  ret = ret.dtype.type(ret / rcount)\n",
      " 10%|▉         | 794/8098 [01:14<10:34, 11.50it/s]"
     ]
    },
    {
     "name": "stdout",
     "output_type": "stream",
     "text": [
      "Error processing c:\\Meet\\Projects\\Project_8_Phoenix_Cervical Cancer Image Classification\\Project-Phoenix\\Dataset\\Preprocessed Dataset\\im_Dyskeratotic\\097_cyt_cyt04.png: name 'greycomatrix' is not defined\n",
      "Error processing c:\\Meet\\Projects\\Project_8_Phoenix_Cervical Cancer Image Classification\\Project-Phoenix\\Dataset\\Preprocessed Dataset\\im_Dyskeratotic\\097_cyt_cyt05.png: name 'greycomatrix' is not defined\n",
      "Error processing c:\\Meet\\Projects\\Project_8_Phoenix_Cervical Cancer Image Classification\\Project-Phoenix\\Dataset\\Preprocessed Dataset\\im_Dyskeratotic\\097_nuc_nuc01.png: name 'greycomatrix' is not defined\n"
     ]
    },
    {
     "name": "stderr",
     "output_type": "stream",
     "text": [
      " 10%|▉         | 796/8098 [01:14<11:00, 11.06it/s]"
     ]
    },
    {
     "name": "stdout",
     "output_type": "stream",
     "text": [
      "Error processing c:\\Meet\\Projects\\Project_8_Phoenix_Cervical Cancer Image Classification\\Project-Phoenix\\Dataset\\Preprocessed Dataset\\im_Dyskeratotic\\097_nuc_nuc02.png: name 'greycomatrix' is not defined\n",
      "Error processing c:\\Meet\\Projects\\Project_8_Phoenix_Cervical Cancer Image Classification\\Project-Phoenix\\Dataset\\Preprocessed Dataset\\im_Dyskeratotic\\097_nuc_nuc03.png: name 'greycomatrix' is not defined\n",
      "Error processing c:\\Meet\\Projects\\Project_8_Phoenix_Cervical Cancer Image Classification\\Project-Phoenix\\Dataset\\Preprocessed Dataset\\im_Dyskeratotic\\097_nuc_nuc04.png: name 'greycomatrix' is not defined\n"
     ]
    },
    {
     "name": "stderr",
     "output_type": "stream",
     "text": [
      " 10%|▉         | 800/8098 [01:14<10:56, 11.11it/s]"
     ]
    },
    {
     "name": "stdout",
     "output_type": "stream",
     "text": [
      "Error processing c:\\Meet\\Projects\\Project_8_Phoenix_Cervical Cancer Image Classification\\Project-Phoenix\\Dataset\\Preprocessed Dataset\\im_Dyskeratotic\\097_nuc_nuc05.png: name 'greycomatrix' is not defined\n",
      "Error processing c:\\Meet\\Projects\\Project_8_Phoenix_Cervical Cancer Image Classification\\Project-Phoenix\\Dataset\\Preprocessed Dataset\\im_Dyskeratotic\\098_cyt_cyt01.png: name 'greycomatrix' is not defined\n",
      "Error processing c:\\Meet\\Projects\\Project_8_Phoenix_Cervical Cancer Image Classification\\Project-Phoenix\\Dataset\\Preprocessed Dataset\\im_Dyskeratotic\\098_nuc_nuc01.png: name 'greycomatrix' is not defined\n"
     ]
    },
    {
     "name": "stderr",
     "output_type": "stream",
     "text": [
      " 10%|▉         | 802/8098 [01:15<10:43, 11.34it/s]"
     ]
    },
    {
     "name": "stdout",
     "output_type": "stream",
     "text": [
      "Error processing c:\\Meet\\Projects\\Project_8_Phoenix_Cervical Cancer Image Classification\\Project-Phoenix\\Dataset\\Preprocessed Dataset\\im_Dyskeratotic\\099_cyt_cyt01.png: name 'greycomatrix' is not defined\n",
      "Error processing c:\\Meet\\Projects\\Project_8_Phoenix_Cervical Cancer Image Classification\\Project-Phoenix\\Dataset\\Preprocessed Dataset\\im_Dyskeratotic\\099_cyt_cyt02.png: name 'greycomatrix' is not defined\n",
      "Error processing c:\\Meet\\Projects\\Project_8_Phoenix_Cervical Cancer Image Classification\\Project-Phoenix\\Dataset\\Preprocessed Dataset\\im_Dyskeratotic\\099_cyt_cyt03.png: name 'greycomatrix' is not defined\n"
     ]
    },
    {
     "name": "stderr",
     "output_type": "stream",
     "text": [
      " 10%|▉         | 806/8098 [01:15<11:05, 10.96it/s]"
     ]
    },
    {
     "name": "stdout",
     "output_type": "stream",
     "text": [
      "Error processing c:\\Meet\\Projects\\Project_8_Phoenix_Cervical Cancer Image Classification\\Project-Phoenix\\Dataset\\Preprocessed Dataset\\im_Dyskeratotic\\099_nuc_nuc01.png: name 'greycomatrix' is not defined\n",
      "Error processing c:\\Meet\\Projects\\Project_8_Phoenix_Cervical Cancer Image Classification\\Project-Phoenix\\Dataset\\Preprocessed Dataset\\im_Dyskeratotic\\099_nuc_nuc02.png: name 'greycomatrix' is not defined\n",
      "Error processing c:\\Meet\\Projects\\Project_8_Phoenix_Cervical Cancer Image Classification\\Project-Phoenix\\Dataset\\Preprocessed Dataset\\im_Dyskeratotic\\099_nuc_nuc03.png: name 'greycomatrix' is not defined\n"
     ]
    },
    {
     "name": "stderr",
     "output_type": "stream",
     "text": [
      " 10%|▉         | 808/8098 [01:15<10:53, 11.16it/s]"
     ]
    },
    {
     "name": "stdout",
     "output_type": "stream",
     "text": [
      "Error processing c:\\Meet\\Projects\\Project_8_Phoenix_Cervical Cancer Image Classification\\Project-Phoenix\\Dataset\\Preprocessed Dataset\\im_Dyskeratotic\\100_cyt_cyt01.png: name 'greycomatrix' is not defined\n",
      "Error processing c:\\Meet\\Projects\\Project_8_Phoenix_Cervical Cancer Image Classification\\Project-Phoenix\\Dataset\\Preprocessed Dataset\\im_Dyskeratotic\\100_cyt_cyt02.png: name 'greycomatrix' is not defined\n",
      "Error processing c:\\Meet\\Projects\\Project_8_Phoenix_Cervical Cancer Image Classification\\Project-Phoenix\\Dataset\\Preprocessed Dataset\\im_Dyskeratotic\\100_cyt_cyt03.png: name 'greycomatrix' is not defined\n"
     ]
    },
    {
     "name": "stderr",
     "output_type": "stream",
     "text": [
      " 10%|█         | 812/8098 [01:15<10:39, 11.39it/s]"
     ]
    },
    {
     "name": "stdout",
     "output_type": "stream",
     "text": [
      "Error processing c:\\Meet\\Projects\\Project_8_Phoenix_Cervical Cancer Image Classification\\Project-Phoenix\\Dataset\\Preprocessed Dataset\\im_Dyskeratotic\\100_cyt_cyt04.png: name 'greycomatrix' is not defined\n",
      "Error processing c:\\Meet\\Projects\\Project_8_Phoenix_Cervical Cancer Image Classification\\Project-Phoenix\\Dataset\\Preprocessed Dataset\\im_Dyskeratotic\\100_cyt_cyt05.png: name 'greycomatrix' is not defined\n",
      "Error processing c:\\Meet\\Projects\\Project_8_Phoenix_Cervical Cancer Image Classification\\Project-Phoenix\\Dataset\\Preprocessed Dataset\\im_Dyskeratotic\\100_cyt_cyt06.png: name 'greycomatrix' is not defined\n"
     ]
    },
    {
     "name": "stderr",
     "output_type": "stream",
     "text": [
      " 10%|█         | 814/8098 [01:16<10:34, 11.47it/s]"
     ]
    },
    {
     "name": "stdout",
     "output_type": "stream",
     "text": [
      "Error processing c:\\Meet\\Projects\\Project_8_Phoenix_Cervical Cancer Image Classification\\Project-Phoenix\\Dataset\\Preprocessed Dataset\\im_Dyskeratotic\\100_cyt_cyt07.png: name 'greycomatrix' is not defined\n",
      "Error processing c:\\Meet\\Projects\\Project_8_Phoenix_Cervical Cancer Image Classification\\Project-Phoenix\\Dataset\\Preprocessed Dataset\\im_Dyskeratotic\\100_cyt_cyt08.png: name 'greycomatrix' is not defined\n",
      "Error processing c:\\Meet\\Projects\\Project_8_Phoenix_Cervical Cancer Image Classification\\Project-Phoenix\\Dataset\\Preprocessed Dataset\\im_Dyskeratotic\\100_nuc_nuc01.png: name 'greycomatrix' is not defined\n"
     ]
    },
    {
     "name": "stderr",
     "output_type": "stream",
     "text": [
      " 10%|█         | 816/8098 [01:16<10:18, 11.77it/s]C:\\Users\\meetb\\AppData\\Local\\Temp\\ipykernel_53104\\2748481638.py:97: RuntimeWarning: Mean of empty slice.\n",
      "  ch_means = img_rgb[idx].reshape(-1, 3).mean(axis=0)\n",
      "C:\\Users\\meetb\\AppData\\Local\\Packages\\PythonSoftwareFoundation.Python.3.12_qbz5n2kfra8p0\\LocalCache\\local-packages\\Python312\\site-packages\\numpy\\core\\_methods.py:121: RuntimeWarning: invalid value encountered in divide\n",
      "  ret = um.true_divide(\n",
      "C:\\Users\\meetb\\AppData\\Local\\Packages\\PythonSoftwareFoundation.Python.3.12_qbz5n2kfra8p0\\LocalCache\\local-packages\\Python312\\site-packages\\numpy\\core\\_methods.py:206: RuntimeWarning: Degrees of freedom <= 0 for slice\n",
      "  ret = _var(a, axis=axis, dtype=dtype, out=out, ddof=ddof,\n",
      "C:\\Users\\meetb\\AppData\\Local\\Packages\\PythonSoftwareFoundation.Python.3.12_qbz5n2kfra8p0\\LocalCache\\local-packages\\Python312\\site-packages\\numpy\\core\\_methods.py:163: RuntimeWarning: invalid value encountered in divide\n",
      "  arrmean = um.true_divide(arrmean, div, out=arrmean,\n",
      "C:\\Users\\meetb\\AppData\\Local\\Packages\\PythonSoftwareFoundation.Python.3.12_qbz5n2kfra8p0\\LocalCache\\local-packages\\Python312\\site-packages\\numpy\\core\\_methods.py:195: RuntimeWarning: invalid value encountered in divide\n",
      "  ret = um.true_divide(\n",
      "C:\\Users\\meetb\\AppData\\Local\\Packages\\PythonSoftwareFoundation.Python.3.12_qbz5n2kfra8p0\\LocalCache\\local-packages\\Python312\\site-packages\\numpy\\core\\fromnumeric.py:3504: RuntimeWarning: Mean of empty slice.\n",
      "  return _methods._mean(a, axis=axis, dtype=dtype,\n",
      "C:\\Users\\meetb\\AppData\\Local\\Packages\\PythonSoftwareFoundation.Python.3.12_qbz5n2kfra8p0\\LocalCache\\local-packages\\Python312\\site-packages\\numpy\\core\\_methods.py:129: RuntimeWarning: invalid value encountered in divide\n",
      "  ret = ret.dtype.type(ret / rcount)\n",
      "C:\\Users\\meetb\\AppData\\Local\\Packages\\PythonSoftwareFoundation.Python.3.12_qbz5n2kfra8p0\\LocalCache\\local-packages\\Python312\\site-packages\\numpy\\core\\_methods.py:198: RuntimeWarning: invalid value encountered in divide\n",
      "  ret = ret.dtype.type(ret / rcount)\n",
      " 10%|█         | 818/8098 [01:16<10:18, 11.78it/s]"
     ]
    },
    {
     "name": "stdout",
     "output_type": "stream",
     "text": [
      "Error processing c:\\Meet\\Projects\\Project_8_Phoenix_Cervical Cancer Image Classification\\Project-Phoenix\\Dataset\\Preprocessed Dataset\\im_Dyskeratotic\\100_nuc_nuc02.png: name 'greycomatrix' is not defined\n",
      "Error processing c:\\Meet\\Projects\\Project_8_Phoenix_Cervical Cancer Image Classification\\Project-Phoenix\\Dataset\\Preprocessed Dataset\\im_Dyskeratotic\\100_nuc_nuc03.png: name 'greycomatrix' is not defined\n",
      "Error processing c:\\Meet\\Projects\\Project_8_Phoenix_Cervical Cancer Image Classification\\Project-Phoenix\\Dataset\\Preprocessed Dataset\\im_Dyskeratotic\\100_nuc_nuc04.png: name 'greycomatrix' is not defined\n"
     ]
    },
    {
     "name": "stderr",
     "output_type": "stream",
     "text": [
      " 10%|█         | 820/8098 [01:16<10:27, 11.60it/s]"
     ]
    },
    {
     "name": "stdout",
     "output_type": "stream",
     "text": [
      "Error processing c:\\Meet\\Projects\\Project_8_Phoenix_Cervical Cancer Image Classification\\Project-Phoenix\\Dataset\\Preprocessed Dataset\\im_Dyskeratotic\\100_nuc_nuc05.png: name 'greycomatrix' is not defined\n",
      "Error processing c:\\Meet\\Projects\\Project_8_Phoenix_Cervical Cancer Image Classification\\Project-Phoenix\\Dataset\\Preprocessed Dataset\\im_Dyskeratotic\\100_nuc_nuc06.png: name 'greycomatrix' is not defined\n",
      "Error processing c:\\Meet\\Projects\\Project_8_Phoenix_Cervical Cancer Image Classification\\Project-Phoenix\\Dataset\\Preprocessed Dataset\\im_Dyskeratotic\\100_nuc_nuc07.png: name 'greycomatrix' is not defined\n"
     ]
    },
    {
     "name": "stderr",
     "output_type": "stream",
     "text": [
      " 10%|█         | 824/8098 [01:16<10:41, 11.35it/s]"
     ]
    },
    {
     "name": "stdout",
     "output_type": "stream",
     "text": [
      "Error processing c:\\Meet\\Projects\\Project_8_Phoenix_Cervical Cancer Image Classification\\Project-Phoenix\\Dataset\\Preprocessed Dataset\\im_Dyskeratotic\\100_nuc_nuc08.png: name 'greycomatrix' is not defined\n",
      "Error processing c:\\Meet\\Projects\\Project_8_Phoenix_Cervical Cancer Image Classification\\Project-Phoenix\\Dataset\\Preprocessed Dataset\\im_Dyskeratotic\\101_cyt_cyt01.png: name 'greycomatrix' is not defined\n",
      "Error processing c:\\Meet\\Projects\\Project_8_Phoenix_Cervical Cancer Image Classification\\Project-Phoenix\\Dataset\\Preprocessed Dataset\\im_Dyskeratotic\\101_cyt_cyt02.png: name 'greycomatrix' is not defined\n"
     ]
    },
    {
     "name": "stderr",
     "output_type": "stream",
     "text": [
      " 10%|█         | 826/8098 [01:17<10:28, 11.57it/s]"
     ]
    },
    {
     "name": "stdout",
     "output_type": "stream",
     "text": [
      "Error processing c:\\Meet\\Projects\\Project_8_Phoenix_Cervical Cancer Image Classification\\Project-Phoenix\\Dataset\\Preprocessed Dataset\\im_Dyskeratotic\\101_cyt_cyt03.png: name 'greycomatrix' is not defined\n",
      "Error processing c:\\Meet\\Projects\\Project_8_Phoenix_Cervical Cancer Image Classification\\Project-Phoenix\\Dataset\\Preprocessed Dataset\\im_Dyskeratotic\\101_cyt_cyt04.png: name 'greycomatrix' is not defined\n",
      "Error processing c:\\Meet\\Projects\\Project_8_Phoenix_Cervical Cancer Image Classification\\Project-Phoenix\\Dataset\\Preprocessed Dataset\\im_Dyskeratotic\\101_cyt_cyt05.png: name 'greycomatrix' is not defined\n"
     ]
    },
    {
     "name": "stderr",
     "output_type": "stream",
     "text": [
      " 10%|█         | 828/8098 [01:17<10:32, 11.49it/s]"
     ]
    },
    {
     "name": "stdout",
     "output_type": "stream",
     "text": [
      "Error processing c:\\Meet\\Projects\\Project_8_Phoenix_Cervical Cancer Image Classification\\Project-Phoenix\\Dataset\\Preprocessed Dataset\\im_Dyskeratotic\\101_cyt_cyt06.png: name 'greycomatrix' is not defined\n",
      "Error processing c:\\Meet\\Projects\\Project_8_Phoenix_Cervical Cancer Image Classification\\Project-Phoenix\\Dataset\\Preprocessed Dataset\\im_Dyskeratotic\\101_cyt_cyt07.png: name 'greycomatrix' is not defined\n"
     ]
    },
    {
     "name": "stderr",
     "output_type": "stream",
     "text": [
      " 10%|█         | 830/8098 [01:17<11:00, 11.01it/s]"
     ]
    },
    {
     "name": "stdout",
     "output_type": "stream",
     "text": [
      "Error processing c:\\Meet\\Projects\\Project_8_Phoenix_Cervical Cancer Image Classification\\Project-Phoenix\\Dataset\\Preprocessed Dataset\\im_Dyskeratotic\\101_cyt_cyt08.png: name 'greycomatrix' is not defined\n",
      "Error processing c:\\Meet\\Projects\\Project_8_Phoenix_Cervical Cancer Image Classification\\Project-Phoenix\\Dataset\\Preprocessed Dataset\\im_Dyskeratotic\\101_cyt_cyt09.png: name 'greycomatrix' is not defined\n",
      "Error processing c:\\Meet\\Projects\\Project_8_Phoenix_Cervical Cancer Image Classification\\Project-Phoenix\\Dataset\\Preprocessed Dataset\\im_Dyskeratotic\\101_cyt_cyt10.png: name 'greycomatrix' is not defined\n"
     ]
    },
    {
     "name": "stderr",
     "output_type": "stream",
     "text": [
      " 10%|█         | 834/8098 [01:17<10:46, 11.24it/s]"
     ]
    },
    {
     "name": "stdout",
     "output_type": "stream",
     "text": [
      "Error processing c:\\Meet\\Projects\\Project_8_Phoenix_Cervical Cancer Image Classification\\Project-Phoenix\\Dataset\\Preprocessed Dataset\\im_Dyskeratotic\\101_cyt_cyt11.png: name 'greycomatrix' is not defined\n",
      "Error processing c:\\Meet\\Projects\\Project_8_Phoenix_Cervical Cancer Image Classification\\Project-Phoenix\\Dataset\\Preprocessed Dataset\\im_Dyskeratotic\\101_cyt_cyt12.png: name 'greycomatrix' is not defined\n",
      "Error processing c:\\Meet\\Projects\\Project_8_Phoenix_Cervical Cancer Image Classification\\Project-Phoenix\\Dataset\\Preprocessed Dataset\\im_Dyskeratotic\\101_cyt_cyt13.png: name 'greycomatrix' is not defined\n"
     ]
    },
    {
     "name": "stderr",
     "output_type": "stream",
     "text": [
      " 10%|█         | 836/8098 [01:18<10:52, 11.14it/s]"
     ]
    },
    {
     "name": "stdout",
     "output_type": "stream",
     "text": [
      "Error processing c:\\Meet\\Projects\\Project_8_Phoenix_Cervical Cancer Image Classification\\Project-Phoenix\\Dataset\\Preprocessed Dataset\\im_Dyskeratotic\\101_cyt_cyt14.png: name 'greycomatrix' is not defined\n",
      "Error processing c:\\Meet\\Projects\\Project_8_Phoenix_Cervical Cancer Image Classification\\Project-Phoenix\\Dataset\\Preprocessed Dataset\\im_Dyskeratotic\\101_cyt_cyt15.png: name 'greycomatrix' is not defined\n",
      "Error processing c:\\Meet\\Projects\\Project_8_Phoenix_Cervical Cancer Image Classification\\Project-Phoenix\\Dataset\\Preprocessed Dataset\\im_Dyskeratotic\\101_cyt_cyt16.png: name 'greycomatrix' is not defined\n"
     ]
    },
    {
     "name": "stderr",
     "output_type": "stream",
     "text": [
      " 10%|█         | 840/8098 [01:18<10:56, 11.05it/s]"
     ]
    },
    {
     "name": "stdout",
     "output_type": "stream",
     "text": [
      "Error processing c:\\Meet\\Projects\\Project_8_Phoenix_Cervical Cancer Image Classification\\Project-Phoenix\\Dataset\\Preprocessed Dataset\\im_Dyskeratotic\\101_nuc_nuc01.png: name 'greycomatrix' is not defined\n",
      "Error processing c:\\Meet\\Projects\\Project_8_Phoenix_Cervical Cancer Image Classification\\Project-Phoenix\\Dataset\\Preprocessed Dataset\\im_Dyskeratotic\\101_nuc_nuc02.png: name 'greycomatrix' is not defined\n",
      "Error processing c:\\Meet\\Projects\\Project_8_Phoenix_Cervical Cancer Image Classification\\Project-Phoenix\\Dataset\\Preprocessed Dataset\\im_Dyskeratotic\\101_nuc_nuc03.png: name 'greycomatrix' is not defined\n"
     ]
    },
    {
     "name": "stderr",
     "output_type": "stream",
     "text": [
      " 10%|█         | 844/8098 [01:18<10:22, 11.66it/s]"
     ]
    },
    {
     "name": "stdout",
     "output_type": "stream",
     "text": [
      "Error processing c:\\Meet\\Projects\\Project_8_Phoenix_Cervical Cancer Image Classification\\Project-Phoenix\\Dataset\\Preprocessed Dataset\\im_Dyskeratotic\\101_nuc_nuc04.png: name 'greycomatrix' is not defined\n",
      "Error processing c:\\Meet\\Projects\\Project_8_Phoenix_Cervical Cancer Image Classification\\Project-Phoenix\\Dataset\\Preprocessed Dataset\\im_Dyskeratotic\\101_nuc_nuc05.png: name 'greycomatrix' is not defined\n",
      "Error processing c:\\Meet\\Projects\\Project_8_Phoenix_Cervical Cancer Image Classification\\Project-Phoenix\\Dataset\\Preprocessed Dataset\\im_Dyskeratotic\\101_nuc_nuc06.png: name 'greycomatrix' is not defined\n"
     ]
    },
    {
     "name": "stderr",
     "output_type": "stream",
     "text": [
      " 10%|█         | 846/8098 [01:18<10:52, 11.12it/s]"
     ]
    },
    {
     "name": "stdout",
     "output_type": "stream",
     "text": [
      "Error processing c:\\Meet\\Projects\\Project_8_Phoenix_Cervical Cancer Image Classification\\Project-Phoenix\\Dataset\\Preprocessed Dataset\\im_Dyskeratotic\\101_nuc_nuc07.png: name 'greycomatrix' is not defined\n",
      "Error processing c:\\Meet\\Projects\\Project_8_Phoenix_Cervical Cancer Image Classification\\Project-Phoenix\\Dataset\\Preprocessed Dataset\\im_Dyskeratotic\\101_nuc_nuc08.png: name 'greycomatrix' is not defined\n",
      "Error processing c:\\Meet\\Projects\\Project_8_Phoenix_Cervical Cancer Image Classification\\Project-Phoenix\\Dataset\\Preprocessed Dataset\\im_Dyskeratotic\\101_nuc_nuc09.png: name 'greycomatrix' is not defined\n"
     ]
    },
    {
     "name": "stderr",
     "output_type": "stream",
     "text": [
      " 10%|█         | 850/8098 [01:19<10:35, 11.40it/s]"
     ]
    },
    {
     "name": "stdout",
     "output_type": "stream",
     "text": [
      "Error processing c:\\Meet\\Projects\\Project_8_Phoenix_Cervical Cancer Image Classification\\Project-Phoenix\\Dataset\\Preprocessed Dataset\\im_Dyskeratotic\\101_nuc_nuc10.png: name 'greycomatrix' is not defined\n",
      "Error processing c:\\Meet\\Projects\\Project_8_Phoenix_Cervical Cancer Image Classification\\Project-Phoenix\\Dataset\\Preprocessed Dataset\\im_Dyskeratotic\\101_nuc_nuc11.png: name 'greycomatrix' is not defined\n",
      "Error processing c:\\Meet\\Projects\\Project_8_Phoenix_Cervical Cancer Image Classification\\Project-Phoenix\\Dataset\\Preprocessed Dataset\\im_Dyskeratotic\\101_nuc_nuc12.png: name 'greycomatrix' is not defined\n"
     ]
    },
    {
     "name": "stderr",
     "output_type": "stream",
     "text": [
      " 11%|█         | 852/8098 [01:19<10:34, 11.42it/s]"
     ]
    },
    {
     "name": "stdout",
     "output_type": "stream",
     "text": [
      "Error processing c:\\Meet\\Projects\\Project_8_Phoenix_Cervical Cancer Image Classification\\Project-Phoenix\\Dataset\\Preprocessed Dataset\\im_Dyskeratotic\\101_nuc_nuc13.png: name 'greycomatrix' is not defined\n",
      "Error processing c:\\Meet\\Projects\\Project_8_Phoenix_Cervical Cancer Image Classification\\Project-Phoenix\\Dataset\\Preprocessed Dataset\\im_Dyskeratotic\\101_nuc_nuc14.png: name 'greycomatrix' is not defined\n",
      "Error processing c:\\Meet\\Projects\\Project_8_Phoenix_Cervical Cancer Image Classification\\Project-Phoenix\\Dataset\\Preprocessed Dataset\\im_Dyskeratotic\\101_nuc_nuc15.png: name 'greycomatrix' is not defined\n"
     ]
    },
    {
     "name": "stderr",
     "output_type": "stream",
     "text": [
      " 11%|█         | 856/8098 [01:19<10:26, 11.56it/s]"
     ]
    },
    {
     "name": "stdout",
     "output_type": "stream",
     "text": [
      "Error processing c:\\Meet\\Projects\\Project_8_Phoenix_Cervical Cancer Image Classification\\Project-Phoenix\\Dataset\\Preprocessed Dataset\\im_Dyskeratotic\\101_nuc_nuc16.png: name 'greycomatrix' is not defined\n",
      "Error processing c:\\Meet\\Projects\\Project_8_Phoenix_Cervical Cancer Image Classification\\Project-Phoenix\\Dataset\\Preprocessed Dataset\\im_Dyskeratotic\\102_cyt_cyt01.png: name 'greycomatrix' is not defined\n",
      "Error processing c:\\Meet\\Projects\\Project_8_Phoenix_Cervical Cancer Image Classification\\Project-Phoenix\\Dataset\\Preprocessed Dataset\\im_Dyskeratotic\\102_cyt_cyt02.png: name 'greycomatrix' is not defined\n"
     ]
    },
    {
     "name": "stderr",
     "output_type": "stream",
     "text": [
      " 11%|█         | 858/8098 [01:20<10:44, 11.23it/s]"
     ]
    },
    {
     "name": "stdout",
     "output_type": "stream",
     "text": [
      "Error processing c:\\Meet\\Projects\\Project_8_Phoenix_Cervical Cancer Image Classification\\Project-Phoenix\\Dataset\\Preprocessed Dataset\\im_Dyskeratotic\\102_cyt_cyt03.png: name 'greycomatrix' is not defined\n",
      "Error processing c:\\Meet\\Projects\\Project_8_Phoenix_Cervical Cancer Image Classification\\Project-Phoenix\\Dataset\\Preprocessed Dataset\\im_Dyskeratotic\\102_cyt_cyt04.png: name 'greycomatrix' is not defined\n",
      "Error processing c:\\Meet\\Projects\\Project_8_Phoenix_Cervical Cancer Image Classification\\Project-Phoenix\\Dataset\\Preprocessed Dataset\\im_Dyskeratotic\\102_cyt_cyt05.png: name 'greycomatrix' is not defined\n"
     ]
    },
    {
     "name": "stderr",
     "output_type": "stream",
     "text": [
      " 11%|█         | 860/8098 [01:20<11:10, 10.79it/s]C:\\Users\\meetb\\AppData\\Local\\Temp\\ipykernel_53104\\2748481638.py:97: RuntimeWarning: Mean of empty slice.\n",
      "  ch_means = img_rgb[idx].reshape(-1, 3).mean(axis=0)\n",
      "C:\\Users\\meetb\\AppData\\Local\\Packages\\PythonSoftwareFoundation.Python.3.12_qbz5n2kfra8p0\\LocalCache\\local-packages\\Python312\\site-packages\\numpy\\core\\_methods.py:121: RuntimeWarning: invalid value encountered in divide\n",
      "  ret = um.true_divide(\n",
      "C:\\Users\\meetb\\AppData\\Local\\Packages\\PythonSoftwareFoundation.Python.3.12_qbz5n2kfra8p0\\LocalCache\\local-packages\\Python312\\site-packages\\numpy\\core\\_methods.py:206: RuntimeWarning: Degrees of freedom <= 0 for slice\n",
      "  ret = _var(a, axis=axis, dtype=dtype, out=out, ddof=ddof,\n",
      "C:\\Users\\meetb\\AppData\\Local\\Packages\\PythonSoftwareFoundation.Python.3.12_qbz5n2kfra8p0\\LocalCache\\local-packages\\Python312\\site-packages\\numpy\\core\\_methods.py:163: RuntimeWarning: invalid value encountered in divide\n",
      "  arrmean = um.true_divide(arrmean, div, out=arrmean,\n",
      "C:\\Users\\meetb\\AppData\\Local\\Packages\\PythonSoftwareFoundation.Python.3.12_qbz5n2kfra8p0\\LocalCache\\local-packages\\Python312\\site-packages\\numpy\\core\\_methods.py:195: RuntimeWarning: invalid value encountered in divide\n",
      "  ret = um.true_divide(\n",
      "C:\\Users\\meetb\\AppData\\Local\\Packages\\PythonSoftwareFoundation.Python.3.12_qbz5n2kfra8p0\\LocalCache\\local-packages\\Python312\\site-packages\\numpy\\core\\fromnumeric.py:3504: RuntimeWarning: Mean of empty slice.\n",
      "  return _methods._mean(a, axis=axis, dtype=dtype,\n",
      "C:\\Users\\meetb\\AppData\\Local\\Packages\\PythonSoftwareFoundation.Python.3.12_qbz5n2kfra8p0\\LocalCache\\local-packages\\Python312\\site-packages\\numpy\\core\\_methods.py:129: RuntimeWarning: invalid value encountered in divide\n",
      "  ret = ret.dtype.type(ret / rcount)\n",
      "C:\\Users\\meetb\\AppData\\Local\\Packages\\PythonSoftwareFoundation.Python.3.12_qbz5n2kfra8p0\\LocalCache\\local-packages\\Python312\\site-packages\\numpy\\core\\_methods.py:198: RuntimeWarning: invalid value encountered in divide\n",
      "  ret = ret.dtype.type(ret / rcount)\n",
      " 11%|█         | 862/8098 [01:20<10:55, 11.05it/s]"
     ]
    },
    {
     "name": "stdout",
     "output_type": "stream",
     "text": [
      "Error processing c:\\Meet\\Projects\\Project_8_Phoenix_Cervical Cancer Image Classification\\Project-Phoenix\\Dataset\\Preprocessed Dataset\\im_Dyskeratotic\\102_cyt_cyt06.png: name 'greycomatrix' is not defined\n",
      "Error processing c:\\Meet\\Projects\\Project_8_Phoenix_Cervical Cancer Image Classification\\Project-Phoenix\\Dataset\\Preprocessed Dataset\\im_Dyskeratotic\\102_cyt_cyt07.png: name 'greycomatrix' is not defined\n",
      "Error processing c:\\Meet\\Projects\\Project_8_Phoenix_Cervical Cancer Image Classification\\Project-Phoenix\\Dataset\\Preprocessed Dataset\\im_Dyskeratotic\\102_cyt_cyt08.png: name 'greycomatrix' is not defined\n"
     ]
    },
    {
     "name": "stderr",
     "output_type": "stream",
     "text": [
      " 11%|█         | 864/8098 [01:20<10:48, 11.15it/s]"
     ]
    },
    {
     "name": "stdout",
     "output_type": "stream",
     "text": [
      "Error processing c:\\Meet\\Projects\\Project_8_Phoenix_Cervical Cancer Image Classification\\Project-Phoenix\\Dataset\\Preprocessed Dataset\\im_Dyskeratotic\\102_cyt_cyt09.png: name 'greycomatrix' is not defined\n",
      "Error processing c:\\Meet\\Projects\\Project_8_Phoenix_Cervical Cancer Image Classification\\Project-Phoenix\\Dataset\\Preprocessed Dataset\\im_Dyskeratotic\\102_cyt_cyt10.png: name 'greycomatrix' is not defined\n",
      "Error processing c:\\Meet\\Projects\\Project_8_Phoenix_Cervical Cancer Image Classification\\Project-Phoenix\\Dataset\\Preprocessed Dataset\\im_Dyskeratotic\\102_nuc_nuc01.png: name 'greycomatrix' is not defined\n"
     ]
    },
    {
     "name": "stderr",
     "output_type": "stream",
     "text": [
      " 11%|█         | 868/8098 [01:20<10:34, 11.39it/s]"
     ]
    },
    {
     "name": "stdout",
     "output_type": "stream",
     "text": [
      "Error processing c:\\Meet\\Projects\\Project_8_Phoenix_Cervical Cancer Image Classification\\Project-Phoenix\\Dataset\\Preprocessed Dataset\\im_Dyskeratotic\\102_nuc_nuc02.png: name 'greycomatrix' is not defined\n",
      "Error processing c:\\Meet\\Projects\\Project_8_Phoenix_Cervical Cancer Image Classification\\Project-Phoenix\\Dataset\\Preprocessed Dataset\\im_Dyskeratotic\\102_nuc_nuc03.png: name 'greycomatrix' is not defined\n",
      "Error processing c:\\Meet\\Projects\\Project_8_Phoenix_Cervical Cancer Image Classification\\Project-Phoenix\\Dataset\\Preprocessed Dataset\\im_Dyskeratotic\\102_nuc_nuc04.png: name 'greycomatrix' is not defined\n"
     ]
    },
    {
     "name": "stderr",
     "output_type": "stream",
     "text": [
      " 11%|█         | 870/8098 [01:21<10:18, 11.69it/s]"
     ]
    },
    {
     "name": "stdout",
     "output_type": "stream",
     "text": [
      "Error processing c:\\Meet\\Projects\\Project_8_Phoenix_Cervical Cancer Image Classification\\Project-Phoenix\\Dataset\\Preprocessed Dataset\\im_Dyskeratotic\\102_nuc_nuc05.png: name 'greycomatrix' is not defined\n",
      "Error processing c:\\Meet\\Projects\\Project_8_Phoenix_Cervical Cancer Image Classification\\Project-Phoenix\\Dataset\\Preprocessed Dataset\\im_Dyskeratotic\\102_nuc_nuc06.png: name 'greycomatrix' is not defined\n",
      "Error processing c:\\Meet\\Projects\\Project_8_Phoenix_Cervical Cancer Image Classification\\Project-Phoenix\\Dataset\\Preprocessed Dataset\\im_Dyskeratotic\\102_nuc_nuc07.png: name 'greycomatrix' is not defined\n"
     ]
    },
    {
     "name": "stderr",
     "output_type": "stream",
     "text": [
      " 11%|█         | 874/8098 [01:21<10:35, 11.36it/s]"
     ]
    },
    {
     "name": "stdout",
     "output_type": "stream",
     "text": [
      "Error processing c:\\Meet\\Projects\\Project_8_Phoenix_Cervical Cancer Image Classification\\Project-Phoenix\\Dataset\\Preprocessed Dataset\\im_Dyskeratotic\\102_nuc_nuc08.png: name 'greycomatrix' is not defined\n",
      "Error processing c:\\Meet\\Projects\\Project_8_Phoenix_Cervical Cancer Image Classification\\Project-Phoenix\\Dataset\\Preprocessed Dataset\\im_Dyskeratotic\\102_nuc_nuc09.png: name 'greycomatrix' is not defined\n",
      "Error processing c:\\Meet\\Projects\\Project_8_Phoenix_Cervical Cancer Image Classification\\Project-Phoenix\\Dataset\\Preprocessed Dataset\\im_Dyskeratotic\\102_nuc_nuc10.png: name 'greycomatrix' is not defined\n"
     ]
    },
    {
     "name": "stderr",
     "output_type": "stream",
     "text": [
      " 11%|█         | 876/8098 [01:21<10:36, 11.34it/s]"
     ]
    },
    {
     "name": "stdout",
     "output_type": "stream",
     "text": [
      "Error processing c:\\Meet\\Projects\\Project_8_Phoenix_Cervical Cancer Image Classification\\Project-Phoenix\\Dataset\\Preprocessed Dataset\\im_Dyskeratotic\\103_cyt_cyt01.png: name 'greycomatrix' is not defined\n",
      "Error processing c:\\Meet\\Projects\\Project_8_Phoenix_Cervical Cancer Image Classification\\Project-Phoenix\\Dataset\\Preprocessed Dataset\\im_Dyskeratotic\\103_cyt_cyt02.png: name 'greycomatrix' is not defined\n",
      "Error processing c:\\Meet\\Projects\\Project_8_Phoenix_Cervical Cancer Image Classification\\Project-Phoenix\\Dataset\\Preprocessed Dataset\\im_Dyskeratotic\\103_cyt_cyt03.png: name 'greycomatrix' is not defined\n"
     ]
    },
    {
     "name": "stderr",
     "output_type": "stream",
     "text": [
      " 11%|█         | 878/8098 [01:21<10:35, 11.37it/s]"
     ]
    },
    {
     "name": "stdout",
     "output_type": "stream",
     "text": [
      "Error processing c:\\Meet\\Projects\\Project_8_Phoenix_Cervical Cancer Image Classification\\Project-Phoenix\\Dataset\\Preprocessed Dataset\\im_Dyskeratotic\\103_cyt_cyt04.png: name 'greycomatrix' is not defined\n",
      "Error processing c:\\Meet\\Projects\\Project_8_Phoenix_Cervical Cancer Image Classification\\Project-Phoenix\\Dataset\\Preprocessed Dataset\\im_Dyskeratotic\\103_cyt_cyt05.png: name 'greycomatrix' is not defined\n",
      "Error processing c:\\Meet\\Projects\\Project_8_Phoenix_Cervical Cancer Image Classification\\Project-Phoenix\\Dataset\\Preprocessed Dataset\\im_Dyskeratotic\\103_nuc_nuc01.png: name 'greycomatrix' is not defined\n"
     ]
    },
    {
     "name": "stderr",
     "output_type": "stream",
     "text": [
      " 11%|█         | 882/8098 [01:22<10:30, 11.45it/s]"
     ]
    },
    {
     "name": "stdout",
     "output_type": "stream",
     "text": [
      "Error processing c:\\Meet\\Projects\\Project_8_Phoenix_Cervical Cancer Image Classification\\Project-Phoenix\\Dataset\\Preprocessed Dataset\\im_Dyskeratotic\\103_nuc_nuc02.png: name 'greycomatrix' is not defined\n",
      "Error processing c:\\Meet\\Projects\\Project_8_Phoenix_Cervical Cancer Image Classification\\Project-Phoenix\\Dataset\\Preprocessed Dataset\\im_Dyskeratotic\\103_nuc_nuc03.png: name 'greycomatrix' is not defined\n",
      "Error processing c:\\Meet\\Projects\\Project_8_Phoenix_Cervical Cancer Image Classification\\Project-Phoenix\\Dataset\\Preprocessed Dataset\\im_Dyskeratotic\\103_nuc_nuc04.png: name 'greycomatrix' is not defined\n"
     ]
    },
    {
     "name": "stderr",
     "output_type": "stream",
     "text": [
      " 11%|█         | 886/8098 [01:22<10:55, 11.01it/s]"
     ]
    },
    {
     "name": "stdout",
     "output_type": "stream",
     "text": [
      "Error processing c:\\Meet\\Projects\\Project_8_Phoenix_Cervical Cancer Image Classification\\Project-Phoenix\\Dataset\\Preprocessed Dataset\\im_Dyskeratotic\\103_nuc_nuc05.png: name 'greycomatrix' is not defined\n",
      "Error processing c:\\Meet\\Projects\\Project_8_Phoenix_Cervical Cancer Image Classification\\Project-Phoenix\\Dataset\\Preprocessed Dataset\\im_Dyskeratotic\\104_cyt_cyt01.png: name 'greycomatrix' is not defined\n",
      "Error processing c:\\Meet\\Projects\\Project_8_Phoenix_Cervical Cancer Image Classification\\Project-Phoenix\\Dataset\\Preprocessed Dataset\\im_Dyskeratotic\\104_cyt_cyt02.png: name 'greycomatrix' is not defined\n"
     ]
    },
    {
     "name": "stderr",
     "output_type": "stream",
     "text": [
      " 11%|█         | 888/8098 [01:22<10:40, 11.26it/s]"
     ]
    },
    {
     "name": "stdout",
     "output_type": "stream",
     "text": [
      "Error processing c:\\Meet\\Projects\\Project_8_Phoenix_Cervical Cancer Image Classification\\Project-Phoenix\\Dataset\\Preprocessed Dataset\\im_Dyskeratotic\\104_cyt_cyt03.png: name 'greycomatrix' is not defined\n",
      "Error processing c:\\Meet\\Projects\\Project_8_Phoenix_Cervical Cancer Image Classification\\Project-Phoenix\\Dataset\\Preprocessed Dataset\\im_Dyskeratotic\\104_cyt_cyt04.png: name 'greycomatrix' is not defined\n",
      "Error processing c:\\Meet\\Projects\\Project_8_Phoenix_Cervical Cancer Image Classification\\Project-Phoenix\\Dataset\\Preprocessed Dataset\\im_Dyskeratotic\\104_cyt_cyt05.png: name 'greycomatrix' is not defined\n"
     ]
    },
    {
     "name": "stderr",
     "output_type": "stream",
     "text": [
      " 11%|█         | 892/8098 [01:23<10:29, 11.44it/s]"
     ]
    },
    {
     "name": "stdout",
     "output_type": "stream",
     "text": [
      "Error processing c:\\Meet\\Projects\\Project_8_Phoenix_Cervical Cancer Image Classification\\Project-Phoenix\\Dataset\\Preprocessed Dataset\\im_Dyskeratotic\\104_cyt_cyt06.png: name 'greycomatrix' is not defined\n",
      "Error processing c:\\Meet\\Projects\\Project_8_Phoenix_Cervical Cancer Image Classification\\Project-Phoenix\\Dataset\\Preprocessed Dataset\\im_Dyskeratotic\\104_cyt_cyt07.png: name 'greycomatrix' is not defined\n",
      "Error processing c:\\Meet\\Projects\\Project_8_Phoenix_Cervical Cancer Image Classification\\Project-Phoenix\\Dataset\\Preprocessed Dataset\\im_Dyskeratotic\\104_cyt_cyt08.png: name 'greycomatrix' is not defined\n"
     ]
    },
    {
     "name": "stderr",
     "output_type": "stream",
     "text": [
      " 11%|█         | 894/8098 [01:23<10:27, 11.48it/s]"
     ]
    },
    {
     "name": "stdout",
     "output_type": "stream",
     "text": [
      "Error processing c:\\Meet\\Projects\\Project_8_Phoenix_Cervical Cancer Image Classification\\Project-Phoenix\\Dataset\\Preprocessed Dataset\\im_Dyskeratotic\\104_cyt_cyt09.png: name 'greycomatrix' is not defined\n",
      "Error processing c:\\Meet\\Projects\\Project_8_Phoenix_Cervical Cancer Image Classification\\Project-Phoenix\\Dataset\\Preprocessed Dataset\\im_Dyskeratotic\\104_cyt_cyt10.png: name 'greycomatrix' is not defined\n",
      "Error processing c:\\Meet\\Projects\\Project_8_Phoenix_Cervical Cancer Image Classification\\Project-Phoenix\\Dataset\\Preprocessed Dataset\\im_Dyskeratotic\\104_nuc_nuc01.png: name 'greycomatrix' is not defined\n"
     ]
    },
    {
     "name": "stderr",
     "output_type": "stream",
     "text": [
      " 11%|█         | 896/8098 [01:23<10:15, 11.71it/s]"
     ]
    },
    {
     "name": "stdout",
     "output_type": "stream",
     "text": [
      "Error processing c:\\Meet\\Projects\\Project_8_Phoenix_Cervical Cancer Image Classification\\Project-Phoenix\\Dataset\\Preprocessed Dataset\\im_Dyskeratotic\\104_nuc_nuc02.png: name 'greycomatrix' is not defined\n",
      "Error processing c:\\Meet\\Projects\\Project_8_Phoenix_Cervical Cancer Image Classification\\Project-Phoenix\\Dataset\\Preprocessed Dataset\\im_Dyskeratotic\\104_nuc_nuc03.png: name 'greycomatrix' is not defined\n"
     ]
    },
    {
     "name": "stderr",
     "output_type": "stream",
     "text": [
      " 11%|█         | 900/8098 [01:23<10:53, 11.01it/s]"
     ]
    },
    {
     "name": "stdout",
     "output_type": "stream",
     "text": [
      "Error processing c:\\Meet\\Projects\\Project_8_Phoenix_Cervical Cancer Image Classification\\Project-Phoenix\\Dataset\\Preprocessed Dataset\\im_Dyskeratotic\\104_nuc_nuc04.png: name 'greycomatrix' is not defined\n",
      "Error processing c:\\Meet\\Projects\\Project_8_Phoenix_Cervical Cancer Image Classification\\Project-Phoenix\\Dataset\\Preprocessed Dataset\\im_Dyskeratotic\\104_nuc_nuc05.png: name 'greycomatrix' is not defined\n",
      "Error processing c:\\Meet\\Projects\\Project_8_Phoenix_Cervical Cancer Image Classification\\Project-Phoenix\\Dataset\\Preprocessed Dataset\\im_Dyskeratotic\\104_nuc_nuc06.png: name 'greycomatrix' is not defined\n"
     ]
    },
    {
     "name": "stderr",
     "output_type": "stream",
     "text": [
      " 11%|█         | 902/8098 [01:23<10:40, 11.24it/s]"
     ]
    },
    {
     "name": "stdout",
     "output_type": "stream",
     "text": [
      "Error processing c:\\Meet\\Projects\\Project_8_Phoenix_Cervical Cancer Image Classification\\Project-Phoenix\\Dataset\\Preprocessed Dataset\\im_Dyskeratotic\\104_nuc_nuc07.png: name 'greycomatrix' is not defined\n",
      "Error processing c:\\Meet\\Projects\\Project_8_Phoenix_Cervical Cancer Image Classification\\Project-Phoenix\\Dataset\\Preprocessed Dataset\\im_Dyskeratotic\\104_nuc_nuc08.png: name 'greycomatrix' is not defined\n",
      "Error processing c:\\Meet\\Projects\\Project_8_Phoenix_Cervical Cancer Image Classification\\Project-Phoenix\\Dataset\\Preprocessed Dataset\\im_Dyskeratotic\\104_nuc_nuc09.png: name 'greycomatrix' is not defined\n"
     ]
    },
    {
     "name": "stderr",
     "output_type": "stream",
     "text": [
      " 11%|█         | 906/8098 [01:24<10:29, 11.43it/s]"
     ]
    },
    {
     "name": "stdout",
     "output_type": "stream",
     "text": [
      "Error processing c:\\Meet\\Projects\\Project_8_Phoenix_Cervical Cancer Image Classification\\Project-Phoenix\\Dataset\\Preprocessed Dataset\\im_Dyskeratotic\\104_nuc_nuc10.png: name 'greycomatrix' is not defined\n",
      "Error processing c:\\Meet\\Projects\\Project_8_Phoenix_Cervical Cancer Image Classification\\Project-Phoenix\\Dataset\\Preprocessed Dataset\\im_Dyskeratotic\\105_cyt_cyt01.png: name 'greycomatrix' is not defined\n",
      "Error processing c:\\Meet\\Projects\\Project_8_Phoenix_Cervical Cancer Image Classification\\Project-Phoenix\\Dataset\\Preprocessed Dataset\\im_Dyskeratotic\\105_cyt_cyt02.png: name 'greycomatrix' is not defined\n"
     ]
    },
    {
     "name": "stderr",
     "output_type": "stream",
     "text": [
      " 11%|█         | 908/8098 [01:24<10:29, 11.42it/s]"
     ]
    },
    {
     "name": "stdout",
     "output_type": "stream",
     "text": [
      "Error processing c:\\Meet\\Projects\\Project_8_Phoenix_Cervical Cancer Image Classification\\Project-Phoenix\\Dataset\\Preprocessed Dataset\\im_Dyskeratotic\\105_cyt_cyt03.png: name 'greycomatrix' is not defined\n",
      "Error processing c:\\Meet\\Projects\\Project_8_Phoenix_Cervical Cancer Image Classification\\Project-Phoenix\\Dataset\\Preprocessed Dataset\\im_Dyskeratotic\\105_cyt_cyt04.png: name 'greycomatrix' is not defined\n",
      "Error processing c:\\Meet\\Projects\\Project_8_Phoenix_Cervical Cancer Image Classification\\Project-Phoenix\\Dataset\\Preprocessed Dataset\\im_Dyskeratotic\\105_nuc_nuc01.png: name 'greycomatrix' is not defined\n"
     ]
    },
    {
     "name": "stderr",
     "output_type": "stream",
     "text": [
      " 11%|█▏        | 912/8098 [01:24<10:54, 10.98it/s]"
     ]
    },
    {
     "name": "stdout",
     "output_type": "stream",
     "text": [
      "Error processing c:\\Meet\\Projects\\Project_8_Phoenix_Cervical Cancer Image Classification\\Project-Phoenix\\Dataset\\Preprocessed Dataset\\im_Dyskeratotic\\105_nuc_nuc02.png: name 'greycomatrix' is not defined\n",
      "Error processing c:\\Meet\\Projects\\Project_8_Phoenix_Cervical Cancer Image Classification\\Project-Phoenix\\Dataset\\Preprocessed Dataset\\im_Dyskeratotic\\105_nuc_nuc03.png: name 'greycomatrix' is not defined\n",
      "Error processing c:\\Meet\\Projects\\Project_8_Phoenix_Cervical Cancer Image Classification\\Project-Phoenix\\Dataset\\Preprocessed Dataset\\im_Dyskeratotic\\105_nuc_nuc04.png: name 'greycomatrix' is not defined\n"
     ]
    },
    {
     "name": "stderr",
     "output_type": "stream",
     "text": [
      " 11%|█▏        | 914/8098 [01:24<10:42, 11.19it/s]"
     ]
    },
    {
     "name": "stdout",
     "output_type": "stream",
     "text": [
      "Error processing c:\\Meet\\Projects\\Project_8_Phoenix_Cervical Cancer Image Classification\\Project-Phoenix\\Dataset\\Preprocessed Dataset\\im_Dyskeratotic\\106_cyt_cyt01.png: name 'greycomatrix' is not defined\n",
      "Error processing c:\\Meet\\Projects\\Project_8_Phoenix_Cervical Cancer Image Classification\\Project-Phoenix\\Dataset\\Preprocessed Dataset\\im_Dyskeratotic\\106_nuc_nuc01.png: name 'greycomatrix' is not defined\n",
      "Error processing c:\\Meet\\Projects\\Project_8_Phoenix_Cervical Cancer Image Classification\\Project-Phoenix\\Dataset\\Preprocessed Dataset\\im_Dyskeratotic\\107_cyt_cyt01.png: name 'greycomatrix' is not defined\n"
     ]
    },
    {
     "name": "stderr",
     "output_type": "stream",
     "text": [
      " 11%|█▏        | 918/8098 [01:25<10:32, 11.35it/s]"
     ]
    },
    {
     "name": "stdout",
     "output_type": "stream",
     "text": [
      "Error processing c:\\Meet\\Projects\\Project_8_Phoenix_Cervical Cancer Image Classification\\Project-Phoenix\\Dataset\\Preprocessed Dataset\\im_Dyskeratotic\\107_cyt_cyt02.png: name 'greycomatrix' is not defined\n",
      "Error processing c:\\Meet\\Projects\\Project_8_Phoenix_Cervical Cancer Image Classification\\Project-Phoenix\\Dataset\\Preprocessed Dataset\\im_Dyskeratotic\\107_nuc_nuc01.png: name 'greycomatrix' is not defined\n",
      "Error processing c:\\Meet\\Projects\\Project_8_Phoenix_Cervical Cancer Image Classification\\Project-Phoenix\\Dataset\\Preprocessed Dataset\\im_Dyskeratotic\\107_nuc_nuc02.png: name 'greycomatrix' is not defined\n"
     ]
    },
    {
     "name": "stderr",
     "output_type": "stream",
     "text": [
      " 11%|█▏        | 920/8098 [01:25<10:28, 11.42it/s]"
     ]
    },
    {
     "name": "stdout",
     "output_type": "stream",
     "text": [
      "Error processing c:\\Meet\\Projects\\Project_8_Phoenix_Cervical Cancer Image Classification\\Project-Phoenix\\Dataset\\Preprocessed Dataset\\im_Dyskeratotic\\108_cyt_cyt01.png: name 'greycomatrix' is not defined\n",
      "Error processing c:\\Meet\\Projects\\Project_8_Phoenix_Cervical Cancer Image Classification\\Project-Phoenix\\Dataset\\Preprocessed Dataset\\im_Dyskeratotic\\108_nuc_nuc01.png: name 'greycomatrix' is not defined\n",
      "Error processing c:\\Meet\\Projects\\Project_8_Phoenix_Cervical Cancer Image Classification\\Project-Phoenix\\Dataset\\Preprocessed Dataset\\im_Dyskeratotic\\109_cyt_cyt01.png: name 'greycomatrix' is not defined\n"
     ]
    },
    {
     "name": "stderr",
     "output_type": "stream",
     "text": [
      " 11%|█▏        | 922/8098 [01:25<10:37, 11.26it/s]"
     ]
    },
    {
     "name": "stdout",
     "output_type": "stream",
     "text": [
      "Error processing c:\\Meet\\Projects\\Project_8_Phoenix_Cervical Cancer Image Classification\\Project-Phoenix\\Dataset\\Preprocessed Dataset\\im_Dyskeratotic\\109_cyt_cyt02.png: name 'greycomatrix' is not defined\n",
      "Error processing c:\\Meet\\Projects\\Project_8_Phoenix_Cervical Cancer Image Classification\\Project-Phoenix\\Dataset\\Preprocessed Dataset\\im_Dyskeratotic\\109_nuc_nuc01.png: name 'greycomatrix' is not defined\n"
     ]
    },
    {
     "name": "stderr",
     "output_type": "stream",
     "text": [
      " 11%|█▏        | 926/8098 [01:26<11:12, 10.67it/s]"
     ]
    },
    {
     "name": "stdout",
     "output_type": "stream",
     "text": [
      "Error processing c:\\Meet\\Projects\\Project_8_Phoenix_Cervical Cancer Image Classification\\Project-Phoenix\\Dataset\\Preprocessed Dataset\\im_Dyskeratotic\\109_nuc_nuc02.png: name 'greycomatrix' is not defined\n",
      "Error processing c:\\Meet\\Projects\\Project_8_Phoenix_Cervical Cancer Image Classification\\Project-Phoenix\\Dataset\\Preprocessed Dataset\\im_Dyskeratotic\\110_cyt_cyt01.png: name 'greycomatrix' is not defined\n",
      "Error processing c:\\Meet\\Projects\\Project_8_Phoenix_Cervical Cancer Image Classification\\Project-Phoenix\\Dataset\\Preprocessed Dataset\\im_Dyskeratotic\\110_cyt_cyt02.png: name 'greycomatrix' is not defined\n"
     ]
    },
    {
     "name": "stderr",
     "output_type": "stream",
     "text": [
      " 11%|█▏        | 928/8098 [01:26<10:47, 11.07it/s]"
     ]
    },
    {
     "name": "stdout",
     "output_type": "stream",
     "text": [
      "Error processing c:\\Meet\\Projects\\Project_8_Phoenix_Cervical Cancer Image Classification\\Project-Phoenix\\Dataset\\Preprocessed Dataset\\im_Dyskeratotic\\110_cyt_cyt03.png: name 'greycomatrix' is not defined\n",
      "Error processing c:\\Meet\\Projects\\Project_8_Phoenix_Cervical Cancer Image Classification\\Project-Phoenix\\Dataset\\Preprocessed Dataset\\im_Dyskeratotic\\110_cyt_cyt04.png: name 'greycomatrix' is not defined\n",
      "Error processing c:\\Meet\\Projects\\Project_8_Phoenix_Cervical Cancer Image Classification\\Project-Phoenix\\Dataset\\Preprocessed Dataset\\im_Dyskeratotic\\110_nuc_nuc01.png: name 'greycomatrix' is not defined\n"
     ]
    },
    {
     "name": "stderr",
     "output_type": "stream",
     "text": [
      " 12%|█▏        | 932/8098 [01:26<10:30, 11.37it/s]"
     ]
    },
    {
     "name": "stdout",
     "output_type": "stream",
     "text": [
      "Error processing c:\\Meet\\Projects\\Project_8_Phoenix_Cervical Cancer Image Classification\\Project-Phoenix\\Dataset\\Preprocessed Dataset\\im_Dyskeratotic\\110_nuc_nuc02.png: name 'greycomatrix' is not defined\n",
      "Error processing c:\\Meet\\Projects\\Project_8_Phoenix_Cervical Cancer Image Classification\\Project-Phoenix\\Dataset\\Preprocessed Dataset\\im_Dyskeratotic\\110_nuc_nuc03.png: name 'greycomatrix' is not defined\n",
      "Error processing c:\\Meet\\Projects\\Project_8_Phoenix_Cervical Cancer Image Classification\\Project-Phoenix\\Dataset\\Preprocessed Dataset\\im_Dyskeratotic\\110_nuc_nuc04.png: name 'greycomatrix' is not defined\n"
     ]
    },
    {
     "name": "stderr",
     "output_type": "stream",
     "text": [
      " 12%|█▏        | 934/8098 [01:26<11:07, 10.73it/s]"
     ]
    },
    {
     "name": "stdout",
     "output_type": "stream",
     "text": [
      "Error processing c:\\Meet\\Projects\\Project_8_Phoenix_Cervical Cancer Image Classification\\Project-Phoenix\\Dataset\\Preprocessed Dataset\\im_Dyskeratotic\\111_cyt_cyt01.png: name 'greycomatrix' is not defined\n",
      "Error processing c:\\Meet\\Projects\\Project_8_Phoenix_Cervical Cancer Image Classification\\Project-Phoenix\\Dataset\\Preprocessed Dataset\\im_Dyskeratotic\\111_cyt_cyt02.png: name 'greycomatrix' is not defined\n",
      "Error processing c:\\Meet\\Projects\\Project_8_Phoenix_Cervical Cancer Image Classification\\Project-Phoenix\\Dataset\\Preprocessed Dataset\\im_Dyskeratotic\\111_cyt_cyt03.png: name 'greycomatrix' is not defined\n"
     ]
    },
    {
     "name": "stderr",
     "output_type": "stream",
     "text": [
      " 12%|█▏        | 938/8098 [01:27<10:47, 11.05it/s]"
     ]
    },
    {
     "name": "stdout",
     "output_type": "stream",
     "text": [
      "Error processing c:\\Meet\\Projects\\Project_8_Phoenix_Cervical Cancer Image Classification\\Project-Phoenix\\Dataset\\Preprocessed Dataset\\im_Dyskeratotic\\111_cyt_cyt04.png: name 'greycomatrix' is not defined\n",
      "Error processing c:\\Meet\\Projects\\Project_8_Phoenix_Cervical Cancer Image Classification\\Project-Phoenix\\Dataset\\Preprocessed Dataset\\im_Dyskeratotic\\111_cyt_cyt05.png: name 'greycomatrix' is not defined\n",
      "Error processing c:\\Meet\\Projects\\Project_8_Phoenix_Cervical Cancer Image Classification\\Project-Phoenix\\Dataset\\Preprocessed Dataset\\im_Dyskeratotic\\111_cyt_cyt06.png: name 'greycomatrix' is not defined\n"
     ]
    },
    {
     "name": "stderr",
     "output_type": "stream",
     "text": [
      " 12%|█▏        | 940/8098 [01:27<10:28, 11.38it/s]"
     ]
    },
    {
     "name": "stdout",
     "output_type": "stream",
     "text": [
      "Error processing c:\\Meet\\Projects\\Project_8_Phoenix_Cervical Cancer Image Classification\\Project-Phoenix\\Dataset\\Preprocessed Dataset\\im_Dyskeratotic\\111_cyt_cyt07.png: name 'greycomatrix' is not defined\n",
      "Error processing c:\\Meet\\Projects\\Project_8_Phoenix_Cervical Cancer Image Classification\\Project-Phoenix\\Dataset\\Preprocessed Dataset\\im_Dyskeratotic\\111_nuc_nuc01.png: name 'greycomatrix' is not defined\n",
      "Error processing c:\\Meet\\Projects\\Project_8_Phoenix_Cervical Cancer Image Classification\\Project-Phoenix\\Dataset\\Preprocessed Dataset\\im_Dyskeratotic\\111_nuc_nuc02.png: name 'greycomatrix' is not defined\n"
     ]
    },
    {
     "name": "stderr",
     "output_type": "stream",
     "text": [
      " 12%|█▏        | 942/8098 [01:27<10:30, 11.35it/s]"
     ]
    },
    {
     "name": "stdout",
     "output_type": "stream",
     "text": [
      "Error processing c:\\Meet\\Projects\\Project_8_Phoenix_Cervical Cancer Image Classification\\Project-Phoenix\\Dataset\\Preprocessed Dataset\\im_Dyskeratotic\\111_nuc_nuc03.png: name 'greycomatrix' is not defined\n",
      "Error processing c:\\Meet\\Projects\\Project_8_Phoenix_Cervical Cancer Image Classification\\Project-Phoenix\\Dataset\\Preprocessed Dataset\\im_Dyskeratotic\\111_nuc_nuc04.png: name 'greycomatrix' is not defined\n",
      "Error processing c:\\Meet\\Projects\\Project_8_Phoenix_Cervical Cancer Image Classification\\Project-Phoenix\\Dataset\\Preprocessed Dataset\\im_Dyskeratotic\\111_nuc_nuc05.png: name 'greycomatrix' is not defined\n"
     ]
    },
    {
     "name": "stderr",
     "output_type": "stream",
     "text": [
      " 12%|█▏        | 946/8098 [01:27<10:12, 11.67it/s]"
     ]
    },
    {
     "name": "stdout",
     "output_type": "stream",
     "text": [
      "Error processing c:\\Meet\\Projects\\Project_8_Phoenix_Cervical Cancer Image Classification\\Project-Phoenix\\Dataset\\Preprocessed Dataset\\im_Dyskeratotic\\111_nuc_nuc06.png: name 'greycomatrix' is not defined\n",
      "Error processing c:\\Meet\\Projects\\Project_8_Phoenix_Cervical Cancer Image Classification\\Project-Phoenix\\Dataset\\Preprocessed Dataset\\im_Dyskeratotic\\111_nuc_nuc07.png: name 'greycomatrix' is not defined\n",
      "Error processing c:\\Meet\\Projects\\Project_8_Phoenix_Cervical Cancer Image Classification\\Project-Phoenix\\Dataset\\Preprocessed Dataset\\im_Dyskeratotic\\112_cyt_cyt01.png: name 'greycomatrix' is not defined\n"
     ]
    },
    {
     "name": "stderr",
     "output_type": "stream",
     "text": [
      " 12%|█▏        | 948/8098 [01:28<10:13, 11.66it/s]"
     ]
    },
    {
     "name": "stdout",
     "output_type": "stream",
     "text": [
      "Error processing c:\\Meet\\Projects\\Project_8_Phoenix_Cervical Cancer Image Classification\\Project-Phoenix\\Dataset\\Preprocessed Dataset\\im_Dyskeratotic\\112_cyt_cyt02.png: name 'greycomatrix' is not defined\n",
      "Error processing c:\\Meet\\Projects\\Project_8_Phoenix_Cervical Cancer Image Classification\\Project-Phoenix\\Dataset\\Preprocessed Dataset\\im_Dyskeratotic\\112_cyt_cyt03.png: name 'greycomatrix' is not defined\n",
      "Error processing c:\\Meet\\Projects\\Project_8_Phoenix_Cervical Cancer Image Classification\\Project-Phoenix\\Dataset\\Preprocessed Dataset\\im_Dyskeratotic\\112_cyt_cyt04.png: name 'greycomatrix' is not defined\n"
     ]
    },
    {
     "name": "stderr",
     "output_type": "stream",
     "text": [
      " 12%|█▏        | 952/8098 [01:28<10:34, 11.27it/s]"
     ]
    },
    {
     "name": "stdout",
     "output_type": "stream",
     "text": [
      "Error processing c:\\Meet\\Projects\\Project_8_Phoenix_Cervical Cancer Image Classification\\Project-Phoenix\\Dataset\\Preprocessed Dataset\\im_Dyskeratotic\\112_cyt_cyt05.png: name 'greycomatrix' is not defined\n",
      "Error processing c:\\Meet\\Projects\\Project_8_Phoenix_Cervical Cancer Image Classification\\Project-Phoenix\\Dataset\\Preprocessed Dataset\\im_Dyskeratotic\\112_cyt_cyt06.png: name 'greycomatrix' is not defined\n",
      "Error processing c:\\Meet\\Projects\\Project_8_Phoenix_Cervical Cancer Image Classification\\Project-Phoenix\\Dataset\\Preprocessed Dataset\\im_Dyskeratotic\\112_cyt_cyt07.png: name 'greycomatrix' is not defined\n"
     ]
    },
    {
     "name": "stderr",
     "output_type": "stream",
     "text": [
      " 12%|█▏        | 956/8098 [01:28<10:24, 11.43it/s]"
     ]
    },
    {
     "name": "stdout",
     "output_type": "stream",
     "text": [
      "Error processing c:\\Meet\\Projects\\Project_8_Phoenix_Cervical Cancer Image Classification\\Project-Phoenix\\Dataset\\Preprocessed Dataset\\im_Dyskeratotic\\112_cyt_cyt08.png: name 'greycomatrix' is not defined\n",
      "Error processing c:\\Meet\\Projects\\Project_8_Phoenix_Cervical Cancer Image Classification\\Project-Phoenix\\Dataset\\Preprocessed Dataset\\im_Dyskeratotic\\112_cyt_cyt09.png: name 'greycomatrix' is not defined\n",
      "Error processing c:\\Meet\\Projects\\Project_8_Phoenix_Cervical Cancer Image Classification\\Project-Phoenix\\Dataset\\Preprocessed Dataset\\im_Dyskeratotic\\112_nuc_nuc01.png: name 'greycomatrix' is not defined\n"
     ]
    },
    {
     "name": "stderr",
     "output_type": "stream",
     "text": [
      " 12%|█▏        | 958/8098 [01:28<10:18, 11.55it/s]"
     ]
    },
    {
     "name": "stdout",
     "output_type": "stream",
     "text": [
      "Error processing c:\\Meet\\Projects\\Project_8_Phoenix_Cervical Cancer Image Classification\\Project-Phoenix\\Dataset\\Preprocessed Dataset\\im_Dyskeratotic\\112_nuc_nuc02.png: name 'greycomatrix' is not defined\n",
      "Error processing c:\\Meet\\Projects\\Project_8_Phoenix_Cervical Cancer Image Classification\\Project-Phoenix\\Dataset\\Preprocessed Dataset\\im_Dyskeratotic\\112_nuc_nuc03.png: name 'greycomatrix' is not defined\n",
      "Error processing c:\\Meet\\Projects\\Project_8_Phoenix_Cervical Cancer Image Classification\\Project-Phoenix\\Dataset\\Preprocessed Dataset\\im_Dyskeratotic\\112_nuc_nuc04.png: name 'greycomatrix' is not defined\n"
     ]
    },
    {
     "name": "stderr",
     "output_type": "stream",
     "text": [
      " 12%|█▏        | 962/8098 [01:29<10:39, 11.16it/s]"
     ]
    },
    {
     "name": "stdout",
     "output_type": "stream",
     "text": [
      "Error processing c:\\Meet\\Projects\\Project_8_Phoenix_Cervical Cancer Image Classification\\Project-Phoenix\\Dataset\\Preprocessed Dataset\\im_Dyskeratotic\\112_nuc_nuc05.png: name 'greycomatrix' is not defined\n",
      "Error processing c:\\Meet\\Projects\\Project_8_Phoenix_Cervical Cancer Image Classification\\Project-Phoenix\\Dataset\\Preprocessed Dataset\\im_Dyskeratotic\\112_nuc_nuc06.png: name 'greycomatrix' is not defined\n",
      "Error processing c:\\Meet\\Projects\\Project_8_Phoenix_Cervical Cancer Image Classification\\Project-Phoenix\\Dataset\\Preprocessed Dataset\\im_Dyskeratotic\\112_nuc_nuc07.png: name 'greycomatrix' is not defined\n"
     ]
    },
    {
     "name": "stderr",
     "output_type": "stream",
     "text": [
      " 12%|█▏        | 964/8098 [01:29<10:27, 11.37it/s]"
     ]
    },
    {
     "name": "stdout",
     "output_type": "stream",
     "text": [
      "Error processing c:\\Meet\\Projects\\Project_8_Phoenix_Cervical Cancer Image Classification\\Project-Phoenix\\Dataset\\Preprocessed Dataset\\im_Dyskeratotic\\112_nuc_nuc08.png: name 'greycomatrix' is not defined\n",
      "Error processing c:\\Meet\\Projects\\Project_8_Phoenix_Cervical Cancer Image Classification\\Project-Phoenix\\Dataset\\Preprocessed Dataset\\im_Dyskeratotic\\112_nuc_nuc09.png: name 'greycomatrix' is not defined\n",
      "Error processing c:\\Meet\\Projects\\Project_8_Phoenix_Cervical Cancer Image Classification\\Project-Phoenix\\Dataset\\Preprocessed Dataset\\im_Dyskeratotic\\113_cyt_cyt01.png: name 'greycomatrix' is not defined\n"
     ]
    },
    {
     "name": "stderr",
     "output_type": "stream",
     "text": [
      " 12%|█▏        | 968/8098 [01:29<10:16, 11.56it/s]"
     ]
    },
    {
     "name": "stdout",
     "output_type": "stream",
     "text": [
      "Error processing c:\\Meet\\Projects\\Project_8_Phoenix_Cervical Cancer Image Classification\\Project-Phoenix\\Dataset\\Preprocessed Dataset\\im_Dyskeratotic\\113_cyt_cyt02.png: name 'greycomatrix' is not defined\n",
      "Error processing c:\\Meet\\Projects\\Project_8_Phoenix_Cervical Cancer Image Classification\\Project-Phoenix\\Dataset\\Preprocessed Dataset\\im_Dyskeratotic\\113_cyt_cyt03.png: name 'greycomatrix' is not defined\n",
      "Error processing c:\\Meet\\Projects\\Project_8_Phoenix_Cervical Cancer Image Classification\\Project-Phoenix\\Dataset\\Preprocessed Dataset\\im_Dyskeratotic\\113_cyt_cyt04.png: name 'greycomatrix' is not defined\n"
     ]
    },
    {
     "name": "stderr",
     "output_type": "stream",
     "text": [
      " 12%|█▏        | 970/8098 [01:29<10:10, 11.68it/s]"
     ]
    },
    {
     "name": "stdout",
     "output_type": "stream",
     "text": [
      "Error processing c:\\Meet\\Projects\\Project_8_Phoenix_Cervical Cancer Image Classification\\Project-Phoenix\\Dataset\\Preprocessed Dataset\\im_Dyskeratotic\\113_cyt_cyt05.png: name 'greycomatrix' is not defined\n",
      "Error processing c:\\Meet\\Projects\\Project_8_Phoenix_Cervical Cancer Image Classification\\Project-Phoenix\\Dataset\\Preprocessed Dataset\\im_Dyskeratotic\\113_nuc_nuc01.png: name 'greycomatrix' is not defined\n",
      "Error processing c:\\Meet\\Projects\\Project_8_Phoenix_Cervical Cancer Image Classification\\Project-Phoenix\\Dataset\\Preprocessed Dataset\\im_Dyskeratotic\\113_nuc_nuc02.png: name 'greycomatrix' is not defined\n"
     ]
    },
    {
     "name": "stderr",
     "output_type": "stream",
     "text": [
      " 12%|█▏        | 972/8098 [01:30<10:13, 11.61it/s]"
     ]
    },
    {
     "name": "stdout",
     "output_type": "stream",
     "text": [
      "Error processing c:\\Meet\\Projects\\Project_8_Phoenix_Cervical Cancer Image Classification\\Project-Phoenix\\Dataset\\Preprocessed Dataset\\im_Dyskeratotic\\113_nuc_nuc03.png: name 'greycomatrix' is not defined\n",
      "Error processing c:\\Meet\\Projects\\Project_8_Phoenix_Cervical Cancer Image Classification\\Project-Phoenix\\Dataset\\Preprocessed Dataset\\im_Dyskeratotic\\113_nuc_nuc04.png: name 'greycomatrix' is not defined\n",
      "Error processing c:\\Meet\\Projects\\Project_8_Phoenix_Cervical Cancer Image Classification\\Project-Phoenix\\Dataset\\Preprocessed Dataset\\im_Dyskeratotic\\113_nuc_nuc05.png: name 'greycomatrix' is not defined\n"
     ]
    },
    {
     "name": "stderr",
     "output_type": "stream",
     "text": [
      " 12%|█▏        | 976/8098 [01:30<10:37, 11.17it/s]"
     ]
    },
    {
     "name": "stdout",
     "output_type": "stream",
     "text": [
      "Error processing c:\\Meet\\Projects\\Project_8_Phoenix_Cervical Cancer Image Classification\\Project-Phoenix\\Dataset\\Preprocessed Dataset\\im_Dyskeratotic\\114_cyt_cyt01.png: name 'greycomatrix' is not defined\n",
      "Error processing c:\\Meet\\Projects\\Project_8_Phoenix_Cervical Cancer Image Classification\\Project-Phoenix\\Dataset\\Preprocessed Dataset\\im_Dyskeratotic\\114_cyt_cyt02.png: name 'greycomatrix' is not defined\n",
      "Error processing c:\\Meet\\Projects\\Project_8_Phoenix_Cervical Cancer Image Classification\\Project-Phoenix\\Dataset\\Preprocessed Dataset\\im_Dyskeratotic\\114_cyt_cyt03.png: name 'greycomatrix' is not defined\n"
     ]
    },
    {
     "name": "stderr",
     "output_type": "stream",
     "text": [
      " 12%|█▏        | 980/8098 [01:30<10:33, 11.24it/s]"
     ]
    },
    {
     "name": "stdout",
     "output_type": "stream",
     "text": [
      "Error processing c:\\Meet\\Projects\\Project_8_Phoenix_Cervical Cancer Image Classification\\Project-Phoenix\\Dataset\\Preprocessed Dataset\\im_Dyskeratotic\\114_cyt_cyt04.png: name 'greycomatrix' is not defined\n",
      "Error processing c:\\Meet\\Projects\\Project_8_Phoenix_Cervical Cancer Image Classification\\Project-Phoenix\\Dataset\\Preprocessed Dataset\\im_Dyskeratotic\\114_cyt_cyt05.png: name 'greycomatrix' is not defined\n",
      "Error processing c:\\Meet\\Projects\\Project_8_Phoenix_Cervical Cancer Image Classification\\Project-Phoenix\\Dataset\\Preprocessed Dataset\\im_Dyskeratotic\\114_cyt_cyt06.png: name 'greycomatrix' is not defined\n"
     ]
    },
    {
     "name": "stderr",
     "output_type": "stream",
     "text": [
      " 12%|█▏        | 982/8098 [01:31<10:32, 11.25it/s]"
     ]
    },
    {
     "name": "stdout",
     "output_type": "stream",
     "text": [
      "Error processing c:\\Meet\\Projects\\Project_8_Phoenix_Cervical Cancer Image Classification\\Project-Phoenix\\Dataset\\Preprocessed Dataset\\im_Dyskeratotic\\114_cyt_cyt07.png: name 'greycomatrix' is not defined\n",
      "Error processing c:\\Meet\\Projects\\Project_8_Phoenix_Cervical Cancer Image Classification\\Project-Phoenix\\Dataset\\Preprocessed Dataset\\im_Dyskeratotic\\114_cyt_cyt08.png: name 'greycomatrix' is not defined\n",
      "Error processing c:\\Meet\\Projects\\Project_8_Phoenix_Cervical Cancer Image Classification\\Project-Phoenix\\Dataset\\Preprocessed Dataset\\im_Dyskeratotic\\114_cyt_cyt09.png: name 'greycomatrix' is not defined\n"
     ]
    },
    {
     "name": "stderr",
     "output_type": "stream",
     "text": [
      " 12%|█▏        | 986/8098 [01:31<10:45, 11.03it/s]"
     ]
    },
    {
     "name": "stdout",
     "output_type": "stream",
     "text": [
      "Error processing c:\\Meet\\Projects\\Project_8_Phoenix_Cervical Cancer Image Classification\\Project-Phoenix\\Dataset\\Preprocessed Dataset\\im_Dyskeratotic\\114_cyt_cyt10.png: name 'greycomatrix' is not defined\n",
      "Error processing c:\\Meet\\Projects\\Project_8_Phoenix_Cervical Cancer Image Classification\\Project-Phoenix\\Dataset\\Preprocessed Dataset\\im_Dyskeratotic\\114_cyt_cyt11.png: name 'greycomatrix' is not defined\n",
      "Error processing c:\\Meet\\Projects\\Project_8_Phoenix_Cervical Cancer Image Classification\\Project-Phoenix\\Dataset\\Preprocessed Dataset\\im_Dyskeratotic\\114_cyt_cyt12.png: name 'greycomatrix' is not defined\n"
     ]
    },
    {
     "name": "stderr",
     "output_type": "stream",
     "text": [
      " 12%|█▏        | 988/8098 [01:31<10:33, 11.22it/s]"
     ]
    },
    {
     "name": "stdout",
     "output_type": "stream",
     "text": [
      "Error processing c:\\Meet\\Projects\\Project_8_Phoenix_Cervical Cancer Image Classification\\Project-Phoenix\\Dataset\\Preprocessed Dataset\\im_Dyskeratotic\\114_cyt_cyt13.png: name 'greycomatrix' is not defined\n",
      "Error processing c:\\Meet\\Projects\\Project_8_Phoenix_Cervical Cancer Image Classification\\Project-Phoenix\\Dataset\\Preprocessed Dataset\\im_Dyskeratotic\\114_cyt_cyt14.png: name 'greycomatrix' is not defined\n",
      "Error processing c:\\Meet\\Projects\\Project_8_Phoenix_Cervical Cancer Image Classification\\Project-Phoenix\\Dataset\\Preprocessed Dataset\\im_Dyskeratotic\\114_nuc_nuc01.png: name 'greycomatrix' is not defined\n"
     ]
    },
    {
     "name": "stderr",
     "output_type": "stream",
     "text": [
      " 12%|█▏        | 992/8098 [01:31<10:15, 11.54it/s]"
     ]
    },
    {
     "name": "stdout",
     "output_type": "stream",
     "text": [
      "Error processing c:\\Meet\\Projects\\Project_8_Phoenix_Cervical Cancer Image Classification\\Project-Phoenix\\Dataset\\Preprocessed Dataset\\im_Dyskeratotic\\114_nuc_nuc02.png: name 'greycomatrix' is not defined\n",
      "Error processing c:\\Meet\\Projects\\Project_8_Phoenix_Cervical Cancer Image Classification\\Project-Phoenix\\Dataset\\Preprocessed Dataset\\im_Dyskeratotic\\114_nuc_nuc03.png: name 'greycomatrix' is not defined\n",
      "Error processing c:\\Meet\\Projects\\Project_8_Phoenix_Cervical Cancer Image Classification\\Project-Phoenix\\Dataset\\Preprocessed Dataset\\im_Dyskeratotic\\114_nuc_nuc04.png: name 'greycomatrix' is not defined\n"
     ]
    },
    {
     "name": "stderr",
     "output_type": "stream",
     "text": [
      " 12%|█▏        | 994/8098 [01:32<10:03, 11.78it/s]"
     ]
    },
    {
     "name": "stdout",
     "output_type": "stream",
     "text": [
      "Error processing c:\\Meet\\Projects\\Project_8_Phoenix_Cervical Cancer Image Classification\\Project-Phoenix\\Dataset\\Preprocessed Dataset\\im_Dyskeratotic\\114_nuc_nuc05.png: name 'greycomatrix' is not defined\n",
      "Error processing c:\\Meet\\Projects\\Project_8_Phoenix_Cervical Cancer Image Classification\\Project-Phoenix\\Dataset\\Preprocessed Dataset\\im_Dyskeratotic\\114_nuc_nuc06.png: name 'greycomatrix' is not defined\n",
      "Error processing c:\\Meet\\Projects\\Project_8_Phoenix_Cervical Cancer Image Classification\\Project-Phoenix\\Dataset\\Preprocessed Dataset\\im_Dyskeratotic\\114_nuc_nuc07.png: name 'greycomatrix' is not defined\n"
     ]
    },
    {
     "name": "stderr",
     "output_type": "stream",
     "text": [
      " 12%|█▏        | 998/8098 [01:32<10:05, 11.73it/s]"
     ]
    },
    {
     "name": "stdout",
     "output_type": "stream",
     "text": [
      "Error processing c:\\Meet\\Projects\\Project_8_Phoenix_Cervical Cancer Image Classification\\Project-Phoenix\\Dataset\\Preprocessed Dataset\\im_Dyskeratotic\\114_nuc_nuc08.png: name 'greycomatrix' is not defined\n",
      "Error processing c:\\Meet\\Projects\\Project_8_Phoenix_Cervical Cancer Image Classification\\Project-Phoenix\\Dataset\\Preprocessed Dataset\\im_Dyskeratotic\\114_nuc_nuc09.png: name 'greycomatrix' is not defined\n",
      "Error processing c:\\Meet\\Projects\\Project_8_Phoenix_Cervical Cancer Image Classification\\Project-Phoenix\\Dataset\\Preprocessed Dataset\\im_Dyskeratotic\\114_nuc_nuc10.png: name 'greycomatrix' is not defined\n"
     ]
    },
    {
     "name": "stderr",
     "output_type": "stream",
     "text": [
      " 12%|█▏        | 1000/8098 [01:32<10:07, 11.68it/s]"
     ]
    },
    {
     "name": "stdout",
     "output_type": "stream",
     "text": [
      "Error processing c:\\Meet\\Projects\\Project_8_Phoenix_Cervical Cancer Image Classification\\Project-Phoenix\\Dataset\\Preprocessed Dataset\\im_Dyskeratotic\\114_nuc_nuc11.png: name 'greycomatrix' is not defined\n",
      "Error processing c:\\Meet\\Projects\\Project_8_Phoenix_Cervical Cancer Image Classification\\Project-Phoenix\\Dataset\\Preprocessed Dataset\\im_Dyskeratotic\\114_nuc_nuc12.png: name 'greycomatrix' is not defined\n"
     ]
    },
    {
     "name": "stderr",
     "output_type": "stream",
     "text": [
      " 12%|█▏        | 1002/8098 [01:32<10:30, 11.25it/s]"
     ]
    },
    {
     "name": "stdout",
     "output_type": "stream",
     "text": [
      "Error processing c:\\Meet\\Projects\\Project_8_Phoenix_Cervical Cancer Image Classification\\Project-Phoenix\\Dataset\\Preprocessed Dataset\\im_Dyskeratotic\\114_nuc_nuc13.png: name 'greycomatrix' is not defined\n",
      "Error processing c:\\Meet\\Projects\\Project_8_Phoenix_Cervical Cancer Image Classification\\Project-Phoenix\\Dataset\\Preprocessed Dataset\\im_Dyskeratotic\\114_nuc_nuc14.png: name 'greycomatrix' is not defined\n",
      "Error processing c:\\Meet\\Projects\\Project_8_Phoenix_Cervical Cancer Image Classification\\Project-Phoenix\\Dataset\\Preprocessed Dataset\\im_Dyskeratotic\\115_cyt_cyt01.png: name 'greycomatrix' is not defined\n"
     ]
    },
    {
     "name": "stderr",
     "output_type": "stream",
     "text": [
      " 12%|█▏        | 1006/8098 [01:33<10:24, 11.35it/s]"
     ]
    },
    {
     "name": "stdout",
     "output_type": "stream",
     "text": [
      "Error processing c:\\Meet\\Projects\\Project_8_Phoenix_Cervical Cancer Image Classification\\Project-Phoenix\\Dataset\\Preprocessed Dataset\\im_Dyskeratotic\\115_cyt_cyt02.png: name 'greycomatrix' is not defined\n",
      "Error processing c:\\Meet\\Projects\\Project_8_Phoenix_Cervical Cancer Image Classification\\Project-Phoenix\\Dataset\\Preprocessed Dataset\\im_Dyskeratotic\\115_cyt_cyt03.png: name 'greycomatrix' is not defined\n",
      "Error processing c:\\Meet\\Projects\\Project_8_Phoenix_Cervical Cancer Image Classification\\Project-Phoenix\\Dataset\\Preprocessed Dataset\\im_Dyskeratotic\\115_cyt_cyt04.png: name 'greycomatrix' is not defined\n"
     ]
    },
    {
     "name": "stderr",
     "output_type": "stream",
     "text": [
      " 12%|█▏        | 1008/8098 [01:33<11:10, 10.58it/s]"
     ]
    },
    {
     "name": "stdout",
     "output_type": "stream",
     "text": [
      "Error processing c:\\Meet\\Projects\\Project_8_Phoenix_Cervical Cancer Image Classification\\Project-Phoenix\\Dataset\\Preprocessed Dataset\\im_Dyskeratotic\\115_cyt_cyt05.png: name 'greycomatrix' is not defined\n",
      "Error processing c:\\Meet\\Projects\\Project_8_Phoenix_Cervical Cancer Image Classification\\Project-Phoenix\\Dataset\\Preprocessed Dataset\\im_Dyskeratotic\\115_nuc_nuc01.png: name 'greycomatrix' is not defined\n",
      "Error processing c:\\Meet\\Projects\\Project_8_Phoenix_Cervical Cancer Image Classification\\Project-Phoenix\\Dataset\\Preprocessed Dataset\\im_Dyskeratotic\\115_nuc_nuc02.png: name 'greycomatrix' is not defined\n"
     ]
    },
    {
     "name": "stderr",
     "output_type": "stream",
     "text": [
      " 12%|█▏        | 1012/8098 [01:33<10:16, 11.49it/s]"
     ]
    },
    {
     "name": "stdout",
     "output_type": "stream",
     "text": [
      "Error processing c:\\Meet\\Projects\\Project_8_Phoenix_Cervical Cancer Image Classification\\Project-Phoenix\\Dataset\\Preprocessed Dataset\\im_Dyskeratotic\\115_nuc_nuc03.png: name 'greycomatrix' is not defined\n",
      "Error processing c:\\Meet\\Projects\\Project_8_Phoenix_Cervical Cancer Image Classification\\Project-Phoenix\\Dataset\\Preprocessed Dataset\\im_Dyskeratotic\\115_nuc_nuc04.png: name 'greycomatrix' is not defined\n",
      "Error processing c:\\Meet\\Projects\\Project_8_Phoenix_Cervical Cancer Image Classification\\Project-Phoenix\\Dataset\\Preprocessed Dataset\\im_Dyskeratotic\\115_nuc_nuc05.png: name 'greycomatrix' is not defined\n"
     ]
    },
    {
     "name": "stderr",
     "output_type": "stream",
     "text": [
      " 13%|█▎        | 1014/8098 [01:33<10:22, 11.37it/s]"
     ]
    },
    {
     "name": "stdout",
     "output_type": "stream",
     "text": [
      "Error processing c:\\Meet\\Projects\\Project_8_Phoenix_Cervical Cancer Image Classification\\Project-Phoenix\\Dataset\\Preprocessed Dataset\\im_Dyskeratotic\\116_cyt_cyt01.png: name 'greycomatrix' is not defined\n",
      "Error processing c:\\Meet\\Projects\\Project_8_Phoenix_Cervical Cancer Image Classification\\Project-Phoenix\\Dataset\\Preprocessed Dataset\\im_Dyskeratotic\\116_cyt_cyt02.png: name 'greycomatrix' is not defined\n",
      "Error processing c:\\Meet\\Projects\\Project_8_Phoenix_Cervical Cancer Image Classification\\Project-Phoenix\\Dataset\\Preprocessed Dataset\\im_Dyskeratotic\\116_cyt_cyt03.png: name 'greycomatrix' is not defined\n"
     ]
    },
    {
     "name": "stderr",
     "output_type": "stream",
     "text": [
      " 13%|█▎        | 1016/8098 [01:34<10:34, 11.17it/s]"
     ]
    },
    {
     "name": "stdout",
     "output_type": "stream",
     "text": [
      "Error processing c:\\Meet\\Projects\\Project_8_Phoenix_Cervical Cancer Image Classification\\Project-Phoenix\\Dataset\\Preprocessed Dataset\\im_Dyskeratotic\\116_nuc_nuc01.png: name 'greycomatrix' is not defined\n",
      "Error processing c:\\Meet\\Projects\\Project_8_Phoenix_Cervical Cancer Image Classification\\Project-Phoenix\\Dataset\\Preprocessed Dataset\\im_Dyskeratotic\\116_nuc_nuc02.png: name 'greycomatrix' is not defined\n",
      "Error processing c:\\Meet\\Projects\\Project_8_Phoenix_Cervical Cancer Image Classification\\Project-Phoenix\\Dataset\\Preprocessed Dataset\\im_Dyskeratotic\\116_nuc_nuc03.png: name 'greycomatrix' is not defined\n"
     ]
    },
    {
     "name": "stderr",
     "output_type": "stream",
     "text": [
      " 13%|█▎        | 1020/8098 [01:34<10:34, 11.16it/s]"
     ]
    },
    {
     "name": "stdout",
     "output_type": "stream",
     "text": [
      "Error processing c:\\Meet\\Projects\\Project_8_Phoenix_Cervical Cancer Image Classification\\Project-Phoenix\\Dataset\\Preprocessed Dataset\\im_Dyskeratotic\\117_cyt_cyt01.png: name 'greycomatrix' is not defined\n",
      "Error processing c:\\Meet\\Projects\\Project_8_Phoenix_Cervical Cancer Image Classification\\Project-Phoenix\\Dataset\\Preprocessed Dataset\\im_Dyskeratotic\\117_cyt_cyt02.png: name 'greycomatrix' is not defined\n",
      "Error processing c:\\Meet\\Projects\\Project_8_Phoenix_Cervical Cancer Image Classification\\Project-Phoenix\\Dataset\\Preprocessed Dataset\\im_Dyskeratotic\\117_cyt_cyt03.png: name 'greycomatrix' is not defined\n"
     ]
    },
    {
     "name": "stderr",
     "output_type": "stream",
     "text": [
      " 13%|█▎        | 1024/8098 [01:34<10:26, 11.29it/s]"
     ]
    },
    {
     "name": "stdout",
     "output_type": "stream",
     "text": [
      "Error processing c:\\Meet\\Projects\\Project_8_Phoenix_Cervical Cancer Image Classification\\Project-Phoenix\\Dataset\\Preprocessed Dataset\\im_Dyskeratotic\\117_cyt_cyt04.png: name 'greycomatrix' is not defined\n",
      "Error processing c:\\Meet\\Projects\\Project_8_Phoenix_Cervical Cancer Image Classification\\Project-Phoenix\\Dataset\\Preprocessed Dataset\\im_Dyskeratotic\\117_cyt_cyt05.png: name 'greycomatrix' is not defined\n",
      "Error processing c:\\Meet\\Projects\\Project_8_Phoenix_Cervical Cancer Image Classification\\Project-Phoenix\\Dataset\\Preprocessed Dataset\\im_Dyskeratotic\\117_nuc_nuc01.png: name 'greycomatrix' is not defined\n"
     ]
    },
    {
     "name": "stderr",
     "output_type": "stream",
     "text": [
      " 13%|█▎        | 1026/8098 [01:34<11:01, 10.68it/s]"
     ]
    },
    {
     "name": "stdout",
     "output_type": "stream",
     "text": [
      "Error processing c:\\Meet\\Projects\\Project_8_Phoenix_Cervical Cancer Image Classification\\Project-Phoenix\\Dataset\\Preprocessed Dataset\\im_Dyskeratotic\\117_nuc_nuc02.png: name 'greycomatrix' is not defined\n",
      "Error processing c:\\Meet\\Projects\\Project_8_Phoenix_Cervical Cancer Image Classification\\Project-Phoenix\\Dataset\\Preprocessed Dataset\\im_Dyskeratotic\\117_nuc_nuc03.png: name 'greycomatrix' is not defined\n",
      "Error processing c:\\Meet\\Projects\\Project_8_Phoenix_Cervical Cancer Image Classification\\Project-Phoenix\\Dataset\\Preprocessed Dataset\\im_Dyskeratotic\\117_nuc_nuc04.png: name 'greycomatrix' is not defined\n"
     ]
    },
    {
     "name": "stderr",
     "output_type": "stream",
     "text": [
      " 13%|█▎        | 1030/8098 [01:35<10:25, 11.30it/s]"
     ]
    },
    {
     "name": "stdout",
     "output_type": "stream",
     "text": [
      "Error processing c:\\Meet\\Projects\\Project_8_Phoenix_Cervical Cancer Image Classification\\Project-Phoenix\\Dataset\\Preprocessed Dataset\\im_Dyskeratotic\\117_nuc_nuc05.png: name 'greycomatrix' is not defined\n",
      "Error processing c:\\Meet\\Projects\\Project_8_Phoenix_Cervical Cancer Image Classification\\Project-Phoenix\\Dataset\\Preprocessed Dataset\\im_Dyskeratotic\\118_cyt_cyt01.png: name 'greycomatrix' is not defined\n",
      "Error processing c:\\Meet\\Projects\\Project_8_Phoenix_Cervical Cancer Image Classification\\Project-Phoenix\\Dataset\\Preprocessed Dataset\\im_Dyskeratotic\\118_nuc_nuc01.png: name 'greycomatrix' is not defined\n"
     ]
    },
    {
     "name": "stderr",
     "output_type": "stream",
     "text": [
      " 13%|█▎        | 1032/8098 [01:35<11:29, 10.25it/s]"
     ]
    },
    {
     "name": "stdout",
     "output_type": "stream",
     "text": [
      "Error processing c:\\Meet\\Projects\\Project_8_Phoenix_Cervical Cancer Image Classification\\Project-Phoenix\\Dataset\\Preprocessed Dataset\\im_Dyskeratotic\\119_cyt_cyt01.png: name 'greycomatrix' is not defined\n",
      "Error processing c:\\Meet\\Projects\\Project_8_Phoenix_Cervical Cancer Image Classification\\Project-Phoenix\\Dataset\\Preprocessed Dataset\\im_Dyskeratotic\\119_cyt_cyt02.png: name 'greycomatrix' is not defined\n",
      "Error processing c:\\Meet\\Projects\\Project_8_Phoenix_Cervical Cancer Image Classification\\Project-Phoenix\\Dataset\\Preprocessed Dataset\\im_Dyskeratotic\\119_nuc_nuc01.png: name 'greycomatrix' is not defined\n"
     ]
    },
    {
     "name": "stderr",
     "output_type": "stream",
     "text": [
      " 13%|█▎        | 1034/8098 [01:35<11:09, 10.55it/s]C:\\Users\\meetb\\AppData\\Local\\Temp\\ipykernel_53104\\2748481638.py:97: RuntimeWarning: Mean of empty slice.\n",
      "  ch_means = img_rgb[idx].reshape(-1, 3).mean(axis=0)\n",
      "C:\\Users\\meetb\\AppData\\Local\\Packages\\PythonSoftwareFoundation.Python.3.12_qbz5n2kfra8p0\\LocalCache\\local-packages\\Python312\\site-packages\\numpy\\core\\_methods.py:121: RuntimeWarning: invalid value encountered in divide\n",
      "  ret = um.true_divide(\n",
      "C:\\Users\\meetb\\AppData\\Local\\Packages\\PythonSoftwareFoundation.Python.3.12_qbz5n2kfra8p0\\LocalCache\\local-packages\\Python312\\site-packages\\numpy\\core\\_methods.py:206: RuntimeWarning: Degrees of freedom <= 0 for slice\n",
      "  ret = _var(a, axis=axis, dtype=dtype, out=out, ddof=ddof,\n",
      "C:\\Users\\meetb\\AppData\\Local\\Packages\\PythonSoftwareFoundation.Python.3.12_qbz5n2kfra8p0\\LocalCache\\local-packages\\Python312\\site-packages\\numpy\\core\\_methods.py:163: RuntimeWarning: invalid value encountered in divide\n",
      "  arrmean = um.true_divide(arrmean, div, out=arrmean,\n",
      "C:\\Users\\meetb\\AppData\\Local\\Packages\\PythonSoftwareFoundation.Python.3.12_qbz5n2kfra8p0\\LocalCache\\local-packages\\Python312\\site-packages\\numpy\\core\\_methods.py:195: RuntimeWarning: invalid value encountered in divide\n",
      "  ret = um.true_divide(\n",
      "C:\\Users\\meetb\\AppData\\Local\\Packages\\PythonSoftwareFoundation.Python.3.12_qbz5n2kfra8p0\\LocalCache\\local-packages\\Python312\\site-packages\\numpy\\core\\fromnumeric.py:3504: RuntimeWarning: Mean of empty slice.\n",
      "  return _methods._mean(a, axis=axis, dtype=dtype,\n",
      "C:\\Users\\meetb\\AppData\\Local\\Packages\\PythonSoftwareFoundation.Python.3.12_qbz5n2kfra8p0\\LocalCache\\local-packages\\Python312\\site-packages\\numpy\\core\\_methods.py:129: RuntimeWarning: invalid value encountered in divide\n",
      "  ret = ret.dtype.type(ret / rcount)\n",
      "C:\\Users\\meetb\\AppData\\Local\\Packages\\PythonSoftwareFoundation.Python.3.12_qbz5n2kfra8p0\\LocalCache\\local-packages\\Python312\\site-packages\\numpy\\core\\_methods.py:198: RuntimeWarning: invalid value encountered in divide\n",
      "  ret = ret.dtype.type(ret / rcount)\n",
      " 13%|█▎        | 1036/8098 [01:35<11:01, 10.68it/s]"
     ]
    },
    {
     "name": "stdout",
     "output_type": "stream",
     "text": [
      "Error processing c:\\Meet\\Projects\\Project_8_Phoenix_Cervical Cancer Image Classification\\Project-Phoenix\\Dataset\\Preprocessed Dataset\\im_Dyskeratotic\\119_nuc_nuc02.png: name 'greycomatrix' is not defined\n",
      "Error processing c:\\Meet\\Projects\\Project_8_Phoenix_Cervical Cancer Image Classification\\Project-Phoenix\\Dataset\\Preprocessed Dataset\\im_Dyskeratotic\\120_cyt_cyt01.png: name 'greycomatrix' is not defined\n",
      "Error processing c:\\Meet\\Projects\\Project_8_Phoenix_Cervical Cancer Image Classification\\Project-Phoenix\\Dataset\\Preprocessed Dataset\\im_Dyskeratotic\\120_cyt_cyt02.png: name 'greycomatrix' is not defined\n"
     ]
    },
    {
     "name": "stderr",
     "output_type": "stream",
     "text": [
      " 13%|█▎        | 1038/8098 [01:36<10:37, 11.07it/s]"
     ]
    },
    {
     "name": "stdout",
     "output_type": "stream",
     "text": [
      "Error processing c:\\Meet\\Projects\\Project_8_Phoenix_Cervical Cancer Image Classification\\Project-Phoenix\\Dataset\\Preprocessed Dataset\\im_Dyskeratotic\\120_nuc_nuc01.png: name 'greycomatrix' is not defined\n",
      "Error processing c:\\Meet\\Projects\\Project_8_Phoenix_Cervical Cancer Image Classification\\Project-Phoenix\\Dataset\\Preprocessed Dataset\\im_Dyskeratotic\\120_nuc_nuc02.png: name 'greycomatrix' is not defined\n",
      "Error processing c:\\Meet\\Projects\\Project_8_Phoenix_Cervical Cancer Image Classification\\Project-Phoenix\\Dataset\\Preprocessed Dataset\\im_Dyskeratotic\\121_cyt_cyt01.png: name 'greycomatrix' is not defined\n"
     ]
    },
    {
     "name": "stderr",
     "output_type": "stream",
     "text": [
      " 13%|█▎        | 1042/8098 [01:36<10:49, 10.86it/s]"
     ]
    },
    {
     "name": "stdout",
     "output_type": "stream",
     "text": [
      "Error processing c:\\Meet\\Projects\\Project_8_Phoenix_Cervical Cancer Image Classification\\Project-Phoenix\\Dataset\\Preprocessed Dataset\\im_Dyskeratotic\\121_cyt_cyt02.png: name 'greycomatrix' is not defined\n",
      "Error processing c:\\Meet\\Projects\\Project_8_Phoenix_Cervical Cancer Image Classification\\Project-Phoenix\\Dataset\\Preprocessed Dataset\\im_Dyskeratotic\\121_nuc_nuc01.png: name 'greycomatrix' is not defined\n",
      "Error processing c:\\Meet\\Projects\\Project_8_Phoenix_Cervical Cancer Image Classification\\Project-Phoenix\\Dataset\\Preprocessed Dataset\\im_Dyskeratotic\\121_nuc_nuc02.png: name 'greycomatrix' is not defined\n"
     ]
    },
    {
     "name": "stderr",
     "output_type": "stream",
     "text": [
      " 13%|█▎        | 1044/8098 [01:36<10:48, 10.87it/s]"
     ]
    },
    {
     "name": "stdout",
     "output_type": "stream",
     "text": [
      "Error processing c:\\Meet\\Projects\\Project_8_Phoenix_Cervical Cancer Image Classification\\Project-Phoenix\\Dataset\\Preprocessed Dataset\\im_Dyskeratotic\\122_cyt_cyt01.png: name 'greycomatrix' is not defined\n",
      "Error processing c:\\Meet\\Projects\\Project_8_Phoenix_Cervical Cancer Image Classification\\Project-Phoenix\\Dataset\\Preprocessed Dataset\\im_Dyskeratotic\\122_cyt_cyt02.png: name 'greycomatrix' is not defined\n",
      "Error processing c:\\Meet\\Projects\\Project_8_Phoenix_Cervical Cancer Image Classification\\Project-Phoenix\\Dataset\\Preprocessed Dataset\\im_Dyskeratotic\\122_nuc_nuc01.png: name 'greycomatrix' is not defined\n"
     ]
    },
    {
     "name": "stderr",
     "output_type": "stream",
     "text": [
      "C:\\Users\\meetb\\AppData\\Local\\Temp\\ipykernel_53104\\2748481638.py:97: RuntimeWarning: Mean of empty slice.\n",
      "  ch_means = img_rgb[idx].reshape(-1, 3).mean(axis=0)\n",
      "C:\\Users\\meetb\\AppData\\Local\\Packages\\PythonSoftwareFoundation.Python.3.12_qbz5n2kfra8p0\\LocalCache\\local-packages\\Python312\\site-packages\\numpy\\core\\_methods.py:121: RuntimeWarning: invalid value encountered in divide\n",
      "  ret = um.true_divide(\n",
      "C:\\Users\\meetb\\AppData\\Local\\Packages\\PythonSoftwareFoundation.Python.3.12_qbz5n2kfra8p0\\LocalCache\\local-packages\\Python312\\site-packages\\numpy\\core\\_methods.py:206: RuntimeWarning: Degrees of freedom <= 0 for slice\n",
      "  ret = _var(a, axis=axis, dtype=dtype, out=out, ddof=ddof,\n",
      "C:\\Users\\meetb\\AppData\\Local\\Packages\\PythonSoftwareFoundation.Python.3.12_qbz5n2kfra8p0\\LocalCache\\local-packages\\Python312\\site-packages\\numpy\\core\\_methods.py:163: RuntimeWarning: invalid value encountered in divide\n",
      "  arrmean = um.true_divide(arrmean, div, out=arrmean,\n",
      "C:\\Users\\meetb\\AppData\\Local\\Packages\\PythonSoftwareFoundation.Python.3.12_qbz5n2kfra8p0\\LocalCache\\local-packages\\Python312\\site-packages\\numpy\\core\\_methods.py:195: RuntimeWarning: invalid value encountered in divide\n",
      "  ret = um.true_divide(\n",
      "C:\\Users\\meetb\\AppData\\Local\\Packages\\PythonSoftwareFoundation.Python.3.12_qbz5n2kfra8p0\\LocalCache\\local-packages\\Python312\\site-packages\\numpy\\core\\fromnumeric.py:3504: RuntimeWarning: Mean of empty slice.\n",
      "  return _methods._mean(a, axis=axis, dtype=dtype,\n",
      "C:\\Users\\meetb\\AppData\\Local\\Packages\\PythonSoftwareFoundation.Python.3.12_qbz5n2kfra8p0\\LocalCache\\local-packages\\Python312\\site-packages\\numpy\\core\\_methods.py:129: RuntimeWarning: invalid value encountered in divide\n",
      "  ret = ret.dtype.type(ret / rcount)\n",
      "C:\\Users\\meetb\\AppData\\Local\\Packages\\PythonSoftwareFoundation.Python.3.12_qbz5n2kfra8p0\\LocalCache\\local-packages\\Python312\\site-packages\\numpy\\core\\_methods.py:198: RuntimeWarning: invalid value encountered in divide\n",
      "  ret = ret.dtype.type(ret / rcount)\n",
      " 13%|█▎        | 1048/8098 [01:36<10:38, 11.03it/s]"
     ]
    },
    {
     "name": "stdout",
     "output_type": "stream",
     "text": [
      "Error processing c:\\Meet\\Projects\\Project_8_Phoenix_Cervical Cancer Image Classification\\Project-Phoenix\\Dataset\\Preprocessed Dataset\\im_Dyskeratotic\\122_nuc_nuc02.png: name 'greycomatrix' is not defined\n",
      "Error processing c:\\Meet\\Projects\\Project_8_Phoenix_Cervical Cancer Image Classification\\Project-Phoenix\\Dataset\\Preprocessed Dataset\\im_Dyskeratotic\\123_cyt_cyt01.png: name 'greycomatrix' is not defined\n",
      "Error processing c:\\Meet\\Projects\\Project_8_Phoenix_Cervical Cancer Image Classification\\Project-Phoenix\\Dataset\\Preprocessed Dataset\\im_Dyskeratotic\\123_nuc_nuc01.png: name 'greycomatrix' is not defined\n"
     ]
    },
    {
     "name": "stderr",
     "output_type": "stream",
     "text": [
      " 13%|█▎        | 1050/8098 [01:37<11:41, 10.05it/s]"
     ]
    },
    {
     "name": "stdout",
     "output_type": "stream",
     "text": [
      "Error processing c:\\Meet\\Projects\\Project_8_Phoenix_Cervical Cancer Image Classification\\Project-Phoenix\\Dataset\\Preprocessed Dataset\\im_Dyskeratotic\\124_cyt_cyt01.png: name 'greycomatrix' is not defined\n",
      "Error processing c:\\Meet\\Projects\\Project_8_Phoenix_Cervical Cancer Image Classification\\Project-Phoenix\\Dataset\\Preprocessed Dataset\\im_Dyskeratotic\\124_cyt_cyt02.png: name 'greycomatrix' is not defined\n"
     ]
    },
    {
     "name": "stderr",
     "output_type": "stream",
     "text": [
      " 13%|█▎        | 1052/8098 [01:37<11:37, 10.09it/s]"
     ]
    },
    {
     "name": "stdout",
     "output_type": "stream",
     "text": [
      "Error processing c:\\Meet\\Projects\\Project_8_Phoenix_Cervical Cancer Image Classification\\Project-Phoenix\\Dataset\\Preprocessed Dataset\\im_Dyskeratotic\\124_cyt_cyt03.png: name 'greycomatrix' is not defined\n",
      "Error processing c:\\Meet\\Projects\\Project_8_Phoenix_Cervical Cancer Image Classification\\Project-Phoenix\\Dataset\\Preprocessed Dataset\\im_Dyskeratotic\\124_cyt_cyt04.png: name 'greycomatrix' is not defined\n",
      "Error processing c:\\Meet\\Projects\\Project_8_Phoenix_Cervical Cancer Image Classification\\Project-Phoenix\\Dataset\\Preprocessed Dataset\\im_Dyskeratotic\\124_nuc_nuc01.png: name 'greycomatrix' is not defined\n"
     ]
    },
    {
     "name": "stderr",
     "output_type": "stream",
     "text": [
      " 13%|█▎        | 1054/8098 [01:37<11:35, 10.13it/s]"
     ]
    },
    {
     "name": "stdout",
     "output_type": "stream",
     "text": [
      "Error processing c:\\Meet\\Projects\\Project_8_Phoenix_Cervical Cancer Image Classification\\Project-Phoenix\\Dataset\\Preprocessed Dataset\\im_Dyskeratotic\\124_nuc_nuc02.png: name 'greycomatrix' is not defined\n",
      "Error processing c:\\Meet\\Projects\\Project_8_Phoenix_Cervical Cancer Image Classification\\Project-Phoenix\\Dataset\\Preprocessed Dataset\\im_Dyskeratotic\\124_nuc_nuc03.png: name 'greycomatrix' is not defined\n",
      "Error processing c:\\Meet\\Projects\\Project_8_Phoenix_Cervical Cancer Image Classification\\Project-Phoenix\\Dataset\\Preprocessed Dataset\\im_Dyskeratotic\\124_nuc_nuc04.png: name 'greycomatrix' is not defined\n"
     ]
    },
    {
     "name": "stderr",
     "output_type": "stream",
     "text": [
      " 13%|█▎        | 1058/8098 [01:38<12:34,  9.33it/s]"
     ]
    },
    {
     "name": "stdout",
     "output_type": "stream",
     "text": [
      "Error processing c:\\Meet\\Projects\\Project_8_Phoenix_Cervical Cancer Image Classification\\Project-Phoenix\\Dataset\\Preprocessed Dataset\\im_Dyskeratotic\\125_cyt_cyt01.png: name 'greycomatrix' is not defined\n",
      "Error processing c:\\Meet\\Projects\\Project_8_Phoenix_Cervical Cancer Image Classification\\Project-Phoenix\\Dataset\\Preprocessed Dataset\\im_Dyskeratotic\\125_cyt_cyt02.png: name 'greycomatrix' is not defined\n",
      "Error processing c:\\Meet\\Projects\\Project_8_Phoenix_Cervical Cancer Image Classification\\Project-Phoenix\\Dataset\\Preprocessed Dataset\\im_Dyskeratotic\\125_cyt_cyt03.png: name 'greycomatrix' is not defined\n"
     ]
    },
    {
     "name": "stderr",
     "output_type": "stream",
     "text": [
      " 13%|█▎        | 1061/8098 [01:38<12:08,  9.66it/s]"
     ]
    },
    {
     "name": "stdout",
     "output_type": "stream",
     "text": [
      "Error processing c:\\Meet\\Projects\\Project_8_Phoenix_Cervical Cancer Image Classification\\Project-Phoenix\\Dataset\\Preprocessed Dataset\\im_Dyskeratotic\\125_cyt_cyt04.png: name 'greycomatrix' is not defined\n",
      "Error processing c:\\Meet\\Projects\\Project_8_Phoenix_Cervical Cancer Image Classification\\Project-Phoenix\\Dataset\\Preprocessed Dataset\\im_Dyskeratotic\\125_nuc_nuc01.png: name 'greycomatrix' is not defined\n",
      "Error processing c:\\Meet\\Projects\\Project_8_Phoenix_Cervical Cancer Image Classification\\Project-Phoenix\\Dataset\\Preprocessed Dataset\\im_Dyskeratotic\\125_nuc_nuc02.png: name 'greycomatrix' is not defined\n"
     ]
    },
    {
     "name": "stderr",
     "output_type": "stream",
     "text": [
      "C:\\Users\\meetb\\AppData\\Local\\Temp\\ipykernel_53104\\2748481638.py:97: RuntimeWarning: Mean of empty slice.\n",
      "  ch_means = img_rgb[idx].reshape(-1, 3).mean(axis=0)\n",
      "C:\\Users\\meetb\\AppData\\Local\\Packages\\PythonSoftwareFoundation.Python.3.12_qbz5n2kfra8p0\\LocalCache\\local-packages\\Python312\\site-packages\\numpy\\core\\_methods.py:121: RuntimeWarning: invalid value encountered in divide\n",
      "  ret = um.true_divide(\n",
      "C:\\Users\\meetb\\AppData\\Local\\Packages\\PythonSoftwareFoundation.Python.3.12_qbz5n2kfra8p0\\LocalCache\\local-packages\\Python312\\site-packages\\numpy\\core\\_methods.py:206: RuntimeWarning: Degrees of freedom <= 0 for slice\n",
      "  ret = _var(a, axis=axis, dtype=dtype, out=out, ddof=ddof,\n",
      "C:\\Users\\meetb\\AppData\\Local\\Packages\\PythonSoftwareFoundation.Python.3.12_qbz5n2kfra8p0\\LocalCache\\local-packages\\Python312\\site-packages\\numpy\\core\\_methods.py:163: RuntimeWarning: invalid value encountered in divide\n",
      "  arrmean = um.true_divide(arrmean, div, out=arrmean,\n",
      "C:\\Users\\meetb\\AppData\\Local\\Packages\\PythonSoftwareFoundation.Python.3.12_qbz5n2kfra8p0\\LocalCache\\local-packages\\Python312\\site-packages\\numpy\\core\\_methods.py:195: RuntimeWarning: invalid value encountered in divide\n",
      "  ret = um.true_divide(\n",
      "C:\\Users\\meetb\\AppData\\Local\\Packages\\PythonSoftwareFoundation.Python.3.12_qbz5n2kfra8p0\\LocalCache\\local-packages\\Python312\\site-packages\\numpy\\core\\fromnumeric.py:3504: RuntimeWarning: Mean of empty slice.\n",
      "  return _methods._mean(a, axis=axis, dtype=dtype,\n",
      "C:\\Users\\meetb\\AppData\\Local\\Packages\\PythonSoftwareFoundation.Python.3.12_qbz5n2kfra8p0\\LocalCache\\local-packages\\Python312\\site-packages\\numpy\\core\\_methods.py:129: RuntimeWarning: invalid value encountered in divide\n",
      "  ret = ret.dtype.type(ret / rcount)\n",
      "C:\\Users\\meetb\\AppData\\Local\\Packages\\PythonSoftwareFoundation.Python.3.12_qbz5n2kfra8p0\\LocalCache\\local-packages\\Python312\\site-packages\\numpy\\core\\_methods.py:198: RuntimeWarning: invalid value encountered in divide\n",
      "  ret = ret.dtype.type(ret / rcount)\n",
      " 13%|█▎        | 1064/8098 [01:38<11:55,  9.83it/s]"
     ]
    },
    {
     "name": "stdout",
     "output_type": "stream",
     "text": [
      "Error processing c:\\Meet\\Projects\\Project_8_Phoenix_Cervical Cancer Image Classification\\Project-Phoenix\\Dataset\\Preprocessed Dataset\\im_Dyskeratotic\\125_nuc_nuc03.png: name 'greycomatrix' is not defined\n",
      "Error processing c:\\Meet\\Projects\\Project_8_Phoenix_Cervical Cancer Image Classification\\Project-Phoenix\\Dataset\\Preprocessed Dataset\\im_Dyskeratotic\\125_nuc_nuc04.png: name 'greycomatrix' is not defined\n",
      "Error processing c:\\Meet\\Projects\\Project_8_Phoenix_Cervical Cancer Image Classification\\Project-Phoenix\\Dataset\\Preprocessed Dataset\\im_Dyskeratotic\\126_cyt_cyt01.png: name 'greycomatrix' is not defined\n"
     ]
    },
    {
     "name": "stderr",
     "output_type": "stream",
     "text": [
      " 13%|█▎        | 1067/8098 [01:38<12:12,  9.61it/s]"
     ]
    },
    {
     "name": "stdout",
     "output_type": "stream",
     "text": [
      "Error processing c:\\Meet\\Projects\\Project_8_Phoenix_Cervical Cancer Image Classification\\Project-Phoenix\\Dataset\\Preprocessed Dataset\\im_Dyskeratotic\\126_cyt_cyt02.png: name 'greycomatrix' is not defined\n",
      "Error processing c:\\Meet\\Projects\\Project_8_Phoenix_Cervical Cancer Image Classification\\Project-Phoenix\\Dataset\\Preprocessed Dataset\\im_Dyskeratotic\\126_nuc_nuc01.png: name 'greycomatrix' is not defined\n",
      "Error processing c:\\Meet\\Projects\\Project_8_Phoenix_Cervical Cancer Image Classification\\Project-Phoenix\\Dataset\\Preprocessed Dataset\\im_Dyskeratotic\\126_nuc_nuc02.png: name 'greycomatrix' is not defined\n"
     ]
    },
    {
     "name": "stderr",
     "output_type": "stream",
     "text": [
      " 13%|█▎        | 1069/8098 [01:39<11:57,  9.80it/s]"
     ]
    },
    {
     "name": "stdout",
     "output_type": "stream",
     "text": [
      "Error processing c:\\Meet\\Projects\\Project_8_Phoenix_Cervical Cancer Image Classification\\Project-Phoenix\\Dataset\\Preprocessed Dataset\\im_Dyskeratotic\\127_cyt_cyt01.png: name 'greycomatrix' is not defined\n",
      "Error processing c:\\Meet\\Projects\\Project_8_Phoenix_Cervical Cancer Image Classification\\Project-Phoenix\\Dataset\\Preprocessed Dataset\\im_Dyskeratotic\\127_cyt_cyt02.png: name 'greycomatrix' is not defined\n",
      "Error processing c:\\Meet\\Projects\\Project_8_Phoenix_Cervical Cancer Image Classification\\Project-Phoenix\\Dataset\\Preprocessed Dataset\\im_Dyskeratotic\\127_cyt_cyt03.png: name 'greycomatrix' is not defined\n"
     ]
    },
    {
     "name": "stderr",
     "output_type": "stream",
     "text": [
      " 13%|█▎        | 1073/8098 [01:39<12:23,  9.45it/s]"
     ]
    },
    {
     "name": "stdout",
     "output_type": "stream",
     "text": [
      "Error processing c:\\Meet\\Projects\\Project_8_Phoenix_Cervical Cancer Image Classification\\Project-Phoenix\\Dataset\\Preprocessed Dataset\\im_Dyskeratotic\\127_nuc_nuc01.png: name 'greycomatrix' is not defined\n",
      "Error processing c:\\Meet\\Projects\\Project_8_Phoenix_Cervical Cancer Image Classification\\Project-Phoenix\\Dataset\\Preprocessed Dataset\\im_Dyskeratotic\\127_nuc_nuc02.png: name 'greycomatrix' is not defined\n"
     ]
    },
    {
     "name": "stderr",
     "output_type": "stream",
     "text": [
      " 13%|█▎        | 1074/8098 [01:39<12:58,  9.02it/s]C:\\Users\\meetb\\AppData\\Local\\Temp\\ipykernel_53104\\2748481638.py:97: RuntimeWarning: Mean of empty slice.\n",
      "  ch_means = img_rgb[idx].reshape(-1, 3).mean(axis=0)\n",
      "C:\\Users\\meetb\\AppData\\Local\\Packages\\PythonSoftwareFoundation.Python.3.12_qbz5n2kfra8p0\\LocalCache\\local-packages\\Python312\\site-packages\\numpy\\core\\_methods.py:121: RuntimeWarning: invalid value encountered in divide\n",
      "  ret = um.true_divide(\n",
      "C:\\Users\\meetb\\AppData\\Local\\Packages\\PythonSoftwareFoundation.Python.3.12_qbz5n2kfra8p0\\LocalCache\\local-packages\\Python312\\site-packages\\numpy\\core\\_methods.py:206: RuntimeWarning: Degrees of freedom <= 0 for slice\n",
      "  ret = _var(a, axis=axis, dtype=dtype, out=out, ddof=ddof,\n",
      "C:\\Users\\meetb\\AppData\\Local\\Packages\\PythonSoftwareFoundation.Python.3.12_qbz5n2kfra8p0\\LocalCache\\local-packages\\Python312\\site-packages\\numpy\\core\\_methods.py:163: RuntimeWarning: invalid value encountered in divide\n",
      "  arrmean = um.true_divide(arrmean, div, out=arrmean,\n",
      "C:\\Users\\meetb\\AppData\\Local\\Packages\\PythonSoftwareFoundation.Python.3.12_qbz5n2kfra8p0\\LocalCache\\local-packages\\Python312\\site-packages\\numpy\\core\\_methods.py:195: RuntimeWarning: invalid value encountered in divide\n",
      "  ret = um.true_divide(\n",
      "C:\\Users\\meetb\\AppData\\Local\\Packages\\PythonSoftwareFoundation.Python.3.12_qbz5n2kfra8p0\\LocalCache\\local-packages\\Python312\\site-packages\\numpy\\core\\fromnumeric.py:3504: RuntimeWarning: Mean of empty slice.\n",
      "  return _methods._mean(a, axis=axis, dtype=dtype,\n",
      "C:\\Users\\meetb\\AppData\\Local\\Packages\\PythonSoftwareFoundation.Python.3.12_qbz5n2kfra8p0\\LocalCache\\local-packages\\Python312\\site-packages\\numpy\\core\\_methods.py:129: RuntimeWarning: invalid value encountered in divide\n",
      "  ret = ret.dtype.type(ret / rcount)\n",
      "C:\\Users\\meetb\\AppData\\Local\\Packages\\PythonSoftwareFoundation.Python.3.12_qbz5n2kfra8p0\\LocalCache\\local-packages\\Python312\\site-packages\\numpy\\core\\_methods.py:198: RuntimeWarning: invalid value encountered in divide\n",
      "  ret = ret.dtype.type(ret / rcount)\n",
      " 13%|█▎        | 1075/8098 [01:39<13:43,  8.53it/s]"
     ]
    },
    {
     "name": "stdout",
     "output_type": "stream",
     "text": [
      "Error processing c:\\Meet\\Projects\\Project_8_Phoenix_Cervical Cancer Image Classification\\Project-Phoenix\\Dataset\\Preprocessed Dataset\\im_Dyskeratotic\\127_nuc_nuc03.png: name 'greycomatrix' is not defined\n",
      "Error processing c:\\Meet\\Projects\\Project_8_Phoenix_Cervical Cancer Image Classification\\Project-Phoenix\\Dataset\\Preprocessed Dataset\\im_Dyskeratotic\\128_cyt_cyt01.png: name 'greycomatrix' is not defined\n"
     ]
    },
    {
     "name": "stderr",
     "output_type": "stream",
     "text": [
      " 13%|█▎        | 1076/8098 [01:39<13:37,  8.59it/s]C:\\Users\\meetb\\AppData\\Local\\Temp\\ipykernel_53104\\2748481638.py:97: RuntimeWarning: Mean of empty slice.\n",
      "  ch_means = img_rgb[idx].reshape(-1, 3).mean(axis=0)\n",
      "C:\\Users\\meetb\\AppData\\Local\\Packages\\PythonSoftwareFoundation.Python.3.12_qbz5n2kfra8p0\\LocalCache\\local-packages\\Python312\\site-packages\\numpy\\core\\_methods.py:121: RuntimeWarning: invalid value encountered in divide\n",
      "  ret = um.true_divide(\n",
      "C:\\Users\\meetb\\AppData\\Local\\Packages\\PythonSoftwareFoundation.Python.3.12_qbz5n2kfra8p0\\LocalCache\\local-packages\\Python312\\site-packages\\numpy\\core\\_methods.py:206: RuntimeWarning: Degrees of freedom <= 0 for slice\n",
      "  ret = _var(a, axis=axis, dtype=dtype, out=out, ddof=ddof,\n",
      "C:\\Users\\meetb\\AppData\\Local\\Packages\\PythonSoftwareFoundation.Python.3.12_qbz5n2kfra8p0\\LocalCache\\local-packages\\Python312\\site-packages\\numpy\\core\\_methods.py:163: RuntimeWarning: invalid value encountered in divide\n",
      "  arrmean = um.true_divide(arrmean, div, out=arrmean,\n",
      "C:\\Users\\meetb\\AppData\\Local\\Packages\\PythonSoftwareFoundation.Python.3.12_qbz5n2kfra8p0\\LocalCache\\local-packages\\Python312\\site-packages\\numpy\\core\\_methods.py:195: RuntimeWarning: invalid value encountered in divide\n",
      "  ret = um.true_divide(\n",
      "C:\\Users\\meetb\\AppData\\Local\\Packages\\PythonSoftwareFoundation.Python.3.12_qbz5n2kfra8p0\\LocalCache\\local-packages\\Python312\\site-packages\\numpy\\core\\fromnumeric.py:3504: RuntimeWarning: Mean of empty slice.\n",
      "  return _methods._mean(a, axis=axis, dtype=dtype,\n",
      "C:\\Users\\meetb\\AppData\\Local\\Packages\\PythonSoftwareFoundation.Python.3.12_qbz5n2kfra8p0\\LocalCache\\local-packages\\Python312\\site-packages\\numpy\\core\\_methods.py:129: RuntimeWarning: invalid value encountered in divide\n",
      "  ret = ret.dtype.type(ret / rcount)\n",
      "C:\\Users\\meetb\\AppData\\Local\\Packages\\PythonSoftwareFoundation.Python.3.12_qbz5n2kfra8p0\\LocalCache\\local-packages\\Python312\\site-packages\\numpy\\core\\_methods.py:198: RuntimeWarning: invalid value encountered in divide\n",
      "  ret = ret.dtype.type(ret / rcount)\n",
      " 13%|█▎        | 1077/8098 [01:40<13:36,  8.60it/s]"
     ]
    },
    {
     "name": "stdout",
     "output_type": "stream",
     "text": [
      "Error processing c:\\Meet\\Projects\\Project_8_Phoenix_Cervical Cancer Image Classification\\Project-Phoenix\\Dataset\\Preprocessed Dataset\\im_Dyskeratotic\\128_nuc_nuc01.png: name 'greycomatrix' is not defined\n",
      "Error processing c:\\Meet\\Projects\\Project_8_Phoenix_Cervical Cancer Image Classification\\Project-Phoenix\\Dataset\\Preprocessed Dataset\\im_Dyskeratotic\\129_cyt_cyt01.png: name 'greycomatrix' is not defined\n"
     ]
    },
    {
     "name": "stderr",
     "output_type": "stream",
     "text": [
      " 13%|█▎        | 1079/8098 [01:40<12:45,  9.16it/s]"
     ]
    },
    {
     "name": "stdout",
     "output_type": "stream",
     "text": [
      "Error processing c:\\Meet\\Projects\\Project_8_Phoenix_Cervical Cancer Image Classification\\Project-Phoenix\\Dataset\\Preprocessed Dataset\\im_Dyskeratotic\\129_cyt_cyt02.png: name 'greycomatrix' is not defined\n",
      "Error processing c:\\Meet\\Projects\\Project_8_Phoenix_Cervical Cancer Image Classification\\Project-Phoenix\\Dataset\\Preprocessed Dataset\\im_Dyskeratotic\\129_nuc_nuc01.png: name 'greycomatrix' is not defined\n",
      "Error processing c:\\Meet\\Projects\\Project_8_Phoenix_Cervical Cancer Image Classification\\Project-Phoenix\\Dataset\\Preprocessed Dataset\\im_Dyskeratotic\\129_nuc_nuc02.png: name 'greycomatrix' is not defined\n"
     ]
    },
    {
     "name": "stderr",
     "output_type": "stream",
     "text": [
      " 13%|█▎        | 1080/8098 [01:40<12:28,  9.37it/s]C:\\Users\\meetb\\AppData\\Local\\Temp\\ipykernel_53104\\2748481638.py:97: RuntimeWarning: Mean of empty slice.\n",
      "  ch_means = img_rgb[idx].reshape(-1, 3).mean(axis=0)\n",
      "C:\\Users\\meetb\\AppData\\Local\\Packages\\PythonSoftwareFoundation.Python.3.12_qbz5n2kfra8p0\\LocalCache\\local-packages\\Python312\\site-packages\\numpy\\core\\_methods.py:121: RuntimeWarning: invalid value encountered in divide\n",
      "  ret = um.true_divide(\n",
      "C:\\Users\\meetb\\AppData\\Local\\Packages\\PythonSoftwareFoundation.Python.3.12_qbz5n2kfra8p0\\LocalCache\\local-packages\\Python312\\site-packages\\numpy\\core\\_methods.py:206: RuntimeWarning: Degrees of freedom <= 0 for slice\n",
      "  ret = _var(a, axis=axis, dtype=dtype, out=out, ddof=ddof,\n",
      "C:\\Users\\meetb\\AppData\\Local\\Packages\\PythonSoftwareFoundation.Python.3.12_qbz5n2kfra8p0\\LocalCache\\local-packages\\Python312\\site-packages\\numpy\\core\\_methods.py:163: RuntimeWarning: invalid value encountered in divide\n",
      "  arrmean = um.true_divide(arrmean, div, out=arrmean,\n",
      "C:\\Users\\meetb\\AppData\\Local\\Packages\\PythonSoftwareFoundation.Python.3.12_qbz5n2kfra8p0\\LocalCache\\local-packages\\Python312\\site-packages\\numpy\\core\\_methods.py:195: RuntimeWarning: invalid value encountered in divide\n",
      "  ret = um.true_divide(\n",
      "C:\\Users\\meetb\\AppData\\Local\\Packages\\PythonSoftwareFoundation.Python.3.12_qbz5n2kfra8p0\\LocalCache\\local-packages\\Python312\\site-packages\\numpy\\core\\fromnumeric.py:3504: RuntimeWarning: Mean of empty slice.\n",
      "  return _methods._mean(a, axis=axis, dtype=dtype,\n",
      "C:\\Users\\meetb\\AppData\\Local\\Packages\\PythonSoftwareFoundation.Python.3.12_qbz5n2kfra8p0\\LocalCache\\local-packages\\Python312\\site-packages\\numpy\\core\\_methods.py:129: RuntimeWarning: invalid value encountered in divide\n",
      "  ret = ret.dtype.type(ret / rcount)\n",
      "C:\\Users\\meetb\\AppData\\Local\\Packages\\PythonSoftwareFoundation.Python.3.12_qbz5n2kfra8p0\\LocalCache\\local-packages\\Python312\\site-packages\\numpy\\core\\_methods.py:198: RuntimeWarning: invalid value encountered in divide\n",
      "  ret = ret.dtype.type(ret / rcount)\n",
      " 13%|█▎        | 1082/8098 [01:40<15:18,  7.64it/s]"
     ]
    },
    {
     "name": "stdout",
     "output_type": "stream",
     "text": [
      "Error processing c:\\Meet\\Projects\\Project_8_Phoenix_Cervical Cancer Image Classification\\Project-Phoenix\\Dataset\\Preprocessed Dataset\\im_Dyskeratotic\\130_cyt_cyt01.png: name 'greycomatrix' is not defined\n",
      "Error processing c:\\Meet\\Projects\\Project_8_Phoenix_Cervical Cancer Image Classification\\Project-Phoenix\\Dataset\\Preprocessed Dataset\\im_Dyskeratotic\\130_cyt_cyt02.png: name 'greycomatrix' is not defined\n"
     ]
    },
    {
     "name": "stderr",
     "output_type": "stream",
     "text": [
      " 13%|█▎        | 1083/8098 [01:40<14:45,  7.92it/s]"
     ]
    },
    {
     "name": "stdout",
     "output_type": "stream",
     "text": [
      "Error processing c:\\Meet\\Projects\\Project_8_Phoenix_Cervical Cancer Image Classification\\Project-Phoenix\\Dataset\\Preprocessed Dataset\\im_Dyskeratotic\\130_nuc_nuc01.png: name 'greycomatrix' is not defined\n",
      "Error processing c:\\Meet\\Projects\\Project_8_Phoenix_Cervical Cancer Image Classification\\Project-Phoenix\\Dataset\\Preprocessed Dataset\\im_Dyskeratotic\\130_nuc_nuc02.png: name 'greycomatrix' is not defined\n",
      "Error processing c:\\Meet\\Projects\\Project_8_Phoenix_Cervical Cancer Image Classification\\Project-Phoenix\\Dataset\\Preprocessed Dataset\\im_Dyskeratotic\\131_cyt_cyt01.png: name 'greycomatrix' is not defined\n"
     ]
    },
    {
     "name": "stderr",
     "output_type": "stream",
     "text": [
      " 13%|█▎        | 1087/8098 [01:41<12:22,  9.44it/s]"
     ]
    },
    {
     "name": "stdout",
     "output_type": "stream",
     "text": [
      "Error processing c:\\Meet\\Projects\\Project_8_Phoenix_Cervical Cancer Image Classification\\Project-Phoenix\\Dataset\\Preprocessed Dataset\\im_Dyskeratotic\\131_cyt_cyt02.png: name 'greycomatrix' is not defined\n",
      "Error processing c:\\Meet\\Projects\\Project_8_Phoenix_Cervical Cancer Image Classification\\Project-Phoenix\\Dataset\\Preprocessed Dataset\\im_Dyskeratotic\\131_nuc_nuc01.png: name 'greycomatrix' is not defined\n",
      "Error processing c:\\Meet\\Projects\\Project_8_Phoenix_Cervical Cancer Image Classification\\Project-Phoenix\\Dataset\\Preprocessed Dataset\\im_Dyskeratotic\\131_nuc_nuc02.png: name 'greycomatrix' is not defined\n"
     ]
    },
    {
     "name": "stderr",
     "output_type": "stream",
     "text": [
      " 13%|█▎        | 1090/8098 [01:41<12:58,  9.00it/s]"
     ]
    },
    {
     "name": "stdout",
     "output_type": "stream",
     "text": [
      "Error processing c:\\Meet\\Projects\\Project_8_Phoenix_Cervical Cancer Image Classification\\Project-Phoenix\\Dataset\\Preprocessed Dataset\\im_Dyskeratotic\\132_cyt_cyt01.png: name 'greycomatrix' is not defined\n",
      "Error processing c:\\Meet\\Projects\\Project_8_Phoenix_Cervical Cancer Image Classification\\Project-Phoenix\\Dataset\\Preprocessed Dataset\\im_Dyskeratotic\\132_cyt_cyt02.png: name 'greycomatrix' is not defined\n"
     ]
    },
    {
     "name": "stderr",
     "output_type": "stream",
     "text": [
      " 13%|█▎        | 1092/8098 [01:41<12:45,  9.15it/s]"
     ]
    },
    {
     "name": "stdout",
     "output_type": "stream",
     "text": [
      "Error processing c:\\Meet\\Projects\\Project_8_Phoenix_Cervical Cancer Image Classification\\Project-Phoenix\\Dataset\\Preprocessed Dataset\\im_Dyskeratotic\\132_nuc_nuc01.png: name 'greycomatrix' is not defined\n",
      "Error processing c:\\Meet\\Projects\\Project_8_Phoenix_Cervical Cancer Image Classification\\Project-Phoenix\\Dataset\\Preprocessed Dataset\\im_Dyskeratotic\\132_nuc_nuc02.png: name 'greycomatrix' is not defined\n"
     ]
    },
    {
     "name": "stderr",
     "output_type": "stream",
     "text": [
      " 14%|█▎        | 1094/8098 [01:41<12:57,  9.01it/s]"
     ]
    },
    {
     "name": "stdout",
     "output_type": "stream",
     "text": [
      "Error processing c:\\Meet\\Projects\\Project_8_Phoenix_Cervical Cancer Image Classification\\Project-Phoenix\\Dataset\\Preprocessed Dataset\\im_Dyskeratotic\\133_cyt_cyt01.png: name 'greycomatrix' is not defined\n",
      "Error processing c:\\Meet\\Projects\\Project_8_Phoenix_Cervical Cancer Image Classification\\Project-Phoenix\\Dataset\\Preprocessed Dataset\\im_Dyskeratotic\\133_cyt_cyt02.png: name 'greycomatrix' is not defined\n",
      "Error processing c:\\Meet\\Projects\\Project_8_Phoenix_Cervical Cancer Image Classification\\Project-Phoenix\\Dataset\\Preprocessed Dataset\\im_Dyskeratotic\\133_nuc_nuc01.png: name 'greycomatrix' is not defined\n"
     ]
    },
    {
     "name": "stderr",
     "output_type": "stream",
     "text": [
      " 14%|█▎        | 1097/8098 [01:42<11:55,  9.79it/s]"
     ]
    },
    {
     "name": "stdout",
     "output_type": "stream",
     "text": [
      "Error processing c:\\Meet\\Projects\\Project_8_Phoenix_Cervical Cancer Image Classification\\Project-Phoenix\\Dataset\\Preprocessed Dataset\\im_Dyskeratotic\\133_nuc_nuc02.png: name 'greycomatrix' is not defined\n",
      "Error processing c:\\Meet\\Projects\\Project_8_Phoenix_Cervical Cancer Image Classification\\Project-Phoenix\\Dataset\\Preprocessed Dataset\\im_Dyskeratotic\\134_cyt_cyt01.png: name 'greycomatrix' is not defined\n",
      "Error processing c:\\Meet\\Projects\\Project_8_Phoenix_Cervical Cancer Image Classification\\Project-Phoenix\\Dataset\\Preprocessed Dataset\\im_Dyskeratotic\\134_cyt_cyt02.png: name 'greycomatrix' is not defined\n"
     ]
    },
    {
     "name": "stderr",
     "output_type": "stream",
     "text": [
      " 14%|█▎        | 1100/8098 [01:42<11:35, 10.06it/s]"
     ]
    },
    {
     "name": "stdout",
     "output_type": "stream",
     "text": [
      "Error processing c:\\Meet\\Projects\\Project_8_Phoenix_Cervical Cancer Image Classification\\Project-Phoenix\\Dataset\\Preprocessed Dataset\\im_Dyskeratotic\\134_cyt_cyt03.png: name 'greycomatrix' is not defined\n",
      "Error processing c:\\Meet\\Projects\\Project_8_Phoenix_Cervical Cancer Image Classification\\Project-Phoenix\\Dataset\\Preprocessed Dataset\\im_Dyskeratotic\\134_nuc_nuc01.png: name 'greycomatrix' is not defined\n",
      "Error processing c:\\Meet\\Projects\\Project_8_Phoenix_Cervical Cancer Image Classification\\Project-Phoenix\\Dataset\\Preprocessed Dataset\\im_Dyskeratotic\\134_nuc_nuc02.png: name 'greycomatrix' is not defined\n"
     ]
    },
    {
     "name": "stderr",
     "output_type": "stream",
     "text": [
      " 14%|█▎        | 1102/8098 [01:42<11:25, 10.20it/s]"
     ]
    },
    {
     "name": "stdout",
     "output_type": "stream",
     "text": [
      "Error processing c:\\Meet\\Projects\\Project_8_Phoenix_Cervical Cancer Image Classification\\Project-Phoenix\\Dataset\\Preprocessed Dataset\\im_Dyskeratotic\\134_nuc_nuc03.png: name 'greycomatrix' is not defined\n",
      "Error processing c:\\Meet\\Projects\\Project_8_Phoenix_Cervical Cancer Image Classification\\Project-Phoenix\\Dataset\\Preprocessed Dataset\\im_Dyskeratotic\\135_cyt_cyt01.png: name 'greycomatrix' is not defined\n",
      "Error processing c:\\Meet\\Projects\\Project_8_Phoenix_Cervical Cancer Image Classification\\Project-Phoenix\\Dataset\\Preprocessed Dataset\\im_Dyskeratotic\\135_cyt_cyt02.png: name 'greycomatrix' is not defined\n"
     ]
    },
    {
     "name": "stderr",
     "output_type": "stream",
     "text": [
      " 14%|█▎        | 1106/8098 [01:43<10:48, 10.78it/s]"
     ]
    },
    {
     "name": "stdout",
     "output_type": "stream",
     "text": [
      "Error processing c:\\Meet\\Projects\\Project_8_Phoenix_Cervical Cancer Image Classification\\Project-Phoenix\\Dataset\\Preprocessed Dataset\\im_Dyskeratotic\\135_cyt_cyt03.png: name 'greycomatrix' is not defined\n",
      "Error processing c:\\Meet\\Projects\\Project_8_Phoenix_Cervical Cancer Image Classification\\Project-Phoenix\\Dataset\\Preprocessed Dataset\\im_Dyskeratotic\\135_cyt_cyt04.png: name 'greycomatrix' is not defined\n",
      "Error processing c:\\Meet\\Projects\\Project_8_Phoenix_Cervical Cancer Image Classification\\Project-Phoenix\\Dataset\\Preprocessed Dataset\\im_Dyskeratotic\\135_nuc_nuc01.png: name 'greycomatrix' is not defined\n"
     ]
    },
    {
     "name": "stderr",
     "output_type": "stream",
     "text": [
      " 14%|█▎        | 1110/8098 [01:43<10:23, 11.21it/s]"
     ]
    },
    {
     "name": "stdout",
     "output_type": "stream",
     "text": [
      "Error processing c:\\Meet\\Projects\\Project_8_Phoenix_Cervical Cancer Image Classification\\Project-Phoenix\\Dataset\\Preprocessed Dataset\\im_Dyskeratotic\\135_nuc_nuc02.png: name 'greycomatrix' is not defined\n",
      "Error processing c:\\Meet\\Projects\\Project_8_Phoenix_Cervical Cancer Image Classification\\Project-Phoenix\\Dataset\\Preprocessed Dataset\\im_Dyskeratotic\\135_nuc_nuc03.png: name 'greycomatrix' is not defined\n",
      "Error processing c:\\Meet\\Projects\\Project_8_Phoenix_Cervical Cancer Image Classification\\Project-Phoenix\\Dataset\\Preprocessed Dataset\\im_Dyskeratotic\\135_nuc_nuc04.png: name 'greycomatrix' is not defined\n"
     ]
    },
    {
     "name": "stderr",
     "output_type": "stream",
     "text": [
      " 14%|█▎        | 1112/8098 [01:43<10:32, 11.04it/s]"
     ]
    },
    {
     "name": "stdout",
     "output_type": "stream",
     "text": [
      "Error processing c:\\Meet\\Projects\\Project_8_Phoenix_Cervical Cancer Image Classification\\Project-Phoenix\\Dataset\\Preprocessed Dataset\\im_Dyskeratotic\\136_cyt_cyt01.png: name 'greycomatrix' is not defined\n",
      "Error processing c:\\Meet\\Projects\\Project_8_Phoenix_Cervical Cancer Image Classification\\Project-Phoenix\\Dataset\\Preprocessed Dataset\\im_Dyskeratotic\\136_cyt_cyt02.png: name 'greycomatrix' is not defined\n",
      "Error processing c:\\Meet\\Projects\\Project_8_Phoenix_Cervical Cancer Image Classification\\Project-Phoenix\\Dataset\\Preprocessed Dataset\\im_Dyskeratotic\\136_cyt_cyt03.png: name 'greycomatrix' is not defined\n"
     ]
    },
    {
     "name": "stderr",
     "output_type": "stream",
     "text": [
      " 14%|█▍        | 1114/8098 [01:43<10:27, 11.13it/s]"
     ]
    },
    {
     "name": "stdout",
     "output_type": "stream",
     "text": [
      "Error processing c:\\Meet\\Projects\\Project_8_Phoenix_Cervical Cancer Image Classification\\Project-Phoenix\\Dataset\\Preprocessed Dataset\\im_Dyskeratotic\\136_nuc_nuc01.png: name 'greycomatrix' is not defined\n",
      "Error processing c:\\Meet\\Projects\\Project_8_Phoenix_Cervical Cancer Image Classification\\Project-Phoenix\\Dataset\\Preprocessed Dataset\\im_Dyskeratotic\\136_nuc_nuc02.png: name 'greycomatrix' is not defined\n",
      "Error processing c:\\Meet\\Projects\\Project_8_Phoenix_Cervical Cancer Image Classification\\Project-Phoenix\\Dataset\\Preprocessed Dataset\\im_Dyskeratotic\\136_nuc_nuc03.png: name 'greycomatrix' is not defined\n"
     ]
    },
    {
     "name": "stderr",
     "output_type": "stream",
     "text": [
      " 14%|█▍        | 1118/8098 [01:44<11:13, 10.37it/s]"
     ]
    },
    {
     "name": "stdout",
     "output_type": "stream",
     "text": [
      "Error processing c:\\Meet\\Projects\\Project_8_Phoenix_Cervical Cancer Image Classification\\Project-Phoenix\\Dataset\\Preprocessed Dataset\\im_Dyskeratotic\\137_cyt_cyt01.png: name 'greycomatrix' is not defined\n",
      "Error processing c:\\Meet\\Projects\\Project_8_Phoenix_Cervical Cancer Image Classification\\Project-Phoenix\\Dataset\\Preprocessed Dataset\\im_Dyskeratotic\\137_cyt_cyt02.png: name 'greycomatrix' is not defined\n",
      "Error processing c:\\Meet\\Projects\\Project_8_Phoenix_Cervical Cancer Image Classification\\Project-Phoenix\\Dataset\\Preprocessed Dataset\\im_Dyskeratotic\\137_nuc_nuc01.png: name 'greycomatrix' is not defined\n"
     ]
    },
    {
     "name": "stderr",
     "output_type": "stream",
     "text": [
      " 14%|█▍        | 1120/8098 [01:44<10:57, 10.61it/s]"
     ]
    },
    {
     "name": "stdout",
     "output_type": "stream",
     "text": [
      "Error processing c:\\Meet\\Projects\\Project_8_Phoenix_Cervical Cancer Image Classification\\Project-Phoenix\\Dataset\\Preprocessed Dataset\\im_Dyskeratotic\\137_nuc_nuc02.png: name 'greycomatrix' is not defined\n",
      "Error processing c:\\Meet\\Projects\\Project_8_Phoenix_Cervical Cancer Image Classification\\Project-Phoenix\\Dataset\\Preprocessed Dataset\\im_Dyskeratotic\\138_cyt_cyt01.png: name 'greycomatrix' is not defined\n",
      "Error processing c:\\Meet\\Projects\\Project_8_Phoenix_Cervical Cancer Image Classification\\Project-Phoenix\\Dataset\\Preprocessed Dataset\\im_Dyskeratotic\\138_cyt_cyt02.png: name 'greycomatrix' is not defined\n"
     ]
    },
    {
     "name": "stderr",
     "output_type": "stream",
     "text": [
      " 14%|█▍        | 1122/8098 [01:44<10:53, 10.68it/s]C:\\Users\\meetb\\AppData\\Local\\Temp\\ipykernel_53104\\2748481638.py:97: RuntimeWarning: Mean of empty slice.\n",
      "  ch_means = img_rgb[idx].reshape(-1, 3).mean(axis=0)\n",
      "C:\\Users\\meetb\\AppData\\Local\\Packages\\PythonSoftwareFoundation.Python.3.12_qbz5n2kfra8p0\\LocalCache\\local-packages\\Python312\\site-packages\\numpy\\core\\_methods.py:121: RuntimeWarning: invalid value encountered in divide\n",
      "  ret = um.true_divide(\n",
      "C:\\Users\\meetb\\AppData\\Local\\Packages\\PythonSoftwareFoundation.Python.3.12_qbz5n2kfra8p0\\LocalCache\\local-packages\\Python312\\site-packages\\numpy\\core\\_methods.py:206: RuntimeWarning: Degrees of freedom <= 0 for slice\n",
      "  ret = _var(a, axis=axis, dtype=dtype, out=out, ddof=ddof,\n",
      "C:\\Users\\meetb\\AppData\\Local\\Packages\\PythonSoftwareFoundation.Python.3.12_qbz5n2kfra8p0\\LocalCache\\local-packages\\Python312\\site-packages\\numpy\\core\\_methods.py:163: RuntimeWarning: invalid value encountered in divide\n",
      "  arrmean = um.true_divide(arrmean, div, out=arrmean,\n",
      "C:\\Users\\meetb\\AppData\\Local\\Packages\\PythonSoftwareFoundation.Python.3.12_qbz5n2kfra8p0\\LocalCache\\local-packages\\Python312\\site-packages\\numpy\\core\\_methods.py:195: RuntimeWarning: invalid value encountered in divide\n",
      "  ret = um.true_divide(\n",
      "C:\\Users\\meetb\\AppData\\Local\\Packages\\PythonSoftwareFoundation.Python.3.12_qbz5n2kfra8p0\\LocalCache\\local-packages\\Python312\\site-packages\\numpy\\core\\fromnumeric.py:3504: RuntimeWarning: Mean of empty slice.\n",
      "  return _methods._mean(a, axis=axis, dtype=dtype,\n",
      "C:\\Users\\meetb\\AppData\\Local\\Packages\\PythonSoftwareFoundation.Python.3.12_qbz5n2kfra8p0\\LocalCache\\local-packages\\Python312\\site-packages\\numpy\\core\\_methods.py:129: RuntimeWarning: invalid value encountered in divide\n",
      "  ret = ret.dtype.type(ret / rcount)\n",
      "C:\\Users\\meetb\\AppData\\Local\\Packages\\PythonSoftwareFoundation.Python.3.12_qbz5n2kfra8p0\\LocalCache\\local-packages\\Python312\\site-packages\\numpy\\core\\_methods.py:198: RuntimeWarning: invalid value encountered in divide\n",
      "  ret = ret.dtype.type(ret / rcount)\n",
      " 14%|█▍        | 1124/8098 [01:44<10:55, 10.64it/s]"
     ]
    },
    {
     "name": "stdout",
     "output_type": "stream",
     "text": [
      "Error processing c:\\Meet\\Projects\\Project_8_Phoenix_Cervical Cancer Image Classification\\Project-Phoenix\\Dataset\\Preprocessed Dataset\\im_Dyskeratotic\\138_cyt_cyt03.png: name 'greycomatrix' is not defined\n",
      "Error processing c:\\Meet\\Projects\\Project_8_Phoenix_Cervical Cancer Image Classification\\Project-Phoenix\\Dataset\\Preprocessed Dataset\\im_Dyskeratotic\\138_cyt_cyt04.png: name 'greycomatrix' is not defined\n",
      "Error processing c:\\Meet\\Projects\\Project_8_Phoenix_Cervical Cancer Image Classification\\Project-Phoenix\\Dataset\\Preprocessed Dataset\\im_Dyskeratotic\\138_cyt_cyt05.png: name 'greycomatrix' is not defined\n"
     ]
    },
    {
     "name": "stderr",
     "output_type": "stream",
     "text": [
      " 14%|█▍        | 1128/8098 [01:45<10:31, 11.04it/s]"
     ]
    },
    {
     "name": "stdout",
     "output_type": "stream",
     "text": [
      "Error processing c:\\Meet\\Projects\\Project_8_Phoenix_Cervical Cancer Image Classification\\Project-Phoenix\\Dataset\\Preprocessed Dataset\\im_Dyskeratotic\\138_cyt_cyt06.png: name 'greycomatrix' is not defined\n",
      "Error processing c:\\Meet\\Projects\\Project_8_Phoenix_Cervical Cancer Image Classification\\Project-Phoenix\\Dataset\\Preprocessed Dataset\\im_Dyskeratotic\\138_nuc_nuc01.png: name 'greycomatrix' is not defined\n",
      "Error processing c:\\Meet\\Projects\\Project_8_Phoenix_Cervical Cancer Image Classification\\Project-Phoenix\\Dataset\\Preprocessed Dataset\\im_Dyskeratotic\\138_nuc_nuc02.png: name 'greycomatrix' is not defined\n"
     ]
    },
    {
     "name": "stderr",
     "output_type": "stream",
     "text": [
      " 14%|█▍        | 1130/8098 [01:45<10:27, 11.10it/s]"
     ]
    },
    {
     "name": "stdout",
     "output_type": "stream",
     "text": [
      "Error processing c:\\Meet\\Projects\\Project_8_Phoenix_Cervical Cancer Image Classification\\Project-Phoenix\\Dataset\\Preprocessed Dataset\\im_Dyskeratotic\\138_nuc_nuc03.png: name 'greycomatrix' is not defined\n",
      "Error processing c:\\Meet\\Projects\\Project_8_Phoenix_Cervical Cancer Image Classification\\Project-Phoenix\\Dataset\\Preprocessed Dataset\\im_Dyskeratotic\\138_nuc_nuc04.png: name 'greycomatrix' is not defined\n",
      "Error processing c:\\Meet\\Projects\\Project_8_Phoenix_Cervical Cancer Image Classification\\Project-Phoenix\\Dataset\\Preprocessed Dataset\\im_Dyskeratotic\\138_nuc_nuc05.png: name 'greycomatrix' is not defined\n"
     ]
    },
    {
     "name": "stderr",
     "output_type": "stream",
     "text": [
      " 14%|█▍        | 1132/8098 [01:45<10:18, 11.26it/s]"
     ]
    },
    {
     "name": "stdout",
     "output_type": "stream",
     "text": [
      "Error processing c:\\Meet\\Projects\\Project_8_Phoenix_Cervical Cancer Image Classification\\Project-Phoenix\\Dataset\\Preprocessed Dataset\\im_Dyskeratotic\\138_nuc_nuc06.png: name 'greycomatrix' is not defined\n",
      "Error processing c:\\Meet\\Projects\\Project_8_Phoenix_Cervical Cancer Image Classification\\Project-Phoenix\\Dataset\\Preprocessed Dataset\\im_Dyskeratotic\\139_cyt_cyt01.png: name 'greycomatrix' is not defined\n",
      "Error processing c:\\Meet\\Projects\\Project_8_Phoenix_Cervical Cancer Image Classification\\Project-Phoenix\\Dataset\\Preprocessed Dataset\\im_Dyskeratotic\\139_cyt_cyt02.png: name 'greycomatrix' is not defined\n"
     ]
    },
    {
     "name": "stderr",
     "output_type": "stream",
     "text": [
      " 14%|█▍        | 1136/8098 [01:45<10:39, 10.88it/s]"
     ]
    },
    {
     "name": "stdout",
     "output_type": "stream",
     "text": [
      "Error processing c:\\Meet\\Projects\\Project_8_Phoenix_Cervical Cancer Image Classification\\Project-Phoenix\\Dataset\\Preprocessed Dataset\\im_Dyskeratotic\\139_cyt_cyt03.png: name 'greycomatrix' is not defined\n",
      "Error processing c:\\Meet\\Projects\\Project_8_Phoenix_Cervical Cancer Image Classification\\Project-Phoenix\\Dataset\\Preprocessed Dataset\\im_Dyskeratotic\\139_cyt_cyt04.png: name 'greycomatrix' is not defined\n",
      "Error processing c:\\Meet\\Projects\\Project_8_Phoenix_Cervical Cancer Image Classification\\Project-Phoenix\\Dataset\\Preprocessed Dataset\\im_Dyskeratotic\\139_nuc_nuc01.png: name 'greycomatrix' is not defined\n"
     ]
    },
    {
     "name": "stderr",
     "output_type": "stream",
     "text": [
      " 14%|█▍        | 1140/8098 [01:46<10:37, 10.91it/s]"
     ]
    },
    {
     "name": "stdout",
     "output_type": "stream",
     "text": [
      "Error processing c:\\Meet\\Projects\\Project_8_Phoenix_Cervical Cancer Image Classification\\Project-Phoenix\\Dataset\\Preprocessed Dataset\\im_Dyskeratotic\\139_nuc_nuc02.png: name 'greycomatrix' is not defined\n",
      "Error processing c:\\Meet\\Projects\\Project_8_Phoenix_Cervical Cancer Image Classification\\Project-Phoenix\\Dataset\\Preprocessed Dataset\\im_Dyskeratotic\\139_nuc_nuc03.png: name 'greycomatrix' is not defined\n",
      "Error processing c:\\Meet\\Projects\\Project_8_Phoenix_Cervical Cancer Image Classification\\Project-Phoenix\\Dataset\\Preprocessed Dataset\\im_Dyskeratotic\\139_nuc_nuc04.png: name 'greycomatrix' is not defined\n"
     ]
    },
    {
     "name": "stderr",
     "output_type": "stream",
     "text": [
      " 14%|█▍        | 1142/8098 [01:46<11:03, 10.49it/s]"
     ]
    },
    {
     "name": "stdout",
     "output_type": "stream",
     "text": [
      "Error processing c:\\Meet\\Projects\\Project_8_Phoenix_Cervical Cancer Image Classification\\Project-Phoenix\\Dataset\\Preprocessed Dataset\\im_Dyskeratotic\\140_cyt_cyt01.png: name 'greycomatrix' is not defined\n",
      "Error processing c:\\Meet\\Projects\\Project_8_Phoenix_Cervical Cancer Image Classification\\Project-Phoenix\\Dataset\\Preprocessed Dataset\\im_Dyskeratotic\\140_nuc_nuc01.png: name 'greycomatrix' is not defined\n",
      "Error processing c:\\Meet\\Projects\\Project_8_Phoenix_Cervical Cancer Image Classification\\Project-Phoenix\\Dataset\\Preprocessed Dataset\\im_Dyskeratotic\\141_cyt_cyt01.png: name 'greycomatrix' is not defined\n"
     ]
    },
    {
     "name": "stderr",
     "output_type": "stream",
     "text": [
      " 14%|█▍        | 1144/8098 [01:46<11:03, 10.48it/s]"
     ]
    },
    {
     "name": "stdout",
     "output_type": "stream",
     "text": [
      "Error processing c:\\Meet\\Projects\\Project_8_Phoenix_Cervical Cancer Image Classification\\Project-Phoenix\\Dataset\\Preprocessed Dataset\\im_Dyskeratotic\\141_cyt_cyt02.png: name 'greycomatrix' is not defined\n",
      "Error processing c:\\Meet\\Projects\\Project_8_Phoenix_Cervical Cancer Image Classification\\Project-Phoenix\\Dataset\\Preprocessed Dataset\\im_Dyskeratotic\\141_cyt_cyt03.png: name 'greycomatrix' is not defined\n",
      "Error processing c:\\Meet\\Projects\\Project_8_Phoenix_Cervical Cancer Image Classification\\Project-Phoenix\\Dataset\\Preprocessed Dataset\\im_Dyskeratotic\\141_cyt_cyt04.png: name 'greycomatrix' is not defined\n"
     ]
    },
    {
     "name": "stderr",
     "output_type": "stream",
     "text": [
      " 14%|█▍        | 1148/8098 [01:47<10:50, 10.68it/s]"
     ]
    },
    {
     "name": "stdout",
     "output_type": "stream",
     "text": [
      "Error processing c:\\Meet\\Projects\\Project_8_Phoenix_Cervical Cancer Image Classification\\Project-Phoenix\\Dataset\\Preprocessed Dataset\\im_Dyskeratotic\\141_cyt_cyt05.png: name 'greycomatrix' is not defined\n",
      "Error processing c:\\Meet\\Projects\\Project_8_Phoenix_Cervical Cancer Image Classification\\Project-Phoenix\\Dataset\\Preprocessed Dataset\\im_Dyskeratotic\\141_cyt_cyt06.png: name 'greycomatrix' is not defined\n",
      "Error processing c:\\Meet\\Projects\\Project_8_Phoenix_Cervical Cancer Image Classification\\Project-Phoenix\\Dataset\\Preprocessed Dataset\\im_Dyskeratotic\\141_cyt_cyt07.png: name 'greycomatrix' is not defined\n"
     ]
    },
    {
     "name": "stderr",
     "output_type": "stream",
     "text": [
      " 14%|█▍        | 1150/8098 [01:47<10:39, 10.87it/s]C:\\Users\\meetb\\AppData\\Local\\Temp\\ipykernel_53104\\2748481638.py:97: RuntimeWarning: Mean of empty slice.\n",
      "  ch_means = img_rgb[idx].reshape(-1, 3).mean(axis=0)\n",
      "C:\\Users\\meetb\\AppData\\Local\\Packages\\PythonSoftwareFoundation.Python.3.12_qbz5n2kfra8p0\\LocalCache\\local-packages\\Python312\\site-packages\\numpy\\core\\_methods.py:121: RuntimeWarning: invalid value encountered in divide\n",
      "  ret = um.true_divide(\n",
      "C:\\Users\\meetb\\AppData\\Local\\Packages\\PythonSoftwareFoundation.Python.3.12_qbz5n2kfra8p0\\LocalCache\\local-packages\\Python312\\site-packages\\numpy\\core\\_methods.py:206: RuntimeWarning: Degrees of freedom <= 0 for slice\n",
      "  ret = _var(a, axis=axis, dtype=dtype, out=out, ddof=ddof,\n",
      "C:\\Users\\meetb\\AppData\\Local\\Packages\\PythonSoftwareFoundation.Python.3.12_qbz5n2kfra8p0\\LocalCache\\local-packages\\Python312\\site-packages\\numpy\\core\\_methods.py:163: RuntimeWarning: invalid value encountered in divide\n",
      "  arrmean = um.true_divide(arrmean, div, out=arrmean,\n",
      "C:\\Users\\meetb\\AppData\\Local\\Packages\\PythonSoftwareFoundation.Python.3.12_qbz5n2kfra8p0\\LocalCache\\local-packages\\Python312\\site-packages\\numpy\\core\\_methods.py:195: RuntimeWarning: invalid value encountered in divide\n",
      "  ret = um.true_divide(\n",
      "C:\\Users\\meetb\\AppData\\Local\\Packages\\PythonSoftwareFoundation.Python.3.12_qbz5n2kfra8p0\\LocalCache\\local-packages\\Python312\\site-packages\\numpy\\core\\fromnumeric.py:3504: RuntimeWarning: Mean of empty slice.\n",
      "  return _methods._mean(a, axis=axis, dtype=dtype,\n",
      "C:\\Users\\meetb\\AppData\\Local\\Packages\\PythonSoftwareFoundation.Python.3.12_qbz5n2kfra8p0\\LocalCache\\local-packages\\Python312\\site-packages\\numpy\\core\\_methods.py:129: RuntimeWarning: invalid value encountered in divide\n",
      "  ret = ret.dtype.type(ret / rcount)\n",
      "C:\\Users\\meetb\\AppData\\Local\\Packages\\PythonSoftwareFoundation.Python.3.12_qbz5n2kfra8p0\\LocalCache\\local-packages\\Python312\\site-packages\\numpy\\core\\_methods.py:198: RuntimeWarning: invalid value encountered in divide\n",
      "  ret = ret.dtype.type(ret / rcount)\n",
      " 14%|█▍        | 1152/8098 [01:47<10:38, 10.88it/s]"
     ]
    },
    {
     "name": "stdout",
     "output_type": "stream",
     "text": [
      "Error processing c:\\Meet\\Projects\\Project_8_Phoenix_Cervical Cancer Image Classification\\Project-Phoenix\\Dataset\\Preprocessed Dataset\\im_Dyskeratotic\\141_cyt_cyt08.png: name 'greycomatrix' is not defined\n",
      "Error processing c:\\Meet\\Projects\\Project_8_Phoenix_Cervical Cancer Image Classification\\Project-Phoenix\\Dataset\\Preprocessed Dataset\\im_Dyskeratotic\\141_cyt_cyt09.png: name 'greycomatrix' is not defined\n",
      "Error processing c:\\Meet\\Projects\\Project_8_Phoenix_Cervical Cancer Image Classification\\Project-Phoenix\\Dataset\\Preprocessed Dataset\\im_Dyskeratotic\\141_cyt_cyt10.png: name 'greycomatrix' is not defined\n"
     ]
    },
    {
     "name": "stderr",
     "output_type": "stream",
     "text": [
      " 14%|█▍        | 1154/8098 [01:47<10:48, 10.71it/s]"
     ]
    },
    {
     "name": "stdout",
     "output_type": "stream",
     "text": [
      "Error processing c:\\Meet\\Projects\\Project_8_Phoenix_Cervical Cancer Image Classification\\Project-Phoenix\\Dataset\\Preprocessed Dataset\\im_Dyskeratotic\\141_cyt_cyt11.png: name 'greycomatrix' is not defined\n",
      "Error processing c:\\Meet\\Projects\\Project_8_Phoenix_Cervical Cancer Image Classification\\Project-Phoenix\\Dataset\\Preprocessed Dataset\\im_Dyskeratotic\\141_nuc_nuc01.png: name 'greycomatrix' is not defined\n",
      "Error processing c:\\Meet\\Projects\\Project_8_Phoenix_Cervical Cancer Image Classification\\Project-Phoenix\\Dataset\\Preprocessed Dataset\\im_Dyskeratotic\\141_nuc_nuc02.png: name 'greycomatrix' is not defined\n"
     ]
    },
    {
     "name": "stderr",
     "output_type": "stream",
     "text": [
      " 14%|█▍        | 1158/8098 [01:47<10:17, 11.24it/s]"
     ]
    },
    {
     "name": "stdout",
     "output_type": "stream",
     "text": [
      "Error processing c:\\Meet\\Projects\\Project_8_Phoenix_Cervical Cancer Image Classification\\Project-Phoenix\\Dataset\\Preprocessed Dataset\\im_Dyskeratotic\\141_nuc_nuc03.png: name 'greycomatrix' is not defined\n",
      "Error processing c:\\Meet\\Projects\\Project_8_Phoenix_Cervical Cancer Image Classification\\Project-Phoenix\\Dataset\\Preprocessed Dataset\\im_Dyskeratotic\\141_nuc_nuc04.png: name 'greycomatrix' is not defined\n",
      "Error processing c:\\Meet\\Projects\\Project_8_Phoenix_Cervical Cancer Image Classification\\Project-Phoenix\\Dataset\\Preprocessed Dataset\\im_Dyskeratotic\\141_nuc_nuc05.png: name 'greycomatrix' is not defined\n"
     ]
    },
    {
     "name": "stderr",
     "output_type": "stream",
     "text": [
      " 14%|█▍        | 1160/8098 [01:48<10:08, 11.40it/s]"
     ]
    },
    {
     "name": "stdout",
     "output_type": "stream",
     "text": [
      "Error processing c:\\Meet\\Projects\\Project_8_Phoenix_Cervical Cancer Image Classification\\Project-Phoenix\\Dataset\\Preprocessed Dataset\\im_Dyskeratotic\\141_nuc_nuc06.png: name 'greycomatrix' is not defined\n",
      "Error processing c:\\Meet\\Projects\\Project_8_Phoenix_Cervical Cancer Image Classification\\Project-Phoenix\\Dataset\\Preprocessed Dataset\\im_Dyskeratotic\\141_nuc_nuc07.png: name 'greycomatrix' is not defined\n",
      "Error processing c:\\Meet\\Projects\\Project_8_Phoenix_Cervical Cancer Image Classification\\Project-Phoenix\\Dataset\\Preprocessed Dataset\\im_Dyskeratotic\\141_nuc_nuc08.png: name 'greycomatrix' is not defined\n"
     ]
    },
    {
     "name": "stderr",
     "output_type": "stream",
     "text": [
      " 14%|█▍        | 1164/8098 [01:48<09:49, 11.77it/s]"
     ]
    },
    {
     "name": "stdout",
     "output_type": "stream",
     "text": [
      "Error processing c:\\Meet\\Projects\\Project_8_Phoenix_Cervical Cancer Image Classification\\Project-Phoenix\\Dataset\\Preprocessed Dataset\\im_Dyskeratotic\\141_nuc_nuc09.png: name 'greycomatrix' is not defined\n",
      "Error processing c:\\Meet\\Projects\\Project_8_Phoenix_Cervical Cancer Image Classification\\Project-Phoenix\\Dataset\\Preprocessed Dataset\\im_Dyskeratotic\\141_nuc_nuc10.png: name 'greycomatrix' is not defined\n",
      "Error processing c:\\Meet\\Projects\\Project_8_Phoenix_Cervical Cancer Image Classification\\Project-Phoenix\\Dataset\\Preprocessed Dataset\\im_Dyskeratotic\\141_nuc_nuc11.png: name 'greycomatrix' is not defined\n"
     ]
    },
    {
     "name": "stderr",
     "output_type": "stream",
     "text": [
      " 14%|█▍        | 1166/8098 [01:48<09:51, 11.73it/s]"
     ]
    },
    {
     "name": "stdout",
     "output_type": "stream",
     "text": [
      "Error processing c:\\Meet\\Projects\\Project_8_Phoenix_Cervical Cancer Image Classification\\Project-Phoenix\\Dataset\\Preprocessed Dataset\\im_Dyskeratotic\\142_cyt_cyt01.png: name 'greycomatrix' is not defined\n",
      "Error processing c:\\Meet\\Projects\\Project_8_Phoenix_Cervical Cancer Image Classification\\Project-Phoenix\\Dataset\\Preprocessed Dataset\\im_Dyskeratotic\\142_cyt_cyt02.png: name 'greycomatrix' is not defined\n"
     ]
    },
    {
     "name": "stderr",
     "output_type": "stream",
     "text": [
      " 14%|█▍        | 1168/8098 [01:48<10:33, 10.95it/s]"
     ]
    },
    {
     "name": "stdout",
     "output_type": "stream",
     "text": [
      "Error processing c:\\Meet\\Projects\\Project_8_Phoenix_Cervical Cancer Image Classification\\Project-Phoenix\\Dataset\\Preprocessed Dataset\\im_Dyskeratotic\\142_cyt_cyt03.png: name 'greycomatrix' is not defined\n",
      "Error processing c:\\Meet\\Projects\\Project_8_Phoenix_Cervical Cancer Image Classification\\Project-Phoenix\\Dataset\\Preprocessed Dataset\\im_Dyskeratotic\\142_cyt_cyt04.png: name 'greycomatrix' is not defined\n",
      "Error processing c:\\Meet\\Projects\\Project_8_Phoenix_Cervical Cancer Image Classification\\Project-Phoenix\\Dataset\\Preprocessed Dataset\\im_Dyskeratotic\\142_nuc_nuc01.png: name 'greycomatrix' is not defined\n"
     ]
    },
    {
     "name": "stderr",
     "output_type": "stream",
     "text": [
      " 14%|█▍        | 1172/8098 [01:49<10:02, 11.49it/s]"
     ]
    },
    {
     "name": "stdout",
     "output_type": "stream",
     "text": [
      "Error processing c:\\Meet\\Projects\\Project_8_Phoenix_Cervical Cancer Image Classification\\Project-Phoenix\\Dataset\\Preprocessed Dataset\\im_Dyskeratotic\\142_nuc_nuc02.png: name 'greycomatrix' is not defined\n",
      "Error processing c:\\Meet\\Projects\\Project_8_Phoenix_Cervical Cancer Image Classification\\Project-Phoenix\\Dataset\\Preprocessed Dataset\\im_Dyskeratotic\\142_nuc_nuc03.png: name 'greycomatrix' is not defined\n",
      "Error processing c:\\Meet\\Projects\\Project_8_Phoenix_Cervical Cancer Image Classification\\Project-Phoenix\\Dataset\\Preprocessed Dataset\\im_Dyskeratotic\\142_nuc_nuc04.png: name 'greycomatrix' is not defined\n"
     ]
    },
    {
     "name": "stderr",
     "output_type": "stream",
     "text": [
      " 14%|█▍        | 1174/8098 [01:49<10:06, 11.41it/s]"
     ]
    },
    {
     "name": "stdout",
     "output_type": "stream",
     "text": [
      "Error processing c:\\Meet\\Projects\\Project_8_Phoenix_Cervical Cancer Image Classification\\Project-Phoenix\\Dataset\\Preprocessed Dataset\\im_Dyskeratotic\\143_cyt_cyt01.png: name 'greycomatrix' is not defined\n",
      "Error processing c:\\Meet\\Projects\\Project_8_Phoenix_Cervical Cancer Image Classification\\Project-Phoenix\\Dataset\\Preprocessed Dataset\\im_Dyskeratotic\\143_nuc_nuc01.png: name 'greycomatrix' is not defined\n",
      "Error processing c:\\Meet\\Projects\\Project_8_Phoenix_Cervical Cancer Image Classification\\Project-Phoenix\\Dataset\\Preprocessed Dataset\\im_Dyskeratotic\\144_cyt_cyt01.png: name 'greycomatrix' is not defined\n"
     ]
    },
    {
     "name": "stderr",
     "output_type": "stream",
     "text": [
      " 15%|█▍        | 1176/8098 [01:49<11:01, 10.46it/s]C:\\Users\\meetb\\AppData\\Local\\Temp\\ipykernel_53104\\2748481638.py:97: RuntimeWarning: Mean of empty slice.\n",
      "  ch_means = img_rgb[idx].reshape(-1, 3).mean(axis=0)\n",
      "C:\\Users\\meetb\\AppData\\Local\\Packages\\PythonSoftwareFoundation.Python.3.12_qbz5n2kfra8p0\\LocalCache\\local-packages\\Python312\\site-packages\\numpy\\core\\_methods.py:121: RuntimeWarning: invalid value encountered in divide\n",
      "  ret = um.true_divide(\n",
      "C:\\Users\\meetb\\AppData\\Local\\Packages\\PythonSoftwareFoundation.Python.3.12_qbz5n2kfra8p0\\LocalCache\\local-packages\\Python312\\site-packages\\numpy\\core\\_methods.py:206: RuntimeWarning: Degrees of freedom <= 0 for slice\n",
      "  ret = _var(a, axis=axis, dtype=dtype, out=out, ddof=ddof,\n",
      "C:\\Users\\meetb\\AppData\\Local\\Packages\\PythonSoftwareFoundation.Python.3.12_qbz5n2kfra8p0\\LocalCache\\local-packages\\Python312\\site-packages\\numpy\\core\\_methods.py:163: RuntimeWarning: invalid value encountered in divide\n",
      "  arrmean = um.true_divide(arrmean, div, out=arrmean,\n",
      "C:\\Users\\meetb\\AppData\\Local\\Packages\\PythonSoftwareFoundation.Python.3.12_qbz5n2kfra8p0\\LocalCache\\local-packages\\Python312\\site-packages\\numpy\\core\\_methods.py:195: RuntimeWarning: invalid value encountered in divide\n",
      "  ret = um.true_divide(\n",
      "C:\\Users\\meetb\\AppData\\Local\\Packages\\PythonSoftwareFoundation.Python.3.12_qbz5n2kfra8p0\\LocalCache\\local-packages\\Python312\\site-packages\\numpy\\core\\fromnumeric.py:3504: RuntimeWarning: Mean of empty slice.\n",
      "  return _methods._mean(a, axis=axis, dtype=dtype,\n",
      "C:\\Users\\meetb\\AppData\\Local\\Packages\\PythonSoftwareFoundation.Python.3.12_qbz5n2kfra8p0\\LocalCache\\local-packages\\Python312\\site-packages\\numpy\\core\\_methods.py:129: RuntimeWarning: invalid value encountered in divide\n",
      "  ret = ret.dtype.type(ret / rcount)\n",
      "C:\\Users\\meetb\\AppData\\Local\\Packages\\PythonSoftwareFoundation.Python.3.12_qbz5n2kfra8p0\\LocalCache\\local-packages\\Python312\\site-packages\\numpy\\core\\_methods.py:198: RuntimeWarning: invalid value encountered in divide\n",
      "  ret = ret.dtype.type(ret / rcount)\n",
      " 15%|█▍        | 1178/8098 [01:49<10:57, 10.53it/s]"
     ]
    },
    {
     "name": "stdout",
     "output_type": "stream",
     "text": [
      "Error processing c:\\Meet\\Projects\\Project_8_Phoenix_Cervical Cancer Image Classification\\Project-Phoenix\\Dataset\\Preprocessed Dataset\\im_Dyskeratotic\\144_nuc_nuc01.png: name 'greycomatrix' is not defined\n",
      "Error processing c:\\Meet\\Projects\\Project_8_Phoenix_Cervical Cancer Image Classification\\Project-Phoenix\\Dataset\\Preprocessed Dataset\\im_Dyskeratotic\\145_cyt_cyt01.png: name 'greycomatrix' is not defined\n",
      "Error processing c:\\Meet\\Projects\\Project_8_Phoenix_Cervical Cancer Image Classification\\Project-Phoenix\\Dataset\\Preprocessed Dataset\\im_Dyskeratotic\\145_cyt_cyt02.png: name 'greycomatrix' is not defined\n"
     ]
    },
    {
     "name": "stderr",
     "output_type": "stream",
     "text": [
      " 15%|█▍        | 1180/8098 [01:49<10:38, 10.84it/s]"
     ]
    },
    {
     "name": "stdout",
     "output_type": "stream",
     "text": [
      "Error processing c:\\Meet\\Projects\\Project_8_Phoenix_Cervical Cancer Image Classification\\Project-Phoenix\\Dataset\\Preprocessed Dataset\\im_Dyskeratotic\\145_nuc_nuc01.png: name 'greycomatrix' is not defined\n",
      "Error processing c:\\Meet\\Projects\\Project_8_Phoenix_Cervical Cancer Image Classification\\Project-Phoenix\\Dataset\\Preprocessed Dataset\\im_Dyskeratotic\\145_nuc_nuc02.png: name 'greycomatrix' is not defined\n",
      "Error processing c:\\Meet\\Projects\\Project_8_Phoenix_Cervical Cancer Image Classification\\Project-Phoenix\\Dataset\\Preprocessed Dataset\\im_Dyskeratotic\\146_cyt_cyt01.png: name 'greycomatrix' is not defined\n"
     ]
    },
    {
     "name": "stderr",
     "output_type": "stream",
     "text": [
      " 15%|█▍        | 1184/8098 [01:50<10:14, 11.25it/s]"
     ]
    },
    {
     "name": "stdout",
     "output_type": "stream",
     "text": [
      "Error processing c:\\Meet\\Projects\\Project_8_Phoenix_Cervical Cancer Image Classification\\Project-Phoenix\\Dataset\\Preprocessed Dataset\\im_Dyskeratotic\\146_cyt_cyt02.png: name 'greycomatrix' is not defined\n",
      "Error processing c:\\Meet\\Projects\\Project_8_Phoenix_Cervical Cancer Image Classification\\Project-Phoenix\\Dataset\\Preprocessed Dataset\\im_Dyskeratotic\\146_cyt_cyt03.png: name 'greycomatrix' is not defined\n",
      "Error processing c:\\Meet\\Projects\\Project_8_Phoenix_Cervical Cancer Image Classification\\Project-Phoenix\\Dataset\\Preprocessed Dataset\\im_Dyskeratotic\\146_cyt_cyt04.png: name 'greycomatrix' is not defined\n"
     ]
    },
    {
     "name": "stderr",
     "output_type": "stream",
     "text": [
      " 15%|█▍        | 1186/8098 [01:50<09:56, 11.59it/s]"
     ]
    },
    {
     "name": "stdout",
     "output_type": "stream",
     "text": [
      "Error processing c:\\Meet\\Projects\\Project_8_Phoenix_Cervical Cancer Image Classification\\Project-Phoenix\\Dataset\\Preprocessed Dataset\\im_Dyskeratotic\\146_nuc_nuc01.png: name 'greycomatrix' is not defined\n",
      "Error processing c:\\Meet\\Projects\\Project_8_Phoenix_Cervical Cancer Image Classification\\Project-Phoenix\\Dataset\\Preprocessed Dataset\\im_Dyskeratotic\\146_nuc_nuc02.png: name 'greycomatrix' is not defined\n",
      "Error processing c:\\Meet\\Projects\\Project_8_Phoenix_Cervical Cancer Image Classification\\Project-Phoenix\\Dataset\\Preprocessed Dataset\\im_Dyskeratotic\\146_nuc_nuc03.png: name 'greycomatrix' is not defined\n"
     ]
    },
    {
     "name": "stderr",
     "output_type": "stream",
     "text": [
      " 15%|█▍        | 1190/8098 [01:50<09:56, 11.59it/s]"
     ]
    },
    {
     "name": "stdout",
     "output_type": "stream",
     "text": [
      "Error processing c:\\Meet\\Projects\\Project_8_Phoenix_Cervical Cancer Image Classification\\Project-Phoenix\\Dataset\\Preprocessed Dataset\\im_Dyskeratotic\\146_nuc_nuc04.png: name 'greycomatrix' is not defined\n",
      "Error processing c:\\Meet\\Projects\\Project_8_Phoenix_Cervical Cancer Image Classification\\Project-Phoenix\\Dataset\\Preprocessed Dataset\\im_Dyskeratotic\\147_cyt_cyt01.png: name 'greycomatrix' is not defined\n",
      "Error processing c:\\Meet\\Projects\\Project_8_Phoenix_Cervical Cancer Image Classification\\Project-Phoenix\\Dataset\\Preprocessed Dataset\\im_Dyskeratotic\\147_cyt_cyt02.png: name 'greycomatrix' is not defined\n"
     ]
    },
    {
     "name": "stderr",
     "output_type": "stream",
     "text": [
      " 15%|█▍        | 1192/8098 [01:50<10:15, 11.22it/s]"
     ]
    },
    {
     "name": "stdout",
     "output_type": "stream",
     "text": [
      "Error processing c:\\Meet\\Projects\\Project_8_Phoenix_Cervical Cancer Image Classification\\Project-Phoenix\\Dataset\\Preprocessed Dataset\\im_Dyskeratotic\\147_cyt_cyt03.png: name 'greycomatrix' is not defined\n",
      "Error processing c:\\Meet\\Projects\\Project_8_Phoenix_Cervical Cancer Image Classification\\Project-Phoenix\\Dataset\\Preprocessed Dataset\\im_Dyskeratotic\\147_cyt_cyt04.png: name 'greycomatrix' is not defined\n"
     ]
    },
    {
     "name": "stderr",
     "output_type": "stream",
     "text": [
      " 15%|█▍        | 1194/8098 [01:51<10:31, 10.94it/s]"
     ]
    },
    {
     "name": "stdout",
     "output_type": "stream",
     "text": [
      "Error processing c:\\Meet\\Projects\\Project_8_Phoenix_Cervical Cancer Image Classification\\Project-Phoenix\\Dataset\\Preprocessed Dataset\\im_Dyskeratotic\\147_nuc_nuc01.png: name 'greycomatrix' is not defined\n",
      "Error processing c:\\Meet\\Projects\\Project_8_Phoenix_Cervical Cancer Image Classification\\Project-Phoenix\\Dataset\\Preprocessed Dataset\\im_Dyskeratotic\\147_nuc_nuc02.png: name 'greycomatrix' is not defined\n",
      "Error processing c:\\Meet\\Projects\\Project_8_Phoenix_Cervical Cancer Image Classification\\Project-Phoenix\\Dataset\\Preprocessed Dataset\\im_Dyskeratotic\\147_nuc_nuc03.png: name 'greycomatrix' is not defined\n"
     ]
    },
    {
     "name": "stderr",
     "output_type": "stream",
     "text": [
      " 15%|█▍        | 1198/8098 [01:51<10:51, 10.59it/s]"
     ]
    },
    {
     "name": "stdout",
     "output_type": "stream",
     "text": [
      "Error processing c:\\Meet\\Projects\\Project_8_Phoenix_Cervical Cancer Image Classification\\Project-Phoenix\\Dataset\\Preprocessed Dataset\\im_Dyskeratotic\\147_nuc_nuc04.png: name 'greycomatrix' is not defined\n",
      "Error processing c:\\Meet\\Projects\\Project_8_Phoenix_Cervical Cancer Image Classification\\Project-Phoenix\\Dataset\\Preprocessed Dataset\\im_Dyskeratotic\\148_cyt_cyt01.png: name 'greycomatrix' is not defined\n",
      "Error processing c:\\Meet\\Projects\\Project_8_Phoenix_Cervical Cancer Image Classification\\Project-Phoenix\\Dataset\\Preprocessed Dataset\\im_Dyskeratotic\\148_nuc_nuc01.png: name 'greycomatrix' is not defined\n"
     ]
    },
    {
     "name": "stderr",
     "output_type": "stream",
     "text": [
      "C:\\Users\\meetb\\AppData\\Local\\Temp\\ipykernel_53104\\2748481638.py:97: RuntimeWarning: Mean of empty slice.\n",
      "  ch_means = img_rgb[idx].reshape(-1, 3).mean(axis=0)\n",
      "C:\\Users\\meetb\\AppData\\Local\\Packages\\PythonSoftwareFoundation.Python.3.12_qbz5n2kfra8p0\\LocalCache\\local-packages\\Python312\\site-packages\\numpy\\core\\_methods.py:121: RuntimeWarning: invalid value encountered in divide\n",
      "  ret = um.true_divide(\n",
      "C:\\Users\\meetb\\AppData\\Local\\Packages\\PythonSoftwareFoundation.Python.3.12_qbz5n2kfra8p0\\LocalCache\\local-packages\\Python312\\site-packages\\numpy\\core\\_methods.py:206: RuntimeWarning: Degrees of freedom <= 0 for slice\n",
      "  ret = _var(a, axis=axis, dtype=dtype, out=out, ddof=ddof,\n",
      "C:\\Users\\meetb\\AppData\\Local\\Packages\\PythonSoftwareFoundation.Python.3.12_qbz5n2kfra8p0\\LocalCache\\local-packages\\Python312\\site-packages\\numpy\\core\\_methods.py:163: RuntimeWarning: invalid value encountered in divide\n",
      "  arrmean = um.true_divide(arrmean, div, out=arrmean,\n",
      "C:\\Users\\meetb\\AppData\\Local\\Packages\\PythonSoftwareFoundation.Python.3.12_qbz5n2kfra8p0\\LocalCache\\local-packages\\Python312\\site-packages\\numpy\\core\\_methods.py:195: RuntimeWarning: invalid value encountered in divide\n",
      "  ret = um.true_divide(\n",
      "C:\\Users\\meetb\\AppData\\Local\\Packages\\PythonSoftwareFoundation.Python.3.12_qbz5n2kfra8p0\\LocalCache\\local-packages\\Python312\\site-packages\\numpy\\core\\fromnumeric.py:3504: RuntimeWarning: Mean of empty slice.\n",
      "  return _methods._mean(a, axis=axis, dtype=dtype,\n",
      "C:\\Users\\meetb\\AppData\\Local\\Packages\\PythonSoftwareFoundation.Python.3.12_qbz5n2kfra8p0\\LocalCache\\local-packages\\Python312\\site-packages\\numpy\\core\\_methods.py:129: RuntimeWarning: invalid value encountered in divide\n",
      "  ret = ret.dtype.type(ret / rcount)\n",
      "C:\\Users\\meetb\\AppData\\Local\\Packages\\PythonSoftwareFoundation.Python.3.12_qbz5n2kfra8p0\\LocalCache\\local-packages\\Python312\\site-packages\\numpy\\core\\_methods.py:198: RuntimeWarning: invalid value encountered in divide\n",
      "  ret = ret.dtype.type(ret / rcount)\n",
      " 15%|█▍        | 1200/8098 [01:51<10:32, 10.90it/s]"
     ]
    },
    {
     "name": "stdout",
     "output_type": "stream",
     "text": [
      "Error processing c:\\Meet\\Projects\\Project_8_Phoenix_Cervical Cancer Image Classification\\Project-Phoenix\\Dataset\\Preprocessed Dataset\\im_Dyskeratotic\\149_cyt_cyt01.png: name 'greycomatrix' is not defined\n",
      "Error processing c:\\Meet\\Projects\\Project_8_Phoenix_Cervical Cancer Image Classification\\Project-Phoenix\\Dataset\\Preprocessed Dataset\\im_Dyskeratotic\\149_nuc_nuc01.png: name 'greycomatrix' is not defined\n",
      "Error processing c:\\Meet\\Projects\\Project_8_Phoenix_Cervical Cancer Image Classification\\Project-Phoenix\\Dataset\\Preprocessed Dataset\\im_Dyskeratotic\\150_cyt_cyt01.png: name 'greycomatrix' is not defined\n"
     ]
    },
    {
     "name": "stderr",
     "output_type": "stream",
     "text": [
      " 15%|█▍        | 1202/8098 [01:51<10:28, 10.98it/s]C:\\Users\\meetb\\AppData\\Local\\Temp\\ipykernel_53104\\2748481638.py:97: RuntimeWarning: Mean of empty slice.\n",
      "  ch_means = img_rgb[idx].reshape(-1, 3).mean(axis=0)\n",
      "C:\\Users\\meetb\\AppData\\Local\\Packages\\PythonSoftwareFoundation.Python.3.12_qbz5n2kfra8p0\\LocalCache\\local-packages\\Python312\\site-packages\\numpy\\core\\_methods.py:121: RuntimeWarning: invalid value encountered in divide\n",
      "  ret = um.true_divide(\n",
      "C:\\Users\\meetb\\AppData\\Local\\Packages\\PythonSoftwareFoundation.Python.3.12_qbz5n2kfra8p0\\LocalCache\\local-packages\\Python312\\site-packages\\numpy\\core\\_methods.py:206: RuntimeWarning: Degrees of freedom <= 0 for slice\n",
      "  ret = _var(a, axis=axis, dtype=dtype, out=out, ddof=ddof,\n",
      "C:\\Users\\meetb\\AppData\\Local\\Packages\\PythonSoftwareFoundation.Python.3.12_qbz5n2kfra8p0\\LocalCache\\local-packages\\Python312\\site-packages\\numpy\\core\\_methods.py:163: RuntimeWarning: invalid value encountered in divide\n",
      "  arrmean = um.true_divide(arrmean, div, out=arrmean,\n",
      "C:\\Users\\meetb\\AppData\\Local\\Packages\\PythonSoftwareFoundation.Python.3.12_qbz5n2kfra8p0\\LocalCache\\local-packages\\Python312\\site-packages\\numpy\\core\\_methods.py:195: RuntimeWarning: invalid value encountered in divide\n",
      "  ret = um.true_divide(\n",
      "C:\\Users\\meetb\\AppData\\Local\\Packages\\PythonSoftwareFoundation.Python.3.12_qbz5n2kfra8p0\\LocalCache\\local-packages\\Python312\\site-packages\\numpy\\core\\fromnumeric.py:3504: RuntimeWarning: Mean of empty slice.\n",
      "  return _methods._mean(a, axis=axis, dtype=dtype,\n",
      "C:\\Users\\meetb\\AppData\\Local\\Packages\\PythonSoftwareFoundation.Python.3.12_qbz5n2kfra8p0\\LocalCache\\local-packages\\Python312\\site-packages\\numpy\\core\\_methods.py:129: RuntimeWarning: invalid value encountered in divide\n",
      "  ret = ret.dtype.type(ret / rcount)\n",
      "C:\\Users\\meetb\\AppData\\Local\\Packages\\PythonSoftwareFoundation.Python.3.12_qbz5n2kfra8p0\\LocalCache\\local-packages\\Python312\\site-packages\\numpy\\core\\_methods.py:198: RuntimeWarning: invalid value encountered in divide\n",
      "  ret = ret.dtype.type(ret / rcount)\n",
      " 15%|█▍        | 1204/8098 [01:52<10:18, 11.15it/s]"
     ]
    },
    {
     "name": "stdout",
     "output_type": "stream",
     "text": [
      "Error processing c:\\Meet\\Projects\\Project_8_Phoenix_Cervical Cancer Image Classification\\Project-Phoenix\\Dataset\\Preprocessed Dataset\\im_Dyskeratotic\\150_cyt_cyt02.png: name 'greycomatrix' is not defined\n",
      "Error processing c:\\Meet\\Projects\\Project_8_Phoenix_Cervical Cancer Image Classification\\Project-Phoenix\\Dataset\\Preprocessed Dataset\\im_Dyskeratotic\\150_cyt_cyt03.png: name 'greycomatrix' is not defined\n",
      "Error processing c:\\Meet\\Projects\\Project_8_Phoenix_Cervical Cancer Image Classification\\Project-Phoenix\\Dataset\\Preprocessed Dataset\\im_Dyskeratotic\\150_nuc_nuc01.png: name 'greycomatrix' is not defined\n"
     ]
    },
    {
     "name": "stderr",
     "output_type": "stream",
     "text": [
      " 15%|█▍        | 1206/8098 [01:52<10:02, 11.44it/s]"
     ]
    },
    {
     "name": "stdout",
     "output_type": "stream",
     "text": [
      "Error processing c:\\Meet\\Projects\\Project_8_Phoenix_Cervical Cancer Image Classification\\Project-Phoenix\\Dataset\\Preprocessed Dataset\\im_Dyskeratotic\\150_nuc_nuc02.png: name 'greycomatrix' is not defined\n",
      "Error processing c:\\Meet\\Projects\\Project_8_Phoenix_Cervical Cancer Image Classification\\Project-Phoenix\\Dataset\\Preprocessed Dataset\\im_Dyskeratotic\\150_nuc_nuc03.png: name 'greycomatrix' is not defined\n",
      "Error processing c:\\Meet\\Projects\\Project_8_Phoenix_Cervical Cancer Image Classification\\Project-Phoenix\\Dataset\\Preprocessed Dataset\\im_Dyskeratotic\\151_cyt_cyt01.png: name 'greycomatrix' is not defined\n"
     ]
    },
    {
     "name": "stderr",
     "output_type": "stream",
     "text": [
      " 15%|█▍        | 1210/8098 [01:52<10:01, 11.45it/s]"
     ]
    },
    {
     "name": "stdout",
     "output_type": "stream",
     "text": [
      "Error processing c:\\Meet\\Projects\\Project_8_Phoenix_Cervical Cancer Image Classification\\Project-Phoenix\\Dataset\\Preprocessed Dataset\\im_Dyskeratotic\\151_nuc_nuc01.png: name 'greycomatrix' is not defined\n",
      "Error processing c:\\Meet\\Projects\\Project_8_Phoenix_Cervical Cancer Image Classification\\Project-Phoenix\\Dataset\\Preprocessed Dataset\\im_Dyskeratotic\\152_cyt_cyt01.png: name 'greycomatrix' is not defined\n",
      "Error processing c:\\Meet\\Projects\\Project_8_Phoenix_Cervical Cancer Image Classification\\Project-Phoenix\\Dataset\\Preprocessed Dataset\\im_Dyskeratotic\\152_nuc_nuc01.png: name 'greycomatrix' is not defined\n"
     ]
    },
    {
     "name": "stderr",
     "output_type": "stream",
     "text": [
      " 15%|█▍        | 1212/8098 [01:52<10:09, 11.31it/s]"
     ]
    },
    {
     "name": "stdout",
     "output_type": "stream",
     "text": [
      "Error processing c:\\Meet\\Projects\\Project_8_Phoenix_Cervical Cancer Image Classification\\Project-Phoenix\\Dataset\\Preprocessed Dataset\\im_Dyskeratotic\\153_cyt_cyt01.png: name 'greycomatrix' is not defined\n",
      "Error processing c:\\Meet\\Projects\\Project_8_Phoenix_Cervical Cancer Image Classification\\Project-Phoenix\\Dataset\\Preprocessed Dataset\\im_Dyskeratotic\\153_nuc_nuc01.png: name 'greycomatrix' is not defined\n",
      "Error processing c:\\Meet\\Projects\\Project_8_Phoenix_Cervical Cancer Image Classification\\Project-Phoenix\\Dataset\\Preprocessed Dataset\\im_Dyskeratotic\\154_cyt_cyt01.png: name 'greycomatrix' is not defined\n"
     ]
    },
    {
     "name": "stderr",
     "output_type": "stream",
     "text": [
      "C:\\Users\\meetb\\AppData\\Local\\Temp\\ipykernel_53104\\2748481638.py:97: RuntimeWarning: Mean of empty slice.\n",
      "  ch_means = img_rgb[idx].reshape(-1, 3).mean(axis=0)\n",
      "C:\\Users\\meetb\\AppData\\Local\\Packages\\PythonSoftwareFoundation.Python.3.12_qbz5n2kfra8p0\\LocalCache\\local-packages\\Python312\\site-packages\\numpy\\core\\_methods.py:121: RuntimeWarning: invalid value encountered in divide\n",
      "  ret = um.true_divide(\n",
      "C:\\Users\\meetb\\AppData\\Local\\Packages\\PythonSoftwareFoundation.Python.3.12_qbz5n2kfra8p0\\LocalCache\\local-packages\\Python312\\site-packages\\numpy\\core\\_methods.py:206: RuntimeWarning: Degrees of freedom <= 0 for slice\n",
      "  ret = _var(a, axis=axis, dtype=dtype, out=out, ddof=ddof,\n",
      "C:\\Users\\meetb\\AppData\\Local\\Packages\\PythonSoftwareFoundation.Python.3.12_qbz5n2kfra8p0\\LocalCache\\local-packages\\Python312\\site-packages\\numpy\\core\\_methods.py:163: RuntimeWarning: invalid value encountered in divide\n",
      "  arrmean = um.true_divide(arrmean, div, out=arrmean,\n",
      "C:\\Users\\meetb\\AppData\\Local\\Packages\\PythonSoftwareFoundation.Python.3.12_qbz5n2kfra8p0\\LocalCache\\local-packages\\Python312\\site-packages\\numpy\\core\\_methods.py:195: RuntimeWarning: invalid value encountered in divide\n",
      "  ret = um.true_divide(\n",
      "C:\\Users\\meetb\\AppData\\Local\\Packages\\PythonSoftwareFoundation.Python.3.12_qbz5n2kfra8p0\\LocalCache\\local-packages\\Python312\\site-packages\\numpy\\core\\fromnumeric.py:3504: RuntimeWarning: Mean of empty slice.\n",
      "  return _methods._mean(a, axis=axis, dtype=dtype,\n",
      "C:\\Users\\meetb\\AppData\\Local\\Packages\\PythonSoftwareFoundation.Python.3.12_qbz5n2kfra8p0\\LocalCache\\local-packages\\Python312\\site-packages\\numpy\\core\\_methods.py:129: RuntimeWarning: invalid value encountered in divide\n",
      "  ret = ret.dtype.type(ret / rcount)\n",
      "C:\\Users\\meetb\\AppData\\Local\\Packages\\PythonSoftwareFoundation.Python.3.12_qbz5n2kfra8p0\\LocalCache\\local-packages\\Python312\\site-packages\\numpy\\core\\_methods.py:198: RuntimeWarning: invalid value encountered in divide\n",
      "  ret = ret.dtype.type(ret / rcount)\n",
      " 15%|█▍        | 1214/8098 [01:52<10:33, 10.87it/s]"
     ]
    },
    {
     "name": "stdout",
     "output_type": "stream",
     "text": [
      "Error processing c:\\Meet\\Projects\\Project_8_Phoenix_Cervical Cancer Image Classification\\Project-Phoenix\\Dataset\\Preprocessed Dataset\\im_Dyskeratotic\\154_nuc_nuc01.png: name 'greycomatrix' is not defined\n",
      "Error processing c:\\Meet\\Projects\\Project_8_Phoenix_Cervical Cancer Image Classification\\Project-Phoenix\\Dataset\\Preprocessed Dataset\\im_Dyskeratotic\\155_cyt_cyt01.png: name 'greycomatrix' is not defined\n",
      "Error processing c:\\Meet\\Projects\\Project_8_Phoenix_Cervical Cancer Image Classification\\Project-Phoenix\\Dataset\\Preprocessed Dataset\\im_Dyskeratotic\\155_cyt_cyt02.png: name 'greycomatrix' is not defined\n"
     ]
    },
    {
     "name": "stderr",
     "output_type": "stream",
     "text": [
      " 15%|█▌        | 1218/8098 [01:53<12:14,  9.37it/s]"
     ]
    },
    {
     "name": "stdout",
     "output_type": "stream",
     "text": [
      "Error processing c:\\Meet\\Projects\\Project_8_Phoenix_Cervical Cancer Image Classification\\Project-Phoenix\\Dataset\\Preprocessed Dataset\\im_Dyskeratotic\\155_nuc_nuc01.png: name 'greycomatrix' is not defined\n",
      "Error processing c:\\Meet\\Projects\\Project_8_Phoenix_Cervical Cancer Image Classification\\Project-Phoenix\\Dataset\\Preprocessed Dataset\\im_Dyskeratotic\\155_nuc_nuc02.png: name 'greycomatrix' is not defined\n"
     ]
    },
    {
     "name": "stderr",
     "output_type": "stream",
     "text": [
      " 15%|█▌        | 1219/8098 [01:53<12:15,  9.35it/s]C:\\Users\\meetb\\AppData\\Local\\Temp\\ipykernel_53104\\2748481638.py:97: RuntimeWarning: Mean of empty slice.\n",
      "  ch_means = img_rgb[idx].reshape(-1, 3).mean(axis=0)\n",
      "C:\\Users\\meetb\\AppData\\Local\\Packages\\PythonSoftwareFoundation.Python.3.12_qbz5n2kfra8p0\\LocalCache\\local-packages\\Python312\\site-packages\\numpy\\core\\_methods.py:121: RuntimeWarning: invalid value encountered in divide\n",
      "  ret = um.true_divide(\n",
      "C:\\Users\\meetb\\AppData\\Local\\Packages\\PythonSoftwareFoundation.Python.3.12_qbz5n2kfra8p0\\LocalCache\\local-packages\\Python312\\site-packages\\numpy\\core\\_methods.py:206: RuntimeWarning: Degrees of freedom <= 0 for slice\n",
      "  ret = _var(a, axis=axis, dtype=dtype, out=out, ddof=ddof,\n",
      "C:\\Users\\meetb\\AppData\\Local\\Packages\\PythonSoftwareFoundation.Python.3.12_qbz5n2kfra8p0\\LocalCache\\local-packages\\Python312\\site-packages\\numpy\\core\\_methods.py:163: RuntimeWarning: invalid value encountered in divide\n",
      "  arrmean = um.true_divide(arrmean, div, out=arrmean,\n",
      "C:\\Users\\meetb\\AppData\\Local\\Packages\\PythonSoftwareFoundation.Python.3.12_qbz5n2kfra8p0\\LocalCache\\local-packages\\Python312\\site-packages\\numpy\\core\\_methods.py:195: RuntimeWarning: invalid value encountered in divide\n",
      "  ret = um.true_divide(\n",
      "C:\\Users\\meetb\\AppData\\Local\\Packages\\PythonSoftwareFoundation.Python.3.12_qbz5n2kfra8p0\\LocalCache\\local-packages\\Python312\\site-packages\\numpy\\core\\fromnumeric.py:3504: RuntimeWarning: Mean of empty slice.\n",
      "  return _methods._mean(a, axis=axis, dtype=dtype,\n",
      "C:\\Users\\meetb\\AppData\\Local\\Packages\\PythonSoftwareFoundation.Python.3.12_qbz5n2kfra8p0\\LocalCache\\local-packages\\Python312\\site-packages\\numpy\\core\\_methods.py:129: RuntimeWarning: invalid value encountered in divide\n",
      "  ret = ret.dtype.type(ret / rcount)\n",
      "C:\\Users\\meetb\\AppData\\Local\\Packages\\PythonSoftwareFoundation.Python.3.12_qbz5n2kfra8p0\\LocalCache\\local-packages\\Python312\\site-packages\\numpy\\core\\_methods.py:198: RuntimeWarning: invalid value encountered in divide\n",
      "  ret = ret.dtype.type(ret / rcount)\n"
     ]
    },
    {
     "name": "stdout",
     "output_type": "stream",
     "text": [
      "Error processing c:\\Meet\\Projects\\Project_8_Phoenix_Cervical Cancer Image Classification\\Project-Phoenix\\Dataset\\Preprocessed Dataset\\im_Dyskeratotic\\156_cyt_cyt01.png: name 'greycomatrix' is not defined\n",
      "Error processing c:\\Meet\\Projects\\Project_8_Phoenix_Cervical Cancer Image Classification\\Project-Phoenix\\Dataset\\Preprocessed Dataset\\im_Dyskeratotic\\156_cyt_cyt02.png: name 'greycomatrix' is not defined\n",
      "Error processing c:\\Meet\\Projects\\Project_8_Phoenix_Cervical Cancer Image Classification\\Project-Phoenix\\Dataset\\Preprocessed Dataset\\im_Dyskeratotic\\156_cyt_cyt03.png: name 'greycomatrix' is not defined\n"
     ]
    },
    {
     "name": "stderr",
     "output_type": "stream",
     "text": [
      " 15%|█▌        | 1223/8098 [01:53<11:26, 10.01it/s]"
     ]
    },
    {
     "name": "stdout",
     "output_type": "stream",
     "text": [
      "Error processing c:\\Meet\\Projects\\Project_8_Phoenix_Cervical Cancer Image Classification\\Project-Phoenix\\Dataset\\Preprocessed Dataset\\im_Dyskeratotic\\156_cyt_cyt04.png: name 'greycomatrix' is not defined\n",
      "Error processing c:\\Meet\\Projects\\Project_8_Phoenix_Cervical Cancer Image Classification\\Project-Phoenix\\Dataset\\Preprocessed Dataset\\im_Dyskeratotic\\156_nuc_nuc01.png: name 'greycomatrix' is not defined\n",
      "Error processing c:\\Meet\\Projects\\Project_8_Phoenix_Cervical Cancer Image Classification\\Project-Phoenix\\Dataset\\Preprocessed Dataset\\im_Dyskeratotic\\156_nuc_nuc02.png: name 'greycomatrix' is not defined\n"
     ]
    },
    {
     "name": "stderr",
     "output_type": "stream",
     "text": [
      " 15%|█▌        | 1225/8098 [01:54<11:08, 10.28it/s]"
     ]
    },
    {
     "name": "stdout",
     "output_type": "stream",
     "text": [
      "Error processing c:\\Meet\\Projects\\Project_8_Phoenix_Cervical Cancer Image Classification\\Project-Phoenix\\Dataset\\Preprocessed Dataset\\im_Dyskeratotic\\156_nuc_nuc03.png: name 'greycomatrix' is not defined\n",
      "Error processing c:\\Meet\\Projects\\Project_8_Phoenix_Cervical Cancer Image Classification\\Project-Phoenix\\Dataset\\Preprocessed Dataset\\im_Dyskeratotic\\156_nuc_nuc04.png: name 'greycomatrix' is not defined\n",
      "Error processing c:\\Meet\\Projects\\Project_8_Phoenix_Cervical Cancer Image Classification\\Project-Phoenix\\Dataset\\Preprocessed Dataset\\im_Dyskeratotic\\157_cyt_cyt01.png: name 'greycomatrix' is not defined\n"
     ]
    },
    {
     "name": "stderr",
     "output_type": "stream",
     "text": [
      " 15%|█▌        | 1227/8098 [01:54<11:13, 10.20it/s]C:\\Users\\meetb\\AppData\\Local\\Temp\\ipykernel_53104\\2748481638.py:97: RuntimeWarning: Mean of empty slice.\n",
      "  ch_means = img_rgb[idx].reshape(-1, 3).mean(axis=0)\n",
      "C:\\Users\\meetb\\AppData\\Local\\Packages\\PythonSoftwareFoundation.Python.3.12_qbz5n2kfra8p0\\LocalCache\\local-packages\\Python312\\site-packages\\numpy\\core\\_methods.py:121: RuntimeWarning: invalid value encountered in divide\n",
      "  ret = um.true_divide(\n",
      "C:\\Users\\meetb\\AppData\\Local\\Packages\\PythonSoftwareFoundation.Python.3.12_qbz5n2kfra8p0\\LocalCache\\local-packages\\Python312\\site-packages\\numpy\\core\\_methods.py:206: RuntimeWarning: Degrees of freedom <= 0 for slice\n",
      "  ret = _var(a, axis=axis, dtype=dtype, out=out, ddof=ddof,\n",
      "C:\\Users\\meetb\\AppData\\Local\\Packages\\PythonSoftwareFoundation.Python.3.12_qbz5n2kfra8p0\\LocalCache\\local-packages\\Python312\\site-packages\\numpy\\core\\_methods.py:163: RuntimeWarning: invalid value encountered in divide\n",
      "  arrmean = um.true_divide(arrmean, div, out=arrmean,\n",
      "C:\\Users\\meetb\\AppData\\Local\\Packages\\PythonSoftwareFoundation.Python.3.12_qbz5n2kfra8p0\\LocalCache\\local-packages\\Python312\\site-packages\\numpy\\core\\_methods.py:195: RuntimeWarning: invalid value encountered in divide\n",
      "  ret = um.true_divide(\n",
      "C:\\Users\\meetb\\AppData\\Local\\Packages\\PythonSoftwareFoundation.Python.3.12_qbz5n2kfra8p0\\LocalCache\\local-packages\\Python312\\site-packages\\numpy\\core\\fromnumeric.py:3504: RuntimeWarning: Mean of empty slice.\n",
      "  return _methods._mean(a, axis=axis, dtype=dtype,\n",
      "C:\\Users\\meetb\\AppData\\Local\\Packages\\PythonSoftwareFoundation.Python.3.12_qbz5n2kfra8p0\\LocalCache\\local-packages\\Python312\\site-packages\\numpy\\core\\_methods.py:129: RuntimeWarning: invalid value encountered in divide\n",
      "  ret = ret.dtype.type(ret / rcount)\n",
      "C:\\Users\\meetb\\AppData\\Local\\Packages\\PythonSoftwareFoundation.Python.3.12_qbz5n2kfra8p0\\LocalCache\\local-packages\\Python312\\site-packages\\numpy\\core\\_methods.py:198: RuntimeWarning: invalid value encountered in divide\n",
      "  ret = ret.dtype.type(ret / rcount)\n",
      " 15%|█▌        | 1229/8098 [01:54<11:07, 10.29it/s]"
     ]
    },
    {
     "name": "stdout",
     "output_type": "stream",
     "text": [
      "Error processing c:\\Meet\\Projects\\Project_8_Phoenix_Cervical Cancer Image Classification\\Project-Phoenix\\Dataset\\Preprocessed Dataset\\im_Dyskeratotic\\157_cyt_cyt02.png: name 'greycomatrix' is not defined\n",
      "Error processing c:\\Meet\\Projects\\Project_8_Phoenix_Cervical Cancer Image Classification\\Project-Phoenix\\Dataset\\Preprocessed Dataset\\im_Dyskeratotic\\157_nuc_nuc01.png: name 'greycomatrix' is not defined\n",
      "Error processing c:\\Meet\\Projects\\Project_8_Phoenix_Cervical Cancer Image Classification\\Project-Phoenix\\Dataset\\Preprocessed Dataset\\im_Dyskeratotic\\157_nuc_nuc02.png: name 'greycomatrix' is not defined\n"
     ]
    },
    {
     "name": "stderr",
     "output_type": "stream",
     "text": [
      " 15%|█▌        | 1231/8098 [01:54<10:58, 10.43it/s]"
     ]
    },
    {
     "name": "stdout",
     "output_type": "stream",
     "text": [
      "Error processing c:\\Meet\\Projects\\Project_8_Phoenix_Cervical Cancer Image Classification\\Project-Phoenix\\Dataset\\Preprocessed Dataset\\im_Dyskeratotic\\158_cyt_cyt01.png: name 'greycomatrix' is not defined\n",
      "Error processing c:\\Meet\\Projects\\Project_8_Phoenix_Cervical Cancer Image Classification\\Project-Phoenix\\Dataset\\Preprocessed Dataset\\im_Dyskeratotic\\158_nuc_nuc01.png: name 'greycomatrix' is not defined\n"
     ]
    },
    {
     "name": "stderr",
     "output_type": "stream",
     "text": [
      " 15%|█▌        | 1233/8098 [01:54<11:19, 10.10it/s]C:\\Users\\meetb\\AppData\\Local\\Temp\\ipykernel_53104\\2748481638.py:97: RuntimeWarning: Mean of empty slice.\n",
      "  ch_means = img_rgb[idx].reshape(-1, 3).mean(axis=0)\n",
      "C:\\Users\\meetb\\AppData\\Local\\Packages\\PythonSoftwareFoundation.Python.3.12_qbz5n2kfra8p0\\LocalCache\\local-packages\\Python312\\site-packages\\numpy\\core\\_methods.py:121: RuntimeWarning: invalid value encountered in divide\n",
      "  ret = um.true_divide(\n",
      "C:\\Users\\meetb\\AppData\\Local\\Packages\\PythonSoftwareFoundation.Python.3.12_qbz5n2kfra8p0\\LocalCache\\local-packages\\Python312\\site-packages\\numpy\\core\\_methods.py:206: RuntimeWarning: Degrees of freedom <= 0 for slice\n",
      "  ret = _var(a, axis=axis, dtype=dtype, out=out, ddof=ddof,\n",
      "C:\\Users\\meetb\\AppData\\Local\\Packages\\PythonSoftwareFoundation.Python.3.12_qbz5n2kfra8p0\\LocalCache\\local-packages\\Python312\\site-packages\\numpy\\core\\_methods.py:163: RuntimeWarning: invalid value encountered in divide\n",
      "  arrmean = um.true_divide(arrmean, div, out=arrmean,\n",
      "C:\\Users\\meetb\\AppData\\Local\\Packages\\PythonSoftwareFoundation.Python.3.12_qbz5n2kfra8p0\\LocalCache\\local-packages\\Python312\\site-packages\\numpy\\core\\_methods.py:195: RuntimeWarning: invalid value encountered in divide\n",
      "  ret = um.true_divide(\n",
      "C:\\Users\\meetb\\AppData\\Local\\Packages\\PythonSoftwareFoundation.Python.3.12_qbz5n2kfra8p0\\LocalCache\\local-packages\\Python312\\site-packages\\numpy\\core\\fromnumeric.py:3504: RuntimeWarning: Mean of empty slice.\n",
      "  return _methods._mean(a, axis=axis, dtype=dtype,\n",
      "C:\\Users\\meetb\\AppData\\Local\\Packages\\PythonSoftwareFoundation.Python.3.12_qbz5n2kfra8p0\\LocalCache\\local-packages\\Python312\\site-packages\\numpy\\core\\_methods.py:129: RuntimeWarning: invalid value encountered in divide\n",
      "  ret = ret.dtype.type(ret / rcount)\n",
      "C:\\Users\\meetb\\AppData\\Local\\Packages\\PythonSoftwareFoundation.Python.3.12_qbz5n2kfra8p0\\LocalCache\\local-packages\\Python312\\site-packages\\numpy\\core\\_methods.py:198: RuntimeWarning: invalid value encountered in divide\n",
      "  ret = ret.dtype.type(ret / rcount)\n",
      " 15%|█▌        | 1235/8098 [01:55<11:02, 10.36it/s]"
     ]
    },
    {
     "name": "stdout",
     "output_type": "stream",
     "text": [
      "Error processing c:\\Meet\\Projects\\Project_8_Phoenix_Cervical Cancer Image Classification\\Project-Phoenix\\Dataset\\Preprocessed Dataset\\im_Dyskeratotic\\159_cyt_cyt01.png: name 'greycomatrix' is not defined\n",
      "Error processing c:\\Meet\\Projects\\Project_8_Phoenix_Cervical Cancer Image Classification\\Project-Phoenix\\Dataset\\Preprocessed Dataset\\im_Dyskeratotic\\159_nuc_nuc01.png: name 'greycomatrix' is not defined\n",
      "Error processing c:\\Meet\\Projects\\Project_8_Phoenix_Cervical Cancer Image Classification\\Project-Phoenix\\Dataset\\Preprocessed Dataset\\im_Dyskeratotic\\160_cyt_cyt01.png: name 'greycomatrix' is not defined\n"
     ]
    },
    {
     "name": "stderr",
     "output_type": "stream",
     "text": [
      "C:\\Users\\meetb\\AppData\\Local\\Temp\\ipykernel_53104\\2748481638.py:97: RuntimeWarning: Mean of empty slice.\n",
      "  ch_means = img_rgb[idx].reshape(-1, 3).mean(axis=0)\n",
      "C:\\Users\\meetb\\AppData\\Local\\Packages\\PythonSoftwareFoundation.Python.3.12_qbz5n2kfra8p0\\LocalCache\\local-packages\\Python312\\site-packages\\numpy\\core\\_methods.py:121: RuntimeWarning: invalid value encountered in divide\n",
      "  ret = um.true_divide(\n",
      "C:\\Users\\meetb\\AppData\\Local\\Packages\\PythonSoftwareFoundation.Python.3.12_qbz5n2kfra8p0\\LocalCache\\local-packages\\Python312\\site-packages\\numpy\\core\\_methods.py:206: RuntimeWarning: Degrees of freedom <= 0 for slice\n",
      "  ret = _var(a, axis=axis, dtype=dtype, out=out, ddof=ddof,\n",
      "C:\\Users\\meetb\\AppData\\Local\\Packages\\PythonSoftwareFoundation.Python.3.12_qbz5n2kfra8p0\\LocalCache\\local-packages\\Python312\\site-packages\\numpy\\core\\_methods.py:163: RuntimeWarning: invalid value encountered in divide\n",
      "  arrmean = um.true_divide(arrmean, div, out=arrmean,\n",
      "C:\\Users\\meetb\\AppData\\Local\\Packages\\PythonSoftwareFoundation.Python.3.12_qbz5n2kfra8p0\\LocalCache\\local-packages\\Python312\\site-packages\\numpy\\core\\_methods.py:195: RuntimeWarning: invalid value encountered in divide\n",
      "  ret = um.true_divide(\n",
      "C:\\Users\\meetb\\AppData\\Local\\Packages\\PythonSoftwareFoundation.Python.3.12_qbz5n2kfra8p0\\LocalCache\\local-packages\\Python312\\site-packages\\numpy\\core\\fromnumeric.py:3504: RuntimeWarning: Mean of empty slice.\n",
      "  return _methods._mean(a, axis=axis, dtype=dtype,\n",
      "C:\\Users\\meetb\\AppData\\Local\\Packages\\PythonSoftwareFoundation.Python.3.12_qbz5n2kfra8p0\\LocalCache\\local-packages\\Python312\\site-packages\\numpy\\core\\_methods.py:129: RuntimeWarning: invalid value encountered in divide\n",
      "  ret = ret.dtype.type(ret / rcount)\n",
      "C:\\Users\\meetb\\AppData\\Local\\Packages\\PythonSoftwareFoundation.Python.3.12_qbz5n2kfra8p0\\LocalCache\\local-packages\\Python312\\site-packages\\numpy\\core\\_methods.py:198: RuntimeWarning: invalid value encountered in divide\n",
      "  ret = ret.dtype.type(ret / rcount)\n",
      " 15%|█▌        | 1237/8098 [01:55<11:04, 10.33it/s]"
     ]
    },
    {
     "name": "stdout",
     "output_type": "stream",
     "text": [
      "Error processing c:\\Meet\\Projects\\Project_8_Phoenix_Cervical Cancer Image Classification\\Project-Phoenix\\Dataset\\Preprocessed Dataset\\im_Dyskeratotic\\160_cyt_cyt02.png: name 'greycomatrix' is not defined\n",
      "Error processing c:\\Meet\\Projects\\Project_8_Phoenix_Cervical Cancer Image Classification\\Project-Phoenix\\Dataset\\Preprocessed Dataset\\im_Dyskeratotic\\160_cyt_cyt03.png: name 'greycomatrix' is not defined\n",
      "Error processing c:\\Meet\\Projects\\Project_8_Phoenix_Cervical Cancer Image Classification\\Project-Phoenix\\Dataset\\Preprocessed Dataset\\im_Dyskeratotic\\160_nuc_nuc01.png: name 'greycomatrix' is not defined\n"
     ]
    },
    {
     "name": "stderr",
     "output_type": "stream",
     "text": [
      " 15%|█▌        | 1239/8098 [01:55<10:40, 10.71it/s]"
     ]
    },
    {
     "name": "stdout",
     "output_type": "stream",
     "text": [
      "Error processing c:\\Meet\\Projects\\Project_8_Phoenix_Cervical Cancer Image Classification\\Project-Phoenix\\Dataset\\Preprocessed Dataset\\im_Dyskeratotic\\160_nuc_nuc02.png: name 'greycomatrix' is not defined\n",
      "Error processing c:\\Meet\\Projects\\Project_8_Phoenix_Cervical Cancer Image Classification\\Project-Phoenix\\Dataset\\Preprocessed Dataset\\im_Dyskeratotic\\160_nuc_nuc03.png: name 'greycomatrix' is not defined\n"
     ]
    },
    {
     "name": "stderr",
     "output_type": "stream",
     "text": [
      " 15%|█▌        | 1242/8098 [01:55<12:17,  9.29it/s]"
     ]
    },
    {
     "name": "stdout",
     "output_type": "stream",
     "text": [
      "Error processing c:\\Meet\\Projects\\Project_8_Phoenix_Cervical Cancer Image Classification\\Project-Phoenix\\Dataset\\Preprocessed Dataset\\im_Dyskeratotic\\161_cyt_cyt01.png: name 'greycomatrix' is not defined\n",
      "Error processing c:\\Meet\\Projects\\Project_8_Phoenix_Cervical Cancer Image Classification\\Project-Phoenix\\Dataset\\Preprocessed Dataset\\im_Dyskeratotic\\161_nuc_nuc01.png: name 'greycomatrix' is not defined\n",
      "Error processing c:\\Meet\\Projects\\Project_8_Phoenix_Cervical Cancer Image Classification\\Project-Phoenix\\Dataset\\Preprocessed Dataset\\im_Dyskeratotic\\162_cyt_cyt01.png: name 'greycomatrix' is not defined\n"
     ]
    },
    {
     "name": "stderr",
     "output_type": "stream",
     "text": [
      " 15%|█▌        | 1245/8098 [01:56<11:53,  9.60it/s]"
     ]
    },
    {
     "name": "stdout",
     "output_type": "stream",
     "text": [
      "Error processing c:\\Meet\\Projects\\Project_8_Phoenix_Cervical Cancer Image Classification\\Project-Phoenix\\Dataset\\Preprocessed Dataset\\im_Dyskeratotic\\162_nuc_nuc01.png: name 'greycomatrix' is not defined\n",
      "Error processing c:\\Meet\\Projects\\Project_8_Phoenix_Cervical Cancer Image Classification\\Project-Phoenix\\Dataset\\Preprocessed Dataset\\im_Dyskeratotic\\163_cyt_cyt01.png: name 'greycomatrix' is not defined\n"
     ]
    },
    {
     "name": "stderr",
     "output_type": "stream",
     "text": [
      "C:\\Users\\meetb\\AppData\\Local\\Temp\\ipykernel_53104\\2748481638.py:97: RuntimeWarning: Mean of empty slice.\n",
      "  ch_means = img_rgb[idx].reshape(-1, 3).mean(axis=0)\n",
      "C:\\Users\\meetb\\AppData\\Local\\Packages\\PythonSoftwareFoundation.Python.3.12_qbz5n2kfra8p0\\LocalCache\\local-packages\\Python312\\site-packages\\numpy\\core\\_methods.py:121: RuntimeWarning: invalid value encountered in divide\n",
      "  ret = um.true_divide(\n",
      "C:\\Users\\meetb\\AppData\\Local\\Packages\\PythonSoftwareFoundation.Python.3.12_qbz5n2kfra8p0\\LocalCache\\local-packages\\Python312\\site-packages\\numpy\\core\\_methods.py:206: RuntimeWarning: Degrees of freedom <= 0 for slice\n",
      "  ret = _var(a, axis=axis, dtype=dtype, out=out, ddof=ddof,\n",
      "C:\\Users\\meetb\\AppData\\Local\\Packages\\PythonSoftwareFoundation.Python.3.12_qbz5n2kfra8p0\\LocalCache\\local-packages\\Python312\\site-packages\\numpy\\core\\_methods.py:163: RuntimeWarning: invalid value encountered in divide\n",
      "  arrmean = um.true_divide(arrmean, div, out=arrmean,\n",
      "C:\\Users\\meetb\\AppData\\Local\\Packages\\PythonSoftwareFoundation.Python.3.12_qbz5n2kfra8p0\\LocalCache\\local-packages\\Python312\\site-packages\\numpy\\core\\_methods.py:195: RuntimeWarning: invalid value encountered in divide\n",
      "  ret = um.true_divide(\n",
      "C:\\Users\\meetb\\AppData\\Local\\Packages\\PythonSoftwareFoundation.Python.3.12_qbz5n2kfra8p0\\LocalCache\\local-packages\\Python312\\site-packages\\numpy\\core\\fromnumeric.py:3504: RuntimeWarning: Mean of empty slice.\n",
      "  return _methods._mean(a, axis=axis, dtype=dtype,\n",
      "C:\\Users\\meetb\\AppData\\Local\\Packages\\PythonSoftwareFoundation.Python.3.12_qbz5n2kfra8p0\\LocalCache\\local-packages\\Python312\\site-packages\\numpy\\core\\_methods.py:129: RuntimeWarning: invalid value encountered in divide\n",
      "  ret = ret.dtype.type(ret / rcount)\n",
      "C:\\Users\\meetb\\AppData\\Local\\Packages\\PythonSoftwareFoundation.Python.3.12_qbz5n2kfra8p0\\LocalCache\\local-packages\\Python312\\site-packages\\numpy\\core\\_methods.py:198: RuntimeWarning: invalid value encountered in divide\n",
      "  ret = ret.dtype.type(ret / rcount)\n",
      " 15%|█▌        | 1246/8098 [01:56<11:54,  9.59it/s]"
     ]
    },
    {
     "name": "stdout",
     "output_type": "stream",
     "text": [
      "Error processing c:\\Meet\\Projects\\Project_8_Phoenix_Cervical Cancer Image Classification\\Project-Phoenix\\Dataset\\Preprocessed Dataset\\im_Dyskeratotic\\163_cyt_cyt02.png: name 'greycomatrix' is not defined\n",
      "Error processing c:\\Meet\\Projects\\Project_8_Phoenix_Cervical Cancer Image Classification\\Project-Phoenix\\Dataset\\Preprocessed Dataset\\im_Dyskeratotic\\163_cyt_cyt03.png: name 'greycomatrix' is not defined\n"
     ]
    },
    {
     "name": "stderr",
     "output_type": "stream",
     "text": [
      " 15%|█▌        | 1248/8098 [01:56<11:37,  9.82it/s]C:\\Users\\meetb\\AppData\\Local\\Temp\\ipykernel_53104\\2748481638.py:97: RuntimeWarning: Mean of empty slice.\n",
      "  ch_means = img_rgb[idx].reshape(-1, 3).mean(axis=0)\n",
      "C:\\Users\\meetb\\AppData\\Local\\Packages\\PythonSoftwareFoundation.Python.3.12_qbz5n2kfra8p0\\LocalCache\\local-packages\\Python312\\site-packages\\numpy\\core\\_methods.py:121: RuntimeWarning: invalid value encountered in divide\n",
      "  ret = um.true_divide(\n",
      "C:\\Users\\meetb\\AppData\\Local\\Packages\\PythonSoftwareFoundation.Python.3.12_qbz5n2kfra8p0\\LocalCache\\local-packages\\Python312\\site-packages\\numpy\\core\\_methods.py:206: RuntimeWarning: Degrees of freedom <= 0 for slice\n",
      "  ret = _var(a, axis=axis, dtype=dtype, out=out, ddof=ddof,\n",
      "C:\\Users\\meetb\\AppData\\Local\\Packages\\PythonSoftwareFoundation.Python.3.12_qbz5n2kfra8p0\\LocalCache\\local-packages\\Python312\\site-packages\\numpy\\core\\_methods.py:163: RuntimeWarning: invalid value encountered in divide\n",
      "  arrmean = um.true_divide(arrmean, div, out=arrmean,\n",
      "C:\\Users\\meetb\\AppData\\Local\\Packages\\PythonSoftwareFoundation.Python.3.12_qbz5n2kfra8p0\\LocalCache\\local-packages\\Python312\\site-packages\\numpy\\core\\_methods.py:195: RuntimeWarning: invalid value encountered in divide\n",
      "  ret = um.true_divide(\n",
      "C:\\Users\\meetb\\AppData\\Local\\Packages\\PythonSoftwareFoundation.Python.3.12_qbz5n2kfra8p0\\LocalCache\\local-packages\\Python312\\site-packages\\numpy\\core\\fromnumeric.py:3504: RuntimeWarning: Mean of empty slice.\n",
      "  return _methods._mean(a, axis=axis, dtype=dtype,\n",
      "C:\\Users\\meetb\\AppData\\Local\\Packages\\PythonSoftwareFoundation.Python.3.12_qbz5n2kfra8p0\\LocalCache\\local-packages\\Python312\\site-packages\\numpy\\core\\_methods.py:129: RuntimeWarning: invalid value encountered in divide\n",
      "  ret = ret.dtype.type(ret / rcount)\n",
      "C:\\Users\\meetb\\AppData\\Local\\Packages\\PythonSoftwareFoundation.Python.3.12_qbz5n2kfra8p0\\LocalCache\\local-packages\\Python312\\site-packages\\numpy\\core\\_methods.py:198: RuntimeWarning: invalid value encountered in divide\n",
      "  ret = ret.dtype.type(ret / rcount)\n",
      " 15%|█▌        | 1250/8098 [01:56<11:14, 10.15it/s]"
     ]
    },
    {
     "name": "stdout",
     "output_type": "stream",
     "text": [
      "Error processing c:\\Meet\\Projects\\Project_8_Phoenix_Cervical Cancer Image Classification\\Project-Phoenix\\Dataset\\Preprocessed Dataset\\im_Dyskeratotic\\163_cyt_cyt04.png: name 'greycomatrix' is not defined\n",
      "Error processing c:\\Meet\\Projects\\Project_8_Phoenix_Cervical Cancer Image Classification\\Project-Phoenix\\Dataset\\Preprocessed Dataset\\im_Dyskeratotic\\163_cyt_cyt05.png: name 'greycomatrix' is not defined\n",
      "Error processing c:\\Meet\\Projects\\Project_8_Phoenix_Cervical Cancer Image Classification\\Project-Phoenix\\Dataset\\Preprocessed Dataset\\im_Dyskeratotic\\163_nuc_nuc01.png: name 'greycomatrix' is not defined\n"
     ]
    },
    {
     "name": "stderr",
     "output_type": "stream",
     "text": [
      " 15%|█▌        | 1252/8098 [01:56<10:48, 10.56it/s]"
     ]
    },
    {
     "name": "stdout",
     "output_type": "stream",
     "text": [
      "Error processing c:\\Meet\\Projects\\Project_8_Phoenix_Cervical Cancer Image Classification\\Project-Phoenix\\Dataset\\Preprocessed Dataset\\im_Dyskeratotic\\163_nuc_nuc02.png: name 'greycomatrix' is not defined\n",
      "Error processing c:\\Meet\\Projects\\Project_8_Phoenix_Cervical Cancer Image Classification\\Project-Phoenix\\Dataset\\Preprocessed Dataset\\im_Dyskeratotic\\163_nuc_nuc03.png: name 'greycomatrix' is not defined\n",
      "Error processing c:\\Meet\\Projects\\Project_8_Phoenix_Cervical Cancer Image Classification\\Project-Phoenix\\Dataset\\Preprocessed Dataset\\im_Dyskeratotic\\163_nuc_nuc04.png: name 'greycomatrix' is not defined\n"
     ]
    },
    {
     "name": "stderr",
     "output_type": "stream",
     "text": [
      " 16%|█▌        | 1256/8098 [01:57<10:20, 11.03it/s]"
     ]
    },
    {
     "name": "stdout",
     "output_type": "stream",
     "text": [
      "Error processing c:\\Meet\\Projects\\Project_8_Phoenix_Cervical Cancer Image Classification\\Project-Phoenix\\Dataset\\Preprocessed Dataset\\im_Dyskeratotic\\163_nuc_nuc05.png: name 'greycomatrix' is not defined\n",
      "Error processing c:\\Meet\\Projects\\Project_8_Phoenix_Cervical Cancer Image Classification\\Project-Phoenix\\Dataset\\Preprocessed Dataset\\im_Dyskeratotic\\164_cyt_cyt01.png: name 'greycomatrix' is not defined\n",
      "Error processing c:\\Meet\\Projects\\Project_8_Phoenix_Cervical Cancer Image Classification\\Project-Phoenix\\Dataset\\Preprocessed Dataset\\im_Dyskeratotic\\164_cyt_cyt02.png: name 'greycomatrix' is not defined\n"
     ]
    },
    {
     "name": "stderr",
     "output_type": "stream",
     "text": [
      " 16%|█▌        | 1258/8098 [01:57<10:30, 10.86it/s]"
     ]
    },
    {
     "name": "stdout",
     "output_type": "stream",
     "text": [
      "Error processing c:\\Meet\\Projects\\Project_8_Phoenix_Cervical Cancer Image Classification\\Project-Phoenix\\Dataset\\Preprocessed Dataset\\im_Dyskeratotic\\164_cyt_cyt03.png: name 'greycomatrix' is not defined\n",
      "Error processing c:\\Meet\\Projects\\Project_8_Phoenix_Cervical Cancer Image Classification\\Project-Phoenix\\Dataset\\Preprocessed Dataset\\im_Dyskeratotic\\164_cyt_cyt04.png: name 'greycomatrix' is not defined\n"
     ]
    },
    {
     "name": "stderr",
     "output_type": "stream",
     "text": [
      " 16%|█▌        | 1260/8098 [01:57<11:07, 10.25it/s]"
     ]
    },
    {
     "name": "stdout",
     "output_type": "stream",
     "text": [
      "Error processing c:\\Meet\\Projects\\Project_8_Phoenix_Cervical Cancer Image Classification\\Project-Phoenix\\Dataset\\Preprocessed Dataset\\im_Dyskeratotic\\164_cyt_cyt05.png: name 'greycomatrix' is not defined\n",
      "Error processing c:\\Meet\\Projects\\Project_8_Phoenix_Cervical Cancer Image Classification\\Project-Phoenix\\Dataset\\Preprocessed Dataset\\im_Dyskeratotic\\164_cyt_cyt06.png: name 'greycomatrix' is not defined\n",
      "Error processing c:\\Meet\\Projects\\Project_8_Phoenix_Cervical Cancer Image Classification\\Project-Phoenix\\Dataset\\Preprocessed Dataset\\im_Dyskeratotic\\164_cyt_cyt07.png: name 'greycomatrix' is not defined\n"
     ]
    },
    {
     "name": "stderr",
     "output_type": "stream",
     "text": [
      " 16%|█▌        | 1262/8098 [01:57<11:10, 10.19it/s]"
     ]
    },
    {
     "name": "stdout",
     "output_type": "stream",
     "text": [
      "Error processing c:\\Meet\\Projects\\Project_8_Phoenix_Cervical Cancer Image Classification\\Project-Phoenix\\Dataset\\Preprocessed Dataset\\im_Dyskeratotic\\164_cyt_cyt08.png: name 'greycomatrix' is not defined\n",
      "Error processing c:\\Meet\\Projects\\Project_8_Phoenix_Cervical Cancer Image Classification\\Project-Phoenix\\Dataset\\Preprocessed Dataset\\im_Dyskeratotic\\164_cyt_cyt09.png: name 'greycomatrix' is not defined\n",
      "Error processing c:\\Meet\\Projects\\Project_8_Phoenix_Cervical Cancer Image Classification\\Project-Phoenix\\Dataset\\Preprocessed Dataset\\im_Dyskeratotic\\164_cyt_cyt10.png: name 'greycomatrix' is not defined\n"
     ]
    },
    {
     "name": "stderr",
     "output_type": "stream",
     "text": [
      " 16%|█▌        | 1266/8098 [01:58<10:58, 10.37it/s]"
     ]
    },
    {
     "name": "stdout",
     "output_type": "stream",
     "text": [
      "Error processing c:\\Meet\\Projects\\Project_8_Phoenix_Cervical Cancer Image Classification\\Project-Phoenix\\Dataset\\Preprocessed Dataset\\im_Dyskeratotic\\164_cyt_cyt11.png: name 'greycomatrix' is not defined\n",
      "Error processing c:\\Meet\\Projects\\Project_8_Phoenix_Cervical Cancer Image Classification\\Project-Phoenix\\Dataset\\Preprocessed Dataset\\im_Dyskeratotic\\164_cyt_cyt12.png: name 'greycomatrix' is not defined\n",
      "Error processing c:\\Meet\\Projects\\Project_8_Phoenix_Cervical Cancer Image Classification\\Project-Phoenix\\Dataset\\Preprocessed Dataset\\im_Dyskeratotic\\164_cyt_cyt13.png: name 'greycomatrix' is not defined\n"
     ]
    },
    {
     "name": "stderr",
     "output_type": "stream",
     "text": [
      " 16%|█▌        | 1270/8098 [01:58<10:40, 10.66it/s]"
     ]
    },
    {
     "name": "stdout",
     "output_type": "stream",
     "text": [
      "Error processing c:\\Meet\\Projects\\Project_8_Phoenix_Cervical Cancer Image Classification\\Project-Phoenix\\Dataset\\Preprocessed Dataset\\im_Dyskeratotic\\164_cyt_cyt14.png: name 'greycomatrix' is not defined\n",
      "Error processing c:\\Meet\\Projects\\Project_8_Phoenix_Cervical Cancer Image Classification\\Project-Phoenix\\Dataset\\Preprocessed Dataset\\im_Dyskeratotic\\164_cyt_cyt15.png: name 'greycomatrix' is not defined\n",
      "Error processing c:\\Meet\\Projects\\Project_8_Phoenix_Cervical Cancer Image Classification\\Project-Phoenix\\Dataset\\Preprocessed Dataset\\im_Dyskeratotic\\164_cyt_cyt16.png: name 'greycomatrix' is not defined\n"
     ]
    },
    {
     "name": "stderr",
     "output_type": "stream",
     "text": [
      " 16%|█▌        | 1272/8098 [01:58<10:37, 10.71it/s]"
     ]
    },
    {
     "name": "stdout",
     "output_type": "stream",
     "text": [
      "Error processing c:\\Meet\\Projects\\Project_8_Phoenix_Cervical Cancer Image Classification\\Project-Phoenix\\Dataset\\Preprocessed Dataset\\im_Dyskeratotic\\164_cyt_cyt17.png: name 'greycomatrix' is not defined\n",
      "Error processing c:\\Meet\\Projects\\Project_8_Phoenix_Cervical Cancer Image Classification\\Project-Phoenix\\Dataset\\Preprocessed Dataset\\im_Dyskeratotic\\164_cyt_cyt18.png: name 'greycomatrix' is not defined\n"
     ]
    },
    {
     "name": "stderr",
     "output_type": "stream",
     "text": [
      "\n"
     ]
    },
    {
     "ename": "KeyboardInterrupt",
     "evalue": "",
     "output_type": "error",
     "traceback": [
      "\u001b[1;31m---------------------------------------------------------------------------\u001b[0m",
      "\u001b[1;31mKeyboardInterrupt\u001b[0m                         Traceback (most recent call last)",
      "Cell \u001b[1;32mIn[5], line 34\u001b[0m\n\u001b[0;32m     32\u001b[0m feats \u001b[38;5;241m=\u001b[39m {}\n\u001b[0;32m     33\u001b[0m feats\u001b[38;5;241m.\u001b[39mupdate(morph_props(cell_mask, \u001b[38;5;124m'\u001b[39m\u001b[38;5;124mcell\u001b[39m\u001b[38;5;124m'\u001b[39m))\n\u001b[1;32m---> 34\u001b[0m feats\u001b[38;5;241m.\u001b[39mupdate(\u001b[43mmorph_props\u001b[49m\u001b[43m(\u001b[49m\u001b[43mnuc_mask\u001b[49m\u001b[43m,\u001b[49m\u001b[43m \u001b[49m\u001b[38;5;124;43m'\u001b[39;49m\u001b[38;5;124;43mnucleus\u001b[39;49m\u001b[38;5;124;43m'\u001b[39;49m\u001b[43m)\u001b[49m)\n\u001b[0;32m     36\u001b[0m \u001b[38;5;66;03m# Color/staining stats\u001b[39;00m\n\u001b[0;32m     37\u001b[0m feats\u001b[38;5;241m.\u001b[39mupdate(convert_and_stats(img, cell_mask))\n",
      "Cell \u001b[1;32mIn[4], line 62\u001b[0m, in \u001b[0;36mmorph_props\u001b[1;34m(mask, tag)\u001b[0m\n\u001b[0;32m     61\u001b[0m \u001b[38;5;28;01mdef\u001b[39;00m \u001b[38;5;21mmorph_props\u001b[39m(mask, tag):\n\u001b[1;32m---> 62\u001b[0m     lab \u001b[38;5;241m=\u001b[39m \u001b[43mlabel\u001b[49m\u001b[43m(\u001b[49m\u001b[43mmask\u001b[49m\u001b[43m)\u001b[49m\n\u001b[0;32m     63\u001b[0m     props \u001b[38;5;241m=\u001b[39m regionprops_table(lab, properties\u001b[38;5;241m=\u001b[39m(\n\u001b[0;32m     64\u001b[0m         \u001b[38;5;124m'\u001b[39m\u001b[38;5;124marea\u001b[39m\u001b[38;5;124m'\u001b[39m, \u001b[38;5;124m'\u001b[39m\u001b[38;5;124mlabel\u001b[39m\u001b[38;5;124m'\u001b[39m, \u001b[38;5;124m'\u001b[39m\u001b[38;5;124mmajor_axis_length\u001b[39m\u001b[38;5;124m'\u001b[39m, \u001b[38;5;124m'\u001b[39m\u001b[38;5;124mminor_axis_length\u001b[39m\u001b[38;5;124m'\u001b[39m, \u001b[38;5;124m'\u001b[39m\u001b[38;5;124meccentricity\u001b[39m\u001b[38;5;124m'\u001b[39m, \u001b[38;5;124m'\u001b[39m\u001b[38;5;124msolidity\u001b[39m\u001b[38;5;124m'\u001b[39m\n\u001b[0;32m     65\u001b[0m     ))\n\u001b[0;32m     66\u001b[0m     df \u001b[38;5;241m=\u001b[39m pd\u001b[38;5;241m.\u001b[39mDataFrame(props)\n",
      "File \u001b[1;32m~\\AppData\\Local\\Packages\\PythonSoftwareFoundation.Python.3.12_qbz5n2kfra8p0\\LocalCache\\local-packages\\Python312\\site-packages\\skimage\\measure\\_label.py:125\u001b[0m, in \u001b[0;36mlabel\u001b[1;34m(label_image, background, return_num, connectivity)\u001b[0m\n\u001b[0;32m    118\u001b[0m     \u001b[38;5;28;01mreturn\u001b[39;00m _label_bool(\n\u001b[0;32m    119\u001b[0m         label_image,\n\u001b[0;32m    120\u001b[0m         background\u001b[38;5;241m=\u001b[39mbackground,\n\u001b[0;32m    121\u001b[0m         return_num\u001b[38;5;241m=\u001b[39mreturn_num,\n\u001b[0;32m    122\u001b[0m         connectivity\u001b[38;5;241m=\u001b[39mconnectivity,\n\u001b[0;32m    123\u001b[0m     )\n\u001b[0;32m    124\u001b[0m \u001b[38;5;28;01melse\u001b[39;00m:\n\u001b[1;32m--> 125\u001b[0m     \u001b[38;5;28;01mreturn\u001b[39;00m \u001b[43mclabel\u001b[49m\u001b[43m(\u001b[49m\u001b[43mlabel_image\u001b[49m\u001b[43m,\u001b[49m\u001b[43m \u001b[49m\u001b[43mbackground\u001b[49m\u001b[43m,\u001b[49m\u001b[43m \u001b[49m\u001b[43mreturn_num\u001b[49m\u001b[43m,\u001b[49m\u001b[43m \u001b[49m\u001b[43mconnectivity\u001b[49m\u001b[43m)\u001b[49m\n",
      "\u001b[1;31mKeyboardInterrupt\u001b[0m: "
     ]
    }
   ],
   "source": [
    "# Process dataset\n",
    "records = []\n",
    "images = list_images(DATASET_DIR)\n",
    "print(f\"Found {len(images)} images.\")\n",
    "\n",
    "for img_path in tqdm(images):\n",
    "    rel = img_path.relative_to(DATASET_DIR)\n",
    "    out_prefix = RESULTS_DIR / rel.with_suffix('')\n",
    "    out_prefix.parent.mkdir(parents=True, exist_ok=True)\n",
    "\n",
    "    try:\n",
    "        img = read_image(img_path)\n",
    "        gray = cv2.cvtColor(img, cv2.COLOR_RGB2GRAY)\n",
    "\n",
    "        # Segment cell and nucleus\n",
    "        cell_mask = simple_cell_segmentation(img)\n",
    "        cell_mask = largest_region(cell_mask)\n",
    "        nuc_mask = simple_nucleus_segmentation(img, cell_mask)\n",
    "        nuc_mask = largest_region(nuc_mask)\n",
    "\n",
    "        # Save masks and overlays\n",
    "        cell_mask_path = MASKS_DIR / rel.with_suffix('').as_posix().replace('/', '__')\n",
    "        nuc_mask_path = MASKS_DIR / (rel.with_suffix('').as_posix().replace('/', '__') + \"_nuc\")\n",
    "        overlay_cell = make_overlay(img, cell_mask, (255, 0, 0))\n",
    "        overlay_nuc = make_overlay(img, nuc_mask, (0, 255, 0))\n",
    "        cv2.imwrite(str((Path(str(cell_mask_path)) ).with_suffix('.png')), cell_mask*255)\n",
    "        cv2.imwrite(str((Path(str(nuc_mask_path)) ).with_suffix('.png')), nuc_mask*255)\n",
    "        cv2.imwrite(str((OVERLAYS_DIR / (rel.with_suffix('').as_posix().replace('/', '__') + \"_cell_overlay.png\"))), cv2.cvtColor(overlay_cell, cv2.COLOR_RGB2BGR))\n",
    "        cv2.imwrite(str((OVERLAYS_DIR / (rel.with_suffix('').as_posix().replace('/', '__') + \"_nuc_overlay.png\"))), cv2.cvtColor(overlay_nuc, cv2.COLOR_RGB2BGR))\n",
    "\n",
    "        # Morphology\n",
    "        feats = {}\n",
    "        feats.update(morph_props(cell_mask, 'cell'))\n",
    "        feats.update(morph_props(nuc_mask, 'nucleus'))\n",
    "\n",
    "        # Color/staining stats\n",
    "        feats.update(convert_and_stats(img, cell_mask))\n",
    "        feats.update({f'nuc_{k}': v for k, v in convert_and_stats(img, nuc_mask).items()})\n",
    "        feats.update(stain_deconvolution_stats(img, cell_mask))\n",
    "        feats.update({f'nuc_{k}': v for k, v in stain_deconvolution_stats(img, nuc_mask).items()})\n",
    "\n",
    "        # Texture features\n",
    "        feats.update(glcm_features(gray, cell_mask, 'glcm_cell'))\n",
    "        feats.update(glcm_features(gray, nuc_mask, 'glcm_nuc'))\n",
    "        feats.update(lbp_features(gray, cell_mask, 'lbp_cell'))\n",
    "        feats.update(lbp_features(gray, nuc_mask, 'lbp_nuc'))\n",
    "\n",
    "        feats['image_rel_path'] = str(rel).replace('\\\\', '/')\n",
    "        records.append(feats)\n",
    "\n",
    "    except Exception as e:\n",
    "        print(f\"Error processing {img_path}: {e}\")\n",
    "        continue\n",
    "\n",
    "# Save CSV\n",
    "csv_path = RESULTS_DIR / 'features.csv'\n",
    "pd.DataFrame(records).to_csv(csv_path, index=False)\n",
    "print(f\"Saved features: {csv_path}\")"
   ]
  }
 ],
 "metadata": {
  "kernelspec": {
   "display_name": "Python 3",
   "language": "python",
   "name": "python3"
  },
  "language_info": {
   "codemirror_mode": {
    "name": "ipython",
    "version": 3
   },
   "file_extension": ".py",
   "mimetype": "text/x-python",
   "name": "python",
   "nbconvert_exporter": "python",
   "pygments_lexer": "ipython3",
   "version": "3.12.2"
  }
 },
 "nbformat": 4,
 "nbformat_minor": 5
}
