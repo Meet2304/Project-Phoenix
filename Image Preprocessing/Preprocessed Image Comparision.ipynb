{
 "cells": [
  {
   "cell_type": "markdown",
   "id": "92b3890c",
   "metadata": {},
   "source": [
    "# Preprocessed Image Comparision"
   ]
  },
  {
   "cell_type": "code",
   "execution_count": null,
   "id": "ce84e285",
   "metadata": {},
   "outputs": [],
   "source": [
    "# Compare the preprocessed images using various methods from the Dataset Folder and displaying a figure\n",
    "\n"
   ]
  },
  {
   "cell_type": "code",
   "execution_count": null,
   "id": "1e8aa5f6",
   "metadata": {},
   "outputs": [],
   "source": []
  }
 ],
 "metadata": {
  "kernelspec": {
   "display_name": "Python 3",
   "language": "python",
   "name": "python3"
  },
  "language_info": {
   "codemirror_mode": {
    "name": "ipython",
    "version": 3
   },
   "file_extension": ".py",
   "mimetype": "text/x-python",
   "name": "python",
   "nbconvert_exporter": "python",
   "pygments_lexer": "ipython3",
   "version": "3.12.2"
  }
 },
 "nbformat": 4,
 "nbformat_minor": 5
}
