{
 "cells": [
  {
   "cell_type": "markdown",
   "id": "fcb1a18b",
   "metadata": {},
   "source": [
    "# Preliminary Research ProtoPNet"
   ]
  },
  {
   "cell_type": "markdown",
   "id": "2e3d2625",
   "metadata": {},
   "source": [
    "- ProtoPNet augments a normal CNN by storing a small batch of prototypes (like example feature matches). \n",
    "- For a new image, it finds which prototypes match part of the image, and final descision is made from those patches.\n",
    "- The model can show which training patch each prototype matches and where it matched on the test image, adding to the explaination."
   ]
  },
  {
   "cell_type": "markdown",
   "id": "4763c3e2",
   "metadata": {},
   "source": [
    "### Overall High Level Architecture"
   ]
  },
  {
   "cell_type": "code",
   "execution_count": null,
   "id": "8c92e4cd",
   "metadata": {},
   "outputs": [],
   "source": [
    "Input image\n",
    "  └→ Backbone CNN → Feature map (H × W × D)\n",
    "       └→ (optional) 1×1 adapter → Feature map (H × W × D')\n",
    "            └→ Prototype layer (M prototypes of size D'×p×p)\n",
    "                 └→ Per-prototype similarity scores (M values)\n",
    "                      └→ Linear classifier (weights W: num_classes × M)\n",
    "                           └→ Softmax → class probabilities"
   ]
  },
  {
   "cell_type": "markdown",
   "id": "3b1eca60",
   "metadata": {},
   "source": []
  }
 ],
 "metadata": {
  "kernelspec": {
   "display_name": "Python 3",
   "language": "python",
   "name": "python3"
  },
  "language_info": {
   "name": "python",
   "version": "3.12.2"
  }
 },
 "nbformat": 4,
 "nbformat_minor": 5
}
