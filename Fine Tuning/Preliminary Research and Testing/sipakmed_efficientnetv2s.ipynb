{
  "cells": [
    {
      "cell_type": "code",
      "execution_count": null,
      "metadata": {
        "id": "p6iBuZkgy_da"
      },
      "outputs": [],
      "source": [
        "# 1. Setup: Install packages (if needed) and check CUDA\n",
        "!pip install torchvision --quiet"
      ]
    },
    {
      "cell_type": "code",
      "execution_count": null,
      "metadata": {
        "id": "8sssj_FhzByA"
      },
      "outputs": [],
      "source": [
        "import torch\n",
        "import torchvision\n",
        "from torchvision import transforms, datasets\n",
        "from torch.utils.data import random_split, DataLoader"
      ]
    },
    {
      "cell_type": "code",
      "execution_count": null,
      "metadata": {
        "colab": {
          "base_uri": "https://localhost:8080/"
        },
        "id": "2KjIGOq_zFea",
        "outputId": "46153079-9aaf-4620-c2fb-7c41dffc2ecc"
      },
      "outputs": [
        {
          "name": "stdout",
          "output_type": "stream",
          "text": [
            "Mounted at /content/drive\n"
          ]
        }
      ],
      "source": [
        "# 2. Mount Google Drive (for dataset/geasy saving)\n",
        "from google.colab import drive\n",
        "drive.mount('/content/drive')"
      ]
    },
    {
      "cell_type": "code",
      "execution_count": null,
      "metadata": {
        "id": "HU9zAN7SVWIN"
      },
      "outputs": [],
      "source": [
        "# 3. Paths and transforms (update to your path if needed)\n",
        "DATA_DIR = \"/content/drive/MyDrive/preprocessed_sipakmed_dataset\"\n",
        "transform = transforms.Compose([\n",
        "    transforms.Resize((384, 384)),\n",
        "    transforms.ToTensor(),\n",
        "    transforms.Normalize([0.485, 0.456, 0.406],[0.229, 0.224, 0.225])\n",
        "])"
      ]
    },
    {
      "cell_type": "code",
      "execution_count": null,
      "metadata": {
        "colab": {
          "base_uri": "https://localhost:8080/"
        },
        "id": "i25kt12q1qww",
        "outputId": "6108c18c-cdb9-463b-b30b-bd6683f2c0f0"
      },
      "outputs": [
        {
          "name": "stdout",
          "output_type": "stream",
          "text": [
            "Classes: ['im_Dyskeratotic', 'im_Koilocytotic', 'im_Metaplastic', 'im_Parabasal', 'im_Superficial-Intermediate']\n"
          ]
        }
      ],
      "source": [
        "# 4. Load the complete dataset from one folder\n",
        "dataset = datasets.ImageFolder(root=DATA_DIR, transform=transform)\n",
        "num_classes = len(dataset.classes)\n",
        "print(\"Classes:\", dataset.classes)"
      ]
    },
    {
      "cell_type": "code",
      "execution_count": null,
      "metadata": {
        "colab": {
          "base_uri": "https://localhost:8080/"
        },
        "id": "zUX8nuNwVxZO",
        "outputId": "b1e9a8de-7441-49e6-cce8-ee5df9b591d1"
      },
      "outputs": [
        {
          "name": "stdout",
          "output_type": "stream",
          "text": [
            "Train: 2846, Val: 610, Test: 611\n"
          ]
        }
      ],
      "source": [
        "# 5. Split dataset into train, val, test (e.g. 70%, 15%, 15%)\n",
        "dataset_size = len(dataset)\n",
        "train_size = int(0.7 * dataset_size)\n",
        "val_size = int(0.15 * dataset_size)\n",
        "test_size = dataset_size - train_size - val_size\n",
        "\n",
        "train_ds, val_ds, test_ds = random_split(dataset, [train_size, val_size, test_size])\n",
        "print(f\"Train: {len(train_ds)}, Val: {len(val_ds)}, Test: {len(test_ds)}\")\n"
      ]
    },
    {
      "cell_type": "code",
      "execution_count": null,
      "metadata": {
        "id": "Z7sBeK_syYQW"
      },
      "outputs": [],
      "source": [
        "# 6. DataLoaders\n",
        "batch_size = 32\n",
        "train_loader = DataLoader(train_ds, batch_size=batch_size, shuffle=True, num_workers=2)\n",
        "val_loader = DataLoader(val_ds, batch_size=batch_size, shuffle=False, num_workers=2)\n",
        "test_loader = DataLoader(test_ds, batch_size=batch_size, shuffle=False, num_workers=2)"
      ]
    },
    {
      "cell_type": "code",
      "execution_count": null,
      "metadata": {
        "colab": {
          "base_uri": "https://localhost:8080/"
        },
        "id": "2Q9YJfMXybhp",
        "outputId": "38fd1230-ddcf-473d-acc9-0e6f1335aaab"
      },
      "outputs": [
        {
          "name": "stdout",
          "output_type": "stream",
          "text": [
            "Downloading: \"https://download.pytorch.org/models/efficientnet_v2_s-dd5fe13b.pth\" to /root/.cache/torch/hub/checkpoints/efficientnet_v2_s-dd5fe13b.pth\n"
          ]
        },
        {
          "name": "stderr",
          "output_type": "stream",
          "text": [
            "100%|██████████| 82.7M/82.7M [00:00<00:00, 137MB/s]\n"
          ]
        }
      ],
      "source": [
        "from torchvision.models import efficientnet_v2_s\n",
        "model = efficientnet_v2_s(weights=\"IMAGENET1K_V1\")\n",
        "model.classifier[1] = torch.nn.Linear(model.classifier[1].in_features, num_classes)  # correct index\n",
        "device = 'cuda' if torch.cuda.is_available() else 'cpu'\n",
        "model = model.to(device)\n"
      ]
    },
    {
      "cell_type": "code",
      "execution_count": null,
      "metadata": {
        "id": "7se33vZOoCMb"
      },
      "outputs": [],
      "source": [
        "# Define loss function\n",
        "criterion = torch.nn.CrossEntropyLoss()\n",
        "\n",
        "# Define optimizer (important — do this BEFORE training loop)\n",
        "optimizer = torch.optim.Adam(model.parameters(), lr=2e-4)\n"
      ]
    },
    {
      "cell_type": "code",
      "execution_count": null,
      "metadata": {
        "colab": {
          "base_uri": "https://localhost:8080/"
        },
        "id": "2PmwCqSMygcy",
        "outputId": "6b852a82-28f4-4319-e29b-c1c510ca60b9"
      },
      "outputs": [
        {
          "name": "stdout",
          "output_type": "stream",
          "text": [
            "Epoch 1/20 - Loss: 0.1294\n",
            "Validation Accuracy: 95.25%\n",
            "Epoch 2/20 - Loss: 0.2959\n",
            "Validation Accuracy: 93.44%\n",
            "Epoch 3/20 - Loss: 0.0106\n",
            "Validation Accuracy: 96.72%\n",
            "Epoch 4/20 - Loss: 0.0545\n",
            "Validation Accuracy: 96.89%\n",
            "Epoch 5/20 - Loss: 0.0163\n",
            "Validation Accuracy: 96.07%\n",
            "Epoch 6/20 - Loss: 0.0332\n",
            "Validation Accuracy: 96.39%\n",
            "Epoch 7/20 - Loss: 0.0011\n",
            "Validation Accuracy: 95.57%\n",
            "Epoch 8/20 - Loss: 0.0587\n",
            "Validation Accuracy: 96.23%\n",
            "Epoch 9/20 - Loss: 0.0568\n",
            "Validation Accuracy: 95.74%\n",
            "Epoch 10/20 - Loss: 0.0113\n",
            "Validation Accuracy: 97.38%\n",
            "Epoch 11/20 - Loss: 0.0222\n",
            "Validation Accuracy: 94.75%\n",
            "Epoch 12/20 - Loss: 0.0354\n",
            "Validation Accuracy: 95.08%\n",
            "Epoch 13/20 - Loss: 0.0272\n",
            "Validation Accuracy: 96.23%\n",
            "Epoch 14/20 - Loss: 0.0008\n",
            "Validation Accuracy: 94.59%\n",
            "Epoch 15/20 - Loss: 0.0220\n",
            "Validation Accuracy: 97.38%\n",
            "Epoch 16/20 - Loss: 0.0115\n",
            "Validation Accuracy: 96.39%\n",
            "Epoch 17/20 - Loss: 0.0287\n",
            "Validation Accuracy: 96.07%\n",
            "Epoch 18/20 - Loss: 0.0240\n",
            "Validation Accuracy: 96.89%\n",
            "Epoch 19/20 - Loss: 0.0009\n",
            "Validation Accuracy: 96.56%\n",
            "Epoch 20/20 - Loss: 0.0008\n",
            "Validation Accuracy: 97.21%\n"
          ]
        }
      ],
      "source": [
        "# 8. Training Loop (as before, with validation after each epoch)\n",
        "num_epochs = 20\n",
        "for epoch in range(num_epochs):\n",
        "    model.train()\n",
        "    for images, labels in train_loader:\n",
        "        images, labels = images.to(device), labels.to(device)\n",
        "        optimizer.zero_grad()\n",
        "        outputs = model(images)\n",
        "        loss = criterion(outputs, labels)\n",
        "        loss.backward()\n",
        "        optimizer.step()\n",
        "    print(f\"Epoch {epoch+1}/{num_epochs} - Loss: {loss.item():.4f}\")\n",
        "\n",
        "    # Validation\n",
        "    model.eval()\n",
        "    correct, total = 0, 0\n",
        "    with torch.no_grad():\n",
        "        for images, labels in val_loader:\n",
        "            images, labels = images.to(device), labels.to(device)\n",
        "            outputs = model(images)\n",
        "            _, preds = outputs.max(1)\n",
        "            correct += (preds == labels).sum().item()\n",
        "            total += labels.size(0)\n",
        "    print(f\"Validation Accuracy: {100*correct/total:.2f}%\")\n"
      ]
    },
    {
      "cell_type": "code",
      "execution_count": null,
      "metadata": {
        "colab": {
          "base_uri": "https://localhost:8080/"
        },
        "id": "5NcYwm0byuuP",
        "outputId": "609e9e6c-43c7-4ea7-bd76-c0ae683cae3d"
      },
      "outputs": [
        {
          "name": "stdout",
          "output_type": "stream",
          "text": [
            "Model saved!\n"
          ]
        }
      ],
      "source": [
        "# 9. Save the model weights to Drive\n",
        "torch.save(model.state_dict(), \"/content/drive/MyDrive/efficientnetv2s_cervical_cancer.pth\")\n",
        "print(\"Model saved!\")"
      ]
    },
    {
      "cell_type": "code",
      "execution_count": null,
      "metadata": {
        "colab": {
          "base_uri": "https://localhost:8080/"
        },
        "id": "zpt3r2jo1aHM",
        "outputId": "e02bee4e-e97d-422d-93b0-4f34e470e8b9"
      },
      "outputs": [
        {
          "name": "stdout",
          "output_type": "stream",
          "text": [
            "Test Accuracy: 96.40%\n"
          ]
        }
      ],
      "source": [
        "model.eval()  # Set model to evaluation mode\n",
        "\n",
        "correct, total = 0, 0\n",
        "all_preds = []\n",
        "all_labels = []\n",
        "\n",
        "with torch.no_grad():  # Disable gradient calculation\n",
        "    for images, labels in test_loader:  # test_loader must be defined as for validation\n",
        "        images, labels = images.to(device), labels.to(device)\n",
        "        outputs = model(images)  # Forward pass (logits)\n",
        "        _, preds = outputs.max(1)  # Get predicted class labels\n",
        "\n",
        "        correct += (preds == labels).sum().item()\n",
        "        total += labels.size(0)\n",
        "\n",
        "        all_preds.extend(preds.cpu().numpy())\n",
        "        all_labels.extend(labels.cpu().numpy())\n",
        "\n",
        "# Calculate and print test accuracy\n",
        "print(f\"Test Accuracy: {100 * correct / total:.2f}%\")\n"
      ]
    },
    {
      "cell_type": "code",
      "execution_count": null,
      "metadata": {
        "colab": {
          "base_uri": "https://localhost:8080/"
        },
        "id": "w_fACofV1m1_",
        "outputId": "fbb2bdc4-3f41-493f-a3ab-7f2860e3d603"
      },
      "outputs": [
        {
          "name": "stdout",
          "output_type": "stream",
          "text": [
            "Predictions: ['im_Superficial-Intermediate', 'im_Dyskeratotic', 'im_Koilocytotic', 'im_Parabasal', 'im_Superficial-Intermediate', 'im_Dyskeratotic', 'im_Koilocytotic', 'im_Metaplastic', 'im_Parabasal', 'im_Dyskeratotic', 'im_Parabasal', 'im_Superficial-Intermediate', 'im_Metaplastic', 'im_Koilocytotic', 'im_Parabasal', 'im_Dyskeratotic', 'im_Koilocytotic', 'im_Superficial-Intermediate', 'im_Parabasal', 'im_Dyskeratotic', 'im_Metaplastic', 'im_Koilocytotic', 'im_Metaplastic', 'im_Parabasal', 'im_Parabasal', 'im_Dyskeratotic', 'im_Koilocytotic', 'im_Superficial-Intermediate', 'im_Superficial-Intermediate', 'im_Dyskeratotic', 'im_Dyskeratotic', 'im_Superficial-Intermediate', 'im_Metaplastic', 'im_Dyskeratotic', 'im_Dyskeratotic', 'im_Metaplastic', 'im_Superficial-Intermediate', 'im_Superficial-Intermediate', 'im_Parabasal', 'im_Koilocytotic', 'im_Koilocytotic', 'im_Dyskeratotic', 'im_Koilocytotic', 'im_Parabasal', 'im_Parabasal', 'im_Koilocytotic', 'im_Metaplastic', 'im_Dyskeratotic', 'im_Parabasal', 'im_Koilocytotic', 'im_Superficial-Intermediate', 'im_Metaplastic', 'im_Koilocytotic', 'im_Superficial-Intermediate', 'im_Dyskeratotic', 'im_Koilocytotic', 'im_Metaplastic', 'im_Parabasal', 'im_Metaplastic', 'im_Superficial-Intermediate', 'im_Parabasal', 'im_Dyskeratotic', 'im_Parabasal', 'im_Koilocytotic', 'im_Koilocytotic', 'im_Metaplastic', 'im_Metaplastic', 'im_Koilocytotic', 'im_Koilocytotic', 'im_Superficial-Intermediate', 'im_Superficial-Intermediate', 'im_Superficial-Intermediate', 'im_Koilocytotic', 'im_Metaplastic', 'im_Superficial-Intermediate', 'im_Superficial-Intermediate', 'im_Superficial-Intermediate', 'im_Metaplastic', 'im_Koilocytotic', 'im_Dyskeratotic', 'im_Koilocytotic', 'im_Koilocytotic', 'im_Superficial-Intermediate', 'im_Koilocytotic', 'im_Dyskeratotic', 'im_Superficial-Intermediate', 'im_Metaplastic', 'im_Superficial-Intermediate', 'im_Koilocytotic', 'im_Dyskeratotic', 'im_Parabasal', 'im_Metaplastic', 'im_Koilocytotic', 'im_Superficial-Intermediate', 'im_Dyskeratotic', 'im_Koilocytotic', 'im_Parabasal', 'im_Koilocytotic', 'im_Parabasal', 'im_Metaplastic', 'im_Koilocytotic', 'im_Koilocytotic', 'im_Superficial-Intermediate', 'im_Superficial-Intermediate', 'im_Superficial-Intermediate', 'im_Superficial-Intermediate', 'im_Superficial-Intermediate', 'im_Metaplastic', 'im_Metaplastic', 'im_Superficial-Intermediate', 'im_Superficial-Intermediate', 'im_Koilocytotic', 'im_Parabasal', 'im_Parabasal', 'im_Koilocytotic', 'im_Dyskeratotic', 'im_Dyskeratotic', 'im_Superficial-Intermediate', 'im_Koilocytotic', 'im_Dyskeratotic', 'im_Superficial-Intermediate', 'im_Superficial-Intermediate', 'im_Metaplastic', 'im_Metaplastic', 'im_Metaplastic', 'im_Koilocytotic', 'im_Koilocytotic', 'im_Superficial-Intermediate', 'im_Metaplastic', 'im_Superficial-Intermediate', 'im_Parabasal', 'im_Parabasal', 'im_Metaplastic', 'im_Metaplastic', 'im_Superficial-Intermediate', 'im_Superficial-Intermediate', 'im_Metaplastic', 'im_Metaplastic', 'im_Parabasal', 'im_Dyskeratotic', 'im_Koilocytotic', 'im_Dyskeratotic', 'im_Koilocytotic', 'im_Dyskeratotic', 'im_Koilocytotic', 'im_Dyskeratotic', 'im_Parabasal', 'im_Parabasal', 'im_Parabasal', 'im_Dyskeratotic', 'im_Koilocytotic', 'im_Metaplastic', 'im_Superficial-Intermediate', 'im_Superficial-Intermediate', 'im_Metaplastic', 'im_Koilocytotic', 'im_Superficial-Intermediate', 'im_Superficial-Intermediate', 'im_Superficial-Intermediate', 'im_Metaplastic', 'im_Koilocytotic', 'im_Koilocytotic', 'im_Parabasal', 'im_Dyskeratotic', 'im_Koilocytotic', 'im_Dyskeratotic', 'im_Superficial-Intermediate', 'im_Parabasal', 'im_Parabasal', 'im_Koilocytotic', 'im_Parabasal', 'im_Parabasal', 'im_Dyskeratotic', 'im_Superficial-Intermediate', 'im_Superficial-Intermediate', 'im_Metaplastic', 'im_Superficial-Intermediate', 'im_Koilocytotic', 'im_Dyskeratotic', 'im_Dyskeratotic', 'im_Dyskeratotic', 'im_Superficial-Intermediate', 'im_Superficial-Intermediate', 'im_Parabasal', 'im_Superficial-Intermediate', 'im_Dyskeratotic', 'im_Superficial-Intermediate', 'im_Dyskeratotic', 'im_Dyskeratotic', 'im_Koilocytotic', 'im_Koilocytotic', 'im_Koilocytotic', 'im_Metaplastic', 'im_Metaplastic', 'im_Parabasal', 'im_Parabasal', 'im_Dyskeratotic', 'im_Metaplastic', 'im_Koilocytotic', 'im_Superficial-Intermediate', 'im_Metaplastic', 'im_Metaplastic', 'im_Koilocytotic', 'im_Parabasal', 'im_Parabasal', 'im_Dyskeratotic', 'im_Parabasal', 'im_Koilocytotic', 'im_Koilocytotic', 'im_Metaplastic', 'im_Metaplastic', 'im_Metaplastic', 'im_Koilocytotic', 'im_Superficial-Intermediate', 'im_Superficial-Intermediate', 'im_Dyskeratotic', 'im_Metaplastic', 'im_Koilocytotic', 'im_Dyskeratotic', 'im_Dyskeratotic', 'im_Koilocytotic', 'im_Dyskeratotic', 'im_Metaplastic', 'im_Superficial-Intermediate', 'im_Koilocytotic', 'im_Parabasal', 'im_Dyskeratotic', 'im_Dyskeratotic', 'im_Metaplastic', 'im_Metaplastic', 'im_Koilocytotic', 'im_Metaplastic', 'im_Koilocytotic', 'im_Superficial-Intermediate', 'im_Parabasal', 'im_Parabasal', 'im_Dyskeratotic', 'im_Parabasal', 'im_Koilocytotic', 'im_Superficial-Intermediate', 'im_Dyskeratotic', 'im_Dyskeratotic', 'im_Koilocytotic', 'im_Parabasal', 'im_Dyskeratotic', 'im_Parabasal', 'im_Superficial-Intermediate', 'im_Koilocytotic', 'im_Parabasal', 'im_Dyskeratotic', 'im_Superficial-Intermediate', 'im_Dyskeratotic', 'im_Parabasal', 'im_Parabasal', 'im_Dyskeratotic', 'im_Dyskeratotic', 'im_Superficial-Intermediate', 'im_Metaplastic', 'im_Metaplastic', 'im_Dyskeratotic', 'im_Superficial-Intermediate', 'im_Parabasal', 'im_Superficial-Intermediate', 'im_Parabasal', 'im_Metaplastic', 'im_Parabasal', 'im_Metaplastic', 'im_Metaplastic', 'im_Dyskeratotic', 'im_Dyskeratotic', 'im_Koilocytotic', 'im_Metaplastic', 'im_Parabasal', 'im_Superficial-Intermediate', 'im_Metaplastic', 'im_Dyskeratotic', 'im_Koilocytotic', 'im_Koilocytotic', 'im_Koilocytotic', 'im_Parabasal', 'im_Parabasal', 'im_Metaplastic', 'im_Parabasal', 'im_Superficial-Intermediate', 'im_Dyskeratotic', 'im_Superficial-Intermediate', 'im_Dyskeratotic', 'im_Koilocytotic', 'im_Superficial-Intermediate', 'im_Metaplastic', 'im_Metaplastic', 'im_Metaplastic', 'im_Koilocytotic', 'im_Superficial-Intermediate', 'im_Superficial-Intermediate', 'im_Parabasal', 'im_Metaplastic', 'im_Metaplastic', 'im_Metaplastic', 'im_Metaplastic', 'im_Superficial-Intermediate', 'im_Parabasal', 'im_Dyskeratotic', 'im_Parabasal', 'im_Superficial-Intermediate', 'im_Dyskeratotic', 'im_Metaplastic', 'im_Superficial-Intermediate', 'im_Parabasal', 'im_Superficial-Intermediate', 'im_Parabasal', 'im_Metaplastic', 'im_Dyskeratotic', 'im_Superficial-Intermediate', 'im_Metaplastic', 'im_Koilocytotic', 'im_Dyskeratotic', 'im_Metaplastic', 'im_Dyskeratotic', 'im_Superficial-Intermediate', 'im_Koilocytotic', 'im_Parabasal', 'im_Dyskeratotic', 'im_Dyskeratotic', 'im_Metaplastic', 'im_Superficial-Intermediate', 'im_Metaplastic', 'im_Koilocytotic', 'im_Superficial-Intermediate', 'im_Koilocytotic', 'im_Parabasal', 'im_Parabasal', 'im_Parabasal', 'im_Metaplastic', 'im_Koilocytotic', 'im_Koilocytotic', 'im_Parabasal', 'im_Superficial-Intermediate', 'im_Metaplastic', 'im_Superficial-Intermediate', 'im_Koilocytotic', 'im_Dyskeratotic', 'im_Parabasal', 'im_Parabasal', 'im_Superficial-Intermediate', 'im_Koilocytotic', 'im_Parabasal', 'im_Parabasal', 'im_Dyskeratotic', 'im_Superficial-Intermediate', 'im_Dyskeratotic', 'im_Koilocytotic', 'im_Superficial-Intermediate', 'im_Dyskeratotic', 'im_Metaplastic', 'im_Superficial-Intermediate', 'im_Superficial-Intermediate', 'im_Superficial-Intermediate', 'im_Dyskeratotic', 'im_Superficial-Intermediate', 'im_Metaplastic', 'im_Parabasal', 'im_Koilocytotic', 'im_Koilocytotic', 'im_Dyskeratotic', 'im_Dyskeratotic', 'im_Koilocytotic', 'im_Metaplastic', 'im_Koilocytotic', 'im_Parabasal', 'im_Parabasal', 'im_Parabasal', 'im_Parabasal', 'im_Koilocytotic', 'im_Superficial-Intermediate', 'im_Parabasal', 'im_Parabasal', 'im_Koilocytotic', 'im_Koilocytotic', 'im_Superficial-Intermediate', 'im_Parabasal', 'im_Dyskeratotic', 'im_Parabasal', 'im_Superficial-Intermediate', 'im_Parabasal', 'im_Dyskeratotic', 'im_Dyskeratotic', 'im_Metaplastic', 'im_Parabasal', 'im_Koilocytotic', 'im_Superficial-Intermediate', 'im_Koilocytotic', 'im_Koilocytotic', 'im_Dyskeratotic', 'im_Koilocytotic', 'im_Metaplastic', 'im_Dyskeratotic', 'im_Metaplastic', 'im_Parabasal', 'im_Parabasal', 'im_Metaplastic', 'im_Koilocytotic', 'im_Koilocytotic', 'im_Superficial-Intermediate', 'im_Dyskeratotic', 'im_Dyskeratotic', 'im_Koilocytotic', 'im_Parabasal', 'im_Dyskeratotic', 'im_Superficial-Intermediate', 'im_Dyskeratotic', 'im_Parabasal', 'im_Dyskeratotic', 'im_Koilocytotic', 'im_Metaplastic', 'im_Dyskeratotic', 'im_Superficial-Intermediate', 'im_Koilocytotic', 'im_Parabasal', 'im_Metaplastic', 'im_Koilocytotic', 'im_Metaplastic', 'im_Metaplastic', 'im_Koilocytotic', 'im_Superficial-Intermediate', 'im_Dyskeratotic', 'im_Dyskeratotic', 'im_Metaplastic', 'im_Koilocytotic', 'im_Koilocytotic', 'im_Superficial-Intermediate', 'im_Parabasal', 'im_Koilocytotic', 'im_Koilocytotic', 'im_Superficial-Intermediate', 'im_Parabasal', 'im_Dyskeratotic', 'im_Superficial-Intermediate', 'im_Superficial-Intermediate', 'im_Metaplastic', 'im_Parabasal', 'im_Superficial-Intermediate', 'im_Metaplastic', 'im_Koilocytotic', 'im_Koilocytotic', 'im_Dyskeratotic', 'im_Dyskeratotic', 'im_Koilocytotic', 'im_Parabasal', 'im_Metaplastic', 'im_Superficial-Intermediate', 'im_Dyskeratotic', 'im_Koilocytotic', 'im_Superficial-Intermediate', 'im_Koilocytotic', 'im_Dyskeratotic', 'im_Metaplastic', 'im_Dyskeratotic', 'im_Metaplastic', 'im_Metaplastic', 'im_Koilocytotic', 'im_Koilocytotic', 'im_Koilocytotic', 'im_Dyskeratotic', 'im_Parabasal', 'im_Dyskeratotic', 'im_Superficial-Intermediate', 'im_Parabasal', 'im_Dyskeratotic', 'im_Koilocytotic', 'im_Metaplastic', 'im_Superficial-Intermediate', 'im_Superficial-Intermediate', 'im_Parabasal', 'im_Koilocytotic', 'im_Dyskeratotic', 'im_Superficial-Intermediate', 'im_Metaplastic', 'im_Koilocytotic', 'im_Parabasal', 'im_Metaplastic', 'im_Parabasal', 'im_Parabasal', 'im_Superficial-Intermediate', 'im_Metaplastic', 'im_Dyskeratotic', 'im_Dyskeratotic', 'im_Koilocytotic', 'im_Dyskeratotic', 'im_Superficial-Intermediate', 'im_Parabasal', 'im_Superficial-Intermediate', 'im_Dyskeratotic', 'im_Superficial-Intermediate', 'im_Parabasal', 'im_Parabasal', 'im_Metaplastic', 'im_Koilocytotic', 'im_Metaplastic', 'im_Dyskeratotic', 'im_Superficial-Intermediate', 'im_Parabasal', 'im_Metaplastic', 'im_Superficial-Intermediate', 'im_Dyskeratotic', 'im_Parabasal', 'im_Metaplastic', 'im_Metaplastic', 'im_Parabasal', 'im_Dyskeratotic', 'im_Superficial-Intermediate', 'im_Metaplastic', 'im_Parabasal', 'im_Dyskeratotic', 'im_Metaplastic', 'im_Koilocytotic', 'im_Koilocytotic', 'im_Parabasal', 'im_Superficial-Intermediate', 'im_Koilocytotic', 'im_Metaplastic', 'im_Metaplastic', 'im_Parabasal', 'im_Dyskeratotic', 'im_Superficial-Intermediate', 'im_Dyskeratotic', 'im_Koilocytotic', 'im_Superficial-Intermediate', 'im_Dyskeratotic', 'im_Parabasal', 'im_Koilocytotic', 'im_Metaplastic', 'im_Superficial-Intermediate', 'im_Koilocytotic', 'im_Metaplastic', 'im_Dyskeratotic', 'im_Parabasal', 'im_Superficial-Intermediate', 'im_Metaplastic', 'im_Dyskeratotic', 'im_Dyskeratotic', 'im_Dyskeratotic', 'im_Metaplastic', 'im_Parabasal', 'im_Superficial-Intermediate', 'im_Parabasal', 'im_Koilocytotic', 'im_Koilocytotic', 'im_Koilocytotic', 'im_Koilocytotic', 'im_Koilocytotic', 'im_Koilocytotic', 'im_Parabasal', 'im_Superficial-Intermediate', 'im_Koilocytotic', 'im_Koilocytotic', 'im_Superficial-Intermediate', 'im_Dyskeratotic', 'im_Superficial-Intermediate', 'im_Koilocytotic', 'im_Metaplastic', 'im_Koilocytotic', 'im_Metaplastic', 'im_Superficial-Intermediate', 'im_Koilocytotic', 'im_Superficial-Intermediate', 'im_Koilocytotic', 'im_Parabasal', 'im_Koilocytotic', 'im_Dyskeratotic', 'im_Koilocytotic', 'im_Koilocytotic', 'im_Parabasal', 'im_Koilocytotic', 'im_Superficial-Intermediate', 'im_Metaplastic', 'im_Dyskeratotic', 'im_Dyskeratotic', 'im_Metaplastic', 'im_Koilocytotic', 'im_Metaplastic', 'im_Dyskeratotic', 'im_Metaplastic', 'im_Metaplastic', 'im_Superficial-Intermediate', 'im_Metaplastic', 'im_Dyskeratotic', 'im_Parabasal', 'im_Superficial-Intermediate', 'im_Parabasal', 'im_Dyskeratotic', 'im_Metaplastic', 'im_Koilocytotic', 'im_Superficial-Intermediate', 'im_Dyskeratotic', 'im_Superficial-Intermediate', 'im_Parabasal', 'im_Metaplastic', 'im_Parabasal', 'im_Koilocytotic', 'im_Koilocytotic', 'im_Dyskeratotic', 'im_Parabasal', 'im_Superficial-Intermediate', 'im_Metaplastic', 'im_Superficial-Intermediate', 'im_Koilocytotic', 'im_Metaplastic', 'im_Parabasal', 'im_Koilocytotic', 'im_Superficial-Intermediate']\n"
          ]
        }
      ],
      "source": [
        "class_names = test_loader.dataset.dataset.classes  # If you used random_split from ImageFolder\n",
        "print(\"Predictions:\", [class_names[i] for i in all_preds])\n"
      ]
    },
    {
      "cell_type": "code",
      "execution_count": null,
      "metadata": {
        "colab": {
          "base_uri": "https://localhost:8080/",
          "height": 90
        },
        "id": "RLn8R_mL6ksJ",
        "outputId": "5f2df9f8-b5fb-48a1-ea4c-c1e70ea7ff52"
      },
      "outputs": [
        {
          "data": {
            "text/html": [
              "\n",
              "     <input type=\"file\" id=\"files-0ae1b0da-63d9-41c2-a71b-aed9595f83d9\" name=\"files[]\" multiple disabled\n",
              "        style=\"border:none\" />\n",
              "     <output id=\"result-0ae1b0da-63d9-41c2-a71b-aed9595f83d9\">\n",
              "      Upload widget is only available when the cell has been executed in the\n",
              "      current browser session. Please rerun this cell to enable.\n",
              "      </output>\n",
              "      <script>// Copyright 2017 Google LLC\n",
              "//\n",
              "// Licensed under the Apache License, Version 2.0 (the \"License\");\n",
              "// you may not use this file except in compliance with the License.\n",
              "// You may obtain a copy of the License at\n",
              "//\n",
              "//      http://www.apache.org/licenses/LICENSE-2.0\n",
              "//\n",
              "// Unless required by applicable law or agreed to in writing, software\n",
              "// distributed under the License is distributed on an \"AS IS\" BASIS,\n",
              "// WITHOUT WARRANTIES OR CONDITIONS OF ANY KIND, either express or implied.\n",
              "// See the License for the specific language governing permissions and\n",
              "// limitations under the License.\n",
              "\n",
              "/**\n",
              " * @fileoverview Helpers for google.colab Python module.\n",
              " */\n",
              "(function(scope) {\n",
              "function span(text, styleAttributes = {}) {\n",
              "  const element = document.createElement('span');\n",
              "  element.textContent = text;\n",
              "  for (const key of Object.keys(styleAttributes)) {\n",
              "    element.style[key] = styleAttributes[key];\n",
              "  }\n",
              "  return element;\n",
              "}\n",
              "\n",
              "// Max number of bytes which will be uploaded at a time.\n",
              "const MAX_PAYLOAD_SIZE = 100 * 1024;\n",
              "\n",
              "function _uploadFiles(inputId, outputId) {\n",
              "  const steps = uploadFilesStep(inputId, outputId);\n",
              "  const outputElement = document.getElementById(outputId);\n",
              "  // Cache steps on the outputElement to make it available for the next call\n",
              "  // to uploadFilesContinue from Python.\n",
              "  outputElement.steps = steps;\n",
              "\n",
              "  return _uploadFilesContinue(outputId);\n",
              "}\n",
              "\n",
              "// This is roughly an async generator (not supported in the browser yet),\n",
              "// where there are multiple asynchronous steps and the Python side is going\n",
              "// to poll for completion of each step.\n",
              "// This uses a Promise to block the python side on completion of each step,\n",
              "// then passes the result of the previous step as the input to the next step.\n",
              "function _uploadFilesContinue(outputId) {\n",
              "  const outputElement = document.getElementById(outputId);\n",
              "  const steps = outputElement.steps;\n",
              "\n",
              "  const next = steps.next(outputElement.lastPromiseValue);\n",
              "  return Promise.resolve(next.value.promise).then((value) => {\n",
              "    // Cache the last promise value to make it available to the next\n",
              "    // step of the generator.\n",
              "    outputElement.lastPromiseValue = value;\n",
              "    return next.value.response;\n",
              "  });\n",
              "}\n",
              "\n",
              "/**\n",
              " * Generator function which is called between each async step of the upload\n",
              " * process.\n",
              " * @param {string} inputId Element ID of the input file picker element.\n",
              " * @param {string} outputId Element ID of the output display.\n",
              " * @return {!Iterable<!Object>} Iterable of next steps.\n",
              " */\n",
              "function* uploadFilesStep(inputId, outputId) {\n",
              "  const inputElement = document.getElementById(inputId);\n",
              "  inputElement.disabled = false;\n",
              "\n",
              "  const outputElement = document.getElementById(outputId);\n",
              "  outputElement.innerHTML = '';\n",
              "\n",
              "  const pickedPromise = new Promise((resolve) => {\n",
              "    inputElement.addEventListener('change', (e) => {\n",
              "      resolve(e.target.files);\n",
              "    });\n",
              "  });\n",
              "\n",
              "  const cancel = document.createElement('button');\n",
              "  inputElement.parentElement.appendChild(cancel);\n",
              "  cancel.textContent = 'Cancel upload';\n",
              "  const cancelPromise = new Promise((resolve) => {\n",
              "    cancel.onclick = () => {\n",
              "      resolve(null);\n",
              "    };\n",
              "  });\n",
              "\n",
              "  // Wait for the user to pick the files.\n",
              "  const files = yield {\n",
              "    promise: Promise.race([pickedPromise, cancelPromise]),\n",
              "    response: {\n",
              "      action: 'starting',\n",
              "    }\n",
              "  };\n",
              "\n",
              "  cancel.remove();\n",
              "\n",
              "  // Disable the input element since further picks are not allowed.\n",
              "  inputElement.disabled = true;\n",
              "\n",
              "  if (!files) {\n",
              "    return {\n",
              "      response: {\n",
              "        action: 'complete',\n",
              "      }\n",
              "    };\n",
              "  }\n",
              "\n",
              "  for (const file of files) {\n",
              "    const li = document.createElement('li');\n",
              "    li.append(span(file.name, {fontWeight: 'bold'}));\n",
              "    li.append(span(\n",
              "        `(${file.type || 'n/a'}) - ${file.size} bytes, ` +\n",
              "        `last modified: ${\n",
              "            file.lastModifiedDate ? file.lastModifiedDate.toLocaleDateString() :\n",
              "                                    'n/a'} - `));\n",
              "    const percent = span('0% done');\n",
              "    li.appendChild(percent);\n",
              "\n",
              "    outputElement.appendChild(li);\n",
              "\n",
              "    const fileDataPromise = new Promise((resolve) => {\n",
              "      const reader = new FileReader();\n",
              "      reader.onload = (e) => {\n",
              "        resolve(e.target.result);\n",
              "      };\n",
              "      reader.readAsArrayBuffer(file);\n",
              "    });\n",
              "    // Wait for the data to be ready.\n",
              "    let fileData = yield {\n",
              "      promise: fileDataPromise,\n",
              "      response: {\n",
              "        action: 'continue',\n",
              "      }\n",
              "    };\n",
              "\n",
              "    // Use a chunked sending to avoid message size limits. See b/62115660.\n",
              "    let position = 0;\n",
              "    do {\n",
              "      const length = Math.min(fileData.byteLength - position, MAX_PAYLOAD_SIZE);\n",
              "      const chunk = new Uint8Array(fileData, position, length);\n",
              "      position += length;\n",
              "\n",
              "      const base64 = btoa(String.fromCharCode.apply(null, chunk));\n",
              "      yield {\n",
              "        response: {\n",
              "          action: 'append',\n",
              "          file: file.name,\n",
              "          data: base64,\n",
              "        },\n",
              "      };\n",
              "\n",
              "      let percentDone = fileData.byteLength === 0 ?\n",
              "          100 :\n",
              "          Math.round((position / fileData.byteLength) * 100);\n",
              "      percent.textContent = `${percentDone}% done`;\n",
              "\n",
              "    } while (position < fileData.byteLength);\n",
              "  }\n",
              "\n",
              "  // All done.\n",
              "  yield {\n",
              "    response: {\n",
              "      action: 'complete',\n",
              "    }\n",
              "  };\n",
              "}\n",
              "\n",
              "scope.google = scope.google || {};\n",
              "scope.google.colab = scope.google.colab || {};\n",
              "scope.google.colab._files = {\n",
              "  _uploadFiles,\n",
              "  _uploadFilesContinue,\n",
              "};\n",
              "})(self);\n",
              "</script> "
            ],
            "text/plain": [
              "<IPython.core.display.HTML object>"
            ]
          },
          "metadata": {},
          "output_type": "display_data"
        },
        {
          "name": "stdout",
          "output_type": "stream",
          "text": [
            "Saving koilocytotic_1.jpeg to koilocytotic_1.jpeg\n",
            "Predicted Class: im_Dyskeratotic\n"
          ]
        }
      ],
      "source": [
        "from PIL import Image\n",
        "from torchvision import transforms\n",
        "import torch\n",
        "\n",
        "# 1. Upload image from local system (runs in Colab)\n",
        "from google.colab import files\n",
        "uploaded = files.upload()\n",
        "\n",
        "# Assuming only one file uploaded, get its filename\n",
        "image_path = next(iter(uploaded.keys()))\n",
        "\n",
        "# 2. Define the same preprocessing as training\n",
        "preprocess = transforms.Compose([\n",
        "    transforms.Resize((384, 384)),\n",
        "    transforms.ToTensor(),\n",
        "    transforms.Normalize([0.485, 0.456, 0.406], [0.229, 0.224, 0.225])\n",
        "])\n",
        "\n",
        "# 3. Load and preprocess the image\n",
        "image = Image.open(image_path).convert('RGB')\n",
        "input_tensor = preprocess(image).unsqueeze(0).to(device)  # Add batch dim and send to device\n",
        "\n",
        "# 4. Load your saved model (if not loaded yet)\n",
        "# model.load_state_dict(torch.load(\"/content/drive/MyDrive/efficientnetv2s_cervical_cancer.pth\"))\n",
        "# model = model.to(device)\n",
        "model.eval()\n",
        "\n",
        "# 5. Predict\n",
        "with torch.no_grad():\n",
        "    output = model(input_tensor)\n",
        "    _, predicted = output.max(1)\n",
        "    predicted_class_idx = predicted.item()\n",
        "\n",
        "# 6. Map predicted index to class name\n",
        "class_names = dataset.classes  # Make sure train_dataset is loaded and in scope\n",
        "predicted_class = class_names[predicted_class_idx]\n",
        "\n",
        "print(f\"Predicted Class: {predicted_class}\")\n"
      ]
    },
    {
      "cell_type": "code",
      "execution_count": null,
      "metadata": {
        "id": "m6Bqsqbi9NVE"
      },
      "outputs": [],
      "source": [
        "import torch\n",
        "\n",
        "all_preds = []\n",
        "all_labels = []\n",
        "\n",
        "model.eval()\n",
        "with torch.no_grad():\n",
        "    for images, labels in test_loader:\n",
        "        images, labels = images.to(device), labels.to(device)\n",
        "        outputs = model(images)\n",
        "        _, preds = outputs.max(1)\n",
        "        all_preds.extend(preds.cpu().numpy())\n",
        "        all_labels.extend(labels.cpu().numpy())\n"
      ]
    },
    {
      "cell_type": "code",
      "execution_count": null,
      "metadata": {
        "colab": {
          "base_uri": "https://localhost:8080/",
          "height": 472
        },
        "id": "I_aigAwa_Mvm",
        "outputId": "419b3396-39d4-4aaf-9965-4e3684faf9a0"
      },
      "outputs": [
        {
          "data": {
            "image/png": "[encoded data removed]",
            "text/plain": [
              "<Figure size 640x480 with 2 Axes>"
            ]
          },
          "metadata": {},
          "output_type": "display_data"
        }
      ],
      "source": [
        "from sklearn.metrics import confusion_matrix, ConfusionMatrixDisplay\n",
        "import matplotlib.pyplot as plt\n",
        "\n",
        "cm = confusion_matrix(all_labels, all_preds)\n",
        "disp = ConfusionMatrixDisplay(confusion_matrix=cm, display_labels=dataset.classes)\n",
        "disp.plot(cmap=plt.cm.Blues)\n",
        "plt.title('Confusion Matrix')\n",
        "plt.show()\n"
      ]
    },
    {
      "cell_type": "markdown",
      "metadata": {
        "id": "9TjmY_DKA9cE"
      },
      "source": [
        "# **Way - 1 to increase efficiency: Train Longer with Cyclic Learning Rates**\n"
      ]
    },
    {
      "cell_type": "code",
      "execution_count": null,
      "metadata": {
        "id": "Aq3FuO5J_QRx"
      },
      "outputs": [],
      "source": [
        "import torch\n",
        "import torchvision\n",
        "from torchvision import transforms, datasets\n",
        "from torch.utils.data import random_split, DataLoader\n",
        "from torchvision.models import efficientnet_v2_s"
      ]
    },
    {
      "cell_type": "code",
      "execution_count": null,
      "metadata": {
        "id": "I0ELtjYDBVSd"
      },
      "outputs": [],
      "source": [
        "# 3. Dataset paths & preprocessing transforms\n",
        "DATA_DIR = \"/content/drive/MyDrive/preprocessed_sipakmed_dataset\"\n",
        "transform = transforms.Compose([\n",
        "    transforms.Resize((384, 384)),\n",
        "    transforms.ToTensor(),\n",
        "    transforms.Normalize([0.485, 0.456, 0.406],[0.229, 0.224, 0.225])\n",
        "])"
      ]
    },
    {
      "cell_type": "code",
      "execution_count": null,
      "metadata": {
        "colab": {
          "base_uri": "https://localhost:8080/"
        },
        "id": "7aCCaFHKBXjd",
        "outputId": "18683895-f4ea-4da6-91ce-d6b57de1af30"
      },
      "outputs": [
        {
          "name": "stdout",
          "output_type": "stream",
          "text": [
            "Classes: ['im_Dyskeratotic', 'im_Koilocytotic', 'im_Metaplastic', 'im_Parabasal', 'im_Superficial-Intermediate']\n",
            "Train: 2846, Val: 610, Test: 611\n"
          ]
        }
      ],
      "source": [
        "# 4. Load dataset and class info\n",
        "dataset = datasets.ImageFolder(root=DATA_DIR, transform=transform)\n",
        "num_classes = len(dataset.classes)\n",
        "print(\"Classes:\", dataset.classes)\n",
        "\n",
        "# 5. Split dataset to train, val, test (70%, 15%, 15%)\n",
        "dataset_size = len(dataset)\n",
        "train_size = int(0.7 * dataset_size)\n",
        "val_size = int(0.15 * dataset_size)\n",
        "test_size = dataset_size - train_size - val_size\n",
        "\n",
        "train_ds, val_ds, test_ds = random_split(dataset, [train_size, val_size, test_size])\n",
        "print(f\"Train: {len(train_ds)}, Val: {len(val_ds)}, Test: {len(test_ds)}\")\n"
      ]
    },
    {
      "cell_type": "code",
      "execution_count": null,
      "metadata": {
        "id": "AlvO9X-4BaUk"
      },
      "outputs": [],
      "source": [
        "# 6. Create DataLoaders\n",
        "batch_size = 32\n",
        "train_loader = DataLoader(train_ds, batch_size=batch_size, shuffle=True, num_workers=2)\n",
        "val_loader = DataLoader(val_ds, batch_size=batch_size, shuffle=False, num_workers=2)\n",
        "test_loader = DataLoader(test_ds, batch_size=batch_size, shuffle=False, num_workers=2)\n",
        "\n",
        "# 7. Model: load EfficientNetV2-S with pretrained weights & adapt classifier\n",
        "model = efficientnet_v2_s(weights=\"IMAGENET1K_V1\")\n",
        "model.classifier[1] = torch.nn.Linear(model.classifier[1].in_features, num_classes)  # adjust output layer\n",
        "\n",
        "device = 'cuda' if torch.cuda.is_available() else 'cpu'\n",
        "model = model.to(device)"
      ]
    },
    {
      "cell_type": "code",
      "execution_count": null,
      "metadata": {
        "colab": {
          "background_save": true,
          "base_uri": "https://localhost:8080/"
        },
        "id": "JQLhhrBCBeeS",
        "outputId": "5d53904e-4979-4a0f-cb5b-d417298e05e3"
      },
      "outputs": [
        {
          "name": "stdout",
          "output_type": "stream",
          "text": [
            "Epoch 1/20 - Loss: 0.4861\n",
            "Validation Accuracy: 93.11%\n",
            "Epoch 2/20 - Loss: 0.1541\n",
            "Validation Accuracy: 96.23%\n",
            "Epoch 3/20 - Loss: 0.0772\n",
            "Validation Accuracy: 96.23%\n",
            "Epoch 4/20 - Loss: 0.0760\n",
            "Validation Accuracy: 95.90%\n",
            "Epoch 5/20 - Loss: 0.0521\n",
            "Validation Accuracy: 94.59%\n",
            "Epoch 6/20 - Loss: 0.0417\n",
            "Validation Accuracy: 95.25%\n",
            "Epoch 7/20 - Loss: 0.0342\n",
            "Validation Accuracy: 94.59%\n",
            "Epoch 8/20 - Loss: 0.0350\n",
            "Validation Accuracy: 96.23%\n",
            "Epoch 9/20 - Loss: 0.0301\n",
            "Validation Accuracy: 93.93%\n",
            "Epoch 10/20 - Loss: 0.0321\n",
            "Validation Accuracy: 95.41%\n",
            "Epoch 11/20 - Loss: 0.0253\n",
            "Validation Accuracy: 95.74%\n",
            "Epoch 12/20 - Loss: 0.0149\n",
            "Validation Accuracy: 94.10%\n",
            "Epoch 13/20 - Loss: 0.0273\n",
            "Validation Accuracy: 94.75%\n",
            "Epoch 14/20 - Loss: 0.0330\n",
            "Validation Accuracy: 95.90%\n",
            "Epoch 15/20 - Loss: 0.0117\n",
            "Validation Accuracy: 96.39%\n",
            "Epoch 16/20 - Loss: 0.0098\n",
            "Validation Accuracy: 95.57%\n",
            "Epoch 17/20 - Loss: 0.0271\n",
            "Validation Accuracy: 96.72%\n",
            "Epoch 18/20 - Loss: 0.0117\n",
            "Validation Accuracy: 96.72%\n",
            "Epoch 19/20 - Loss: 0.0168\n",
            "Validation Accuracy: 96.56%\n",
            "Epoch 20/20 - Loss: 0.0122\n",
            "Validation Accuracy: 96.07%\n"
          ]
        }
      ],
      "source": [
        "# 8. Loss function and optimizer\n",
        "criterion = torch.nn.CrossEntropyLoss()\n",
        "optimizer = torch.optim.Adam(model.parameters(), lr=2e-4)\n",
        "\n",
        "# 9. Training loop with validation after each epoch\n",
        "num_epochs = 20\n",
        "for epoch in range(num_epochs):\n",
        "    model.train()\n",
        "    running_loss = 0.0\n",
        "    for images, labels in train_loader:\n",
        "        images, labels = images.to(device), labels.to(device)\n",
        "        optimizer.zero_grad()\n",
        "        outputs = model(images)\n",
        "        loss = criterion(outputs, labels)\n",
        "        loss.backward()\n",
        "        optimizer.step()\n",
        "        running_loss += loss.item()\n",
        "\n",
        "    avg_loss = running_loss / len(train_loader)\n",
        "    print(f\"Epoch {epoch + 1}/{num_epochs} - Loss: {avg_loss:.4f}\")\n",
        "\n",
        "    # Validation phase\n",
        "    model.eval()\n",
        "    correct, total = 0, 0\n",
        "    with torch.no_grad():\n",
        "        for images, labels in val_loader:\n",
        "            images, labels = images.to(device), labels.to(device)\n",
        "            outputs = model(images)\n",
        "            _, preds = outputs.max(1)\n",
        "            correct += (preds == labels).sum().item()\n",
        "            total += labels.size(0)\n",
        "    val_accuracy = 100 * correct / total\n",
        "    print(f\"Validation Accuracy: {val_accuracy:.2f}%\")\n"
      ]
    },
    {
      "cell_type": "code",
      "execution_count": null,
      "metadata": {
        "id": "o0GM1bvBBjjc"
      },
      "outputs": [],
      "source": [
        "# 10. Save trained model weights to Google Drive\n",
        "torch.save(model.state_dict(), \"/content/drive/MyDrive/efficientnetv2s_cervical_cancer_way1.pth\")\n",
        "print(\"Model saved!\")"
      ]
    },
    {
      "cell_type": "code",
      "execution_count": null,
      "metadata": {
        "id": "WNuAt6FVBq77"
      },
      "outputs": [],
      "source": [
        "# 11. Test the model on test set\n",
        "model.eval()\n",
        "correct, total = 0, 0\n",
        "all_preds, all_labels = [], []\n",
        "with torch.no_grad():\n",
        "    for images, labels in test_loader:\n",
        "        images, labels = images.to(device), labels.to(device)\n",
        "        outputs = model(images)\n",
        "        _, preds = outputs.max(1)\n",
        "        correct += (preds == labels).sum().item()\n",
        "        total += labels.size(0)\n",
        "        all_preds.extend(preds.cpu().numpy())\n",
        "        all_labels.extend(labels.cpu().numpy())\n",
        "\n",
        "test_accuracy = 100 * correct / total\n",
        "print(f\"Test Accuracy: {test_accuracy:.2f}%\")"
      ]
    }
  ],
  "metadata": {
    "accelerator": "GPU",
    "colab": {
      "gpuType": "T4",
      "provenance": []
    },
    "kernelspec": {
      "display_name": "Python 3",
      "name": "python3"
    },
    "language_info": {
      "name": "python"
    }
  },
  "nbformat": 4,
  "nbformat_minor": 0
}